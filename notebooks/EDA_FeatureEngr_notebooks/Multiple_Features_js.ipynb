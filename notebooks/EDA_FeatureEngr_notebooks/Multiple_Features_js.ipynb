{
  "nbformat": 4,
  "nbformat_minor": 0,
  "metadata": {
    "colab": {
      "provenance": []
    },
    "kernelspec": {
      "name": "python3",
      "display_name": "Python 3"
    },
    "language_info": {
      "name": "python"
    }
  },
  "cells": [
    {
      "cell_type": "code",
      "execution_count": null,
      "metadata": {
        "colab": {
          "base_uri": "https://localhost:8080/"
        },
        "id": "bbNdz5tULBd_",
        "outputId": "040f5cea-285e-4dd7-da99-299a577f553c"
      },
      "outputs": [
        {
          "output_type": "stream",
          "name": "stdout",
          "text": [
            "Drive already mounted at /content/drive; to attempt to forcibly remount, call drive.mount(\"/content/drive\", force_remount=True).\n"
          ]
        }
      ],
      "source": [
        "from google.colab import drive\n",
        "drive.mount('/content/drive')"
      ]
    },
    {
      "cell_type": "code",
      "source": [
        "import numpy as np \n",
        "import matplotlib.pyplot as plt\n",
        "import glob\n",
        "import cv2\n",
        "import os\n",
        "import seaborn as sns\n",
        "import pandas as pd\n",
        "from skimage.filters import sobel,roberts, scharr, prewitt\n",
        "from sklearn.model_selection import train_test_split\n",
        "from sklearn import preprocessing\n",
        "from skimage.filters import sobel\n",
        "from skimage.feature import graycomatrix, graycoprops\n",
        "from skimage.measure import shannon_entropy\n",
        "import xarray as xr\n",
        "\n"
      ],
      "metadata": {
        "id": "16p5vIGELL9K"
      },
      "execution_count": null,
      "outputs": []
    },
    {
      "cell_type": "code",
      "source": [
        "#Resize images to\n",
        "SIZE = 128\n",
        "\n",
        "#Capturing images and labels into arrays.\n",
        "train_images = []\n",
        "train_labels = [] \n",
        "for directory_path in glob.glob(\"/content/drive/MyDrive/data3a/training/*\"):\n",
        "    label = directory_path.split(\"-\")[-1]\n",
        "    print(label)\n",
        "    for img_path in glob.glob(os.path.join(directory_path, \"*.JPEG\")):\n",
        "        img = cv2.imread(img_path, cv2.IMREAD_COLOR) #Reading color images\n",
        "        img = cv2.cvtColor(img, cv2.COLOR_BGR2GRAY)  \n",
        "        img = cv2.resize(img, (SIZE, SIZE)) #Resizing images\n",
        "        train_images.append(img)\n",
        "        train_labels.append(label)\n",
        "\n",
        "    for img_path in glob.glob(os.path.join(directory_path, \"*.jpeg\")):\n",
        "        img = cv2.imread(img_path, cv2.IMREAD_COLOR)\n",
        "        img = cv2.cvtColor(img, cv2.COLOR_BGR2GRAY)  \n",
        "        img = cv2.resize(img, (SIZE, SIZE)) \n",
        "        train_images.append(img)\n",
        "        train_labels.append(label)\n",
        "\n",
        "    for img_path in glob.glob(os.path.join(directory_path, \"*.jpg\")):\n",
        "        img = cv2.imread(img_path, cv2.IMREAD_COLOR)\n",
        "        img = cv2.cvtColor(img, cv2.COLOR_BGR2GRAY)  \n",
        "        img = cv2.resize(img, (SIZE, SIZE))\n",
        "        train_images.append(img)\n",
        "        train_labels.append(label)\n",
        "        \n",
        "train_images = np.array(train_images)\n",
        "train_labels = np.array(train_labels)"
      ],
      "metadata": {
        "colab": {
          "base_uri": "https://localhost:8080/"
        },
        "id": "LeRlVaaOLMFK",
        "outputId": "6e08a956-99d5-47e6-d305-edfe92552a61"
      },
      "execution_count": null,
      "outputs": [
        {
          "output_type": "stream",
          "name": "stdout",
          "text": [
            "minor\n",
            "moderate\n",
            "severe\n"
          ]
        }
      ]
    },
    {
      "cell_type": "code",
      "source": [
        "#Resize images to\n",
        "SIZE = 128\n",
        "\n",
        "#Capturing images and labels into arrays.\n",
        "train_images = []\n",
        "train_labels = [] \n",
        "for directory_path in glob.glob(\"/content/drive/MyDrive/data3a/training/*\"):\n",
        "    label = directory_path.split(\"-\")[-1]\n",
        "    print(label)\n",
        "    for img_path in glob.glob(os.path.join(directory_path, \"*.JPEG\")):\n",
        "        img = cv2.imread(img_path, 0) #Reading color images\n",
        "        img = cv2.resize(img, (SIZE, SIZE)) #Resizing images\n",
        "        train_images.append(img)\n",
        "        train_labels.append(label)\n",
        "\n",
        "        \n",
        "    for img_path in glob.glob(os.path.join(directory_path, \"*.jpeg\")):\n",
        "        img = cv2.imread(img_path, 0)\n",
        "        img = cv2.resize(img, (SIZE, SIZE)) \n",
        "        train_images.append(img)\n",
        "        train_labels.append(label)\n",
        "\n",
        "    for img_path in glob.glob(os.path.join(directory_path, \"*.jpg\")):\n",
        "        img = cv2.imread(img_path, 0)\n",
        "        img = cv2.resize(img, (SIZE, SIZE))\n",
        "        train_images.append(img)\n",
        "        train_labels.append(label)\n",
        "        \n",
        "train_images = np.array(train_images)\n",
        "train_labels = np.array(train_labels)"
      ],
      "metadata": {
        "colab": {
          "base_uri": "https://localhost:8080/"
        },
        "id": "cvLVOwkgArrx",
        "outputId": "f6806a6e-c642-4788-9cf1-4a170074acb9"
      },
      "execution_count": null,
      "outputs": [
        {
          "output_type": "stream",
          "name": "stdout",
          "text": [
            "minor\n",
            "moderate\n",
            "severe\n"
          ]
        }
      ]
    },
    {
      "cell_type": "code",
      "source": [
        "img.shape"
      ],
      "metadata": {
        "colab": {
          "base_uri": "https://localhost:8080/"
        },
        "id": "9ptpIAJ_A1VS",
        "outputId": "8e7f37dd-31ba-45f6-e97c-607580967125"
      },
      "execution_count": null,
      "outputs": [
        {
          "output_type": "execute_result",
          "data": {
            "text/plain": [
              "(128, 128)"
            ]
          },
          "metadata": {},
          "execution_count": 150
        }
      ]
    },
    {
      "cell_type": "code",
      "source": [
        "#Test images\n",
        "test_images = []\n",
        "test_labels = [] \n",
        "for directory_path in glob.glob(\"/content/drive/MyDrive/data3a/validation/*\"):\n",
        "    test_label = directory_path.split(\"-\")[-1]\n",
        "    print(test_label)\n",
        "    for img_path in glob.glob(os.path.join(directory_path, \"*.JPEG\")):\n",
        "        img = cv2.imread(img_path, cv2.IMREAD_COLOR)\n",
        "        img = cv2.cvtColor(img, cv2.COLOR_BGR2GRAY)  \n",
        "\n",
        "        img = cv2.resize(img, (SIZE, SIZE))\n",
        "        test_images.append(img)\n",
        "        test_labels.append(test_label)\n",
        "    for img_path in glob.glob(os.path.join(directory_path, \"*.jpeg\")):\n",
        "        img = cv2.imread(img_path, cv2.IMREAD_COLOR)\n",
        "        img = cv2.cvtColor(img, cv2.COLOR_BGR2GRAY)  \n",
        "\n",
        "        img = cv2.resize(img, (SIZE, SIZE))\n",
        "        test_images.append(img)\n",
        "        test_labels.append(test_label)\n",
        "    for img_path in glob.glob(os.path.join(directory_path, \"*.jpg\")):\n",
        "        img = cv2.imread(img_path, cv2.IMREAD_COLOR)\n",
        "        img = cv2.cvtColor(img, cv2.COLOR_BGR2GRAY)  \n",
        "\n",
        "        img = cv2.resize(img, (SIZE, SIZE))\n",
        "        test_images.append(img)\n",
        "        test_labels.append(test_label)\n",
        "\n",
        "test_images = np.array(test_images)\n",
        "test_labels = np.array(test_labels)"
      ],
      "metadata": {
        "id": "bNyAMV4LXEFf",
        "colab": {
          "base_uri": "https://localhost:8080/"
        },
        "outputId": "048f9ff0-d47e-4121-98f0-28f471af6688"
      },
      "execution_count": null,
      "outputs": [
        {
          "output_type": "stream",
          "name": "stdout",
          "text": [
            "minor\n",
            "severe\n",
            "moderate\n"
          ]
        }
      ]
    },
    {
      "cell_type": "code",
      "source": [],
      "metadata": {
        "id": "Q6InxNL4y4u7"
      },
      "execution_count": null,
      "outputs": []
    },
    {
      "cell_type": "code",
      "source": [
        "train_images.shape,train_labels.shape"
      ],
      "metadata": {
        "colab": {
          "base_uri": "https://localhost:8080/"
        },
        "id": "1fZnpUE6LMLR",
        "outputId": "cd95cdc9-3244-4fcc-b770-7031c266eca8"
      },
      "execution_count": null,
      "outputs": [
        {
          "output_type": "execute_result",
          "data": {
            "text/plain": [
              "((1383, 128, 128), (1383,))"
            ]
          },
          "metadata": {},
          "execution_count": 152
        }
      ]
    },
    {
      "cell_type": "code",
      "source": [
        "test_images.shape,test_labels.shape"
      ],
      "metadata": {
        "colab": {
          "base_uri": "https://localhost:8080/"
        },
        "id": "oju62wP3XEI-",
        "outputId": "d2044e03-0901-40d5-bb3d-8fd81adc1f7f"
      },
      "execution_count": null,
      "outputs": [
        {
          "output_type": "execute_result",
          "data": {
            "text/plain": [
              "((248, 128, 128), (248,))"
            ]
          },
          "metadata": {},
          "execution_count": 153
        }
      ]
    },
    {
      "cell_type": "code",
      "source": [
        "#Label Encoding\n",
        "le = preprocessing.LabelEncoder()\n",
        "le.fit(test_labels)\n",
        "test_labels_encoded = le.transform(test_labels)\n",
        "le.fit(train_labels)\n",
        "train_labels_encoded = le.transform(train_labels)"
      ],
      "metadata": {
        "id": "dpsG8hnitABw"
      },
      "execution_count": null,
      "outputs": []
    },
    {
      "cell_type": "code",
      "source": [
        "# Normalizing pixel values to between 0 and 1\n",
        "# x_train, x_test = x_train / 255.0, x_test / 255.0"
      ],
      "metadata": {
        "id": "r4EgsSvzlq1s"
      },
      "execution_count": null,
      "outputs": []
    },
    {
      "cell_type": "code",
      "source": [
        "#Spliting data into train, validation and test datasets \n",
        "x_train, x_val,y_train, y_val = train_test_split(train_images, train_labels_encoded, test_size=0.30, random_state=1)\n",
        "x_test, y_test = test_images, test_labels_encoded\n"
      ],
      "metadata": {
        "id": "T74ZO7xztRUz"
      },
      "execution_count": null,
      "outputs": []
    },
    {
      "cell_type": "code",
      "source": [
        "x_train.shape , y_train.shape , x_val.shape , y_val.shape , x_test.shape , y_test.shape"
      ],
      "metadata": {
        "colab": {
          "base_uri": "https://localhost:8080/"
        },
        "id": "PjPasYJlzA4a",
        "outputId": "3687cc76-26a0-4cc1-abc3-c9065f352cb4"
      },
      "execution_count": null,
      "outputs": [
        {
          "output_type": "execute_result",
          "data": {
            "text/plain": [
              "((968, 128, 128), (968,), (415, 128, 128), (415,), (248, 128, 128), (248,))"
            ]
          },
          "metadata": {},
          "execution_count": 157
        }
      ]
    },
    {
      "cell_type": "code",
      "source": [
        "###################################################################\n",
        "# FEATURE EXTRACTOR function\n",
        "# input shape is (n, x, y, c) - number of images, x, y, and channels\n",
        "def feature_extractor(dataset):\n",
        "    image_dataset = pd.DataFrame()\n",
        "    for image in range(dataset.shape[0]):  #iterate through each file \n",
        "        #print(image)\n",
        "        \n",
        "        # df = pd.DataFrame()  #Temporary data frame to capture information for each loop.\n",
        "        #Reset dataframe to blank after each loop.\n",
        "        \n",
        "        img = dataset[image, :,:]\n",
        "    ################################################################\n",
        "    #START ADDING DATA TO THE DATAFRAME\n",
        "        hist,bins = np.histogram(img.ravel(),256,[0,256])\n",
        "        df= pd.DataFrame(hist)\n",
        "        df=df.transpose()\n",
        "        \n",
        "        \n",
        "        #Append features from current image to the dataset\n",
        "        image_dataset= pd.concat([image_dataset, df], axis=0)\n",
        "        # image_dataset=df\n",
        "\n",
        "    return image_dataset"
      ],
      "metadata": {
        "id": "-vX5bc9J71kF"
      },
      "execution_count": null,
      "outputs": []
    },
    {
      "cell_type": "code",
      "source": [
        "#Extract features from training images\n",
        "image_features = feature_extractor(x_train)\n",
        "X_for_ML_GLCM_2 =image_features\n",
        "X_for_ML_GLCM_2.shape"
      ],
      "metadata": {
        "colab": {
          "base_uri": "https://localhost:8080/"
        },
        "id": "g4rTbnhAJsVN",
        "outputId": "1f17ba35-383f-48fe-a6f5-dd884303725e"
      },
      "execution_count": null,
      "outputs": [
        {
          "output_type": "execute_result",
          "data": {
            "text/plain": [
              "(968, 256)"
            ]
          },
          "metadata": {},
          "execution_count": 159
        }
      ]
    },
    {
      "cell_type": "code",
      "source": [
        "X_for_ML_GLCM_2.columns = X_for_ML_GLCM_2.columns.map(str)"
      ],
      "metadata": {
        "id": "zOH4K6IkQg3B"
      },
      "execution_count": null,
      "outputs": []
    },
    {
      "cell_type": "code",
      "source": [
        "#Define the classifier\n",
        "from sklearn.ensemble import RandomForestClassifier\n",
        "RF_model = RandomForestClassifier(n_estimators = 50, random_state = 42)"
      ],
      "metadata": {
        "id": "Gaskt5EW5-z8"
      },
      "execution_count": null,
      "outputs": []
    },
    {
      "cell_type": "code",
      "source": [
        "# Fit the model on training data\n",
        "RF_model.fit(X_for_ML_GLCM_2, y_train) #For sklearn no one hot encoding\n",
        "# SVM_model.fit(X_for_RF, y_train)\n",
        "\n"
      ],
      "metadata": {
        "colab": {
          "base_uri": "https://localhost:8080/",
          "height": 75
        },
        "id": "jtwbZk7sgi1H",
        "outputId": "28b4ea93-945d-4ea5-8d95-8affd3e1c3e0"
      },
      "execution_count": null,
      "outputs": [
        {
          "output_type": "execute_result",
          "data": {
            "text/plain": [
              "RandomForestClassifier(n_estimators=50, random_state=42)"
            ],
            "text/html": [
              "<style>#sk-container-id-3 {color: black;background-color: white;}#sk-container-id-3 pre{padding: 0;}#sk-container-id-3 div.sk-toggleable {background-color: white;}#sk-container-id-3 label.sk-toggleable__label {cursor: pointer;display: block;width: 100%;margin-bottom: 0;padding: 0.3em;box-sizing: border-box;text-align: center;}#sk-container-id-3 label.sk-toggleable__label-arrow:before {content: \"▸\";float: left;margin-right: 0.25em;color: #696969;}#sk-container-id-3 label.sk-toggleable__label-arrow:hover:before {color: black;}#sk-container-id-3 div.sk-estimator:hover label.sk-toggleable__label-arrow:before {color: black;}#sk-container-id-3 div.sk-toggleable__content {max-height: 0;max-width: 0;overflow: hidden;text-align: left;background-color: #f0f8ff;}#sk-container-id-3 div.sk-toggleable__content pre {margin: 0.2em;color: black;border-radius: 0.25em;background-color: #f0f8ff;}#sk-container-id-3 input.sk-toggleable__control:checked~div.sk-toggleable__content {max-height: 200px;max-width: 100%;overflow: auto;}#sk-container-id-3 input.sk-toggleable__control:checked~label.sk-toggleable__label-arrow:before {content: \"▾\";}#sk-container-id-3 div.sk-estimator input.sk-toggleable__control:checked~label.sk-toggleable__label {background-color: #d4ebff;}#sk-container-id-3 div.sk-label input.sk-toggleable__control:checked~label.sk-toggleable__label {background-color: #d4ebff;}#sk-container-id-3 input.sk-hidden--visually {border: 0;clip: rect(1px 1px 1px 1px);clip: rect(1px, 1px, 1px, 1px);height: 1px;margin: -1px;overflow: hidden;padding: 0;position: absolute;width: 1px;}#sk-container-id-3 div.sk-estimator {font-family: monospace;background-color: #f0f8ff;border: 1px dotted black;border-radius: 0.25em;box-sizing: border-box;margin-bottom: 0.5em;}#sk-container-id-3 div.sk-estimator:hover {background-color: #d4ebff;}#sk-container-id-3 div.sk-parallel-item::after {content: \"\";width: 100%;border-bottom: 1px solid gray;flex-grow: 1;}#sk-container-id-3 div.sk-label:hover label.sk-toggleable__label {background-color: #d4ebff;}#sk-container-id-3 div.sk-serial::before {content: \"\";position: absolute;border-left: 1px solid gray;box-sizing: border-box;top: 0;bottom: 0;left: 50%;z-index: 0;}#sk-container-id-3 div.sk-serial {display: flex;flex-direction: column;align-items: center;background-color: white;padding-right: 0.2em;padding-left: 0.2em;position: relative;}#sk-container-id-3 div.sk-item {position: relative;z-index: 1;}#sk-container-id-3 div.sk-parallel {display: flex;align-items: stretch;justify-content: center;background-color: white;position: relative;}#sk-container-id-3 div.sk-item::before, #sk-container-id-3 div.sk-parallel-item::before {content: \"\";position: absolute;border-left: 1px solid gray;box-sizing: border-box;top: 0;bottom: 0;left: 50%;z-index: -1;}#sk-container-id-3 div.sk-parallel-item {display: flex;flex-direction: column;z-index: 1;position: relative;background-color: white;}#sk-container-id-3 div.sk-parallel-item:first-child::after {align-self: flex-end;width: 50%;}#sk-container-id-3 div.sk-parallel-item:last-child::after {align-self: flex-start;width: 50%;}#sk-container-id-3 div.sk-parallel-item:only-child::after {width: 0;}#sk-container-id-3 div.sk-dashed-wrapped {border: 1px dashed gray;margin: 0 0.4em 0.5em 0.4em;box-sizing: border-box;padding-bottom: 0.4em;background-color: white;}#sk-container-id-3 div.sk-label label {font-family: monospace;font-weight: bold;display: inline-block;line-height: 1.2em;}#sk-container-id-3 div.sk-label-container {text-align: center;}#sk-container-id-3 div.sk-container {/* jupyter's `normalize.less` sets `[hidden] { display: none; }` but bootstrap.min.css set `[hidden] { display: none !important; }` so we also need the `!important` here to be able to override the default hidden behavior on the sphinx rendered scikit-learn.org. See: https://github.com/scikit-learn/scikit-learn/issues/21755 */display: inline-block !important;position: relative;}#sk-container-id-3 div.sk-text-repr-fallback {display: none;}</style><div id=\"sk-container-id-3\" class=\"sk-top-container\"><div class=\"sk-text-repr-fallback\"><pre>RandomForestClassifier(n_estimators=50, random_state=42)</pre><b>In a Jupyter environment, please rerun this cell to show the HTML representation or trust the notebook. <br />On GitHub, the HTML representation is unable to render, please try loading this page with nbviewer.org.</b></div><div class=\"sk-container\" hidden><div class=\"sk-item\"><div class=\"sk-estimator sk-toggleable\"><input class=\"sk-toggleable__control sk-hidden--visually\" id=\"sk-estimator-id-3\" type=\"checkbox\" checked><label for=\"sk-estimator-id-3\" class=\"sk-toggleable__label sk-toggleable__label-arrow\">RandomForestClassifier</label><div class=\"sk-toggleable__content\"><pre>RandomForestClassifier(n_estimators=50, random_state=42)</pre></div></div></div></div></div>"
            ]
          },
          "metadata": {},
          "execution_count": 163
        }
      ]
    },
    {
      "cell_type": "code",
      "source": [
        "#Predict on val data\n",
        "#Extract features from val data and reshape, just like training data\n",
        "val_features = feature_extractor(x_val)\n",
        "val_features = np.expand_dims(val_features, axis=0)\n",
        "val_for_RF = np.reshape(val_features, (x_val.shape[0], -1))\n",
        "\n",
        "#Predict on val\n",
        "val_prediction = RF_model.predict(val_for_RF)\n",
        "#Inverse le transform to get original label back. \n",
        "val_prediction = le.inverse_transform(val_prediction)\n",
        "y_val_labels= le.inverse_transform(y_val)\n",
        "\n",
        "#Print overall accuracy\n",
        "from sklearn import metrics\n",
        "print (\"Accuracy = \", metrics.accuracy_score(y_val_labels, val_prediction))"
      ],
      "metadata": {
        "colab": {
          "base_uri": "https://localhost:8080/"
        },
        "id": "1DJhIourQh_Q",
        "outputId": "ac3cb115-ec94-44fd-8005-81292eac211c"
      },
      "execution_count": null,
      "outputs": [
        {
          "output_type": "stream",
          "name": "stdout",
          "text": [
            "Accuracy =  0.4433734939759036\n"
          ]
        },
        {
          "output_type": "stream",
          "name": "stderr",
          "text": [
            "/usr/local/lib/python3.10/dist-packages/sklearn/base.py:439: UserWarning: X does not have valid feature names, but RandomForestClassifier was fitted with feature names\n",
            "  warnings.warn(\n"
          ]
        }
      ]
    },
    {
      "cell_type": "code",
      "source": [
        "print (\"Accuracy = \", metrics.accuracy_score(y_val_labels, val_prediction))\n",
        "from sklearn.metrics import classification_report\n",
        "print (\"Accuracy = \", classification_report(y_val_labels, val_prediction))"
      ],
      "metadata": {
        "colab": {
          "base_uri": "https://localhost:8080/"
        },
        "id": "5XkaveDPQiE4",
        "outputId": "eaef01c0-68c4-46f4-a616-6c061bb7f4d0"
      },
      "execution_count": null,
      "outputs": [
        {
          "output_type": "stream",
          "name": "stdout",
          "text": [
            "Accuracy =  0.4433734939759036\n",
            "Accuracy =                precision    recall  f1-score   support\n",
            "\n",
            "       minor       0.54      0.49      0.51       138\n",
            "    moderate       0.35      0.42      0.38       134\n",
            "      severe       0.47      0.43      0.45       143\n",
            "\n",
            "    accuracy                           0.44       415\n",
            "   macro avg       0.45      0.44      0.45       415\n",
            "weighted avg       0.45      0.44      0.45       415\n",
            "\n"
          ]
        }
      ]
    },
    {
      "cell_type": "code",
      "source": [
        "###################################################################\n",
        "# FEATURE EXTRACTOR function\n",
        "# input shape is (n, x, y, c) - number of images, x, y, and channels\n",
        "def feature_extractor(dataset):\n",
        "    image_dataset = pd.DataFrame()\n",
        "    for image in range(dataset.shape[0]):  #iterate through each file \n",
        "        #print(image)\n",
        "        \n",
        "        df_2 = pd.DataFrame()  #Temporary data frame to capture information for each loop.\n",
        "        #Reset dataframe to blank after each loop.\n",
        "        df_1 = pd.DataFrame()  #Temporary data frame to capture information for each loop.\n",
        "\n",
        "        img = dataset[image, :,:]\n",
        "    ################################################################\n",
        "    #START ADDING DATA TO THE DATAFRAME\n",
        "        hist,bins = np.histogram(img.ravel(),256,[0,256])\n",
        "        df_2= pd.DataFrame(hist)\n",
        "        df_2=df_2.transpose()\n",
        "        \n",
        "        #Append features from current image to the dataset\n",
        "        # image_dataset_1= pd.concat([image_dataset, df], axis=0)\n",
        "        # image_dataset=df\n",
        "\n",
        "\n",
        "        #GLCM = graycomatrix(img, [1], [0, np.pi/4, np.pi/2, 3*np.pi/4])\n",
        "        GLCM = graycomatrix(img, [1], [0])       \n",
        "        GLCM_Energy = graycoprops(GLCM, 'energy')[0]\n",
        "        df_1['Energy'] = GLCM_Energy\n",
        "        GLCM_corr = graycoprops(GLCM, 'correlation')[0]\n",
        "        df_1['Corr'] = GLCM_corr       \n",
        "        GLCM_diss = graycoprops(GLCM, 'dissimilarity')[0]\n",
        "        df_1['Diss_sim'] = GLCM_diss       \n",
        "        GLCM_hom = graycoprops(GLCM, 'homogeneity')[0]\n",
        "        df_1['Homogen'] = GLCM_hom       \n",
        "        GLCM_contr = graycoprops(GLCM, 'contrast')[0]\n",
        "        df_1['Contrast'] = GLCM_contr\n",
        "\n",
        "        GLCM2 = graycomatrix(img, [3], [0])       \n",
        "        GLCM_Energy2 = graycoprops(GLCM2, 'energy')[0]\n",
        "        df_1['Energy2'] = GLCM_Energy2\n",
        "        GLCM_corr2 = graycoprops(GLCM2, 'correlation')[0]\n",
        "        df_1['Corr2'] = GLCM_corr2       \n",
        "        GLCM_diss2 = graycoprops(GLCM2, 'dissimilarity')[0]\n",
        "        df_1['Diss_sim2'] = GLCM_diss2       \n",
        "        GLCM_hom2 = graycoprops(GLCM2, 'homogeneity')[0]\n",
        "        df_1['Homogen2'] = GLCM_hom2       \n",
        "        GLCM_contr2 = graycoprops(GLCM2, 'contrast')[0]\n",
        "        df_1['Contrast2'] = GLCM_contr2\n",
        "\n",
        "        GLCM3 = graycomatrix(img, [5], [0])       \n",
        "        GLCM_Energy3 = graycoprops(GLCM3, 'energy')[0]\n",
        "        df_1['Energy3'] = GLCM_Energy3\n",
        "        GLCM_corr3 = graycoprops(GLCM3, 'correlation')[0]\n",
        "        df_1['Corr3'] = GLCM_corr3       \n",
        "        GLCM_diss3 = graycoprops(GLCM3, 'dissimilarity')[0]\n",
        "        df_1['Diss_sim3'] = GLCM_diss3       \n",
        "        GLCM_hom3 = graycoprops(GLCM3, 'homogeneity')[0]\n",
        "        df_1['Homogen3'] = GLCM_hom3       \n",
        "        GLCM_contr3 = graycoprops(GLCM3, 'contrast')[0]\n",
        "        df_1['Contrast3'] = GLCM_contr3\n",
        "\n",
        "        GLCM4 = graycomatrix(img, [0], [np.pi/4])       \n",
        "        GLCM_Energy4 = graycoprops(GLCM4, 'energy')[0]\n",
        "        df_1['Energy4'] = GLCM_Energy4\n",
        "        GLCM_corr4 = graycoprops(GLCM4, 'correlation')[0]\n",
        "        df_1['Corr4'] = GLCM_corr4       \n",
        "        GLCM_diss4 = graycoprops(GLCM4, 'dissimilarity')[0]\n",
        "        df_1['Diss_sim4'] = GLCM_diss4       \n",
        "        GLCM_hom4 = graycoprops(GLCM4, 'homogeneity')[0]\n",
        "        df_1['Homogen4'] = GLCM_hom4       \n",
        "        GLCM_contr4 = graycoprops(GLCM4, 'contrast')[0]\n",
        "        df_1['Contrast4'] = GLCM_contr4\n",
        "        \n",
        "        GLCM5 = graycomatrix(img, [0], [np.pi/2])       \n",
        "        GLCM_Energy5 = graycoprops(GLCM5, 'energy')[0]\n",
        "        df_1['Energy5'] = GLCM_Energy5\n",
        "        GLCM_corr5 = graycoprops(GLCM5, 'correlation')[0]\n",
        "        df_1['Corr5'] = GLCM_corr5       \n",
        "        GLCM_diss5 = graycoprops(GLCM5, 'dissimilarity')[0]\n",
        "        df_1['Diss_sim5'] = GLCM_diss5       \n",
        "        GLCM_hom5 = graycoprops(GLCM5, 'homogeneity')[0]\n",
        "        df_1['Homogen5'] = GLCM_hom5       \n",
        "        GLCM_contr5 = graycoprops(GLCM5, 'contrast')[0]\n",
        "        df_1['Contrast5'] = GLCM_contr5\n",
        "\n",
        "\n",
        "        df= pd.concat([df_2, df_1], axis=1)\n",
        "\n",
        "        image_dataset= pd.concat([image_dataset, df], axis=0)\n",
        "\n",
        "        #Append features from current image to the dataset\n",
        "        # image_dataset=df\n",
        "\n",
        "        # # #Append features from current image to the dataset\n",
        "        # # image_dataset= pd.concat([image_dataset, df], axis=0)\n",
        "        # # # image_dataset=df\n",
        "    return image_dataset"
      ],
      "metadata": {
        "id": "wgOLw9RYGOCx"
      },
      "execution_count": null,
      "outputs": []
    },
    {
      "cell_type": "code",
      "source": [
        "#Extract features from training images\n",
        "image_features = feature_extractor(x_train)\n",
        "X_for_ML_GLCM_2 =image_features\n",
        "X_for_ML_GLCM_2.shape"
      ],
      "metadata": {
        "colab": {
          "base_uri": "https://localhost:8080/"
        },
        "id": "0nKr4YJD7dme",
        "outputId": "d2118b59-e941-489d-d0b9-d8344cfcb378"
      },
      "execution_count": null,
      "outputs": [
        {
          "output_type": "execute_result",
          "data": {
            "text/plain": [
              "(968, 281)"
            ]
          },
          "metadata": {},
          "execution_count": 167
        }
      ]
    },
    {
      "cell_type": "code",
      "source": [
        "X_for_ML_GLCM_2.head()"
      ],
      "metadata": {
        "colab": {
          "base_uri": "https://localhost:8080/",
          "height": 235
        },
        "id": "2PMbxmJ9I33c",
        "outputId": "bc430a56-96aa-4323-d25f-2e90ea62dba0"
      },
      "execution_count": null,
      "outputs": [
        {
          "output_type": "execute_result",
          "data": {
            "text/plain": [
              "     0    1    2    3    4    5   6   7   8   9  ...   Energy4  Corr4  \\\n",
              "0    0    1    3    0    1    1   1   6   9  16  ...  0.084450    1.0   \n",
              "0    0    4    2    5    6   12  12  14  26  26  ...  0.085471    1.0   \n",
              "0    0    1    3    7    8   23  26  31  77  95  ...  0.096281    1.0   \n",
              "0    0    0    2    2    3    3   5  12  15  18  ...  0.116231    1.0   \n",
              "0  523  279  194  142  119  104  92  78  94  76  ...  0.077721    1.0   \n",
              "\n",
              "   Diss_sim4  Homogen4  Contrast4   Energy5  Corr5  Diss_sim5  Homogen5  \\\n",
              "0        0.0       1.0        0.0  0.084450    1.0        0.0       1.0   \n",
              "0        0.0       1.0        0.0  0.085471    1.0        0.0       1.0   \n",
              "0        0.0       1.0        0.0  0.096281    1.0        0.0       1.0   \n",
              "0        0.0       1.0        0.0  0.116231    1.0        0.0       1.0   \n",
              "0        0.0       1.0        0.0  0.077721    1.0        0.0       1.0   \n",
              "\n",
              "   Contrast5  \n",
              "0        0.0  \n",
              "0        0.0  \n",
              "0        0.0  \n",
              "0        0.0  \n",
              "0        0.0  \n",
              "\n",
              "[5 rows x 281 columns]"
            ],
            "text/html": [
              "\n",
              "  <div id=\"df-def8ae1e-b18d-4078-b494-7d18882c6813\">\n",
              "    <div class=\"colab-df-container\">\n",
              "      <div>\n",
              "<style scoped>\n",
              "    .dataframe tbody tr th:only-of-type {\n",
              "        vertical-align: middle;\n",
              "    }\n",
              "\n",
              "    .dataframe tbody tr th {\n",
              "        vertical-align: top;\n",
              "    }\n",
              "\n",
              "    .dataframe thead th {\n",
              "        text-align: right;\n",
              "    }\n",
              "</style>\n",
              "<table border=\"1\" class=\"dataframe\">\n",
              "  <thead>\n",
              "    <tr style=\"text-align: right;\">\n",
              "      <th></th>\n",
              "      <th>0</th>\n",
              "      <th>1</th>\n",
              "      <th>2</th>\n",
              "      <th>3</th>\n",
              "      <th>4</th>\n",
              "      <th>5</th>\n",
              "      <th>6</th>\n",
              "      <th>7</th>\n",
              "      <th>8</th>\n",
              "      <th>9</th>\n",
              "      <th>...</th>\n",
              "      <th>Energy4</th>\n",
              "      <th>Corr4</th>\n",
              "      <th>Diss_sim4</th>\n",
              "      <th>Homogen4</th>\n",
              "      <th>Contrast4</th>\n",
              "      <th>Energy5</th>\n",
              "      <th>Corr5</th>\n",
              "      <th>Diss_sim5</th>\n",
              "      <th>Homogen5</th>\n",
              "      <th>Contrast5</th>\n",
              "    </tr>\n",
              "  </thead>\n",
              "  <tbody>\n",
              "    <tr>\n",
              "      <th>0</th>\n",
              "      <td>0</td>\n",
              "      <td>1</td>\n",
              "      <td>3</td>\n",
              "      <td>0</td>\n",
              "      <td>1</td>\n",
              "      <td>1</td>\n",
              "      <td>1</td>\n",
              "      <td>6</td>\n",
              "      <td>9</td>\n",
              "      <td>16</td>\n",
              "      <td>...</td>\n",
              "      <td>0.084450</td>\n",
              "      <td>1.0</td>\n",
              "      <td>0.0</td>\n",
              "      <td>1.0</td>\n",
              "      <td>0.0</td>\n",
              "      <td>0.084450</td>\n",
              "      <td>1.0</td>\n",
              "      <td>0.0</td>\n",
              "      <td>1.0</td>\n",
              "      <td>0.0</td>\n",
              "    </tr>\n",
              "    <tr>\n",
              "      <th>0</th>\n",
              "      <td>0</td>\n",
              "      <td>4</td>\n",
              "      <td>2</td>\n",
              "      <td>5</td>\n",
              "      <td>6</td>\n",
              "      <td>12</td>\n",
              "      <td>12</td>\n",
              "      <td>14</td>\n",
              "      <td>26</td>\n",
              "      <td>26</td>\n",
              "      <td>...</td>\n",
              "      <td>0.085471</td>\n",
              "      <td>1.0</td>\n",
              "      <td>0.0</td>\n",
              "      <td>1.0</td>\n",
              "      <td>0.0</td>\n",
              "      <td>0.085471</td>\n",
              "      <td>1.0</td>\n",
              "      <td>0.0</td>\n",
              "      <td>1.0</td>\n",
              "      <td>0.0</td>\n",
              "    </tr>\n",
              "    <tr>\n",
              "      <th>0</th>\n",
              "      <td>0</td>\n",
              "      <td>1</td>\n",
              "      <td>3</td>\n",
              "      <td>7</td>\n",
              "      <td>8</td>\n",
              "      <td>23</td>\n",
              "      <td>26</td>\n",
              "      <td>31</td>\n",
              "      <td>77</td>\n",
              "      <td>95</td>\n",
              "      <td>...</td>\n",
              "      <td>0.096281</td>\n",
              "      <td>1.0</td>\n",
              "      <td>0.0</td>\n",
              "      <td>1.0</td>\n",
              "      <td>0.0</td>\n",
              "      <td>0.096281</td>\n",
              "      <td>1.0</td>\n",
              "      <td>0.0</td>\n",
              "      <td>1.0</td>\n",
              "      <td>0.0</td>\n",
              "    </tr>\n",
              "    <tr>\n",
              "      <th>0</th>\n",
              "      <td>0</td>\n",
              "      <td>0</td>\n",
              "      <td>2</td>\n",
              "      <td>2</td>\n",
              "      <td>3</td>\n",
              "      <td>3</td>\n",
              "      <td>5</td>\n",
              "      <td>12</td>\n",
              "      <td>15</td>\n",
              "      <td>18</td>\n",
              "      <td>...</td>\n",
              "      <td>0.116231</td>\n",
              "      <td>1.0</td>\n",
              "      <td>0.0</td>\n",
              "      <td>1.0</td>\n",
              "      <td>0.0</td>\n",
              "      <td>0.116231</td>\n",
              "      <td>1.0</td>\n",
              "      <td>0.0</td>\n",
              "      <td>1.0</td>\n",
              "      <td>0.0</td>\n",
              "    </tr>\n",
              "    <tr>\n",
              "      <th>0</th>\n",
              "      <td>523</td>\n",
              "      <td>279</td>\n",
              "      <td>194</td>\n",
              "      <td>142</td>\n",
              "      <td>119</td>\n",
              "      <td>104</td>\n",
              "      <td>92</td>\n",
              "      <td>78</td>\n",
              "      <td>94</td>\n",
              "      <td>76</td>\n",
              "      <td>...</td>\n",
              "      <td>0.077721</td>\n",
              "      <td>1.0</td>\n",
              "      <td>0.0</td>\n",
              "      <td>1.0</td>\n",
              "      <td>0.0</td>\n",
              "      <td>0.077721</td>\n",
              "      <td>1.0</td>\n",
              "      <td>0.0</td>\n",
              "      <td>1.0</td>\n",
              "      <td>0.0</td>\n",
              "    </tr>\n",
              "  </tbody>\n",
              "</table>\n",
              "<p>5 rows × 281 columns</p>\n",
              "</div>\n",
              "      <button class=\"colab-df-convert\" onclick=\"convertToInteractive('df-def8ae1e-b18d-4078-b494-7d18882c6813')\"\n",
              "              title=\"Convert this dataframe to an interactive table.\"\n",
              "              style=\"display:none;\">\n",
              "        \n",
              "  <svg xmlns=\"http://www.w3.org/2000/svg\" height=\"24px\"viewBox=\"0 0 24 24\"\n",
              "       width=\"24px\">\n",
              "    <path d=\"M0 0h24v24H0V0z\" fill=\"none\"/>\n",
              "    <path d=\"M18.56 5.44l.94 2.06.94-2.06 2.06-.94-2.06-.94-.94-2.06-.94 2.06-2.06.94zm-11 1L8.5 8.5l.94-2.06 2.06-.94-2.06-.94L8.5 2.5l-.94 2.06-2.06.94zm10 10l.94 2.06.94-2.06 2.06-.94-2.06-.94-.94-2.06-.94 2.06-2.06.94z\"/><path d=\"M17.41 7.96l-1.37-1.37c-.4-.4-.92-.59-1.43-.59-.52 0-1.04.2-1.43.59L10.3 9.45l-7.72 7.72c-.78.78-.78 2.05 0 2.83L4 21.41c.39.39.9.59 1.41.59.51 0 1.02-.2 1.41-.59l7.78-7.78 2.81-2.81c.8-.78.8-2.07 0-2.86zM5.41 20L4 18.59l7.72-7.72 1.47 1.35L5.41 20z\"/>\n",
              "  </svg>\n",
              "      </button>\n",
              "      \n",
              "  <style>\n",
              "    .colab-df-container {\n",
              "      display:flex;\n",
              "      flex-wrap:wrap;\n",
              "      gap: 12px;\n",
              "    }\n",
              "\n",
              "    .colab-df-convert {\n",
              "      background-color: #E8F0FE;\n",
              "      border: none;\n",
              "      border-radius: 50%;\n",
              "      cursor: pointer;\n",
              "      display: none;\n",
              "      fill: #1967D2;\n",
              "      height: 32px;\n",
              "      padding: 0 0 0 0;\n",
              "      width: 32px;\n",
              "    }\n",
              "\n",
              "    .colab-df-convert:hover {\n",
              "      background-color: #E2EBFA;\n",
              "      box-shadow: 0px 1px 2px rgba(60, 64, 67, 0.3), 0px 1px 3px 1px rgba(60, 64, 67, 0.15);\n",
              "      fill: #174EA6;\n",
              "    }\n",
              "\n",
              "    [theme=dark] .colab-df-convert {\n",
              "      background-color: #3B4455;\n",
              "      fill: #D2E3FC;\n",
              "    }\n",
              "\n",
              "    [theme=dark] .colab-df-convert:hover {\n",
              "      background-color: #434B5C;\n",
              "      box-shadow: 0px 1px 3px 1px rgba(0, 0, 0, 0.15);\n",
              "      filter: drop-shadow(0px 1px 2px rgba(0, 0, 0, 0.3));\n",
              "      fill: #FFFFFF;\n",
              "    }\n",
              "  </style>\n",
              "\n",
              "      <script>\n",
              "        const buttonEl =\n",
              "          document.querySelector('#df-def8ae1e-b18d-4078-b494-7d18882c6813 button.colab-df-convert');\n",
              "        buttonEl.style.display =\n",
              "          google.colab.kernel.accessAllowed ? 'block' : 'none';\n",
              "\n",
              "        async function convertToInteractive(key) {\n",
              "          const element = document.querySelector('#df-def8ae1e-b18d-4078-b494-7d18882c6813');\n",
              "          const dataTable =\n",
              "            await google.colab.kernel.invokeFunction('convertToInteractive',\n",
              "                                                     [key], {});\n",
              "          if (!dataTable) return;\n",
              "\n",
              "          const docLinkHtml = 'Like what you see? Visit the ' +\n",
              "            '<a target=\"_blank\" href=https://colab.research.google.com/notebooks/data_table.ipynb>data table notebook</a>'\n",
              "            + ' to learn more about interactive tables.';\n",
              "          element.innerHTML = '';\n",
              "          dataTable['output_type'] = 'display_data';\n",
              "          await google.colab.output.renderOutput(dataTable, element);\n",
              "          const docLink = document.createElement('div');\n",
              "          docLink.innerHTML = docLinkHtml;\n",
              "          element.appendChild(docLink);\n",
              "        }\n",
              "      </script>\n",
              "    </div>\n",
              "  </div>\n",
              "  "
            ]
          },
          "metadata": {},
          "execution_count": 168
        }
      ]
    },
    {
      "cell_type": "code",
      "source": [
        "X_for_ML_GLCM_2.columns = X_for_ML_GLCM_2.columns.map(str)"
      ],
      "metadata": {
        "id": "0-pL2JNFO06j"
      },
      "execution_count": null,
      "outputs": []
    },
    {
      "cell_type": "code",
      "source": [
        "# Fit the model on training data\n",
        "RF_model.fit(X_for_ML_GLCM_2, y_train) #For sklearn no one hot encoding\n",
        "# SVM_model.fit(X_for_RF, y_train)\n"
      ],
      "metadata": {
        "colab": {
          "base_uri": "https://localhost:8080/",
          "height": 75
        },
        "id": "LvRRRKOWSsRr",
        "outputId": "d3bceae1-b7b1-43d7-940c-338a821d4376"
      },
      "execution_count": null,
      "outputs": [
        {
          "output_type": "execute_result",
          "data": {
            "text/plain": [
              "RandomForestClassifier(n_estimators=50, random_state=42)"
            ],
            "text/html": [
              "<style>#sk-container-id-4 {color: black;background-color: white;}#sk-container-id-4 pre{padding: 0;}#sk-container-id-4 div.sk-toggleable {background-color: white;}#sk-container-id-4 label.sk-toggleable__label {cursor: pointer;display: block;width: 100%;margin-bottom: 0;padding: 0.3em;box-sizing: border-box;text-align: center;}#sk-container-id-4 label.sk-toggleable__label-arrow:before {content: \"▸\";float: left;margin-right: 0.25em;color: #696969;}#sk-container-id-4 label.sk-toggleable__label-arrow:hover:before {color: black;}#sk-container-id-4 div.sk-estimator:hover label.sk-toggleable__label-arrow:before {color: black;}#sk-container-id-4 div.sk-toggleable__content {max-height: 0;max-width: 0;overflow: hidden;text-align: left;background-color: #f0f8ff;}#sk-container-id-4 div.sk-toggleable__content pre {margin: 0.2em;color: black;border-radius: 0.25em;background-color: #f0f8ff;}#sk-container-id-4 input.sk-toggleable__control:checked~div.sk-toggleable__content {max-height: 200px;max-width: 100%;overflow: auto;}#sk-container-id-4 input.sk-toggleable__control:checked~label.sk-toggleable__label-arrow:before {content: \"▾\";}#sk-container-id-4 div.sk-estimator input.sk-toggleable__control:checked~label.sk-toggleable__label {background-color: #d4ebff;}#sk-container-id-4 div.sk-label input.sk-toggleable__control:checked~label.sk-toggleable__label {background-color: #d4ebff;}#sk-container-id-4 input.sk-hidden--visually {border: 0;clip: rect(1px 1px 1px 1px);clip: rect(1px, 1px, 1px, 1px);height: 1px;margin: -1px;overflow: hidden;padding: 0;position: absolute;width: 1px;}#sk-container-id-4 div.sk-estimator {font-family: monospace;background-color: #f0f8ff;border: 1px dotted black;border-radius: 0.25em;box-sizing: border-box;margin-bottom: 0.5em;}#sk-container-id-4 div.sk-estimator:hover {background-color: #d4ebff;}#sk-container-id-4 div.sk-parallel-item::after {content: \"\";width: 100%;border-bottom: 1px solid gray;flex-grow: 1;}#sk-container-id-4 div.sk-label:hover label.sk-toggleable__label {background-color: #d4ebff;}#sk-container-id-4 div.sk-serial::before {content: \"\";position: absolute;border-left: 1px solid gray;box-sizing: border-box;top: 0;bottom: 0;left: 50%;z-index: 0;}#sk-container-id-4 div.sk-serial {display: flex;flex-direction: column;align-items: center;background-color: white;padding-right: 0.2em;padding-left: 0.2em;position: relative;}#sk-container-id-4 div.sk-item {position: relative;z-index: 1;}#sk-container-id-4 div.sk-parallel {display: flex;align-items: stretch;justify-content: center;background-color: white;position: relative;}#sk-container-id-4 div.sk-item::before, #sk-container-id-4 div.sk-parallel-item::before {content: \"\";position: absolute;border-left: 1px solid gray;box-sizing: border-box;top: 0;bottom: 0;left: 50%;z-index: -1;}#sk-container-id-4 div.sk-parallel-item {display: flex;flex-direction: column;z-index: 1;position: relative;background-color: white;}#sk-container-id-4 div.sk-parallel-item:first-child::after {align-self: flex-end;width: 50%;}#sk-container-id-4 div.sk-parallel-item:last-child::after {align-self: flex-start;width: 50%;}#sk-container-id-4 div.sk-parallel-item:only-child::after {width: 0;}#sk-container-id-4 div.sk-dashed-wrapped {border: 1px dashed gray;margin: 0 0.4em 0.5em 0.4em;box-sizing: border-box;padding-bottom: 0.4em;background-color: white;}#sk-container-id-4 div.sk-label label {font-family: monospace;font-weight: bold;display: inline-block;line-height: 1.2em;}#sk-container-id-4 div.sk-label-container {text-align: center;}#sk-container-id-4 div.sk-container {/* jupyter's `normalize.less` sets `[hidden] { display: none; }` but bootstrap.min.css set `[hidden] { display: none !important; }` so we also need the `!important` here to be able to override the default hidden behavior on the sphinx rendered scikit-learn.org. See: https://github.com/scikit-learn/scikit-learn/issues/21755 */display: inline-block !important;position: relative;}#sk-container-id-4 div.sk-text-repr-fallback {display: none;}</style><div id=\"sk-container-id-4\" class=\"sk-top-container\"><div class=\"sk-text-repr-fallback\"><pre>RandomForestClassifier(n_estimators=50, random_state=42)</pre><b>In a Jupyter environment, please rerun this cell to show the HTML representation or trust the notebook. <br />On GitHub, the HTML representation is unable to render, please try loading this page with nbviewer.org.</b></div><div class=\"sk-container\" hidden><div class=\"sk-item\"><div class=\"sk-estimator sk-toggleable\"><input class=\"sk-toggleable__control sk-hidden--visually\" id=\"sk-estimator-id-4\" type=\"checkbox\" checked><label for=\"sk-estimator-id-4\" class=\"sk-toggleable__label sk-toggleable__label-arrow\">RandomForestClassifier</label><div class=\"sk-toggleable__content\"><pre>RandomForestClassifier(n_estimators=50, random_state=42)</pre></div></div></div></div></div>"
            ]
          },
          "metadata": {},
          "execution_count": 172
        }
      ]
    },
    {
      "cell_type": "code",
      "source": [
        "#Predict on val data\n",
        "#Extract features from val data and reshape, just like training data\n",
        "val_features = feature_extractor(x_val)\n",
        "val_features = np.expand_dims(val_features, axis=0)\n",
        "val_for_RF = np.reshape(val_features, (x_val.shape[0], -1))\n",
        "\n",
        "#Predict on val\n",
        "val_prediction = RF_model.predict(val_for_RF)\n",
        "#Inverse le transform to get original label back. \n",
        "val_prediction = le.inverse_transform(val_prediction)\n",
        "y_val_labels= le.inverse_transform(y_val)\n",
        "\n",
        "#Print overall accuracy\n",
        "from sklearn import metrics\n",
        "print (\"Accuracy = \", metrics.accuracy_score(y_val_labels, val_prediction))"
      ],
      "metadata": {
        "colab": {
          "base_uri": "https://localhost:8080/"
        },
        "id": "uwvirxC-PEGB",
        "outputId": "70fbd3d4-e19f-44ec-8c7a-f068ccc90767"
      },
      "execution_count": null,
      "outputs": [
        {
          "output_type": "stream",
          "name": "stdout",
          "text": [
            "Accuracy =  0.5012048192771085\n"
          ]
        },
        {
          "output_type": "stream",
          "name": "stderr",
          "text": [
            "/usr/local/lib/python3.10/dist-packages/sklearn/base.py:439: UserWarning: X does not have valid feature names, but RandomForestClassifier was fitted with feature names\n",
            "  warnings.warn(\n"
          ]
        }
      ]
    },
    {
      "cell_type": "code",
      "source": [
        "print (\"Accuracy = \", metrics.accuracy_score(y_val_labels, val_prediction))\n",
        "from sklearn.metrics import classification_report\n",
        "print (\"Accuracy = \", classification_report(y_val_labels, val_prediction))"
      ],
      "metadata": {
        "colab": {
          "base_uri": "https://localhost:8080/"
        },
        "id": "yDLstxE3PUg8",
        "outputId": "9ae85afc-b4aa-4e2a-be25-2a761f17b81a"
      },
      "execution_count": null,
      "outputs": [
        {
          "output_type": "stream",
          "name": "stdout",
          "text": [
            "Accuracy =  0.5012048192771085\n",
            "Accuracy =                precision    recall  f1-score   support\n",
            "\n",
            "       minor       0.60      0.62      0.61       138\n",
            "    moderate       0.36      0.34      0.35       134\n",
            "      severe       0.53      0.54      0.53       143\n",
            "\n",
            "    accuracy                           0.50       415\n",
            "   macro avg       0.50      0.50      0.50       415\n",
            "weighted avg       0.50      0.50      0.50       415\n",
            "\n"
          ]
        }
      ]
    },
    {
      "cell_type": "code",
      "source": [],
      "metadata": {
        "id": "5hC1YNxUQxsg"
      },
      "execution_count": null,
      "outputs": []
    },
    {
      "cell_type": "code",
      "source": [],
      "metadata": {
        "id": "mP0uEAiXQxvo"
      },
      "execution_count": null,
      "outputs": []
    },
    {
      "cell_type": "code",
      "source": [],
      "metadata": {
        "id": "I3eltlO7Qxyw"
      },
      "execution_count": null,
      "outputs": []
    },
    {
      "cell_type": "code",
      "source": [],
      "metadata": {
        "id": "zamQ5hnlQx2T"
      },
      "execution_count": null,
      "outputs": []
    },
    {
      "cell_type": "code",
      "source": [],
      "metadata": {
        "id": "lCJV8DRDQx5I"
      },
      "execution_count": null,
      "outputs": []
    },
    {
      "cell_type": "code",
      "source": [],
      "metadata": {
        "id": "jKdCyxnsQx7_"
      },
      "execution_count": null,
      "outputs": []
    },
    {
      "cell_type": "code",
      "source": [],
      "metadata": {
        "id": "_9XxLeFBQyBw"
      },
      "execution_count": null,
      "outputs": []
    },
    {
      "cell_type": "code",
      "source": [
        "#Predict on Test data\n",
        "#Extract features from test data and reshape, just like training data\n",
        "val_features = feature_extractor(x_val)\n",
        "val_features = np.expand_dims(val_features, axis=0)\n",
        "val_for_RF = np.reshape(val_features, (x_val.shape[0], -1))"
      ],
      "metadata": {
        "id": "AlJXZrMWzbkK"
      },
      "execution_count": null,
      "outputs": []
    },
    {
      "cell_type": "code",
      "source": [
        "type(val_for_RF), type(val_features)"
      ],
      "metadata": {
        "colab": {
          "base_uri": "https://localhost:8080/"
        },
        "id": "qkppHiZnQCph",
        "outputId": "5c5f85b0-c581-4569-90a8-e90cd83ce755"
      },
      "execution_count": null,
      "outputs": [
        {
          "output_type": "execute_result",
          "data": {
            "text/plain": [
              "(numpy.ndarray, numpy.ndarray)"
            ]
          },
          "metadata": {},
          "execution_count": 28
        }
      ]
    },
    {
      "cell_type": "code",
      "source": [
        "# #Predict on Test data\n",
        "# #Extract features from test data and reshape, just like training data\n",
        "# test_features = feature_extractor(x_test)\n",
        "# test_features = np.expand_dims(test_features, axis=0)\n",
        "# test_for_RF = np.reshape(test_features, (x_test.shape[0], -1))\n",
        "\n",
        "# #Predict on test\n",
        "# test_prediction = RF_model.predict(test_for_RF)\n",
        "# #Inverse le transform to get original label back. \n",
        "# test_prediction = le.inverse_transform(test_prediction)\n",
        "\n",
        "# #Print overall accuracy\n",
        "# from sklearn import metrics\n",
        "# print (\"Accuracy = \", metrics.accuracy_score(test_labels, test_prediction))"
      ],
      "metadata": {
        "id": "2vFS8ZPwZo0J"
      },
      "execution_count": null,
      "outputs": []
    },
    {
      "cell_type": "code",
      "source": [
        "#Predict on val data\n",
        "#Extract features from val data and reshape, just like training data\n",
        "val_features = feature_extractor(x_val)\n",
        "val_features = np.expand_dims(val_features, axis=0)\n",
        "val_for_RF = np.reshape(val_features, (x_val.shape[0], -1))\n",
        "\n",
        "#Predict on val\n",
        "val_prediction = RF_model.predict(val_for_RF)\n",
        "#Inverse le transform to get original label back. \n",
        "val_prediction = le.inverse_transform(val_prediction)\n",
        "y_val_labels= le.inverse_transform(y_val)\n",
        "\n",
        "#Print overall accuracy\n",
        "from sklearn import metrics\n",
        "print (\"Accuracy = \", metrics.accuracy_score(y_val_labels, val_prediction))"
      ],
      "metadata": {
        "colab": {
          "base_uri": "https://localhost:8080/"
        },
        "id": "PvzpRcYpXbhQ",
        "outputId": "7bb1a3a6-17f0-44cc-fb4d-a6272db139dc"
      },
      "execution_count": null,
      "outputs": [
        {
          "output_type": "stream",
          "name": "stdout",
          "text": [
            "Accuracy =  0.5277108433734939\n"
          ]
        },
        {
          "output_type": "stream",
          "name": "stderr",
          "text": [
            "/usr/local/lib/python3.10/dist-packages/sklearn/base.py:439: UserWarning: X does not have valid feature names, but RandomForestClassifier was fitted with feature names\n",
            "  warnings.warn(\n"
          ]
        }
      ]
    },
    {
      "cell_type": "code",
      "source": [],
      "metadata": {
        "id": "mj1hGwLr73OW"
      },
      "execution_count": null,
      "outputs": []
    },
    {
      "cell_type": "code",
      "source": [
        "print (\"Accuracy = \", metrics.accuracy_score(y_val_labels, val_prediction))\n",
        "from sklearn.metrics import classification_report\n",
        "print (\"Accuracy = \", classification_report(y_val_labels, val_prediction))"
      ],
      "metadata": {
        "colab": {
          "base_uri": "https://localhost:8080/"
        },
        "id": "DeDBBqgKisLQ",
        "outputId": "0720e4f4-fdf9-4ff7-f528-1b9857c5c149"
      },
      "execution_count": null,
      "outputs": [
        {
          "output_type": "stream",
          "name": "stdout",
          "text": [
            "Accuracy =  0.5277108433734939\n",
            "Accuracy =                precision    recall  f1-score   support\n",
            "\n",
            "       minor       0.57      0.61      0.59       138\n",
            "    moderate       0.42      0.42      0.42       134\n",
            "      severe       0.59      0.55      0.57       143\n",
            "\n",
            "    accuracy                           0.53       415\n",
            "   macro avg       0.53      0.53      0.53       415\n",
            "weighted avg       0.53      0.53      0.53       415\n",
            "\n"
          ]
        }
      ]
    },
    {
      "cell_type": "code",
      "source": [],
      "metadata": {
        "id": "3GgNIvU0z0si"
      },
      "execution_count": null,
      "outputs": []
    },
    {
      "cell_type": "code",
      "source": [],
      "metadata": {
        "id": "MwNd0OVwbudv"
      },
      "execution_count": null,
      "outputs": []
    },
    {
      "cell_type": "code",
      "source": [],
      "metadata": {
        "id": "V-UxLtoCgBEr"
      },
      "execution_count": null,
      "outputs": []
    },
    {
      "cell_type": "code",
      "source": [],
      "metadata": {
        "id": "3eF43fZWgBHx"
      },
      "execution_count": null,
      "outputs": []
    },
    {
      "cell_type": "code",
      "source": [],
      "metadata": {
        "id": "YbG5IaLjgBKm"
      },
      "execution_count": null,
      "outputs": []
    },
    {
      "cell_type": "code",
      "source": [],
      "metadata": {
        "id": "QpiKo8a-gBNx"
      },
      "execution_count": null,
      "outputs": []
    },
    {
      "cell_type": "code",
      "source": [],
      "metadata": {
        "id": "_Xt8Oz2XgBRE"
      },
      "execution_count": null,
      "outputs": []
    },
    {
      "cell_type": "code",
      "source": [
        "#Print confusion matrix\n",
        "from sklearn.metrics import confusion_matrix\n",
        "cm = confusion_matrix(y_val_labels, val_prediction)\n",
        "\n",
        "fig, ax = plt.subplots(figsize=(5,5))        \n",
        "sns.set(font_scale=1.6)\n",
        "sns.heatmap(cm, annot=True, ax=ax)"
      ],
      "metadata": {
        "colab": {
          "base_uri": "https://localhost:8080/",
          "height": 462
        },
        "id": "4zDTZNwcjFJ3",
        "outputId": "253e5a48-2342-40c9-dc98-07f5f4d40ec4"
      },
      "execution_count": null,
      "outputs": [
        {
          "output_type": "execute_result",
          "data": {
            "text/plain": [
              "<Axes: >"
            ]
          },
          "metadata": {},
          "execution_count": 32
        },
        {
          "output_type": "display_data",
          "data": {
            "text/plain": [
              "<Figure size 500x500 with 2 Axes>"
            ],
            "image/png": "[encoded data removed]"
          },
          "metadata": {}
        }
      ]
    },
    {
      "cell_type": "code",
      "source": [
        "from sklearn.model_selection import RandomizedSearchCV"
      ],
      "metadata": {
        "id": "zO7XMxjypSLi"
      },
      "execution_count": null,
      "outputs": []
    },
    {
      "cell_type": "code",
      "source": [
        "# Number of trees in random forest\n",
        "n_estimators = [int(x) for x in np.linspace(start = 100, stop = 1000, num = 20)]\n",
        "# Number of features to consider at every split\n",
        "max_features = ['auto', 'sqrt']\n",
        "# Maximum number of levels in tree\n",
        "max_depth = [int(x) for x in np.linspace(10, 110, num = 11)]\n",
        "max_depth.append(None)\n",
        "# Minimum number of samples required to split a node\n",
        "min_samples_split = [2, 5, 10]\n",
        "# Minimum number of samples required at each leaf node\n",
        "min_samples_leaf = [1, 2, 4]\n",
        "# Method of selecting samples for training each tree\n",
        "bootstrap = [True, False]\n",
        "# Create the random grid\n",
        "random_grid = {'n_estimators': n_estimators,\n",
        "               'max_features': max_features,\n",
        "               'max_depth': max_depth,\n",
        "               'min_samples_split': min_samples_split,\n",
        "               'min_samples_leaf': min_samples_leaf,\n",
        "               'bootstrap': bootstrap}\n"
      ],
      "metadata": {
        "id": "FzZt5TtKpiRx"
      },
      "execution_count": null,
      "outputs": []
    },
    {
      "cell_type": "code",
      "source": [],
      "metadata": {
        "id": "acKpVA2qkOyM"
      },
      "execution_count": null,
      "outputs": []
    },
    {
      "cell_type": "code",
      "source": [
        "# Use the random grid to search for best hyperparameters\n",
        "# First create the base model to tune\n",
        "rf = RandomForestClassifier()\n",
        "# Random search of parameters, using 3 fold cross validation, \n",
        "# search across 100 different combinations, and use all available cores\n",
        "rf_random = RandomizedSearchCV(estimator = rf, param_distributions = random_grid, n_iter = 100, cv = 3, verbose=2, random_state=42, n_jobs = -1)\n",
        "# Fit the random search model\n",
        "rf_random.fit(X_for_ML_GLCM, y_train)"
      ],
      "metadata": {
        "colab": {
          "base_uri": "https://localhost:8080/",
          "height": 132
        },
        "id": "ijn19ONIprO0",
        "outputId": "7cc0fb4c-9bc9-4d86-df7c-7e7392654b4c"
      },
      "execution_count": null,
      "outputs": [
        {
          "output_type": "stream",
          "name": "stdout",
          "text": [
            "Fitting 3 folds for each of 100 candidates, totalling 300 fits\n"
          ]
        },
        {
          "output_type": "execute_result",
          "data": {
            "text/plain": [
              "RandomizedSearchCV(cv=3, estimator=RandomForestClassifier(), n_iter=100,\n",
              "                   n_jobs=-1,\n",
              "                   param_distributions={'bootstrap': [True, False],\n",
              "                                        'max_depth': [10, 20, 30, 40, 50, 60,\n",
              "                                                      70, 80, 90, 100, 110,\n",
              "                                                      None],\n",
              "                                        'max_features': ['auto', 'sqrt'],\n",
              "                                        'min_samples_leaf': [1, 2, 4],\n",
              "                                        'min_samples_split': [2, 5, 10],\n",
              "                                        'n_estimators': [100, 147, 194, 242,\n",
              "                                                         289, 336, 384, 431,\n",
              "                                                         478, 526, 573, 621,\n",
              "                                                         668, 715, 763, 810,\n",
              "                                                         857, 905, 952, 1000]},\n",
              "                   random_state=42, verbose=2)"
            ],
            "text/html": [
              "<style>#sk-container-id-2 {color: black;background-color: white;}#sk-container-id-2 pre{padding: 0;}#sk-container-id-2 div.sk-toggleable {background-color: white;}#sk-container-id-2 label.sk-toggleable__label {cursor: pointer;display: block;width: 100%;margin-bottom: 0;padding: 0.3em;box-sizing: border-box;text-align: center;}#sk-container-id-2 label.sk-toggleable__label-arrow:before {content: \"▸\";float: left;margin-right: 0.25em;color: #696969;}#sk-container-id-2 label.sk-toggleable__label-arrow:hover:before {color: black;}#sk-container-id-2 div.sk-estimator:hover label.sk-toggleable__label-arrow:before {color: black;}#sk-container-id-2 div.sk-toggleable__content {max-height: 0;max-width: 0;overflow: hidden;text-align: left;background-color: #f0f8ff;}#sk-container-id-2 div.sk-toggleable__content pre {margin: 0.2em;color: black;border-radius: 0.25em;background-color: #f0f8ff;}#sk-container-id-2 input.sk-toggleable__control:checked~div.sk-toggleable__content {max-height: 200px;max-width: 100%;overflow: auto;}#sk-container-id-2 input.sk-toggleable__control:checked~label.sk-toggleable__label-arrow:before {content: \"▾\";}#sk-container-id-2 div.sk-estimator input.sk-toggleable__control:checked~label.sk-toggleable__label {background-color: #d4ebff;}#sk-container-id-2 div.sk-label input.sk-toggleable__control:checked~label.sk-toggleable__label {background-color: #d4ebff;}#sk-container-id-2 input.sk-hidden--visually {border: 0;clip: rect(1px 1px 1px 1px);clip: rect(1px, 1px, 1px, 1px);height: 1px;margin: -1px;overflow: hidden;padding: 0;position: absolute;width: 1px;}#sk-container-id-2 div.sk-estimator {font-family: monospace;background-color: #f0f8ff;border: 1px dotted black;border-radius: 0.25em;box-sizing: border-box;margin-bottom: 0.5em;}#sk-container-id-2 div.sk-estimator:hover {background-color: #d4ebff;}#sk-container-id-2 div.sk-parallel-item::after {content: \"\";width: 100%;border-bottom: 1px solid gray;flex-grow: 1;}#sk-container-id-2 div.sk-label:hover label.sk-toggleable__label {background-color: #d4ebff;}#sk-container-id-2 div.sk-serial::before {content: \"\";position: absolute;border-left: 1px solid gray;box-sizing: border-box;top: 0;bottom: 0;left: 50%;z-index: 0;}#sk-container-id-2 div.sk-serial {display: flex;flex-direction: column;align-items: center;background-color: white;padding-right: 0.2em;padding-left: 0.2em;position: relative;}#sk-container-id-2 div.sk-item {position: relative;z-index: 1;}#sk-container-id-2 div.sk-parallel {display: flex;align-items: stretch;justify-content: center;background-color: white;position: relative;}#sk-container-id-2 div.sk-item::before, #sk-container-id-2 div.sk-parallel-item::before {content: \"\";position: absolute;border-left: 1px solid gray;box-sizing: border-box;top: 0;bottom: 0;left: 50%;z-index: -1;}#sk-container-id-2 div.sk-parallel-item {display: flex;flex-direction: column;z-index: 1;position: relative;background-color: white;}#sk-container-id-2 div.sk-parallel-item:first-child::after {align-self: flex-end;width: 50%;}#sk-container-id-2 div.sk-parallel-item:last-child::after {align-self: flex-start;width: 50%;}#sk-container-id-2 div.sk-parallel-item:only-child::after {width: 0;}#sk-container-id-2 div.sk-dashed-wrapped {border: 1px dashed gray;margin: 0 0.4em 0.5em 0.4em;box-sizing: border-box;padding-bottom: 0.4em;background-color: white;}#sk-container-id-2 div.sk-label label {font-family: monospace;font-weight: bold;display: inline-block;line-height: 1.2em;}#sk-container-id-2 div.sk-label-container {text-align: center;}#sk-container-id-2 div.sk-container {/* jupyter's `normalize.less` sets `[hidden] { display: none; }` but bootstrap.min.css set `[hidden] { display: none !important; }` so we also need the `!important` here to be able to override the default hidden behavior on the sphinx rendered scikit-learn.org. See: https://github.com/scikit-learn/scikit-learn/issues/21755 */display: inline-block !important;position: relative;}#sk-container-id-2 div.sk-text-repr-fallback {display: none;}</style><div id=\"sk-container-id-2\" class=\"sk-top-container\"><div class=\"sk-text-repr-fallback\"><pre>RandomizedSearchCV(cv=3, estimator=RandomForestClassifier(), n_iter=100,\n",
              "                   n_jobs=-1,\n",
              "                   param_distributions={&#x27;bootstrap&#x27;: [True, False],\n",
              "                                        &#x27;max_depth&#x27;: [10, 20, 30, 40, 50, 60,\n",
              "                                                      70, 80, 90, 100, 110,\n",
              "                                                      None],\n",
              "                                        &#x27;max_features&#x27;: [&#x27;auto&#x27;, &#x27;sqrt&#x27;],\n",
              "                                        &#x27;min_samples_leaf&#x27;: [1, 2, 4],\n",
              "                                        &#x27;min_samples_split&#x27;: [2, 5, 10],\n",
              "                                        &#x27;n_estimators&#x27;: [100, 147, 194, 242,\n",
              "                                                         289, 336, 384, 431,\n",
              "                                                         478, 526, 573, 621,\n",
              "                                                         668, 715, 763, 810,\n",
              "                                                         857, 905, 952, 1000]},\n",
              "                   random_state=42, verbose=2)</pre><b>In a Jupyter environment, please rerun this cell to show the HTML representation or trust the notebook. <br />On GitHub, the HTML representation is unable to render, please try loading this page with nbviewer.org.</b></div><div class=\"sk-container\" hidden><div class=\"sk-item sk-dashed-wrapped\"><div class=\"sk-label-container\"><div class=\"sk-label sk-toggleable\"><input class=\"sk-toggleable__control sk-hidden--visually\" id=\"sk-estimator-id-2\" type=\"checkbox\" ><label for=\"sk-estimator-id-2\" class=\"sk-toggleable__label sk-toggleable__label-arrow\">RandomizedSearchCV</label><div class=\"sk-toggleable__content\"><pre>RandomizedSearchCV(cv=3, estimator=RandomForestClassifier(), n_iter=100,\n",
              "                   n_jobs=-1,\n",
              "                   param_distributions={&#x27;bootstrap&#x27;: [True, False],\n",
              "                                        &#x27;max_depth&#x27;: [10, 20, 30, 40, 50, 60,\n",
              "                                                      70, 80, 90, 100, 110,\n",
              "                                                      None],\n",
              "                                        &#x27;max_features&#x27;: [&#x27;auto&#x27;, &#x27;sqrt&#x27;],\n",
              "                                        &#x27;min_samples_leaf&#x27;: [1, 2, 4],\n",
              "                                        &#x27;min_samples_split&#x27;: [2, 5, 10],\n",
              "                                        &#x27;n_estimators&#x27;: [100, 147, 194, 242,\n",
              "                                                         289, 336, 384, 431,\n",
              "                                                         478, 526, 573, 621,\n",
              "                                                         668, 715, 763, 810,\n",
              "                                                         857, 905, 952, 1000]},\n",
              "                   random_state=42, verbose=2)</pre></div></div></div><div class=\"sk-parallel\"><div class=\"sk-parallel-item\"><div class=\"sk-item\"><div class=\"sk-label-container\"><div class=\"sk-label sk-toggleable\"><input class=\"sk-toggleable__control sk-hidden--visually\" id=\"sk-estimator-id-3\" type=\"checkbox\" ><label for=\"sk-estimator-id-3\" class=\"sk-toggleable__label sk-toggleable__label-arrow\">estimator: RandomForestClassifier</label><div class=\"sk-toggleable__content\"><pre>RandomForestClassifier()</pre></div></div></div><div class=\"sk-serial\"><div class=\"sk-item\"><div class=\"sk-estimator sk-toggleable\"><input class=\"sk-toggleable__control sk-hidden--visually\" id=\"sk-estimator-id-4\" type=\"checkbox\" ><label for=\"sk-estimator-id-4\" class=\"sk-toggleable__label sk-toggleable__label-arrow\">RandomForestClassifier</label><div class=\"sk-toggleable__content\"><pre>RandomForestClassifier()</pre></div></div></div></div></div></div></div></div></div></div>"
            ]
          },
          "metadata": {},
          "execution_count": 35
        }
      ]
    },
    {
      "cell_type": "code",
      "source": [],
      "metadata": {
        "id": "L6Yv7WRskPv7"
      },
      "execution_count": null,
      "outputs": []
    },
    {
      "cell_type": "code",
      "source": [
        "rf_random.best_params_"
      ],
      "metadata": {
        "colab": {
          "base_uri": "https://localhost:8080/"
        },
        "id": "HzE2hVCnq133",
        "outputId": "d98c9b8b-f42f-42f4-d840-5c2eced5ceeb"
      },
      "execution_count": null,
      "outputs": [
        {
          "output_type": "execute_result",
          "data": {
            "text/plain": [
              "{'n_estimators': 100,\n",
              " 'min_samples_split': 10,\n",
              " 'min_samples_leaf': 2,\n",
              " 'max_features': 'sqrt',\n",
              " 'max_depth': 110,\n",
              " 'bootstrap': True}"
            ]
          },
          "metadata": {},
          "execution_count": 36
        }
      ]
    },
    {
      "cell_type": "code",
      "source": [
        "image_features = feature_extractor(x_val)\n",
        "X_for_ML_GLCM =image_features\n",
        "X_for_ML_GLCM.shape"
      ],
      "metadata": {
        "colab": {
          "base_uri": "https://localhost:8080/"
        },
        "id": "fZP3AMsKyVts",
        "outputId": "cc924db9-0ce4-46d4-8aa5-26ef91d059b9"
      },
      "execution_count": null,
      "outputs": [
        {
          "output_type": "execute_result",
          "data": {
            "text/plain": [
              "(415, 25)"
            ]
          },
          "metadata": {},
          "execution_count": 37
        }
      ]
    },
    {
      "cell_type": "code",
      "source": [
        "image_features = feature_extractor(x_train)\n",
        "X_for_ML_GLCM =image_features\n",
        "X_for_ML_GLCM.shape"
      ],
      "metadata": {
        "colab": {
          "base_uri": "https://localhost:8080/"
        },
        "id": "m92rMHPAoC57",
        "outputId": "7e6c877b-5977-422e-d2b9-54803aa8aa95"
      },
      "execution_count": null,
      "outputs": [
        {
          "output_type": "execute_result",
          "data": {
            "text/plain": [
              "(968, 25)"
            ]
          },
          "metadata": {},
          "execution_count": 38
        }
      ]
    },
    {
      "cell_type": "code",
      "source": [
        "y_val_labels.shape"
      ],
      "metadata": {
        "colab": {
          "base_uri": "https://localhost:8080/"
        },
        "id": "vYnQPsqKyvUM",
        "outputId": "99404191-e3a5-4886-9cde-e2b0e0bf25ed"
      },
      "execution_count": null,
      "outputs": [
        {
          "output_type": "execute_result",
          "data": {
            "text/plain": [
              "(415,)"
            ]
          },
          "metadata": {},
          "execution_count": 39
        }
      ]
    },
    {
      "cell_type": "code",
      "source": [
        "y_val.shape,X_for_ML_GLCM.shape"
      ],
      "metadata": {
        "colab": {
          "base_uri": "https://localhost:8080/"
        },
        "id": "P7g3agEtikYf",
        "outputId": "8c0430e5-2330-447a-8b9e-3005cfbabe19"
      },
      "execution_count": null,
      "outputs": [
        {
          "output_type": "execute_result",
          "data": {
            "text/plain": [
              "((415,), (968, 25))"
            ]
          },
          "metadata": {},
          "execution_count": 40
        }
      ]
    },
    {
      "cell_type": "code",
      "source": [
        "best_grid = rf_random.best_estimator_\n",
        "best_grid.fit(X_for_ML_GLCM, y_train)"
      ],
      "metadata": {
        "colab": {
          "base_uri": "https://localhost:8080/",
          "height": 74
        },
        "id": "GYMYFYniomFP",
        "outputId": "7d20a71c-59a9-4c82-d8a6-e264e9f4f17a"
      },
      "execution_count": null,
      "outputs": [
        {
          "output_type": "execute_result",
          "data": {
            "text/plain": [
              "RandomForestClassifier(max_depth=110, min_samples_leaf=2, min_samples_split=10)"
            ],
            "text/html": [
              "<style>#sk-container-id-3 {color: black;background-color: white;}#sk-container-id-3 pre{padding: 0;}#sk-container-id-3 div.sk-toggleable {background-color: white;}#sk-container-id-3 label.sk-toggleable__label {cursor: pointer;display: block;width: 100%;margin-bottom: 0;padding: 0.3em;box-sizing: border-box;text-align: center;}#sk-container-id-3 label.sk-toggleable__label-arrow:before {content: \"▸\";float: left;margin-right: 0.25em;color: #696969;}#sk-container-id-3 label.sk-toggleable__label-arrow:hover:before {color: black;}#sk-container-id-3 div.sk-estimator:hover label.sk-toggleable__label-arrow:before {color: black;}#sk-container-id-3 div.sk-toggleable__content {max-height: 0;max-width: 0;overflow: hidden;text-align: left;background-color: #f0f8ff;}#sk-container-id-3 div.sk-toggleable__content pre {margin: 0.2em;color: black;border-radius: 0.25em;background-color: #f0f8ff;}#sk-container-id-3 input.sk-toggleable__control:checked~div.sk-toggleable__content {max-height: 200px;max-width: 100%;overflow: auto;}#sk-container-id-3 input.sk-toggleable__control:checked~label.sk-toggleable__label-arrow:before {content: \"▾\";}#sk-container-id-3 div.sk-estimator input.sk-toggleable__control:checked~label.sk-toggleable__label {background-color: #d4ebff;}#sk-container-id-3 div.sk-label input.sk-toggleable__control:checked~label.sk-toggleable__label {background-color: #d4ebff;}#sk-container-id-3 input.sk-hidden--visually {border: 0;clip: rect(1px 1px 1px 1px);clip: rect(1px, 1px, 1px, 1px);height: 1px;margin: -1px;overflow: hidden;padding: 0;position: absolute;width: 1px;}#sk-container-id-3 div.sk-estimator {font-family: monospace;background-color: #f0f8ff;border: 1px dotted black;border-radius: 0.25em;box-sizing: border-box;margin-bottom: 0.5em;}#sk-container-id-3 div.sk-estimator:hover {background-color: #d4ebff;}#sk-container-id-3 div.sk-parallel-item::after {content: \"\";width: 100%;border-bottom: 1px solid gray;flex-grow: 1;}#sk-container-id-3 div.sk-label:hover label.sk-toggleable__label {background-color: #d4ebff;}#sk-container-id-3 div.sk-serial::before {content: \"\";position: absolute;border-left: 1px solid gray;box-sizing: border-box;top: 0;bottom: 0;left: 50%;z-index: 0;}#sk-container-id-3 div.sk-serial {display: flex;flex-direction: column;align-items: center;background-color: white;padding-right: 0.2em;padding-left: 0.2em;position: relative;}#sk-container-id-3 div.sk-item {position: relative;z-index: 1;}#sk-container-id-3 div.sk-parallel {display: flex;align-items: stretch;justify-content: center;background-color: white;position: relative;}#sk-container-id-3 div.sk-item::before, #sk-container-id-3 div.sk-parallel-item::before {content: \"\";position: absolute;border-left: 1px solid gray;box-sizing: border-box;top: 0;bottom: 0;left: 50%;z-index: -1;}#sk-container-id-3 div.sk-parallel-item {display: flex;flex-direction: column;z-index: 1;position: relative;background-color: white;}#sk-container-id-3 div.sk-parallel-item:first-child::after {align-self: flex-end;width: 50%;}#sk-container-id-3 div.sk-parallel-item:last-child::after {align-self: flex-start;width: 50%;}#sk-container-id-3 div.sk-parallel-item:only-child::after {width: 0;}#sk-container-id-3 div.sk-dashed-wrapped {border: 1px dashed gray;margin: 0 0.4em 0.5em 0.4em;box-sizing: border-box;padding-bottom: 0.4em;background-color: white;}#sk-container-id-3 div.sk-label label {font-family: monospace;font-weight: bold;display: inline-block;line-height: 1.2em;}#sk-container-id-3 div.sk-label-container {text-align: center;}#sk-container-id-3 div.sk-container {/* jupyter's `normalize.less` sets `[hidden] { display: none; }` but bootstrap.min.css set `[hidden] { display: none !important; }` so we also need the `!important` here to be able to override the default hidden behavior on the sphinx rendered scikit-learn.org. See: https://github.com/scikit-learn/scikit-learn/issues/21755 */display: inline-block !important;position: relative;}#sk-container-id-3 div.sk-text-repr-fallback {display: none;}</style><div id=\"sk-container-id-3\" class=\"sk-top-container\"><div class=\"sk-text-repr-fallback\"><pre>RandomForestClassifier(max_depth=110, min_samples_leaf=2, min_samples_split=10)</pre><b>In a Jupyter environment, please rerun this cell to show the HTML representation or trust the notebook. <br />On GitHub, the HTML representation is unable to render, please try loading this page with nbviewer.org.</b></div><div class=\"sk-container\" hidden><div class=\"sk-item\"><div class=\"sk-estimator sk-toggleable\"><input class=\"sk-toggleable__control sk-hidden--visually\" id=\"sk-estimator-id-5\" type=\"checkbox\" checked><label for=\"sk-estimator-id-5\" class=\"sk-toggleable__label sk-toggleable__label-arrow\">RandomForestClassifier</label><div class=\"sk-toggleable__content\"><pre>RandomForestClassifier(max_depth=110, min_samples_leaf=2, min_samples_split=10)</pre></div></div></div></div></div>"
            ]
          },
          "metadata": {},
          "execution_count": 41
        }
      ]
    },
    {
      "cell_type": "code",
      "source": [],
      "metadata": {
        "id": "gbvoVKPc7iGG"
      },
      "execution_count": null,
      "outputs": []
    },
    {
      "cell_type": "code",
      "source": [
        "#Predict on val data\n",
        "#Extract features from val data and reshape, just like training data\n",
        "val_features = feature_extractor(x_val)\n",
        "val_features = np.expand_dims(val_features, axis=0)\n",
        "val_for_RF = np.reshape(val_features, (x_val.shape[0], -1))\n",
        "\n",
        "#Predict on val\n",
        "val_prediction = best_grid.predict(val_for_RF)\n",
        "#Inverse le transform to get original label back. \n",
        "val_prediction = le.inverse_transform(val_prediction)\n",
        "y_val_labels= le.inverse_transform(y_val)\n",
        "\n",
        "#Print overall accuracy\n",
        "from sklearn import metrics\n",
        "print (\"Accuracy = \", metrics.accuracy_score(y_val_labels, val_prediction))"
      ],
      "metadata": {
        "colab": {
          "base_uri": "https://localhost:8080/"
        },
        "id": "b4XKItkgi9Nr",
        "outputId": "0737ce50-f797-4ac7-c120-c65471909fe5"
      },
      "execution_count": null,
      "outputs": [
        {
          "output_type": "stream",
          "name": "stdout",
          "text": [
            "Accuracy =  0.5325301204819277\n"
          ]
        },
        {
          "output_type": "stream",
          "name": "stderr",
          "text": [
            "/usr/local/lib/python3.10/dist-packages/sklearn/base.py:439: UserWarning: X does not have valid feature names, but RandomForestClassifier was fitted with feature names\n",
            "  warnings.warn(\n"
          ]
        }
      ]
    },
    {
      "cell_type": "code",
      "source": [
        "print (\"Accuracy = \", metrics.accuracy_score(y_val_labels, val_prediction))\n",
        "print (\"Accuracy = \", classification_report(y_val_labels, val_prediction))"
      ],
      "metadata": {
        "colab": {
          "base_uri": "https://localhost:8080/"
        },
        "id": "c77UOxBtkanl",
        "outputId": "d7b052a8-aff9-4ef0-f819-5ad466002c6d"
      },
      "execution_count": null,
      "outputs": [
        {
          "output_type": "stream",
          "name": "stdout",
          "text": [
            "Accuracy =  0.5325301204819277\n",
            "Accuracy =                precision    recall  f1-score   support\n",
            "\n",
            "       minor       0.58      0.59      0.58       138\n",
            "    moderate       0.40      0.36      0.38       134\n",
            "      severe       0.59      0.64      0.61       143\n",
            "\n",
            "    accuracy                           0.53       415\n",
            "   macro avg       0.52      0.53      0.53       415\n",
            "weighted avg       0.53      0.53      0.53       415\n",
            "\n"
          ]
        }
      ]
    },
    {
      "cell_type": "code",
      "source": [
        "#Print confusion matrix\n",
        "from sklearn.metrics import confusion_matrix\n",
        "cm = confusion_matrix(y_val_labels, val_prediction)\n",
        "\n",
        "fig, ax = plt.subplots(figsize=(5,5))        \n",
        "sns.set(font_scale=1.6)\n",
        "sns.heatmap(cm, annot=True, ax=ax)"
      ],
      "metadata": {
        "colab": {
          "base_uri": "https://localhost:8080/",
          "height": 476
        },
        "id": "2euWSMfhwViq",
        "outputId": "20804902-7c2d-4ee4-a46a-f7f102feeda1"
      },
      "execution_count": null,
      "outputs": [
        {
          "output_type": "execute_result",
          "data": {
            "text/plain": [
              "<Axes: >"
            ]
          },
          "metadata": {},
          "execution_count": 44
        },
        {
          "output_type": "display_data",
          "data": {
            "text/plain": [
              "<Figure size 500x500 with 2 Axes>"
            ],
            "image/png": "[encoded data removed]"
          },
          "metadata": {}
        }
      ]
    },
    {
      "cell_type": "code",
      "source": [
        "# from mlxtend.plotting import plot_decision_regions\n",
        " \n",
        "# X_combined = np.vstack((X_for_ML_GLCM, val_for_RF))\n",
        "# y_combined = np.hstack((y_train, y_test))\n",
        " \n",
        "# #\n",
        "# # plot_decision_regions function takes \"forest\" as classifier\n",
        "# #\n",
        "# fig, ax = plt.subplots(figsize=(7, 7))\n",
        "# plot_decision_regions(X_combined, y_combined, clf=best_grid)\n",
        "# plt.xlabel('petal length [cm]')\n",
        "# plt.ylabel('petal width [cm]')\n",
        "# plt.legend(loc='upper left')\n",
        "# plt.tight_layout()\n",
        "# plt.show()"
      ],
      "metadata": {
        "id": "kqmMj4L37jSF"
      },
      "execution_count": null,
      "outputs": []
    },
    {
      "cell_type": "code",
      "source": [
        "!pip install umap-learn[plot]\n",
        "!pip install holoviews\n",
        "!pip install -U ipykernel"
      ],
      "metadata": {
        "colab": {
          "base_uri": "https://localhost:8080/"
        },
        "id": "-PKplpqeikHq",
        "outputId": "47df1720-8e00-4877-b9a1-989a36e9199e"
      },
      "execution_count": null,
      "outputs": [
        {
          "output_type": "stream",
          "name": "stdout",
          "text": [
            "Looking in indexes: https://pypi.org/simple, https://us-python.pkg.dev/colab-wheels/public/simple/\n",
            "Requirement already satisfied: umap-learn[plot] in /usr/local/lib/python3.10/dist-packages (0.5.3)\n",
            "Requirement already satisfied: tqdm in /usr/local/lib/python3.10/dist-packages (from umap-learn[plot]) (4.65.0)\n",
            "Requirement already satisfied: scikit-learn>=0.22 in /usr/local/lib/python3.10/dist-packages (from umap-learn[plot]) (1.2.2)\n",
            "Requirement already satisfied: scipy>=1.0 in /usr/local/lib/python3.10/dist-packages (from umap-learn[plot]) (1.10.1)\n",
            "Requirement already satisfied: numba>=0.49 in /usr/local/lib/python3.10/dist-packages (from umap-learn[plot]) (0.56.4)\n",
            "Requirement already satisfied: pynndescent>=0.5 in /usr/local/lib/python3.10/dist-packages (from umap-learn[plot]) (0.5.10)\n",
            "Requirement already satisfied: numpy>=1.17 in /usr/local/lib/python3.10/dist-packages (from umap-learn[plot]) (1.22.4)\n",
            "Requirement already satisfied: scikit-image in /usr/local/lib/python3.10/dist-packages (from umap-learn[plot]) (0.19.3)\n",
            "Requirement already satisfied: pandas in /usr/local/lib/python3.10/dist-packages (from umap-learn[plot]) (1.5.3)\n",
            "Requirement already satisfied: seaborn in /usr/local/lib/python3.10/dist-packages (from umap-learn[plot]) (0.12.2)\n",
            "Requirement already satisfied: bokeh in /usr/local/lib/python3.10/dist-packages (from umap-learn[plot]) (2.4.3)\n",
            "Requirement already satisfied: datashader in /usr/local/lib/python3.10/dist-packages (from umap-learn[plot]) (0.14.4)\n",
            "Requirement already satisfied: matplotlib in /usr/local/lib/python3.10/dist-packages (from umap-learn[plot]) (3.7.1)\n",
            "Requirement already satisfied: holoviews in /usr/local/lib/python3.10/dist-packages (from umap-learn[plot]) (1.15.4)\n",
            "Requirement already satisfied: colorcet in /usr/local/lib/python3.10/dist-packages (from umap-learn[plot]) (3.0.1)\n",
            "Requirement already satisfied: llvmlite<0.40,>=0.39.0dev0 in /usr/local/lib/python3.10/dist-packages (from numba>=0.49->umap-learn[plot]) (0.39.1)\n",
            "Requirement already satisfied: setuptools in /usr/local/lib/python3.10/dist-packages (from numba>=0.49->umap-learn[plot]) (67.7.2)\n",
            "Requirement already satisfied: joblib>=0.11 in /usr/local/lib/python3.10/dist-packages (from pynndescent>=0.5->umap-learn[plot]) (1.2.0)\n",
            "Requirement already satisfied: threadpoolctl>=2.0.0 in /usr/local/lib/python3.10/dist-packages (from scikit-learn>=0.22->umap-learn[plot]) (3.1.0)\n",
            "Requirement already satisfied: tornado>=5.1 in /usr/local/lib/python3.10/dist-packages (from bokeh->umap-learn[plot]) (6.2)\n",
            "Requirement already satisfied: Jinja2>=2.9 in /usr/local/lib/python3.10/dist-packages (from bokeh->umap-learn[plot]) (3.1.2)\n",
            "Requirement already satisfied: packaging>=16.8 in /usr/local/lib/python3.10/dist-packages (from bokeh->umap-learn[plot]) (23.1)\n",
            "Requirement already satisfied: pillow>=7.1.0 in /usr/local/lib/python3.10/dist-packages (from bokeh->umap-learn[plot]) (8.4.0)\n",
            "Requirement already satisfied: typing-extensions>=3.10.0 in /usr/local/lib/python3.10/dist-packages (from bokeh->umap-learn[plot]) (4.5.0)\n",
            "Requirement already satisfied: PyYAML>=3.10 in /usr/local/lib/python3.10/dist-packages (from bokeh->umap-learn[plot]) (6.0)\n",
            "Requirement already satisfied: pyct>=0.4.4 in /usr/local/lib/python3.10/dist-packages (from colorcet->umap-learn[plot]) (0.5.0)\n",
            "Requirement already satisfied: toolz in /usr/local/lib/python3.10/dist-packages (from datashader->umap-learn[plot]) (0.12.0)\n",
            "Requirement already satisfied: xarray in /usr/local/lib/python3.10/dist-packages (from datashader->umap-learn[plot]) (2022.12.0)\n",
            "Requirement already satisfied: param in /usr/local/lib/python3.10/dist-packages (from datashader->umap-learn[plot]) (1.13.0)\n",
            "Requirement already satisfied: requests in /usr/local/lib/python3.10/dist-packages (from datashader->umap-learn[plot]) (2.27.1)\n",
            "Requirement already satisfied: dask in /usr/local/lib/python3.10/dist-packages (from datashader->umap-learn[plot]) (2022.12.1)\n",
            "Requirement already satisfied: datashape in /usr/local/lib/python3.10/dist-packages (from datashader->umap-learn[plot]) (0.5.2)\n",
            "Requirement already satisfied: panel>=0.13.1 in /usr/local/lib/python3.10/dist-packages (from holoviews->umap-learn[plot]) (0.14.4)\n",
            "Requirement already satisfied: pyviz-comms>=0.7.4 in /usr/local/lib/python3.10/dist-packages (from holoviews->umap-learn[plot]) (2.2.1)\n",
            "Requirement already satisfied: python-dateutil>=2.8.1 in /usr/local/lib/python3.10/dist-packages (from pandas->umap-learn[plot]) (2.8.2)\n",
            "Requirement already satisfied: pytz>=2020.1 in /usr/local/lib/python3.10/dist-packages (from pandas->umap-learn[plot]) (2022.7.1)\n",
            "Requirement already satisfied: kiwisolver>=1.0.1 in /usr/local/lib/python3.10/dist-packages (from matplotlib->umap-learn[plot]) (1.4.4)\n",
            "Requirement already satisfied: fonttools>=4.22.0 in /usr/local/lib/python3.10/dist-packages (from matplotlib->umap-learn[plot]) (4.39.3)\n",
            "Requirement already satisfied: contourpy>=1.0.1 in /usr/local/lib/python3.10/dist-packages (from matplotlib->umap-learn[plot]) (1.0.7)\n",
            "Requirement already satisfied: cycler>=0.10 in /usr/local/lib/python3.10/dist-packages (from matplotlib->umap-learn[plot]) (0.11.0)\n",
            "Requirement already satisfied: pyparsing>=2.3.1 in /usr/local/lib/python3.10/dist-packages (from matplotlib->umap-learn[plot]) (3.0.9)\n",
            "Requirement already satisfied: networkx>=2.2 in /usr/local/lib/python3.10/dist-packages (from scikit-image->umap-learn[plot]) (3.1)\n",
            "Requirement already satisfied: PyWavelets>=1.1.1 in /usr/local/lib/python3.10/dist-packages (from scikit-image->umap-learn[plot]) (1.4.1)\n",
            "Requirement already satisfied: tifffile>=2019.7.26 in /usr/local/lib/python3.10/dist-packages (from scikit-image->umap-learn[plot]) (2023.4.12)\n",
            "Requirement already satisfied: imageio>=2.4.1 in /usr/local/lib/python3.10/dist-packages (from scikit-image->umap-learn[plot]) (2.25.1)\n",
            "Requirement already satisfied: MarkupSafe>=2.0 in /usr/local/lib/python3.10/dist-packages (from Jinja2>=2.9->bokeh->umap-learn[plot]) (2.1.2)\n",
            "Requirement already satisfied: bleach in /usr/local/lib/python3.10/dist-packages (from panel>=0.13.1->holoviews->umap-learn[plot]) (6.0.0)\n",
            "Requirement already satisfied: markdown in /usr/local/lib/python3.10/dist-packages (from panel>=0.13.1->holoviews->umap-learn[plot]) (3.4.3)\n",
            "Requirement already satisfied: six>=1.5 in /usr/local/lib/python3.10/dist-packages (from python-dateutil>=2.8.1->pandas->umap-learn[plot]) (1.16.0)\n",
            "Requirement already satisfied: partd>=0.3.10 in /usr/local/lib/python3.10/dist-packages (from dask->datashader->umap-learn[plot]) (1.4.0)\n",
            "Requirement already satisfied: fsspec>=0.6.0 in /usr/local/lib/python3.10/dist-packages (from dask->datashader->umap-learn[plot]) (2023.4.0)\n",
            "Requirement already satisfied: cloudpickle>=1.1.1 in /usr/local/lib/python3.10/dist-packages (from dask->datashader->umap-learn[plot]) (2.2.1)\n",
            "Requirement already satisfied: click>=7.0 in /usr/local/lib/python3.10/dist-packages (from dask->datashader->umap-learn[plot]) (8.1.3)\n",
            "Requirement already satisfied: multipledispatch>=0.4.7 in /usr/local/lib/python3.10/dist-packages (from datashape->datashader->umap-learn[plot]) (0.6.0)\n",
            "Requirement already satisfied: idna<4,>=2.5 in /usr/local/lib/python3.10/dist-packages (from requests->datashader->umap-learn[plot]) (3.4)\n",
            "Requirement already satisfied: certifi>=2017.4.17 in /usr/local/lib/python3.10/dist-packages (from requests->datashader->umap-learn[plot]) (2022.12.7)\n",
            "Requirement already satisfied: urllib3<1.27,>=1.21.1 in /usr/local/lib/python3.10/dist-packages (from requests->datashader->umap-learn[plot]) (1.26.15)\n",
            "Requirement already satisfied: charset-normalizer~=2.0.0 in /usr/local/lib/python3.10/dist-packages (from requests->datashader->umap-learn[plot]) (2.0.12)\n",
            "Requirement already satisfied: locket in /usr/local/lib/python3.10/dist-packages (from partd>=0.3.10->dask->datashader->umap-learn[plot]) (1.0.0)\n",
            "Requirement already satisfied: webencodings in /usr/local/lib/python3.10/dist-packages (from bleach->panel>=0.13.1->holoviews->umap-learn[plot]) (0.5.1)\n",
            "Looking in indexes: https://pypi.org/simple, https://us-python.pkg.dev/colab-wheels/public/simple/\n",
            "Requirement already satisfied: holoviews in /usr/local/lib/python3.10/dist-packages (1.15.4)\n",
            "Requirement already satisfied: numpy>=1.0 in /usr/local/lib/python3.10/dist-packages (from holoviews) (1.22.4)\n",
            "Requirement already satisfied: packaging in /usr/local/lib/python3.10/dist-packages (from holoviews) (23.1)\n",
            "Requirement already satisfied: param<2.0,>=1.9.3 in /usr/local/lib/python3.10/dist-packages (from holoviews) (1.13.0)\n",
            "Requirement already satisfied: colorcet in /usr/local/lib/python3.10/dist-packages (from holoviews) (3.0.1)\n",
            "Requirement already satisfied: pandas>=0.20.0 in /usr/local/lib/python3.10/dist-packages (from holoviews) (1.5.3)\n",
            "Requirement already satisfied: panel>=0.13.1 in /usr/local/lib/python3.10/dist-packages (from holoviews) (0.14.4)\n",
            "Requirement already satisfied: pyviz-comms>=0.7.4 in /usr/local/lib/python3.10/dist-packages (from holoviews) (2.2.1)\n",
            "Requirement already satisfied: pytz>=2020.1 in /usr/local/lib/python3.10/dist-packages (from pandas>=0.20.0->holoviews) (2022.7.1)\n",
            "Requirement already satisfied: python-dateutil>=2.8.1 in /usr/local/lib/python3.10/dist-packages (from pandas>=0.20.0->holoviews) (2.8.2)\n",
            "Requirement already satisfied: markdown in /usr/local/lib/python3.10/dist-packages (from panel>=0.13.1->holoviews) (3.4.3)\n",
            "Requirement already satisfied: requests in /usr/local/lib/python3.10/dist-packages (from panel>=0.13.1->holoviews) (2.27.1)\n",
            "Requirement already satisfied: pyct>=0.4.4 in /usr/local/lib/python3.10/dist-packages (from panel>=0.13.1->holoviews) (0.5.0)\n",
            "Requirement already satisfied: typing-extensions in /usr/local/lib/python3.10/dist-packages (from panel>=0.13.1->holoviews) (4.5.0)\n",
            "Requirement already satisfied: setuptools>=42 in /usr/local/lib/python3.10/dist-packages (from panel>=0.13.1->holoviews) (67.7.2)\n",
            "Requirement already satisfied: tqdm>=4.48.0 in /usr/local/lib/python3.10/dist-packages (from panel>=0.13.1->holoviews) (4.65.0)\n",
            "Requirement already satisfied: bleach in /usr/local/lib/python3.10/dist-packages (from panel>=0.13.1->holoviews) (6.0.0)\n",
            "Requirement already satisfied: bokeh<2.5.0,>=2.4.0 in /usr/local/lib/python3.10/dist-packages (from panel>=0.13.1->holoviews) (2.4.3)\n",
            "Requirement already satisfied: pillow>=7.1.0 in /usr/local/lib/python3.10/dist-packages (from bokeh<2.5.0,>=2.4.0->panel>=0.13.1->holoviews) (8.4.0)\n",
            "Requirement already satisfied: Jinja2>=2.9 in /usr/local/lib/python3.10/dist-packages (from bokeh<2.5.0,>=2.4.0->panel>=0.13.1->holoviews) (3.1.2)\n",
            "Requirement already satisfied: tornado>=5.1 in /usr/local/lib/python3.10/dist-packages (from bokeh<2.5.0,>=2.4.0->panel>=0.13.1->holoviews) (6.2)\n",
            "Requirement already satisfied: PyYAML>=3.10 in /usr/local/lib/python3.10/dist-packages (from bokeh<2.5.0,>=2.4.0->panel>=0.13.1->holoviews) (6.0)\n",
            "Requirement already satisfied: six>=1.5 in /usr/local/lib/python3.10/dist-packages (from python-dateutil>=2.8.1->pandas>=0.20.0->holoviews) (1.16.0)\n",
            "Requirement already satisfied: webencodings in /usr/local/lib/python3.10/dist-packages (from bleach->panel>=0.13.1->holoviews) (0.5.1)\n",
            "Requirement already satisfied: charset-normalizer~=2.0.0 in /usr/local/lib/python3.10/dist-packages (from requests->panel>=0.13.1->holoviews) (2.0.12)\n",
            "Requirement already satisfied: idna<4,>=2.5 in /usr/local/lib/python3.10/dist-packages (from requests->panel>=0.13.1->holoviews) (3.4)\n",
            "Requirement already satisfied: urllib3<1.27,>=1.21.1 in /usr/local/lib/python3.10/dist-packages (from requests->panel>=0.13.1->holoviews) (1.26.15)\n",
            "Requirement already satisfied: certifi>=2017.4.17 in /usr/local/lib/python3.10/dist-packages (from requests->panel>=0.13.1->holoviews) (2022.12.7)\n",
            "Requirement already satisfied: MarkupSafe>=2.0 in /usr/local/lib/python3.10/dist-packages (from Jinja2>=2.9->bokeh<2.5.0,>=2.4.0->panel>=0.13.1->holoviews) (2.1.2)\n",
            "Looking in indexes: https://pypi.org/simple, https://us-python.pkg.dev/colab-wheels/public/simple/\n",
            "Requirement already satisfied: ipykernel in /usr/local/lib/python3.10/dist-packages (6.22.0)\n",
            "Requirement already satisfied: jupyter-core!=5.0.*,>=4.12 in /usr/local/lib/python3.10/dist-packages (from ipykernel) (5.3.0)\n",
            "Requirement already satisfied: matplotlib-inline>=0.1 in /usr/local/lib/python3.10/dist-packages (from ipykernel) (0.1.6)\n",
            "Requirement already satisfied: pyzmq>=20 in /usr/local/lib/python3.10/dist-packages (from ipykernel) (23.2.1)\n",
            "Requirement already satisfied: debugpy>=1.6.5 in /usr/local/lib/python3.10/dist-packages (from ipykernel) (1.6.6)\n",
            "Requirement already satisfied: jupyter-client>=6.1.12 in /usr/local/lib/python3.10/dist-packages (from ipykernel) (6.1.12)\n",
            "Requirement already satisfied: packaging in /usr/local/lib/python3.10/dist-packages (from ipykernel) (23.1)\n",
            "Requirement already satisfied: ipython>=7.23.1 in /usr/local/lib/python3.10/dist-packages (from ipykernel) (7.34.0)\n",
            "Requirement already satisfied: nest-asyncio in /usr/local/lib/python3.10/dist-packages (from ipykernel) (1.5.6)\n",
            "Requirement already satisfied: comm>=0.1.1 in /usr/local/lib/python3.10/dist-packages (from ipykernel) (0.1.3)\n",
            "Requirement already satisfied: traitlets>=5.4.0 in /usr/local/lib/python3.10/dist-packages (from ipykernel) (5.7.1)\n",
            "Requirement already satisfied: tornado>=6.1 in /usr/local/lib/python3.10/dist-packages (from ipykernel) (6.2)\n",
            "Requirement already satisfied: psutil in /usr/local/lib/python3.10/dist-packages (from ipykernel) (5.9.5)\n",
            "Requirement already satisfied: setuptools>=18.5 in /usr/local/lib/python3.10/dist-packages (from ipython>=7.23.1->ipykernel) (67.7.2)\n",
            "Requirement already satisfied: backcall in /usr/local/lib/python3.10/dist-packages (from ipython>=7.23.1->ipykernel) (0.2.0)\n",
            "Requirement already satisfied: pexpect>4.3 in /usr/local/lib/python3.10/dist-packages (from ipython>=7.23.1->ipykernel) (4.8.0)\n",
            "Requirement already satisfied: pickleshare in /usr/local/lib/python3.10/dist-packages (from ipython>=7.23.1->ipykernel) (0.7.5)\n",
            "Requirement already satisfied: decorator in /usr/local/lib/python3.10/dist-packages (from ipython>=7.23.1->ipykernel) (4.4.2)\n",
            "Requirement already satisfied: prompt-toolkit!=3.0.0,!=3.0.1,<3.1.0,>=2.0.0 in /usr/local/lib/python3.10/dist-packages (from ipython>=7.23.1->ipykernel) (3.0.38)\n",
            "Requirement already satisfied: pygments in /usr/local/lib/python3.10/dist-packages (from ipython>=7.23.1->ipykernel) (2.14.0)\n",
            "Requirement already satisfied: jedi>=0.16 in /usr/local/lib/python3.10/dist-packages (from ipython>=7.23.1->ipykernel) (0.18.2)\n",
            "Requirement already satisfied: python-dateutil>=2.1 in /usr/local/lib/python3.10/dist-packages (from jupyter-client>=6.1.12->ipykernel) (2.8.2)\n",
            "Requirement already satisfied: platformdirs>=2.5 in /usr/local/lib/python3.10/dist-packages (from jupyter-core!=5.0.*,>=4.12->ipykernel) (3.3.0)\n",
            "Requirement already satisfied: parso<0.9.0,>=0.8.0 in /usr/local/lib/python3.10/dist-packages (from jedi>=0.16->ipython>=7.23.1->ipykernel) (0.8.3)\n",
            "Requirement already satisfied: ptyprocess>=0.5 in /usr/local/lib/python3.10/dist-packages (from pexpect>4.3->ipython>=7.23.1->ipykernel) (0.7.0)\n",
            "Requirement already satisfied: wcwidth in /usr/local/lib/python3.10/dist-packages (from prompt-toolkit!=3.0.0,!=3.0.1,<3.1.0,>=2.0.0->ipython>=7.23.1->ipykernel) (0.2.6)\n",
            "Requirement already satisfied: six>=1.5 in /usr/local/lib/python3.10/dist-packages (from python-dateutil>=2.1->jupyter-client>=6.1.12->ipykernel) (1.16.0)\n"
          ]
        }
      ]
    },
    {
      "cell_type": "code",
      "source": [
        "from umap import UMAP\n",
        "import plotly.express as px\n",
        "\n",
        "\n",
        "features = val_for_RF\n",
        "umap_2d = UMAP(n_components=2, init='random', random_state=0)\n",
        "# umap_3d = UMAP(n_components=3, init='random', random_state=0)\n",
        "\n",
        "proj_2d = umap_2d.fit_transform(features)\n",
        "# proj_3d = umap_3d.fit_transform(features)\n",
        "\n",
        "fig_2d = px.scatter(\n",
        "    proj_2d, x=0, y=1,\n",
        "    color=val_prediction\n",
        ")\n",
        "# fig_3d = px.scatter_3d(\n",
        "#     proj_3d, x=0, y=1, z=2,\n",
        "#     color=df.species, labels={'color': 'species'}\n",
        "# )\n",
        "# fig_3d.update_traces(marker_size=5)\n",
        "\n",
        "fig_2d.show()\n",
        "# fig_3d.show()"
      ],
      "metadata": {
        "id": "Ct-zqnNA7n__",
        "colab": {
          "base_uri": "https://localhost:8080/",
          "height": 542
        },
        "outputId": "c3cdd2cd-d08c-442d-97e9-a3077a2e64c5"
      },
      "execution_count": null,
      "outputs": [
        {
          "output_type": "display_data",
          "data": {
            "text/html": [
              "<html>\n",
              "<head><meta charset=\"utf-8\" /></head>\n",
              "<body>\n",
              "    <div>            <script src=\"https://cdnjs.cloudflare.com/ajax/libs/mathjax/2.7.5/MathJax.js?config=TeX-AMS-MML_SVG\"></script><script type=\"text/javascript\">if (window.MathJax && window.MathJax.Hub && window.MathJax.Hub.Config) {window.MathJax.Hub.Config({SVG: {font: \"STIX-Web\"}});}</script>                <script type=\"text/javascript\">window.PlotlyConfig = {MathJaxConfig: 'local'};</script>\n",
              "        <script src=\"https://cdn.plot.ly/plotly-2.18.2.min.js\"></script>                <div id=\"e93963cc-931b-46cf-a53e-282eb719e0c0\" class=\"plotly-graph-div\" style=\"height:525px; width:100%;\"></div>            <script type=\"text/javascript\">                                    window.PLOTLYENV=window.PLOTLYENV || {};                                    if (document.getElementById(\"e93963cc-931b-46cf-a53e-282eb719e0c0\")) {                    Plotly.newPlot(                        \"e93963cc-931b-46cf-a53e-282eb719e0c0\",                        [{\"hovertemplate\":\"color=minor<br>0=%{x}<br>1=%{y}<extra></extra>\",\"legendgroup\":\"minor\",\"marker\":{\"color\":\"#636efa\",\"symbol\":\"circle\"},\"mode\":\"markers\",\"name\":\"minor\",\"orientation\":\"v\",\"showlegend\":true,\"x\":[0.7185856699943542,-1.038163661956787,0.3001764714717865,-2.1640448570251465,1.6224583387374878,8.73396110534668,13.483171463012695,1.5971601009368896,5.586561679840088,-2.2617342472076416,5.647852420806885,-1.8779020309448242,10.019775390625,12.375452041625977,5.508539199829102,7.948962688446045,0.9871411919593811,1.6342556476593018,12.091513633728027,10.434585571289062,12.167999267578125,13.221355438232422,10.310497283935547,-0.7139084935188293,10.232620239257812,10.035645484924316,10.980752944946289,1.3395452499389648,11.89269733428955,0.8222726583480835,5.487995624542236,11.861159324645996,8.467944145202637,13.005642890930176,-1.733377456665039,0.7650536298751831,13.105287551879883,-1.7261096239089966,7.291385173797607,13.235161781311035,12.633468627929688,-1.0452030897140503,6.97352409362793,13.275687217712402,9.86011028289795,10.937806129455566,9.907342910766602,7.133810043334961,-1.505513310432434,7.835258483886719,-1.4177401065826416,5.767563819885254,12.113138198852539,12.123083114624023,0.7981435656547546,6.732018947601318,0.8068597316741943,-2.34242844581604,1.0743846893310547,5.70851469039917,-1.80574369430542,0.7376510500907898,-1.089797019958496,-1.442359209060669,-1.6367977857589722,7.360141754150391,1.7810111045837402,11.984029769897461,13.488944053649902,5.657564163208008,0.9230132699012756,13.39805793762207,13.377360343933105,-0.8746746182441711,0.3555038869380951,0.5283622145652771,11.528375625610352,0.6636027693748474,0.8868469595909119,11.845768928527832,-0.6830453276634216,8.116103172302246,-2.300363063812256,0.4973219037055969,7.444110870361328,0.76373291015625,-1.0607529878616333,-1.3993602991104126,0.8873957991600037,12.296649932861328,-2.2073774337768555,-1.8919645547866821,7.032198429107666,6.572923183441162,-1.151427984237671,0.9067162275314331,-0.8917874693870544,13.366533279418945,7.055954933166504,1.583463191986084,10.488499641418457,8.038915634155273,1.3777943849563599,0.32511550188064575,-0.8273503184318542,-1.8572977781295776,13.387532234191895,-2.0296084880828857,7.5116777420043945,5.641190528869629,1.568819284439087,-2.350679397583008,7.9561686515808105,-2.20682954788208,10.465975761413574,5.714486122131348,5.631383895874023,7.141356468200684,-1.245449423789978,7.938107013702393,-0.41674691438674927,5.553376197814941,8.794466018676758,10.730955123901367,-0.7931117415428162,7.553111553192139,1.4668687582015991,12.696542739868164,13.438919067382812,-2.2603628635406494,12.03247356414795,7.974142074584961,-1.4171491861343384,7.558001518249512,1.5660955905914307,10.88390827178955,5.712398052215576,13.500720024108887,10.244136810302734],\"xaxis\":\"x\",\"y\":[8.418801307678223,9.062589645385742,8.506683349609375,10.671934127807617,7.9508280754089355,0.8959558010101318,0.5861946940422058,7.739702224731445,-10.079718589782715,10.828155517578125,-10.142061233520508,10.165283203125,0.6530424356460571,0.41640838980674744,-9.998490333557129,7.158847808837891,7.738295555114746,8.327138900756836,0.6243483424186707,-0.6662731766700745,0.02789962664246559,0.6149852275848389,0.8271055221557617,8.745441436767578,0.741321861743927,0.8828247785568237,0.512806236743927,7.649064064025879,0.24933570623397827,8.348020553588867,-9.976829528808594,-0.21615976095199585,0.6813090443611145,0.6741534471511841,9.995706558227539,8.293295860290527,0.5941416621208191,9.958723068237305,1.785513162612915,0.8625232577323914,0.477649062871933,9.333785057067871,2.0804100036621094,0.6746332049369812,0.3840104341506958,-0.7559748291969299,0.5249822735786438,5.465332984924316,9.769862174987793,6.742060661315918,9.113541603088379,-10.262038230895996,-0.5613111257553101,0.35145488381385803,8.18787956237793,4.257725715637207,7.792312145233154,10.890538215637207,7.712001800537109,-10.202728271484375,9.95047378540039,8.6389741897583,9.342758178710938,9.205288887023926,9.832986831665039,0.8554521203041077,8.142775535583496,0.42391711473464966,0.47011661529541016,-10.149734497070312,7.869519233703613,0.6248440146446228,0.6362265944480896,8.807669639587402,8.216211318969727,8.203775405883789,0.33768877387046814,8.442055702209473,7.858871936798096,0.017867758870124817,8.893939971923828,1.4008835554122925,10.851954460144043,8.42600154876709,2.2571210861206055,8.2314453125,8.882335662841797,9.14776611328125,7.800485610961914,0.7624799013137817,10.767144203186035,10.159730911254883,1.9378045797348022,4.757026672363281,8.966103553771973,7.871201038360596,8.863757133483887,0.63872230052948,2.4672958850860596,7.829540729522705,-0.7900386452674866,1.700714349746704,7.704176425933838,8.399212837219238,8.808503150939941,10.190979957580566,0.7333725690841675,10.430010795593262,7.517935276031494,-10.135315895080566,8.36731243133545,10.908307075500488,6.969730854034424,10.767822265625,0.5574918985366821,-10.209386825561523,-10.1253080368042,2.370145559310913,9.063735961914062,0.2216682732105255,8.98009204864502,-10.044975280761719,12.633199691772461,0.6078281998634338,8.747342109680176,3.008359432220459,7.627244472503662,0.7627149224281311,0.3817068636417389,10.818743705749512,-0.4906570613384247,7.113349914550781,9.171274185180664,2.8973047733306885,7.867504119873047,-0.8506344556808472,-10.207291603088379,0.34968551993370056,0.6223839521408081],\"yaxis\":\"y\",\"type\":\"scatter\"},{\"hovertemplate\":\"color=severe<br>0=%{x}<br>1=%{y}<extra></extra>\",\"legendgroup\":\"severe\",\"marker\":{\"color\":\"#EF553B\",\"symbol\":\"circle\"},\"mode\":\"markers\",\"name\":\"severe\",\"orientation\":\"v\",\"showlegend\":true,\"x\":[7.965244293212891,8.369101524353027,7.787586688995361,9.455952644348145,6.714846611022949,7.81831169128418,8.48176383972168,9.042353630065918,9.649674415588379,11.355914115905762,9.496603965759277,6.737253189086914,8.13949203491211,8.061256408691406,6.8484907150268555,9.629077911376953,8.528440475463867,6.860650539398193,6.9940996170043945,8.37319278717041,8.241781234741211,8.24731159210205,7.810432434082031,8.533945083618164,7.123779296875,9.330158233642578,9.567777633666992,6.686404705047607,9.82847785949707,6.7881669998168945,9.813065528869629,9.54297924041748,8.411774635314941,6.6975297927856445,9.53015422821045,8.457374572753906,9.486211776733398,0.6852083802223206,7.0196919441223145,6.55235481262207,8.326600074768066,9.944612503051758,7.979101657867432,7.484445571899414,6.73737096786499,9.783550262451172,7.883890151977539,9.599665641784668,9.537108421325684,9.059999465942383,8.466166496276855,9.428898811340332,7.023643493652344,8.297175407409668,9.546538352966309,7.779531955718994,8.472286224365234,10.404997825622559,7.668365955352783,9.751171112060547,9.479323387145996,9.394150733947754,6.580888271331787,8.546730041503906,9.605676651000977,9.36216926574707,7.676791191101074,8.90097427368164,9.918066024780273,9.802486419677734,8.996665000915527,9.728361129760742,6.617840766906738,9.030073165893555,8.5384521484375,6.641228199005127,8.531721115112305,6.8338847160339355,7.082064151763916,10.00606918334961,9.08077335357666,8.528037071228027,8.369388580322266,6.955879211425781,7.36501932144165,9.613455772399902,8.66490650177002,7.026735305786133,7.0250563621521,9.702410697937012,7.453696250915527,8.775465965270996,8.360472679138184,9.156820297241211,9.828719139099121,9.544438362121582,7.0263261795043945,9.457609176635742,8.681097030639648,12.113652229309082,7.166687488555908,7.742088317871094,7.420811653137207,6.924010276794434,9.561591148376465,9.61249828338623,7.92756462097168,7.628934860229492,6.62711763381958,9.637818336486816,9.591158866882324,7.2906365394592285,7.086336612701416,9.525619506835938,9.160918235778809,9.624731063842773,7.717085838317871,8.340106964111328,9.285259246826172,9.83582878112793,8.91623592376709,8.53030014038086,8.962630271911621,9.69577407836914,7.681110382080078,8.378652572631836,6.586758136749268,6.9342875480651855,7.20166015625,7.378523826599121,7.965294361114502,9.649612426757812,6.545501232147217,9.874443054199219,7.786282539367676,8.751038551330566,8.523695945739746,6.5922112464904785,8.21893310546875,10.778000831604004,6.915376663208008,9.561919212341309,7.853374004364014,7.410241603851318,8.555621147155762,9.275568962097168,7.283860206604004,9.402883529663086,8.726930618286133,9.6618070602417,8.102499008178711,7.896291255950928,8.222981452941895,9.408777236938477,8.194536209106445,8.301471710205078,9.08325481414795],\"xaxis\":\"x\",\"y\":[0.2428731471300125,9.499775886535645,7.6743292808532715,16.1453914642334,3.6858956813812256,1.0596615076065063,11.053064346313477,13.427305221557617,13.39841365814209,-0.6530455946922302,16.11709976196289,5.00861930847168,9.771697998046875,9.309469223022461,2.3011858463287354,15.129366874694824,10.677888870239258,5.335429668426514,1.6775562763214111,9.455694198608398,9.416897773742676,9.632251739501953,8.814531326293945,10.788018226623535,1.294157862663269,13.207090377807617,15.906899452209473,3.865281343460083,14.004776000976562,5.202503681182861,14.2423677444458,-0.5113928318023682,9.839725494384766,4.582082748413086,16.070919036865234,11.130617141723633,16.1217098236084,7.876467704772949,2.3646628856658936,4.233816146850586,11.15919303894043,13.450738906860352,9.205639839172363,7.491667747497559,3.7061827182769775,14.099494934082031,0.04387817904353142,15.27666187286377,15.444202423095703,12.833613395690918,11.027299880981445,16.19434356689453,2.152175188064575,0.6803261637687683,15.03408432006836,7.64567756652832,0.3441925346851349,-0.8632393479347229,7.900444030761719,0.0306930523365736,14.870758056640625,16.254379272460938,4.165890216827393,11.299012184143066,15.483901977539062,14.289097785949707,6.606526851654053,12.784543991088867,13.46578311920166,15.357926368713379,13.19001579284668,13.944987297058105,4.64884090423584,-0.1489599645137787,9.908600807189941,3.9591526985168457,11.43432903289795,5.115926265716553,2.523116111755371,13.758231163024902,13.534773826599121,11.398455619812012,11.192286491394043,5.422574043273926,6.07960844039917,13.420553207397461,11.616649627685547,1.9806610345840454,1.4374278783798218,14.194615364074707,7.432589054107666,9.44793701171875,10.606505393981934,13.722004890441895,13.88839054107666,14.922632217407227,1.99810791015625,16.17305564880371,9.641539573669434,-0.33204421401023865,5.885862827301025,7.590699672698975,6.52981424331665,4.662639141082764,15.218735694885254,15.093835830688477,7.405766010284424,0.433292031288147,4.65305233001709,15.528938293457031,15.831865310668945,5.957022190093994,5.406533241271973,13.278234481811523,12.96852970123291,15.51588249206543,7.882179260253906,0.9015052914619446,13.12366771697998,13.666895866394043,12.833131790161133,10.858746528625488,-0.3468460738658905,15.187274932861328,8.341700553894043,10.261205673217773,4.076668739318848,2.466545343399048,1.1769964694976807,6.969846248626709,9.1909761428833,13.866658210754395,4.173375606536865,13.845437049865723,6.854891300201416,9.491639137268066,11.32901668548584,4.213863849639893,10.976770401000977,-0.8669238090515137,5.027354717254639,-0.5681028366088867,8.91515064239502,7.370455265045166,11.422472953796387,13.761667251586914,6.045281410217285,16.206764221191406,-0.21283985674381256,15.05249309539795,9.202645301818848,0.2654670178890228,9.60816478729248,14.242891311645508,10.59011173248291,0.34376078844070435,12.89171314239502],\"yaxis\":\"y\",\"type\":\"scatter\"},{\"hovertemplate\":\"color=moderate<br>0=%{x}<br>1=%{y}<extra></extra>\",\"legendgroup\":\"moderate\",\"marker\":{\"color\":\"#00cc96\",\"symbol\":\"circle\"},\"mode\":\"markers\",\"name\":\"moderate\",\"orientation\":\"v\",\"showlegend\":true,\"x\":[12.029257774353027,6.655165672302246,8.78817081451416,8.815295219421387,7.237449645996094,8.019186019897461,7.99111795425415,-1.590713381767273,11.918261528015137,1.5261071920394897,7.8789896965026855,7.805803298950195,8.115699768066406,7.117116451263428,9.946571350097656,-1.8104825019836426,8.265358924865723,12.223034858703613,8.409024238586426,8.340707778930664,8.42396068572998,7.793974876403809,8.757119178771973,-0.773718535900116,10.835359573364258,7.518252849578857,9.795149803161621,8.492241859436035,9.787784576416016,9.937697410583496,7.477897644042969,7.589056015014648,11.913398742675781,8.770852088928223,9.85853385925293,12.901083946228027,8.591781616210938,10.33178997039795,9.4015474319458,11.980937004089355,9.518941879272461,1.5114203691482544,8.198938369750977,6.840778350830078,11.307165145874023,6.869733810424805,8.732270240783691,6.579102516174316,9.680587768554688,10.032626152038574,1.643110990524292,7.119568824768066,8.553937911987305,8.221783638000488,7.860272407531738,8.046853065490723,12.032851219177246,-2.248234748840332,9.076534271240234,9.22424030303955,7.824333667755127,8.902324676513672,10.70937442779541,8.630885124206543,11.969232559204102,8.94945240020752,9.872228622436523,10.149351119995117,7.481471061706543,-0.9644018411636353,8.269905090332031,7.900370121002197,9.509990692138672,11.486554145812988,10.451163291931152,13.427629470825195,8.35743522644043,9.032083511352539,8.424636840820312,0.7377843260765076,9.438640594482422,9.397534370422363,7.265598297119141,7.33151912689209,6.727085113525391,11.809666633605957,8.452305793762207,8.407171249389648,9.250728607177734,9.805375099182129,-0.8329965472221375,8.729289054870605,0.485061913728714,12.11505126953125,13.407724380493164,10.5513916015625,7.998537063598633,10.771876335144043,-1.754982829093933,7.055143356323242,7.2185235023498535,6.932552814483643,7.518493175506592,8.771834373474121,7.927566051483154,7.564028739929199,10.483880996704102,10.698440551757812,-2.300725221633911,12.509909629821777,11.646031379699707,8.617133140563965,8.86622142791748,6.931228160858154,9.996529579162598,7.263339519500732,7.406026363372803,10.479776382446289,12.436890602111816],\"xaxis\":\"x\",\"y\":[0.22216226160526276,4.120168685913086,12.583559036254883,0.7544471025466919,2.631058931350708,7.097539901733398,7.097580432891846,9.823877334594727,-0.14600861072540283,8.353960990905762,1.9943126440048218,1.9798591136932373,0.3406360447406769,1.9713678359985352,0.44756168127059937,10.039298057556152,0.4183213710784912,-0.6359480619430542,0.12312458455562592,1.6252622604370117,0.8503711223602295,6.6708269119262695,9.379585266113281,9.226263046264648,-0.8744920492172241,2.812922477722168,13.429140090942383,9.672018051147461,-0.2534518837928772,0.30106815695762634,7.376176357269287,2.9021899700164795,-0.5145725011825562,9.17703914642334,0.06798169761896133,-0.07462731003761292,0.608196496963501,0.40650177001953125,-0.45495370030403137,0.4810245633125305,-0.6338348388671875,8.399628639221191,9.43991756439209,5.236060619354248,-0.6972672343254089,4.552057266235352,9.408458709716797,4.139759063720703,14.509197235107422,0.5399491190910339,8.338644027709961,5.7380571365356445,9.461356163024902,0.8874610662460327,6.761116027832031,0.14759241044521332,-0.6742060780525208,10.801437377929688,12.898430824279785,-0.4981554448604584,0.2182624489068985,13.031038284301758,-0.7896331548690796,0.8488283157348633,-0.5023861527442932,12.96774959564209,0.10658985376358032,0.55241858959198,2.455273389816284,9.225495338439941,1.6406323909759521,1.8075613975524902,13.276412010192871,-0.43085384368896484,0.642953097820282,0.5705865621566772,0.7229160070419312,12.848159790039062,10.390390396118164,7.922088623046875,-0.5659786462783813,16.217891693115234,5.889583587646484,2.696780204772949,2.7015528678894043,0.4353133738040924,9.340449333190918,0.7455198764801025,-0.41970470547676086,-0.04926031455397606,9.15272331237793,1.2056663036346436,8.530145645141602,-0.27996909618377686,0.33826446533203125,-0.8136659264564514,1.6629869937896729,-0.7673860788345337,9.983757019042969,1.9981921911239624,1.225843071937561,2.301011800765991,6.276198863983154,9.355148315429688,7.46354341506958,2.9426918029785156,-0.8455356359481812,-0.8408218622207642,10.847208023071289,0.36342236399650574,0.2658676505088806,0.8251035213470459,-0.21905852854251862,5.1997575759887695,13.554472923278809,5.6549882888793945,5.909876346588135,-0.8309836387634277,0.4126657545566559],\"yaxis\":\"y\",\"type\":\"scatter\"}],                        {\"template\":{\"data\":{\"histogram2dcontour\":[{\"type\":\"histogram2dcontour\",\"colorbar\":{\"outlinewidth\":0,\"ticks\":\"\"},\"colorscale\":[[0.0,\"#0d0887\"],[0.1111111111111111,\"#46039f\"],[0.2222222222222222,\"#7201a8\"],[0.3333333333333333,\"#9c179e\"],[0.4444444444444444,\"#bd3786\"],[0.5555555555555556,\"#d8576b\"],[0.6666666666666666,\"#ed7953\"],[0.7777777777777778,\"#fb9f3a\"],[0.8888888888888888,\"#fdca26\"],[1.0,\"#f0f921\"]]}],\"choropleth\":[{\"type\":\"choropleth\",\"colorbar\":{\"outlinewidth\":0,\"ticks\":\"\"}}],\"histogram2d\":[{\"type\":\"histogram2d\",\"colorbar\":{\"outlinewidth\":0,\"ticks\":\"\"},\"colorscale\":[[0.0,\"#0d0887\"],[0.1111111111111111,\"#46039f\"],[0.2222222222222222,\"#7201a8\"],[0.3333333333333333,\"#9c179e\"],[0.4444444444444444,\"#bd3786\"],[0.5555555555555556,\"#d8576b\"],[0.6666666666666666,\"#ed7953\"],[0.7777777777777778,\"#fb9f3a\"],[0.8888888888888888,\"#fdca26\"],[1.0,\"#f0f921\"]]}],\"heatmap\":[{\"type\":\"heatmap\",\"colorbar\":{\"outlinewidth\":0,\"ticks\":\"\"},\"colorscale\":[[0.0,\"#0d0887\"],[0.1111111111111111,\"#46039f\"],[0.2222222222222222,\"#7201a8\"],[0.3333333333333333,\"#9c179e\"],[0.4444444444444444,\"#bd3786\"],[0.5555555555555556,\"#d8576b\"],[0.6666666666666666,\"#ed7953\"],[0.7777777777777778,\"#fb9f3a\"],[0.8888888888888888,\"#fdca26\"],[1.0,\"#f0f921\"]]}],\"heatmapgl\":[{\"type\":\"heatmapgl\",\"colorbar\":{\"outlinewidth\":0,\"ticks\":\"\"},\"colorscale\":[[0.0,\"#0d0887\"],[0.1111111111111111,\"#46039f\"],[0.2222222222222222,\"#7201a8\"],[0.3333333333333333,\"#9c179e\"],[0.4444444444444444,\"#bd3786\"],[0.5555555555555556,\"#d8576b\"],[0.6666666666666666,\"#ed7953\"],[0.7777777777777778,\"#fb9f3a\"],[0.8888888888888888,\"#fdca26\"],[1.0,\"#f0f921\"]]}],\"contourcarpet\":[{\"type\":\"contourcarpet\",\"colorbar\":{\"outlinewidth\":0,\"ticks\":\"\"}}],\"contour\":[{\"type\":\"contour\",\"colorbar\":{\"outlinewidth\":0,\"ticks\":\"\"},\"colorscale\":[[0.0,\"#0d0887\"],[0.1111111111111111,\"#46039f\"],[0.2222222222222222,\"#7201a8\"],[0.3333333333333333,\"#9c179e\"],[0.4444444444444444,\"#bd3786\"],[0.5555555555555556,\"#d8576b\"],[0.6666666666666666,\"#ed7953\"],[0.7777777777777778,\"#fb9f3a\"],[0.8888888888888888,\"#fdca26\"],[1.0,\"#f0f921\"]]}],\"surface\":[{\"type\":\"surface\",\"colorbar\":{\"outlinewidth\":0,\"ticks\":\"\"},\"colorscale\":[[0.0,\"#0d0887\"],[0.1111111111111111,\"#46039f\"],[0.2222222222222222,\"#7201a8\"],[0.3333333333333333,\"#9c179e\"],[0.4444444444444444,\"#bd3786\"],[0.5555555555555556,\"#d8576b\"],[0.6666666666666666,\"#ed7953\"],[0.7777777777777778,\"#fb9f3a\"],[0.8888888888888888,\"#fdca26\"],[1.0,\"#f0f921\"]]}],\"mesh3d\":[{\"type\":\"mesh3d\",\"colorbar\":{\"outlinewidth\":0,\"ticks\":\"\"}}],\"scatter\":[{\"fillpattern\":{\"fillmode\":\"overlay\",\"size\":10,\"solidity\":0.2},\"type\":\"scatter\"}],\"parcoords\":[{\"type\":\"parcoords\",\"line\":{\"colorbar\":{\"outlinewidth\":0,\"ticks\":\"\"}}}],\"scatterpolargl\":[{\"type\":\"scatterpolargl\",\"marker\":{\"colorbar\":{\"outlinewidth\":0,\"ticks\":\"\"}}}],\"bar\":[{\"error_x\":{\"color\":\"#2a3f5f\"},\"error_y\":{\"color\":\"#2a3f5f\"},\"marker\":{\"line\":{\"color\":\"#E5ECF6\",\"width\":0.5},\"pattern\":{\"fillmode\":\"overlay\",\"size\":10,\"solidity\":0.2}},\"type\":\"bar\"}],\"scattergeo\":[{\"type\":\"scattergeo\",\"marker\":{\"colorbar\":{\"outlinewidth\":0,\"ticks\":\"\"}}}],\"scatterpolar\":[{\"type\":\"scatterpolar\",\"marker\":{\"colorbar\":{\"outlinewidth\":0,\"ticks\":\"\"}}}],\"histogram\":[{\"marker\":{\"pattern\":{\"fillmode\":\"overlay\",\"size\":10,\"solidity\":0.2}},\"type\":\"histogram\"}],\"scattergl\":[{\"type\":\"scattergl\",\"marker\":{\"colorbar\":{\"outlinewidth\":0,\"ticks\":\"\"}}}],\"scatter3d\":[{\"type\":\"scatter3d\",\"line\":{\"colorbar\":{\"outlinewidth\":0,\"ticks\":\"\"}},\"marker\":{\"colorbar\":{\"outlinewidth\":0,\"ticks\":\"\"}}}],\"scattermapbox\":[{\"type\":\"scattermapbox\",\"marker\":{\"colorbar\":{\"outlinewidth\":0,\"ticks\":\"\"}}}],\"scatterternary\":[{\"type\":\"scatterternary\",\"marker\":{\"colorbar\":{\"outlinewidth\":0,\"ticks\":\"\"}}}],\"scattercarpet\":[{\"type\":\"scattercarpet\",\"marker\":{\"colorbar\":{\"outlinewidth\":0,\"ticks\":\"\"}}}],\"carpet\":[{\"aaxis\":{\"endlinecolor\":\"#2a3f5f\",\"gridcolor\":\"white\",\"linecolor\":\"white\",\"minorgridcolor\":\"white\",\"startlinecolor\":\"#2a3f5f\"},\"baxis\":{\"endlinecolor\":\"#2a3f5f\",\"gridcolor\":\"white\",\"linecolor\":\"white\",\"minorgridcolor\":\"white\",\"startlinecolor\":\"#2a3f5f\"},\"type\":\"carpet\"}],\"table\":[{\"cells\":{\"fill\":{\"color\":\"#EBF0F8\"},\"line\":{\"color\":\"white\"}},\"header\":{\"fill\":{\"color\":\"#C8D4E3\"},\"line\":{\"color\":\"white\"}},\"type\":\"table\"}],\"barpolar\":[{\"marker\":{\"line\":{\"color\":\"#E5ECF6\",\"width\":0.5},\"pattern\":{\"fillmode\":\"overlay\",\"size\":10,\"solidity\":0.2}},\"type\":\"barpolar\"}],\"pie\":[{\"automargin\":true,\"type\":\"pie\"}]},\"layout\":{\"autotypenumbers\":\"strict\",\"colorway\":[\"#636efa\",\"#EF553B\",\"#00cc96\",\"#ab63fa\",\"#FFA15A\",\"#19d3f3\",\"#FF6692\",\"#B6E880\",\"#FF97FF\",\"#FECB52\"],\"font\":{\"color\":\"#2a3f5f\"},\"hovermode\":\"closest\",\"hoverlabel\":{\"align\":\"left\"},\"paper_bgcolor\":\"white\",\"plot_bgcolor\":\"#E5ECF6\",\"polar\":{\"bgcolor\":\"#E5ECF6\",\"angularaxis\":{\"gridcolor\":\"white\",\"linecolor\":\"white\",\"ticks\":\"\"},\"radialaxis\":{\"gridcolor\":\"white\",\"linecolor\":\"white\",\"ticks\":\"\"}},\"ternary\":{\"bgcolor\":\"#E5ECF6\",\"aaxis\":{\"gridcolor\":\"white\",\"linecolor\":\"white\",\"ticks\":\"\"},\"baxis\":{\"gridcolor\":\"white\",\"linecolor\":\"white\",\"ticks\":\"\"},\"caxis\":{\"gridcolor\":\"white\",\"linecolor\":\"white\",\"ticks\":\"\"}},\"coloraxis\":{\"colorbar\":{\"outlinewidth\":0,\"ticks\":\"\"}},\"colorscale\":{\"sequential\":[[0.0,\"#0d0887\"],[0.1111111111111111,\"#46039f\"],[0.2222222222222222,\"#7201a8\"],[0.3333333333333333,\"#9c179e\"],[0.4444444444444444,\"#bd3786\"],[0.5555555555555556,\"#d8576b\"],[0.6666666666666666,\"#ed7953\"],[0.7777777777777778,\"#fb9f3a\"],[0.8888888888888888,\"#fdca26\"],[1.0,\"#f0f921\"]],\"sequentialminus\":[[0.0,\"#0d0887\"],[0.1111111111111111,\"#46039f\"],[0.2222222222222222,\"#7201a8\"],[0.3333333333333333,\"#9c179e\"],[0.4444444444444444,\"#bd3786\"],[0.5555555555555556,\"#d8576b\"],[0.6666666666666666,\"#ed7953\"],[0.7777777777777778,\"#fb9f3a\"],[0.8888888888888888,\"#fdca26\"],[1.0,\"#f0f921\"]],\"diverging\":[[0,\"#8e0152\"],[0.1,\"#c51b7d\"],[0.2,\"#de77ae\"],[0.3,\"#f1b6da\"],[0.4,\"#fde0ef\"],[0.5,\"#f7f7f7\"],[0.6,\"#e6f5d0\"],[0.7,\"#b8e186\"],[0.8,\"#7fbc41\"],[0.9,\"#4d9221\"],[1,\"#276419\"]]},\"xaxis\":{\"gridcolor\":\"white\",\"linecolor\":\"white\",\"ticks\":\"\",\"title\":{\"standoff\":15},\"zerolinecolor\":\"white\",\"automargin\":true,\"zerolinewidth\":2},\"yaxis\":{\"gridcolor\":\"white\",\"linecolor\":\"white\",\"ticks\":\"\",\"title\":{\"standoff\":15},\"zerolinecolor\":\"white\",\"automargin\":true,\"zerolinewidth\":2},\"scene\":{\"xaxis\":{\"backgroundcolor\":\"#E5ECF6\",\"gridcolor\":\"white\",\"linecolor\":\"white\",\"showbackground\":true,\"ticks\":\"\",\"zerolinecolor\":\"white\",\"gridwidth\":2},\"yaxis\":{\"backgroundcolor\":\"#E5ECF6\",\"gridcolor\":\"white\",\"linecolor\":\"white\",\"showbackground\":true,\"ticks\":\"\",\"zerolinecolor\":\"white\",\"gridwidth\":2},\"zaxis\":{\"backgroundcolor\":\"#E5ECF6\",\"gridcolor\":\"white\",\"linecolor\":\"white\",\"showbackground\":true,\"ticks\":\"\",\"zerolinecolor\":\"white\",\"gridwidth\":2}},\"shapedefaults\":{\"line\":{\"color\":\"#2a3f5f\"}},\"annotationdefaults\":{\"arrowcolor\":\"#2a3f5f\",\"arrowhead\":0,\"arrowwidth\":1},\"geo\":{\"bgcolor\":\"white\",\"landcolor\":\"#E5ECF6\",\"subunitcolor\":\"white\",\"showland\":true,\"showlakes\":true,\"lakecolor\":\"white\"},\"title\":{\"x\":0.05},\"mapbox\":{\"style\":\"light\"}}},\"xaxis\":{\"anchor\":\"y\",\"domain\":[0.0,1.0],\"title\":{\"text\":\"0\"}},\"yaxis\":{\"anchor\":\"x\",\"domain\":[0.0,1.0],\"title\":{\"text\":\"1\"}},\"legend\":{\"title\":{\"text\":\"color\"},\"tracegroupgap\":0},\"margin\":{\"t\":60}},                        {\"responsive\": true}                    ).then(function(){\n",
              "                            \n",
              "var gd = document.getElementById('e93963cc-931b-46cf-a53e-282eb719e0c0');\n",
              "var x = new MutationObserver(function (mutations, observer) {{\n",
              "        var display = window.getComputedStyle(gd).display;\n",
              "        if (!display || display === 'none') {{\n",
              "            console.log([gd, 'removed!']);\n",
              "            Plotly.purge(gd);\n",
              "            observer.disconnect();\n",
              "        }}\n",
              "}});\n",
              "\n",
              "// Listen for the removal of the full notebook cells\n",
              "var notebookContainer = gd.closest('#notebook-container');\n",
              "if (notebookContainer) {{\n",
              "    x.observe(notebookContainer, {childList: true});\n",
              "}}\n",
              "\n",
              "// Listen for the clearing of the current output cell\n",
              "var outputEl = gd.closest('.output');\n",
              "if (outputEl) {{\n",
              "    x.observe(outputEl, {childList: true});\n",
              "}}\n",
              "\n",
              "                        })                };                            </script>        </div>\n",
              "</body>\n",
              "</html>"
            ]
          },
          "metadata": {}
        }
      ]
    },
    {
      "cell_type": "code",
      "source": [
        "type(df)"
      ],
      "metadata": {
        "colab": {
          "base_uri": "https://localhost:8080/"
        },
        "id": "OwISD0sejtBd",
        "outputId": "8a109861-bec6-4dac-836d-c8ee1248c20d"
      },
      "execution_count": null,
      "outputs": [
        {
          "output_type": "execute_result",
          "data": {
            "text/plain": [
              "pandas.core.frame.DataFrame"
            ]
          },
          "metadata": {},
          "execution_count": 51
        }
      ]
    },
    {
      "cell_type": "code",
      "source": [
        "type(X_for_ML_GLCM)"
      ],
      "metadata": {
        "id": "ubazp6Pm7ehP",
        "colab": {
          "base_uri": "https://localhost:8080/"
        },
        "outputId": "6e5c62f0-a445-4dc2-ddcd-e1781c3cf4c5"
      },
      "execution_count": null,
      "outputs": [
        {
          "output_type": "execute_result",
          "data": {
            "text/plain": [
              "pandas.core.frame.DataFrame"
            ]
          },
          "metadata": {},
          "execution_count": 52
        }
      ]
    },
    {
      "cell_type": "code",
      "source": [
        "# from mlxtend.plotting import plot_decision_regions\n",
        " \n",
        "# X_combined = np.vstack((X_train, X_test))\n",
        "# y_combined = np.hstack((y_train, y_test))\n",
        " \n",
        "# #\n",
        "# # plot_decision_regions function takes \"forest\" as classifier\n",
        "# #\n",
        "# fig, ax = plt.subplots(figsize=(7, 7))\n",
        "# plot_decision_regions(X_combined, y_combined, clf=forest)\n",
        "# plt.xlabel('petal length [cm]')\n",
        "# plt.ylabel('petal width [cm]')\n",
        "# plt.legend(loc='upper left')\n",
        "# plt.tight_layout()\n",
        "# plt.show()"
      ],
      "metadata": {
        "id": "Wjg9ERKD7erG"
      },
      "execution_count": null,
      "outputs": []
    },
    {
      "cell_type": "code",
      "source": [],
      "metadata": {
        "id": "MFJ6ZSnp7fRv"
      },
      "execution_count": null,
      "outputs": []
    },
    {
      "cell_type": "code",
      "source": [
        "# FEATURE EXTRACTOR function\n",
        "# input shape is (n, x, y, c) - number of images, x, y, and channels\n",
        "def feature_extractor(dataset):\n",
        "    x_train = dataset\n",
        "    image_dataset = pd.DataFrame()\n",
        "    for image in range(x_train.shape[0]):  #Iterating through each file \n",
        "        \n",
        "        df = pd.DataFrame()  #Temporary data frame to capture information for each loop.\n",
        "        \n",
        "        input_img = x_train[image, :,:]\n",
        "        img = input_img\n",
        "\n",
        "         # FEATURE 1 - Pixel values         \n",
        "        #Adding pixel values to the data frame\n",
        "        pixel_values = img.reshape(-1)\n",
        "        df['Pixel_Value'] = pixel_values  \n",
        "        # FEATURE 2 - Bunch of Gabor filter responses\n",
        "        #Generating Gabor features\n",
        "        num = 1 \n",
        "        kernels = []\n",
        "        for theta in range(2):   #Defining number of thetas\n",
        "            theta = theta / 4. * np.pi\n",
        "            for sigma in (1,3):  #Sigma with 1 and 3\n",
        "                #lamda = np.pi/4\n",
        "               for lamda in np.arange(0, np.pi, np.pi/6):   #Range of wavelengths\n",
        "                      gamma = 1\n",
        "                    # for gamma in (0.05, 0.5):   #Gamma values of 0.05 and 0.5            \n",
        "                      gabor_label = 'Gabor' + str(num)  #Labelling Gabor columns as Gabor1, Gabor2, etc.\n",
        "                      ksize=10\n",
        "                      kernel = cv2.getGaborKernel((ksize, ksize), sigma, theta, lamda, gamma, 0, ktype=cv2.CV_32F)    \n",
        "                      kernels.append(kernel)\n",
        "\n",
        "                      fimg = cv2.filter2D(img, cv2.CV_8UC3, kernel)\n",
        "                      filtered_img = fimg.reshape(-1)\n",
        "                      df[gabor_label] = filtered_img  #Labeling columns as Gabor1, Gabor2, etc.\n",
        "                      num += 1  #Iterate all over\n",
        "        # #Generate Gabor features\n",
        "        # num = 1  #To count numbers up in order to give Gabor features a lable in the data frame\n",
        "        # kernels = []  #Create empty list to hold all kernels that we will generate in a loop\n",
        "        # for theta in range(2):   #Define number of thetas. Here only 2 theta values 0 and 1/4 . pi \n",
        "        #     theta = theta / 4. * np.pi\n",
        "        #     for sigma in (1, 3):  #Sigma with values of 1 and 3\n",
        "        #         for lamda in np.arange(0, np.pi, np.pi / 4):   #Range of wavelengths\n",
        "        #             for gamma in (0.05, 0.5):   #Gamma values of 0.05 and 0.5\n",
        "                                  \n",
        "        #                 gabor_label = 'Gabor' + str(num)  #Label Gabor columns as Gabor1, Gabor2, etc.\n",
        "        #                 ksize=9\n",
        "        #                 kernel = cv2.getGaborKernel((ksize, ksize), sigma, theta, lamda, gamma, 0, ktype=cv2.CV_32F)    \n",
        "        #                 kernels.append(kernel)\n",
        "        #                 #Now filter the image and add values to a new column \n",
        "        #                 fimg = cv2.filter2D(img, cv2.CV_8UC3, kernel)\n",
        "        #                 filtered_img = fimg.reshape(-1)\n",
        "        #                 df[gabor_label] = filtered_img  #Labels columns as Gabor1, Gabor2, etc.\n",
        "        #                 num += 1  #Increment for gabor column label\n",
        "        \n",
        "        #Append features from current image to the dataset\n",
        "        image_dataset= pd.concat([image_dataset, df], axis=0)\n",
        "        \n",
        "    return image_dataset"
      ],
      "metadata": {
        "id": "QOsB8MDIxO1_"
      },
      "execution_count": null,
      "outputs": []
    },
    {
      "cell_type": "code",
      "source": [
        "# Normalizing pixel values to between 0 and 1\n",
        "x_train,x_val = x_train / 255.0,x_val / 255.0"
      ],
      "metadata": {
        "id": "UPN9uGfVxO42"
      },
      "execution_count": null,
      "outputs": []
    },
    {
      "cell_type": "code",
      "source": [
        "x_train"
      ],
      "metadata": {
        "id": "ujQgkmAoxO7s",
        "colab": {
          "base_uri": "https://localhost:8080/"
        },
        "outputId": "e2a47a20-5aa7-42f5-fb68-d765616cd9c8"
      },
      "execution_count": null,
      "outputs": [
        {
          "output_type": "execute_result",
          "data": {
            "text/plain": [
              "array([[[0.75686275, 0.76862745, 0.76078431, ..., 0.98823529,\n",
              "         0.98039216, 0.99215686],\n",
              "        [0.76862745, 0.77647059, 0.76862745, ..., 0.87843137,\n",
              "         0.92156863, 0.94901961],\n",
              "        [0.76862745, 0.78039216, 0.77647059, ..., 0.65882353,\n",
              "         0.6745098 , 0.70980392],\n",
              "        ...,\n",
              "        [0.09411765, 0.09411765, 0.09411765, ..., 0.18823529,\n",
              "         0.18823529, 0.18823529],\n",
              "        [0.09019608, 0.09411765, 0.09803922, ..., 0.19607843,\n",
              "         0.19607843, 0.19607843],\n",
              "        [0.09019608, 0.09411765, 0.09803922, ..., 0.19607843,\n",
              "         0.19607843, 0.2       ]],\n",
              "\n",
              "       [[0.50980392, 0.52156863, 0.50588235, ..., 0.60784314,\n",
              "         0.61960784, 0.58431373],\n",
              "        [0.50980392, 0.50588235, 0.47843137, ..., 0.61568627,\n",
              "         0.61960784, 0.58039216],\n",
              "        [0.52156863, 0.50196078, 0.46666667, ..., 0.62352941,\n",
              "         0.61960784, 0.55686275],\n",
              "        ...,\n",
              "        [0.56470588, 0.57254902, 0.58823529, ..., 0.61176471,\n",
              "         0.6       , 0.58823529],\n",
              "        [0.55294118, 0.55686275, 0.58039216, ..., 0.60784314,\n",
              "         0.59607843, 0.58823529],\n",
              "        [0.54509804, 0.55686275, 0.57254902, ..., 0.60392157,\n",
              "         0.59607843, 0.58823529]],\n",
              "\n",
              "       [[1.        , 1.        , 1.        , ..., 1.        ,\n",
              "         1.        , 1.        ],\n",
              "        [1.        , 1.        , 1.        , ..., 1.        ,\n",
              "         1.        , 1.        ],\n",
              "        [1.        , 1.        , 1.        , ..., 1.        ,\n",
              "         1.        , 1.        ],\n",
              "        ...,\n",
              "        [0.99215686, 0.99607843, 0.98431373, ..., 1.        ,\n",
              "         1.        , 1.        ],\n",
              "        [0.99215686, 0.99607843, 1.        , ..., 1.        ,\n",
              "         1.        , 1.        ],\n",
              "        [1.        , 1.        , 1.        , ..., 1.        ,\n",
              "         1.        , 1.        ]],\n",
              "\n",
              "       ...,\n",
              "\n",
              "       [[0.74901961, 0.88235294, 0.89803922, ..., 0.65882353,\n",
              "         0.67843137, 0.69019608],\n",
              "        [0.75294118, 0.88235294, 0.89803922, ..., 0.65882353,\n",
              "         0.6745098 , 0.69019608],\n",
              "        [0.74901961, 0.88235294, 0.89803922, ..., 0.65490196,\n",
              "         0.67058824, 0.68627451],\n",
              "        ...,\n",
              "        [0.43137255, 0.7254902 , 0.65490196, ..., 0.55686275,\n",
              "         0.56470588, 0.51764706],\n",
              "        [0.48627451, 0.60392157, 0.61568627, ..., 0.56862745,\n",
              "         0.58823529, 0.52156863],\n",
              "        [0.4745098 , 0.56862745, 0.59607843, ..., 0.57254902,\n",
              "         0.60784314, 0.50980392]],\n",
              "\n",
              "       [[0.        , 0.        , 0.        , ..., 0.45098039,\n",
              "         0.43529412, 0.42745098],\n",
              "        [0.        , 0.        , 0.        , ..., 0.45882353,\n",
              "         0.44705882, 0.43529412],\n",
              "        [0.        , 0.        , 0.        , ..., 0.47058824,\n",
              "         0.45882353, 0.45490196],\n",
              "        ...,\n",
              "        [0.12156863, 0.1254902 , 0.13333333, ..., 0.29411765,\n",
              "         0.26666667, 0.26666667],\n",
              "        [0.1254902 , 0.1254902 , 0.13333333, ..., 0.28235294,\n",
              "         0.27843137, 0.26666667],\n",
              "        [0.11764706, 0.1254902 , 0.13333333, ..., 0.31764706,\n",
              "         0.25490196, 0.26666667]],\n",
              "\n",
              "       [[0.27058824, 0.23921569, 0.20784314, ..., 0.54901961,\n",
              "         0.54117647, 0.51764706],\n",
              "        [0.28627451, 0.20392157, 0.18823529, ..., 0.49019608,\n",
              "         0.48235294, 0.47058824],\n",
              "        [0.51372549, 0.51372549, 0.50196078, ..., 0.47843137,\n",
              "         0.47843137, 0.45490196],\n",
              "        ...,\n",
              "        [0.50980392, 0.60392157, 0.61568627, ..., 0.47843137,\n",
              "         0.44705882, 0.41568627],\n",
              "        [0.5372549 , 0.57254902, 0.60392157, ..., 0.49411765,\n",
              "         0.40784314, 0.39215686],\n",
              "        [0.61960784, 0.64313725, 0.68235294, ..., 0.50196078,\n",
              "         0.46666667, 0.44313725]]])"
            ]
          },
          "metadata": {},
          "execution_count": 61
        }
      ]
    },
    {
      "cell_type": "code",
      "source": [
        "#Extracting features\n",
        "image_features = feature_extractor(x_train)"
      ],
      "metadata": {
        "id": "O6cIKyp2xO-n"
      },
      "execution_count": null,
      "outputs": []
    },
    {
      "cell_type": "code",
      "source": [
        "image_features.shape"
      ],
      "metadata": {
        "colab": {
          "base_uri": "https://localhost:8080/"
        },
        "id": "mj2EQrFBxPBb",
        "outputId": "962c4369-7614-4aed-c42e-ed7b3bf0145f"
      },
      "execution_count": null,
      "outputs": [
        {
          "output_type": "execute_result",
          "data": {
            "text/plain": [
              "(15859712, 25)"
            ]
          },
          "metadata": {},
          "execution_count": 63
        }
      ]
    },
    {
      "cell_type": "code",
      "source": [
        "#Reshaping to a vector for ML training\n",
        "n_features = image_features.shape[1]\n",
        "image_features = np.expand_dims(image_features, axis=0)\n",
        "X_for_RF_GABOR = np.reshape(image_features, (x_train.shape[0], -1))  #Reshape to #images, features"
      ],
      "metadata": {
        "id": "NpkGf3iexPES"
      },
      "execution_count": null,
      "outputs": []
    },
    {
      "cell_type": "code",
      "source": [
        "RF_model.fit(X_for_RF_GABOR, y_train) #For sklearn no one hot encoding"
      ],
      "metadata": {
        "colab": {
          "base_uri": "https://localhost:8080/",
          "height": 74
        },
        "id": "HmArCtLBziaP",
        "outputId": "3994557d-c4cd-4197-d2c1-70cd5e8bc017"
      },
      "execution_count": null,
      "outputs": [
        {
          "output_type": "execute_result",
          "data": {
            "text/plain": [
              "RandomForestClassifier(n_estimators=50, random_state=42)"
            ],
            "text/html": [
              "<style>#sk-container-id-4 {color: black;background-color: white;}#sk-container-id-4 pre{padding: 0;}#sk-container-id-4 div.sk-toggleable {background-color: white;}#sk-container-id-4 label.sk-toggleable__label {cursor: pointer;display: block;width: 100%;margin-bottom: 0;padding: 0.3em;box-sizing: border-box;text-align: center;}#sk-container-id-4 label.sk-toggleable__label-arrow:before {content: \"▸\";float: left;margin-right: 0.25em;color: #696969;}#sk-container-id-4 label.sk-toggleable__label-arrow:hover:before {color: black;}#sk-container-id-4 div.sk-estimator:hover label.sk-toggleable__label-arrow:before {color: black;}#sk-container-id-4 div.sk-toggleable__content {max-height: 0;max-width: 0;overflow: hidden;text-align: left;background-color: #f0f8ff;}#sk-container-id-4 div.sk-toggleable__content pre {margin: 0.2em;color: black;border-radius: 0.25em;background-color: #f0f8ff;}#sk-container-id-4 input.sk-toggleable__control:checked~div.sk-toggleable__content {max-height: 200px;max-width: 100%;overflow: auto;}#sk-container-id-4 input.sk-toggleable__control:checked~label.sk-toggleable__label-arrow:before {content: \"▾\";}#sk-container-id-4 div.sk-estimator input.sk-toggleable__control:checked~label.sk-toggleable__label {background-color: #d4ebff;}#sk-container-id-4 div.sk-label input.sk-toggleable__control:checked~label.sk-toggleable__label {background-color: #d4ebff;}#sk-container-id-4 input.sk-hidden--visually {border: 0;clip: rect(1px 1px 1px 1px);clip: rect(1px, 1px, 1px, 1px);height: 1px;margin: -1px;overflow: hidden;padding: 0;position: absolute;width: 1px;}#sk-container-id-4 div.sk-estimator {font-family: monospace;background-color: #f0f8ff;border: 1px dotted black;border-radius: 0.25em;box-sizing: border-box;margin-bottom: 0.5em;}#sk-container-id-4 div.sk-estimator:hover {background-color: #d4ebff;}#sk-container-id-4 div.sk-parallel-item::after {content: \"\";width: 100%;border-bottom: 1px solid gray;flex-grow: 1;}#sk-container-id-4 div.sk-label:hover label.sk-toggleable__label {background-color: #d4ebff;}#sk-container-id-4 div.sk-serial::before {content: \"\";position: absolute;border-left: 1px solid gray;box-sizing: border-box;top: 0;bottom: 0;left: 50%;z-index: 0;}#sk-container-id-4 div.sk-serial {display: flex;flex-direction: column;align-items: center;background-color: white;padding-right: 0.2em;padding-left: 0.2em;position: relative;}#sk-container-id-4 div.sk-item {position: relative;z-index: 1;}#sk-container-id-4 div.sk-parallel {display: flex;align-items: stretch;justify-content: center;background-color: white;position: relative;}#sk-container-id-4 div.sk-item::before, #sk-container-id-4 div.sk-parallel-item::before {content: \"\";position: absolute;border-left: 1px solid gray;box-sizing: border-box;top: 0;bottom: 0;left: 50%;z-index: -1;}#sk-container-id-4 div.sk-parallel-item {display: flex;flex-direction: column;z-index: 1;position: relative;background-color: white;}#sk-container-id-4 div.sk-parallel-item:first-child::after {align-self: flex-end;width: 50%;}#sk-container-id-4 div.sk-parallel-item:last-child::after {align-self: flex-start;width: 50%;}#sk-container-id-4 div.sk-parallel-item:only-child::after {width: 0;}#sk-container-id-4 div.sk-dashed-wrapped {border: 1px dashed gray;margin: 0 0.4em 0.5em 0.4em;box-sizing: border-box;padding-bottom: 0.4em;background-color: white;}#sk-container-id-4 div.sk-label label {font-family: monospace;font-weight: bold;display: inline-block;line-height: 1.2em;}#sk-container-id-4 div.sk-label-container {text-align: center;}#sk-container-id-4 div.sk-container {/* jupyter's `normalize.less` sets `[hidden] { display: none; }` but bootstrap.min.css set `[hidden] { display: none !important; }` so we also need the `!important` here to be able to override the default hidden behavior on the sphinx rendered scikit-learn.org. See: https://github.com/scikit-learn/scikit-learn/issues/21755 */display: inline-block !important;position: relative;}#sk-container-id-4 div.sk-text-repr-fallback {display: none;}</style><div id=\"sk-container-id-4\" class=\"sk-top-container\"><div class=\"sk-text-repr-fallback\"><pre>RandomForestClassifier(n_estimators=50, random_state=42)</pre><b>In a Jupyter environment, please rerun this cell to show the HTML representation or trust the notebook. <br />On GitHub, the HTML representation is unable to render, please try loading this page with nbviewer.org.</b></div><div class=\"sk-container\" hidden><div class=\"sk-item\"><div class=\"sk-estimator sk-toggleable\"><input class=\"sk-toggleable__control sk-hidden--visually\" id=\"sk-estimator-id-6\" type=\"checkbox\" checked><label for=\"sk-estimator-id-6\" class=\"sk-toggleable__label sk-toggleable__label-arrow\">RandomForestClassifier</label><div class=\"sk-toggleable__content\"><pre>RandomForestClassifier(n_estimators=50, random_state=42)</pre></div></div></div></div></div>"
            ]
          },
          "metadata": {},
          "execution_count": 65
        }
      ]
    },
    {
      "cell_type": "code",
      "source": [
        "#Predict on val data\n",
        "#Extract features from val data and reshape, just like training data\n",
        "val_features = feature_extractor(x_val)\n",
        "val_features = np.expand_dims(val_features, axis=0)\n",
        "val_for_RF = np.reshape(val_features, (x_val.shape[0], -1))\n",
        "\n",
        "#Predict on val\n",
        "val_prediction = RF_model.predict(val_for_RF)\n",
        "#Inverse le transform to get original label back. \n",
        "val_prediction = le.inverse_transform(val_prediction)\n",
        "y_val_labels= le.inverse_transform(y_val)\n",
        "\n",
        "#Print overall accuracy\n",
        "from sklearn import metrics\n",
        "print (\"Accuracy = \", metrics.accuracy_score(y_val_labels, val_prediction))"
      ],
      "metadata": {
        "colab": {
          "base_uri": "https://localhost:8080/"
        },
        "id": "-IPKAgWqzrB9",
        "outputId": "19e071df-452e-43cf-8ace-8ebe4e15e6b1"
      },
      "execution_count": null,
      "outputs": [
        {
          "output_type": "stream",
          "name": "stdout",
          "text": [
            "Accuracy =  0.4819277108433735\n"
          ]
        }
      ]
    },
    {
      "cell_type": "code",
      "source": [
        "print (\"Accuracy = \", metrics.accuracy_score(y_val_labels, val_prediction))\n",
        "from sklearn.metrics import classification_report\n",
        "print (\"Accuracy = \", classification_report(y_val_labels, val_prediction))"
      ],
      "metadata": {
        "colab": {
          "base_uri": "https://localhost:8080/"
        },
        "id": "JERtGESLz3YO",
        "outputId": "35d37ef3-cdb4-4549-fe30-f94bc76d6a09"
      },
      "execution_count": null,
      "outputs": [
        {
          "output_type": "stream",
          "name": "stdout",
          "text": [
            "Accuracy =  0.4819277108433735\n",
            "Accuracy =                precision    recall  f1-score   support\n",
            "\n",
            "       minor       0.57      0.55      0.56       138\n",
            "    moderate       0.39      0.40      0.40       134\n",
            "      severe       0.49      0.49      0.49       143\n",
            "\n",
            "    accuracy                           0.48       415\n",
            "   macro avg       0.48      0.48      0.48       415\n",
            "weighted avg       0.48      0.48      0.48       415\n",
            "\n"
          ]
        }
      ]
    },
    {
      "cell_type": "code",
      "source": [
        "#Print confusion matrix\n",
        "from sklearn.metrics import confusion_matrix\n",
        "cm = confusion_matrix(y_val_labels, val_prediction)\n",
        "\n",
        "fig, ax = plt.subplots(figsize=(5,5))        \n",
        "sns.set(font_scale=1.6)\n",
        "sns.heatmap(cm, annot=True, ax=ax)"
      ],
      "metadata": {
        "colab": {
          "base_uri": "https://localhost:8080/",
          "height": 476
        },
        "id": "Qn2_80Quz3bN",
        "outputId": "ca7ec221-77bd-4fab-a362-7f57cc28854a"
      },
      "execution_count": null,
      "outputs": [
        {
          "output_type": "execute_result",
          "data": {
            "text/plain": [
              "<Axes: >"
            ]
          },
          "metadata": {},
          "execution_count": 68
        },
        {
          "output_type": "display_data",
          "data": {
            "text/plain": [
              "<Figure size 500x500 with 2 Axes>"
            ],
            "image/png": "[encoded data removed]"
          },
          "metadata": {}
        }
      ]
    },
    {
      "cell_type": "code",
      "source": [
        "best_grid.fit(X_for_RF_GABOR, y_train)"
      ],
      "metadata": {
        "colab": {
          "base_uri": "https://localhost:8080/",
          "height": 74
        },
        "id": "tCF8X8Psz3eF",
        "outputId": "48c2305f-ac79-4222-eac4-5342866469a1"
      },
      "execution_count": null,
      "outputs": [
        {
          "output_type": "execute_result",
          "data": {
            "text/plain": [
              "RandomForestClassifier(max_depth=110, min_samples_leaf=2, min_samples_split=10)"
            ],
            "text/html": [
              "<style>#sk-container-id-5 {color: black;background-color: white;}#sk-container-id-5 pre{padding: 0;}#sk-container-id-5 div.sk-toggleable {background-color: white;}#sk-container-id-5 label.sk-toggleable__label {cursor: pointer;display: block;width: 100%;margin-bottom: 0;padding: 0.3em;box-sizing: border-box;text-align: center;}#sk-container-id-5 label.sk-toggleable__label-arrow:before {content: \"▸\";float: left;margin-right: 0.25em;color: #696969;}#sk-container-id-5 label.sk-toggleable__label-arrow:hover:before {color: black;}#sk-container-id-5 div.sk-estimator:hover label.sk-toggleable__label-arrow:before {color: black;}#sk-container-id-5 div.sk-toggleable__content {max-height: 0;max-width: 0;overflow: hidden;text-align: left;background-color: #f0f8ff;}#sk-container-id-5 div.sk-toggleable__content pre {margin: 0.2em;color: black;border-radius: 0.25em;background-color: #f0f8ff;}#sk-container-id-5 input.sk-toggleable__control:checked~div.sk-toggleable__content {max-height: 200px;max-width: 100%;overflow: auto;}#sk-container-id-5 input.sk-toggleable__control:checked~label.sk-toggleable__label-arrow:before {content: \"▾\";}#sk-container-id-5 div.sk-estimator input.sk-toggleable__control:checked~label.sk-toggleable__label {background-color: #d4ebff;}#sk-container-id-5 div.sk-label input.sk-toggleable__control:checked~label.sk-toggleable__label {background-color: #d4ebff;}#sk-container-id-5 input.sk-hidden--visually {border: 0;clip: rect(1px 1px 1px 1px);clip: rect(1px, 1px, 1px, 1px);height: 1px;margin: -1px;overflow: hidden;padding: 0;position: absolute;width: 1px;}#sk-container-id-5 div.sk-estimator {font-family: monospace;background-color: #f0f8ff;border: 1px dotted black;border-radius: 0.25em;box-sizing: border-box;margin-bottom: 0.5em;}#sk-container-id-5 div.sk-estimator:hover {background-color: #d4ebff;}#sk-container-id-5 div.sk-parallel-item::after {content: \"\";width: 100%;border-bottom: 1px solid gray;flex-grow: 1;}#sk-container-id-5 div.sk-label:hover label.sk-toggleable__label {background-color: #d4ebff;}#sk-container-id-5 div.sk-serial::before {content: \"\";position: absolute;border-left: 1px solid gray;box-sizing: border-box;top: 0;bottom: 0;left: 50%;z-index: 0;}#sk-container-id-5 div.sk-serial {display: flex;flex-direction: column;align-items: center;background-color: white;padding-right: 0.2em;padding-left: 0.2em;position: relative;}#sk-container-id-5 div.sk-item {position: relative;z-index: 1;}#sk-container-id-5 div.sk-parallel {display: flex;align-items: stretch;justify-content: center;background-color: white;position: relative;}#sk-container-id-5 div.sk-item::before, #sk-container-id-5 div.sk-parallel-item::before {content: \"\";position: absolute;border-left: 1px solid gray;box-sizing: border-box;top: 0;bottom: 0;left: 50%;z-index: -1;}#sk-container-id-5 div.sk-parallel-item {display: flex;flex-direction: column;z-index: 1;position: relative;background-color: white;}#sk-container-id-5 div.sk-parallel-item:first-child::after {align-self: flex-end;width: 50%;}#sk-container-id-5 div.sk-parallel-item:last-child::after {align-self: flex-start;width: 50%;}#sk-container-id-5 div.sk-parallel-item:only-child::after {width: 0;}#sk-container-id-5 div.sk-dashed-wrapped {border: 1px dashed gray;margin: 0 0.4em 0.5em 0.4em;box-sizing: border-box;padding-bottom: 0.4em;background-color: white;}#sk-container-id-5 div.sk-label label {font-family: monospace;font-weight: bold;display: inline-block;line-height: 1.2em;}#sk-container-id-5 div.sk-label-container {text-align: center;}#sk-container-id-5 div.sk-container {/* jupyter's `normalize.less` sets `[hidden] { display: none; }` but bootstrap.min.css set `[hidden] { display: none !important; }` so we also need the `!important` here to be able to override the default hidden behavior on the sphinx rendered scikit-learn.org. See: https://github.com/scikit-learn/scikit-learn/issues/21755 */display: inline-block !important;position: relative;}#sk-container-id-5 div.sk-text-repr-fallback {display: none;}</style><div id=\"sk-container-id-5\" class=\"sk-top-container\"><div class=\"sk-text-repr-fallback\"><pre>RandomForestClassifier(max_depth=110, min_samples_leaf=2, min_samples_split=10)</pre><b>In a Jupyter environment, please rerun this cell to show the HTML representation or trust the notebook. <br />On GitHub, the HTML representation is unable to render, please try loading this page with nbviewer.org.</b></div><div class=\"sk-container\" hidden><div class=\"sk-item\"><div class=\"sk-estimator sk-toggleable\"><input class=\"sk-toggleable__control sk-hidden--visually\" id=\"sk-estimator-id-7\" type=\"checkbox\" checked><label for=\"sk-estimator-id-7\" class=\"sk-toggleable__label sk-toggleable__label-arrow\">RandomForestClassifier</label><div class=\"sk-toggleable__content\"><pre>RandomForestClassifier(max_depth=110, min_samples_leaf=2, min_samples_split=10)</pre></div></div></div></div></div>"
            ]
          },
          "metadata": {},
          "execution_count": 69
        }
      ]
    },
    {
      "cell_type": "code",
      "source": [
        "#Predict on val data\n",
        "#Extract features from val data and reshape, just like training data\n",
        "val_features = feature_extractor(x_val)\n",
        "val_features = np.expand_dims(val_features, axis=0)\n",
        "val_for_RF = np.reshape(val_features, (x_val.shape[0], -1))\n",
        "\n",
        "#Predict on val\n",
        "val_prediction = best_grid.predict(val_for_RF)\n",
        "#Inverse le transform to get original label back. \n",
        "val_prediction = le.inverse_transform(val_prediction)\n",
        "y_val_labels= le.inverse_transform(y_val)\n",
        "\n",
        "#Print overall accuracy\n",
        "from sklearn import metrics\n",
        "print (\"Accuracy = \", metrics.accuracy_score(y_val_labels, val_prediction))"
      ],
      "metadata": {
        "colab": {
          "base_uri": "https://localhost:8080/"
        },
        "id": "OlNzRdfuz3g9",
        "outputId": "dcbe5462-5de2-4e48-da2c-d9a0eef529a5"
      },
      "execution_count": null,
      "outputs": [
        {
          "output_type": "stream",
          "name": "stdout",
          "text": [
            "Accuracy =  0.4578313253012048\n"
          ]
        }
      ]
    },
    {
      "cell_type": "code",
      "source": [
        "print (\"Accuracy = \", metrics.accuracy_score(y_val_labels, val_prediction))\n",
        "from sklearn.metrics import classification_report\n",
        "print (\"Accuracy = \", classification_report(y_val_labels, val_prediction))"
      ],
      "metadata": {
        "colab": {
          "base_uri": "https://localhost:8080/"
        },
        "id": "U6IzHOaJz3jd",
        "outputId": "3c96f7fc-0d95-4d23-d036-a0cb12efee38"
      },
      "execution_count": null,
      "outputs": [
        {
          "output_type": "stream",
          "name": "stdout",
          "text": [
            "Accuracy =  0.4578313253012048\n",
            "Accuracy =                precision    recall  f1-score   support\n",
            "\n",
            "       minor       0.55      0.58      0.56       138\n",
            "    moderate       0.35      0.34      0.34       134\n",
            "      severe       0.47      0.45      0.46       143\n",
            "\n",
            "    accuracy                           0.46       415\n",
            "   macro avg       0.45      0.46      0.46       415\n",
            "weighted avg       0.46      0.46      0.46       415\n",
            "\n"
          ]
        }
      ]
    },
    {
      "cell_type": "code",
      "source": [
        "#Print confusion matrix\n",
        "from sklearn.metrics import confusion_matrix\n",
        "cm = confusion_matrix(y_val_labels, val_prediction)\n",
        "\n",
        "fig, ax = plt.subplots(figsize=(5,5))        \n",
        "sns.set(font_scale=1.6)\n",
        "sns.heatmap(cm, annot=True, ax=ax)"
      ],
      "metadata": {
        "colab": {
          "base_uri": "https://localhost:8080/",
          "height": 485
        },
        "id": "vGayCZip44JM",
        "outputId": "8d4bd055-ee65-4671-e9b2-138340d53084"
      },
      "execution_count": null,
      "outputs": [
        {
          "output_type": "execute_result",
          "data": {
            "text/plain": [
              "<Axes: >"
            ]
          },
          "metadata": {},
          "execution_count": 72
        },
        {
          "output_type": "display_data",
          "data": {
            "text/plain": [
              "<Figure size 500x500 with 2 Axes>"
            ],
            "image/png": "[encoded data removed]"
          },
          "metadata": {}
        }
      ]
    },
    {
      "cell_type": "code",
      "source": [
        "features = val_for_RF\n",
        "umap_2d = UMAP(n_components=2, init='random', random_state=0)\n",
        "# umap_3d = UMAP(n_components=3, init='random', random_state=0)\n",
        "\n",
        "proj_2d = umap_2d.fit_transform(features)\n",
        "# proj_3d = umap_3d.fit_transform(features)\n",
        "\n",
        "fig_2d = px.scatter(\n",
        "    proj_2d, x=0, y=1,\n",
        "    color=val_prediction\n",
        ")\n",
        "# fig_3d = px.scatter_3d(\n",
        "#     proj_3d, x=0, y=1, z=2,\n",
        "#     color=df.species, labels={'color': 'species'}\n",
        "# )\n",
        "# fig_3d.update_traces(marker_size=5)\n",
        "\n",
        "fig_2d.show()\n",
        "# fig_3d.show()"
      ],
      "metadata": {
        "colab": {
          "base_uri": "https://localhost:8080/",
          "height": 542
        },
        "id": "4khKRtyjmOWw",
        "outputId": "2d7ad11f-86e0-4959-bba0-244358acdb2b"
      },
      "execution_count": null,
      "outputs": [
        {
          "output_type": "display_data",
          "data": {
            "text/html": [
              "<html>\n",
              "<head><meta charset=\"utf-8\" /></head>\n",
              "<body>\n",
              "    <div>            <script src=\"https://cdnjs.cloudflare.com/ajax/libs/mathjax/2.7.5/MathJax.js?config=TeX-AMS-MML_SVG\"></script><script type=\"text/javascript\">if (window.MathJax && window.MathJax.Hub && window.MathJax.Hub.Config) {window.MathJax.Hub.Config({SVG: {font: \"STIX-Web\"}});}</script>                <script type=\"text/javascript\">window.PlotlyConfig = {MathJaxConfig: 'local'};</script>\n",
              "        <script src=\"https://cdn.plot.ly/plotly-2.18.2.min.js\"></script>                <div id=\"2883ddd8-1c3b-4e95-a872-bd60cbd963af\" class=\"plotly-graph-div\" style=\"height:525px; width:100%;\"></div>            <script type=\"text/javascript\">                                    window.PLOTLYENV=window.PLOTLYENV || {};                                    if (document.getElementById(\"2883ddd8-1c3b-4e95-a872-bd60cbd963af\")) {                    Plotly.newPlot(                        \"2883ddd8-1c3b-4e95-a872-bd60cbd963af\",                        [{\"hovertemplate\":\"color=moderate<br>0=%{x}<br>1=%{y}<extra></extra>\",\"legendgroup\":\"moderate\",\"marker\":{\"color\":\"#636efa\",\"symbol\":\"circle\"},\"mode\":\"markers\",\"name\":\"moderate\",\"orientation\":\"v\",\"showlegend\":true,\"x\":[7.261663913726807,8.765155792236328,6.990573883056641,5.955293655395508,7.538461208343506,9.02513599395752,5.663104057312012,7.451206684112549,6.094547271728516,8.636079788208008,4.950055122375488,3.542219400405884,7.602067470550537,7.438035011291504,6.3262104988098145,4.014413356781006,4.460208415985107,4.404655933380127,5.139036655426025,4.8487868309021,6.13494348526001,5.563621997833252,6.683619499206543,9.620376586914062,5.599306106567383,9.3955078125,7.883203506469727,4.829367160797119,5.449257850646973,5.52570915222168,7.616203308105469,7.145851135253906,7.211742877960205,9.027582168579102,5.544711589813232,9.0513916015625,5.875299453735352,7.018147945404053,9.32516860961914,6.105103015899658,9.2282075881958,5.382988452911377,7.307325839996338,7.61747407913208,7.737619400024414,5.802819728851318,5.441509246826172,4.698040008544922,8.967252731323242,8.922245025634766,7.330231189727783,5.650473594665527,8.928942680358887,7.797324180603027,5.474642276763916,9.301708221435547,5.920356750488281,6.716282844543457,7.031087875366211,5.906454563140869,6.854740619659424,5.1511125564575195,8.893101692199707,6.556610107421875,5.430347919464111,5.864539623260498,6.096140384674072,5.355134963989258,8.051115989685059,8.417190551757812,8.988983154296875,6.34656286239624,7.030679702758789,6.4397101402282715,5.839895725250244,6.568052291870117,6.538529872894287,8.74852180480957,5.721166610717773,6.411996841430664,7.264468669891357,7.224120140075684,7.937139987945557,6.619610786437988,3.9929378032684326,6.708597660064697,6.72100305557251,7.3378777503967285,7.854001522064209,7.917402267456055,6.908799171447754,8.183003425598145,5.647156715393066,6.661182880401611,6.08379602432251,9.69291877746582,6.663066864013672,6.706990718841553,5.733536720275879,6.39479398727417,8.209426879882812,6.090647220611572,8.670784950256348,7.178715705871582,5.96674919128418,5.405473232269287,7.66123628616333,7.126881122589111,6.100776195526123,6.701302528381348,5.844727039337158,5.78118896484375,8.261351585388184,6.65514612197876,5.952498912811279,6.240268707275391,7.604823112487793,7.807455062866211,9.417120933532715,6.002297878265381,6.245032787322998,6.197149753570557,4.537886142730713,6.981126308441162,6.259463787078857,8.897948265075684,7.2223381996154785,7.160766124725342,8.25883960723877,9.367584228515625,7.058903694152832,8.782129287719727,9.011040687561035],\"xaxis\":\"x\",\"y\":[-2.348803997039795,-3.633690357208252,-1.8113739490509033,-3.3305583000183105,-2.2663965225219727,-2.2185184955596924,-4.919764041900635,-3.186534881591797,-2.9726855754852295,-3.1849522590637207,-3.9952847957611084,-2.6523308753967285,-4.723922252655029,-3.9916653633117676,-3.125991106033325,-3.287935972213745,-2.041712760925293,-2.5525906085968018,-0.8776019811630249,-4.000014305114746,-1.7294297218322754,-2.5869386196136475,-4.848708152770996,-1.8956265449523926,-2.430732488632202,-2.750746965408325,-2.800100088119507,-1.6250383853912354,-3.8914108276367188,-3.2445032596588135,-2.830143451690674,-4.267094612121582,-0.4960479438304901,-2.4020302295684814,-4.461117267608643,-1.9641894102096558,-4.171667098999023,-2.366206407546997,-2.528961420059204,-5.172994613647461,-2.059340476989746,-0.648835301399231,-0.9291777014732361,-2.1714680194854736,-4.563571453094482,-4.925766468048096,-3.669578790664673,-3.987004280090332,-2.3905060291290283,-1.3014782667160034,-2.955270290374756,-3.8100438117980957,-2.7020020484924316,-3.3022987842559814,-4.743128299713135,-2.9211292266845703,-5.129930019378662,-1.9778671264648438,-4.145391464233398,-1.563783049583435,-5.2290754318237305,-3.6698691844940186,-2.8437485694885254,-2.0397849082946777,-0.5708124041557312,-4.969935417175293,-1.4812434911727905,-4.274296283721924,-1.9634758234024048,-2.987791061401367,-2.2502427101135254,-5.238887786865234,-0.2952477037906647,-1.5107934474945068,-5.320642471313477,-0.8577403426170349,-1.1741949319839478,-2.4034664630889893,-3.266005754470825,-5.087596416473389,-1.661505103111267,-2.5035006999969482,-3.774264335632324,-1.6066216230392456,-2.756054639816284,-2.8219187259674072,-4.742790222167969,-1.090811014175415,-4.158447742462158,-3.0334322452545166,-4.586083889007568,-3.3655147552490234,-4.570307731628418,-3.3500945568084717,-4.88372278213501,-2.553842782974243,-4.7531328201293945,-5.208069801330566,-4.414212703704834,-4.617254734039307,-2.853891611099243,-3.0720314979553223,-4.0535712242126465,-2.2432773113250732,-3.2746119499206543,-2.4250948429107666,-2.651017189025879,-3.9991137981414795,-4.0390238761901855,-3.478860378265381,-2.8146636486053467,-2.0989866256713867,-3.211146354675293,-3.387122631072998,-3.0663838386535645,-3.9119277000427246,-2.5995354652404785,-3.8240890502929688,-3.0761570930480957,-3.291987180709839,-1.362460970878601,-4.05876350402832,-3.2926952838897705,-3.91386079788208,-4.547353267669678,-3.402543067932129,-0.37554433941841125,-0.6174240708351135,-2.098942518234253,-2.8949384689331055,-2.08066463470459,-1.8099703788757324,-1.8761223554611206],\"yaxis\":\"y\",\"type\":\"scatter\"},{\"hovertemplate\":\"color=minor<br>0=%{x}<br>1=%{y}<extra></extra>\",\"legendgroup\":\"minor\",\"marker\":{\"color\":\"#EF553B\",\"symbol\":\"circle\"},\"mode\":\"markers\",\"name\":\"minor\",\"orientation\":\"v\",\"showlegend\":true,\"x\":[6.917276382446289,9.539955139160156,4.556750774383545,6.324127197265625,3.8730382919311523,6.826995849609375,7.297433853149414,6.816830158233643,4.097487449645996,4.5988922119140625,5.3639302253723145,7.763225555419922,6.20525598526001,7.213793754577637,7.6280951499938965,6.0298991203308105,8.4210786819458,6.739809036254883,4.212464809417725,6.477246284484863,8.38920783996582,4.299450397491455,7.7636637687683105,8.2786283493042,8.516160011291504,5.241302967071533,9.544744491577148,7.345287322998047,8.612143516540527,7.175957679748535,6.6690568923950195,3.5954933166503906,4.483870983123779,8.686275482177734,4.237028121948242,6.182884216308594,8.392277717590332,8.159890174865723,4.741986274719238,4.0273261070251465,5.715742588043213,6.626558303833008,4.372093677520752,6.763950824737549,5.306516170501709,4.993840217590332,6.468939781188965,9.062823295593262,5.92637300491333,3.7859280109405518,6.997188568115234,8.87375545501709,6.098479270935059,7.181586742401123,7.803707122802734,4.4763102531433105,6.877091407775879,4.442730903625488,7.323756694793701,4.570284366607666,8.305285453796387,7.467411041259766,5.869401931762695,4.914575099945068,8.423797607421875,5.830293655395508,6.907385349273682,7.16078519821167,8.672356605529785,8.485267639160156,4.36775541305542,7.582085132598877,6.317845821380615,6.080317497253418,5.532528400421143,6.821259021759033,4.288573741912842,8.895036697387695,6.341838836669922,4.400623798370361,7.0134663581848145,8.400679588317871,4.427155494689941,5.058988094329834,5.98162317276001,6.949622631072998,5.2600789070129395,4.499298572540283,4.423401355743408,6.779504776000977,6.910090446472168,8.132806777954102,5.2523417472839355,9.317780494689941,7.101676940917969,4.7393622398376465,6.590874195098877,4.757750034332275,4.925684928894043,6.118297100067139,5.7797040939331055,4.617952346801758,6.888635635375977,5.605522632598877,7.715272903442383,7.337498188018799,5.353726387023926,6.949532508850098,8.031428337097168,4.892540454864502,8.22812557220459,8.793736457824707,7.449874401092529,7.169697284698486,8.36520767211914,5.821106433868408,6.385715007781982,8.028810501098633,7.203538417816162,6.873847961425781,6.000288963317871,8.815197944641113,6.040380954742432,7.516587257385254,7.832756042480469,8.714118003845215,9.056300163269043,7.4629645347595215,9.235222816467285,8.840784072875977,7.583712577819824,3.866860866546631,5.763326168060303,8.810454368591309,8.357490539550781,7.256405353546143,6.143633842468262,4.386486053466797,4.4215497970581055,4.583996295928955,8.053897857666016,4.575414180755615,4.77044153213501,8.243789672851562,8.215536117553711,7.078170299530029],\"xaxis\":\"x\",\"y\":[-1.6127547025680542,-2.9468491077423096,-3.025930404663086,-2.424069404602051,-3.3546254634857178,-2.8752095699310303,-1.661381483078003,-1.5166813135147095,-3.3625712394714355,-2.507422924041748,-1.962504267692566,-4.769494533538818,-1.9861150979995728,-4.548490047454834,-4.332850456237793,-1.7862306833267212,-2.305020809173584,-1.6084905862808228,-1.9547507762908936,-3.4770283699035645,-4.224658966064453,-3.5213170051574707,-3.9152326583862305,-3.3999743461608887,-4.072178363800049,-4.7538018226623535,-2.3617637157440186,-4.468468189239502,-3.755775213241577,-1.4768904447555542,-2.5087788105010986,-2.803725242614746,-2.5240731239318848,-2.999413251876831,-3.0829193592071533,-3.4339439868927,-2.589172601699829,-3.6990103721618652,-2.850775957107544,-3.3010129928588867,-3.495579957962036,-2.2467923164367676,-2.821300745010376,-4.346036434173584,-2.3850343227386475,-2.457707643508911,-4.307568073272705,-2.726480484008789,-2.135542392730713,-2.8072330951690674,-2.719046115875244,-2.395230531692505,-2.2459073066711426,-1.2670155763626099,-4.3072285652160645,-3.3557114601135254,-1.4772956371307373,-2.1850221157073975,-4.125030994415283,-3.0411412715911865,-3.8381471633911133,-2.6396772861480713,-3.7068800926208496,-3.329256772994995,-3.6118457317352295,-4.811734199523926,-3.195690155029297,-1.6012539863586426,-3.9695534706115723,-4.121306419372559,-1.944139003753662,-3.4214491844177246,-5.185201644897461,-3.758988380432129,-2.290221929550171,-0.38917526602745056,-3.682278871536255,-3.062345266342163,-1.863081455230713,-3.244393825531006,-4.494096755981445,-1.5873048305511475,-1.9361153841018677,-2.54335355758667,-2.84922194480896,-3.755094528198242,-3.51564359664917,-3.0920205116271973,-2.9723148345947266,-2.421656847000122,-3.9043455123901367,-4.3070387840271,-1.4855481386184692,-2.720402240753174,-0.504444420337677,-1.6812413930892944,-4.8257575035095215,-3.462714910507202,-1.9282000064849854,-2.6149139404296875,-3.3573226928710938,-1.9302701950073242,-2.2189626693725586,-3.599210023880005,-1.9824941158294678,-1.2240601778030396,-1.984228491783142,-4.741456508636475,-3.886199951171875,-3.7492835521698,-4.318537712097168,-3.938230514526367,-3.9082789421081543,-4.335419654846191,-2.551978349685669,-4.9635443687438965,-4.218519687652588,-2.304784059524536,-0.4945787191390991,-4.563562870025635,-2.2495856285095215,-3.2492387294769287,-4.550788879394531,-1.4118070602416992,-1.7529449462890625,-3.924985647201538,-3.555436134338379,-2.881361484527588,-2.160417318344116,-3.4816596508026123,-3.6407597064971924,-3.217832565307617,-4.873040676116943,-2.199005126953125,-3.8569679260253906,-1.1557871103286743,-2.524387836456299,-1.9045149087905884,-3.685957670211792,-2.415588855743408,-1.826953649520874,-3.5800459384918213,-1.936771273612976,-2.8717312812805176,-1.8071222305297852,-1.9247872829437256],\"yaxis\":\"y\",\"type\":\"scatter\"},{\"hovertemplate\":\"color=severe<br>0=%{x}<br>1=%{y}<extra></extra>\",\"legendgroup\":\"severe\",\"marker\":{\"color\":\"#00cc96\",\"symbol\":\"circle\"},\"mode\":\"markers\",\"name\":\"severe\",\"orientation\":\"v\",\"showlegend\":true,\"x\":[6.998536586761475,9.562999725341797,5.957074165344238,5.878066062927246,5.7223615646362305,7.444960117340088,5.803834438323975,5.362518310546875,7.215435028076172,6.231349468231201,5.003645896911621,7.1702165603637695,5.466857433319092,8.744139671325684,7.034205913543701,3.4382379055023193,6.597395896911621,8.070188522338867,8.14685344696045,5.764779567718506,9.10925579071045,8.907909393310547,5.2327165603637695,6.107626914978027,5.33421516418457,9.20478630065918,5.338964939117432,5.8590497970581055,8.122154235839844,5.023019790649414,6.215083122253418,5.852761745452881,5.778357028961182,9.218852996826172,6.8526716232299805,6.538606643676758,6.7322516441345215,5.593170166015625,3.5875251293182373,8.322515487670898,8.78157901763916,5.773496150970459,6.2785444259643555,4.869070529937744,9.586587905883789,8.142273902893066,5.473472595214844,5.863844394683838,8.114853858947754,6.426719665527344,5.982483386993408,6.064529895782471,3.544912338256836,7.381002426147461,5.669291973114014,6.474469184875488,6.237148284912109,7.933661460876465,5.461793422698975,5.368732452392578,6.580752849578857,4.953210830688477,9.595183372497559,5.163204193115234,6.903196334838867,8.979830741882324,9.591765403747559,5.6487531661987305,7.579315185546875,5.7386627197265625,6.25496244430542,9.194245338439941,5.607444763183594,9.386800765991211,5.5986456871032715,7.407321929931641,5.933289051055908,6.223504066467285,5.104358196258545,8.880387306213379,5.911436557769775,5.090890884399414,7.160500526428223,7.821846961975098,4.836859226226807,5.022019386291504,8.453587532043457,9.529878616333008,7.315436840057373,5.872098445892334,5.510739326477051,8.116671562194824,6.432185649871826,5.657129287719727,4.1412224769592285,3.401402473449707,5.689615249633789,5.557839393615723,6.135860919952393,4.749433994293213,6.1710309982299805,7.926056385040283,3.3809192180633545,5.957489967346191,7.941030979156494,6.458676338195801,6.098920822143555,6.403794288635254,6.0633087158203125,6.489869117736816,9.5842866897583,7.172802925109863,5.249720096588135,8.084722518920898,6.063190460205078,5.704294204711914,6.366491317749023,5.591022491455078,9.492697715759277,9.663586616516113,5.887522220611572,6.102599620819092,7.461524963378906,9.634395599365234,5.312767028808594,5.829927444458008,8.666433334350586,9.23890209197998,3.4348597526550293,6.385727405548096,7.282207012176514,9.280561447143555,9.391995429992676,7.129334449768066,5.829170227050781,5.45741605758667],\"xaxis\":\"x\",\"y\":[-2.000852108001709,-1.805601954460144,-1.3830772638320923,-0.9775211215019226,-4.278442859649658,-2.1397907733917236,-5.282815933227539,-4.042912483215332,-2.310567617416382,-5.065442085266113,-0.9624925255775452,-3.0426583290100098,-1.2910990715026855,-2.473156452178955,-3.443563461303711,-2.859424114227295,-1.9967385530471802,-4.02773904800415,-1.15768301486969,-1.8675607442855835,-1.9168291091918945,-2.0009241104125977,-1.3657958507537842,-4.965691566467285,-4.038208961486816,-1.7392921447753906,-3.6228065490722656,-5.403627872467041,-1.3693947792053223,-1.0267406702041626,-5.296969413757324,-5.437883377075195,-1.611533284187317,-1.6607478857040405,-2.454573392868042,-2.985900402069092,-0.5140716433525085,-2.617316246032715,-3.060593843460083,-1.8784220218658447,-1.451758861541748,-5.375107765197754,-3.4586737155914307,-4.196469783782959,-1.965134859085083,-3.314368486404419,-1.1466914415359497,-5.061276912689209,-1.2589901685714722,-4.44041109085083,-0.6123219728469849,-3.437300682067871,-2.9695305824279785,-2.0257112979888916,-4.43843936920166,-1.9513200521469116,-1.35183584690094,-1.8450983762741089,-1.3243367671966553,-4.086623191833496,-3.5584826469421387,-1.0805054903030396,-2.712087869644165,-0.6915614008903503,-0.3371281623840332,-2.6007449626922607,-2.205799102783203,-2.9224853515625,-4.440681457519531,-2.9968254566192627,-0.8493925929069519,-3.4382917881011963,-1.036787986755371,-1.538204312324524,-1.3468700647354126,-1.391291618347168,-4.451393127441406,-0.8752166032791138,-0.8409007787704468,-3.7501773834228516,-3.9811954498291016,-1.3627774715423584,-2.8558597564697266,-2.3377556800842285,-4.403149604797363,-1.137241005897522,-2.0940797328948975,-2.1446855068206787,-2.250060558319092,-2.5511281490325928,-4.195958137512207,-2.4954476356506348,-4.107070446014404,-1.1626139879226685,-3.4441964626312256,-2.688922882080078,-1.8971132040023804,-4.843433856964111,-1.7532066106796265,-4.24408483505249,-5.195467472076416,-2.606257677078247,-2.7001516819000244,-0.9344655275344849,-2.3729662895202637,-4.656360626220703,-2.0025980472564697,-0.8222343325614929,-0.799900233745575,-4.71554708480835,-2.2935736179351807,-4.112437725067139,-0.7922930121421814,-1.5380157232284546,-2.9659550189971924,-3.8179898262023926,-4.432007789611816,-2.5084052085876465,-2.2679104804992676,-2.464512586593628,-4.773159503936768,-4.023382663726807,-2.0657169818878174,-2.7901804447174072,-4.360708236694336,-1.4380205869674683,-2.298715353012085,-2.8873634338378906,-2.77571439743042,-1.1810797452926636,-3.2749125957489014,-1.5568329095840454,-1.646935224533081,-0.3843994736671448,-4.932126998901367,-1.5047723054885864],\"yaxis\":\"y\",\"type\":\"scatter\"}],                        {\"template\":{\"data\":{\"histogram2dcontour\":[{\"type\":\"histogram2dcontour\",\"colorbar\":{\"outlinewidth\":0,\"ticks\":\"\"},\"colorscale\":[[0.0,\"#0d0887\"],[0.1111111111111111,\"#46039f\"],[0.2222222222222222,\"#7201a8\"],[0.3333333333333333,\"#9c179e\"],[0.4444444444444444,\"#bd3786\"],[0.5555555555555556,\"#d8576b\"],[0.6666666666666666,\"#ed7953\"],[0.7777777777777778,\"#fb9f3a\"],[0.8888888888888888,\"#fdca26\"],[1.0,\"#f0f921\"]]}],\"choropleth\":[{\"type\":\"choropleth\",\"colorbar\":{\"outlinewidth\":0,\"ticks\":\"\"}}],\"histogram2d\":[{\"type\":\"histogram2d\",\"colorbar\":{\"outlinewidth\":0,\"ticks\":\"\"},\"colorscale\":[[0.0,\"#0d0887\"],[0.1111111111111111,\"#46039f\"],[0.2222222222222222,\"#7201a8\"],[0.3333333333333333,\"#9c179e\"],[0.4444444444444444,\"#bd3786\"],[0.5555555555555556,\"#d8576b\"],[0.6666666666666666,\"#ed7953\"],[0.7777777777777778,\"#fb9f3a\"],[0.8888888888888888,\"#fdca26\"],[1.0,\"#f0f921\"]]}],\"heatmap\":[{\"type\":\"heatmap\",\"colorbar\":{\"outlinewidth\":0,\"ticks\":\"\"},\"colorscale\":[[0.0,\"#0d0887\"],[0.1111111111111111,\"#46039f\"],[0.2222222222222222,\"#7201a8\"],[0.3333333333333333,\"#9c179e\"],[0.4444444444444444,\"#bd3786\"],[0.5555555555555556,\"#d8576b\"],[0.6666666666666666,\"#ed7953\"],[0.7777777777777778,\"#fb9f3a\"],[0.8888888888888888,\"#fdca26\"],[1.0,\"#f0f921\"]]}],\"heatmapgl\":[{\"type\":\"heatmapgl\",\"colorbar\":{\"outlinewidth\":0,\"ticks\":\"\"},\"colorscale\":[[0.0,\"#0d0887\"],[0.1111111111111111,\"#46039f\"],[0.2222222222222222,\"#7201a8\"],[0.3333333333333333,\"#9c179e\"],[0.4444444444444444,\"#bd3786\"],[0.5555555555555556,\"#d8576b\"],[0.6666666666666666,\"#ed7953\"],[0.7777777777777778,\"#fb9f3a\"],[0.8888888888888888,\"#fdca26\"],[1.0,\"#f0f921\"]]}],\"contourcarpet\":[{\"type\":\"contourcarpet\",\"colorbar\":{\"outlinewidth\":0,\"ticks\":\"\"}}],\"contour\":[{\"type\":\"contour\",\"colorbar\":{\"outlinewidth\":0,\"ticks\":\"\"},\"colorscale\":[[0.0,\"#0d0887\"],[0.1111111111111111,\"#46039f\"],[0.2222222222222222,\"#7201a8\"],[0.3333333333333333,\"#9c179e\"],[0.4444444444444444,\"#bd3786\"],[0.5555555555555556,\"#d8576b\"],[0.6666666666666666,\"#ed7953\"],[0.7777777777777778,\"#fb9f3a\"],[0.8888888888888888,\"#fdca26\"],[1.0,\"#f0f921\"]]}],\"surface\":[{\"type\":\"surface\",\"colorbar\":{\"outlinewidth\":0,\"ticks\":\"\"},\"colorscale\":[[0.0,\"#0d0887\"],[0.1111111111111111,\"#46039f\"],[0.2222222222222222,\"#7201a8\"],[0.3333333333333333,\"#9c179e\"],[0.4444444444444444,\"#bd3786\"],[0.5555555555555556,\"#d8576b\"],[0.6666666666666666,\"#ed7953\"],[0.7777777777777778,\"#fb9f3a\"],[0.8888888888888888,\"#fdca26\"],[1.0,\"#f0f921\"]]}],\"mesh3d\":[{\"type\":\"mesh3d\",\"colorbar\":{\"outlinewidth\":0,\"ticks\":\"\"}}],\"scatter\":[{\"fillpattern\":{\"fillmode\":\"overlay\",\"size\":10,\"solidity\":0.2},\"type\":\"scatter\"}],\"parcoords\":[{\"type\":\"parcoords\",\"line\":{\"colorbar\":{\"outlinewidth\":0,\"ticks\":\"\"}}}],\"scatterpolargl\":[{\"type\":\"scatterpolargl\",\"marker\":{\"colorbar\":{\"outlinewidth\":0,\"ticks\":\"\"}}}],\"bar\":[{\"error_x\":{\"color\":\"#2a3f5f\"},\"error_y\":{\"color\":\"#2a3f5f\"},\"marker\":{\"line\":{\"color\":\"#E5ECF6\",\"width\":0.5},\"pattern\":{\"fillmode\":\"overlay\",\"size\":10,\"solidity\":0.2}},\"type\":\"bar\"}],\"scattergeo\":[{\"type\":\"scattergeo\",\"marker\":{\"colorbar\":{\"outlinewidth\":0,\"ticks\":\"\"}}}],\"scatterpolar\":[{\"type\":\"scatterpolar\",\"marker\":{\"colorbar\":{\"outlinewidth\":0,\"ticks\":\"\"}}}],\"histogram\":[{\"marker\":{\"pattern\":{\"fillmode\":\"overlay\",\"size\":10,\"solidity\":0.2}},\"type\":\"histogram\"}],\"scattergl\":[{\"type\":\"scattergl\",\"marker\":{\"colorbar\":{\"outlinewidth\":0,\"ticks\":\"\"}}}],\"scatter3d\":[{\"type\":\"scatter3d\",\"line\":{\"colorbar\":{\"outlinewidth\":0,\"ticks\":\"\"}},\"marker\":{\"colorbar\":{\"outlinewidth\":0,\"ticks\":\"\"}}}],\"scattermapbox\":[{\"type\":\"scattermapbox\",\"marker\":{\"colorbar\":{\"outlinewidth\":0,\"ticks\":\"\"}}}],\"scatterternary\":[{\"type\":\"scatterternary\",\"marker\":{\"colorbar\":{\"outlinewidth\":0,\"ticks\":\"\"}}}],\"scattercarpet\":[{\"type\":\"scattercarpet\",\"marker\":{\"colorbar\":{\"outlinewidth\":0,\"ticks\":\"\"}}}],\"carpet\":[{\"aaxis\":{\"endlinecolor\":\"#2a3f5f\",\"gridcolor\":\"white\",\"linecolor\":\"white\",\"minorgridcolor\":\"white\",\"startlinecolor\":\"#2a3f5f\"},\"baxis\":{\"endlinecolor\":\"#2a3f5f\",\"gridcolor\":\"white\",\"linecolor\":\"white\",\"minorgridcolor\":\"white\",\"startlinecolor\":\"#2a3f5f\"},\"type\":\"carpet\"}],\"table\":[{\"cells\":{\"fill\":{\"color\":\"#EBF0F8\"},\"line\":{\"color\":\"white\"}},\"header\":{\"fill\":{\"color\":\"#C8D4E3\"},\"line\":{\"color\":\"white\"}},\"type\":\"table\"}],\"barpolar\":[{\"marker\":{\"line\":{\"color\":\"#E5ECF6\",\"width\":0.5},\"pattern\":{\"fillmode\":\"overlay\",\"size\":10,\"solidity\":0.2}},\"type\":\"barpolar\"}],\"pie\":[{\"automargin\":true,\"type\":\"pie\"}]},\"layout\":{\"autotypenumbers\":\"strict\",\"colorway\":[\"#636efa\",\"#EF553B\",\"#00cc96\",\"#ab63fa\",\"#FFA15A\",\"#19d3f3\",\"#FF6692\",\"#B6E880\",\"#FF97FF\",\"#FECB52\"],\"font\":{\"color\":\"#2a3f5f\"},\"hovermode\":\"closest\",\"hoverlabel\":{\"align\":\"left\"},\"paper_bgcolor\":\"white\",\"plot_bgcolor\":\"#E5ECF6\",\"polar\":{\"bgcolor\":\"#E5ECF6\",\"angularaxis\":{\"gridcolor\":\"white\",\"linecolor\":\"white\",\"ticks\":\"\"},\"radialaxis\":{\"gridcolor\":\"white\",\"linecolor\":\"white\",\"ticks\":\"\"}},\"ternary\":{\"bgcolor\":\"#E5ECF6\",\"aaxis\":{\"gridcolor\":\"white\",\"linecolor\":\"white\",\"ticks\":\"\"},\"baxis\":{\"gridcolor\":\"white\",\"linecolor\":\"white\",\"ticks\":\"\"},\"caxis\":{\"gridcolor\":\"white\",\"linecolor\":\"white\",\"ticks\":\"\"}},\"coloraxis\":{\"colorbar\":{\"outlinewidth\":0,\"ticks\":\"\"}},\"colorscale\":{\"sequential\":[[0.0,\"#0d0887\"],[0.1111111111111111,\"#46039f\"],[0.2222222222222222,\"#7201a8\"],[0.3333333333333333,\"#9c179e\"],[0.4444444444444444,\"#bd3786\"],[0.5555555555555556,\"#d8576b\"],[0.6666666666666666,\"#ed7953\"],[0.7777777777777778,\"#fb9f3a\"],[0.8888888888888888,\"#fdca26\"],[1.0,\"#f0f921\"]],\"sequentialminus\":[[0.0,\"#0d0887\"],[0.1111111111111111,\"#46039f\"],[0.2222222222222222,\"#7201a8\"],[0.3333333333333333,\"#9c179e\"],[0.4444444444444444,\"#bd3786\"],[0.5555555555555556,\"#d8576b\"],[0.6666666666666666,\"#ed7953\"],[0.7777777777777778,\"#fb9f3a\"],[0.8888888888888888,\"#fdca26\"],[1.0,\"#f0f921\"]],\"diverging\":[[0,\"#8e0152\"],[0.1,\"#c51b7d\"],[0.2,\"#de77ae\"],[0.3,\"#f1b6da\"],[0.4,\"#fde0ef\"],[0.5,\"#f7f7f7\"],[0.6,\"#e6f5d0\"],[0.7,\"#b8e186\"],[0.8,\"#7fbc41\"],[0.9,\"#4d9221\"],[1,\"#276419\"]]},\"xaxis\":{\"gridcolor\":\"white\",\"linecolor\":\"white\",\"ticks\":\"\",\"title\":{\"standoff\":15},\"zerolinecolor\":\"white\",\"automargin\":true,\"zerolinewidth\":2},\"yaxis\":{\"gridcolor\":\"white\",\"linecolor\":\"white\",\"ticks\":\"\",\"title\":{\"standoff\":15},\"zerolinecolor\":\"white\",\"automargin\":true,\"zerolinewidth\":2},\"scene\":{\"xaxis\":{\"backgroundcolor\":\"#E5ECF6\",\"gridcolor\":\"white\",\"linecolor\":\"white\",\"showbackground\":true,\"ticks\":\"\",\"zerolinecolor\":\"white\",\"gridwidth\":2},\"yaxis\":{\"backgroundcolor\":\"#E5ECF6\",\"gridcolor\":\"white\",\"linecolor\":\"white\",\"showbackground\":true,\"ticks\":\"\",\"zerolinecolor\":\"white\",\"gridwidth\":2},\"zaxis\":{\"backgroundcolor\":\"#E5ECF6\",\"gridcolor\":\"white\",\"linecolor\":\"white\",\"showbackground\":true,\"ticks\":\"\",\"zerolinecolor\":\"white\",\"gridwidth\":2}},\"shapedefaults\":{\"line\":{\"color\":\"#2a3f5f\"}},\"annotationdefaults\":{\"arrowcolor\":\"#2a3f5f\",\"arrowhead\":0,\"arrowwidth\":1},\"geo\":{\"bgcolor\":\"white\",\"landcolor\":\"#E5ECF6\",\"subunitcolor\":\"white\",\"showland\":true,\"showlakes\":true,\"lakecolor\":\"white\"},\"title\":{\"x\":0.05},\"mapbox\":{\"style\":\"light\"}}},\"xaxis\":{\"anchor\":\"y\",\"domain\":[0.0,1.0],\"title\":{\"text\":\"0\"}},\"yaxis\":{\"anchor\":\"x\",\"domain\":[0.0,1.0],\"title\":{\"text\":\"1\"}},\"legend\":{\"title\":{\"text\":\"color\"},\"tracegroupgap\":0},\"margin\":{\"t\":60}},                        {\"responsive\": true}                    ).then(function(){\n",
              "                            \n",
              "var gd = document.getElementById('2883ddd8-1c3b-4e95-a872-bd60cbd963af');\n",
              "var x = new MutationObserver(function (mutations, observer) {{\n",
              "        var display = window.getComputedStyle(gd).display;\n",
              "        if (!display || display === 'none') {{\n",
              "            console.log([gd, 'removed!']);\n",
              "            Plotly.purge(gd);\n",
              "            observer.disconnect();\n",
              "        }}\n",
              "}});\n",
              "\n",
              "// Listen for the removal of the full notebook cells\n",
              "var notebookContainer = gd.closest('#notebook-container');\n",
              "if (notebookContainer) {{\n",
              "    x.observe(notebookContainer, {childList: true});\n",
              "}}\n",
              "\n",
              "// Listen for the clearing of the current output cell\n",
              "var outputEl = gd.closest('.output');\n",
              "if (outputEl) {{\n",
              "    x.observe(outputEl, {childList: true});\n",
              "}}\n",
              "\n",
              "                        })                };                            </script>        </div>\n",
              "</body>\n",
              "</html>"
            ]
          },
          "metadata": {}
        }
      ]
    },
    {
      "cell_type": "code",
      "source": [
        "val_for_RF.shape,val_prediction.shape"
      ],
      "metadata": {
        "colab": {
          "base_uri": "https://localhost:8080/"
        },
        "id": "-P04Lme-mQn2",
        "outputId": "9fa51517-9c56-45c3-bba9-8b873d771baa"
      },
      "execution_count": null,
      "outputs": [
        {
          "output_type": "execute_result",
          "data": {
            "text/plain": [
              "((415, 409600), (415,))"
            ]
          },
          "metadata": {},
          "execution_count": 75
        }
      ]
    }
  ]
}