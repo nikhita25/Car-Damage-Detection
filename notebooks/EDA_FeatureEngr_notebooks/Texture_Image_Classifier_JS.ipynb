{
  "nbformat": 4,
  "nbformat_minor": 0,
  "metadata": {
    "colab": {
      "provenance": []
    },
    "kernelspec": {
      "name": "python3",
      "display_name": "Python 3"
    },
    "language_info": {
      "name": "python"
    }
  },
  "cells": [
    {
      "cell_type": "code",
      "execution_count": 1,
      "metadata": {
        "colab": {
          "base_uri": "https://localhost:8080/"
        },
        "id": "bbNdz5tULBd_",
        "outputId": "59776cc3-a465-46a5-e834-e326b9a619c3"
      },
      "outputs": [
        {
          "output_type": "stream",
          "name": "stdout",
          "text": [
            "Drive already mounted at /content/drive; to attempt to forcibly remount, call drive.mount(\"/content/drive\", force_remount=True).\n"
          ]
        }
      ],
      "source": [
        "from google.colab import drive\n",
        "drive.mount('/content/drive')"
      ]
    },
    {
      "cell_type": "code",
      "source": [
        "import numpy as np \n",
        "import matplotlib.pyplot as plt\n",
        "import glob\n",
        "import cv2\n",
        "import os\n",
        "import seaborn as sns\n",
        "import pandas as pd\n",
        "from skimage.filters import sobel,roberts, scharr, prewitt\n",
        "from sklearn.model_selection import train_test_split\n",
        "from sklearn import preprocessing\n",
        "from skimage.filters import sobel\n",
        "from skimage.feature import graycomatrix, graycoprops\n",
        "from skimage.measure import shannon_entropy\n",
        "import xarray as xr\n",
        "\n"
      ],
      "metadata": {
        "id": "16p5vIGELL9K"
      },
      "execution_count": 16,
      "outputs": []
    },
    {
      "cell_type": "code",
      "source": [
        "#Resize images to\n",
        "SIZE = 128\n",
        "\n",
        "#Capturing images and labels into arrays.\n",
        "train_images = []\n",
        "train_labels = [] \n",
        "for directory_path in glob.glob(\"/content/drive/MyDrive/data3a/training/*\"):\n",
        "    label = directory_path.split(\"-\")[-1]\n",
        "    print(label)\n",
        "    for img_path in glob.glob(os.path.join(directory_path, \"*.JPEG\")):\n",
        "        img = cv2.imread(img_path, cv2.IMREAD_COLOR) #Reading color images\n",
        "        img = cv2.cvtColor(img, cv2.COLOR_BGR2GRAY)  \n",
        "        img = cv2.resize(img, (SIZE, SIZE)) #Resizing images\n",
        "        train_images.append(img)\n",
        "        train_labels.append(label)\n",
        "\n",
        "    for img_path in glob.glob(os.path.join(directory_path, \"*.jpeg\")):\n",
        "        img = cv2.imread(img_path, cv2.IMREAD_COLOR)\n",
        "        img = cv2.cvtColor(img, cv2.COLOR_BGR2GRAY)  \n",
        "        img = cv2.resize(img, (SIZE, SIZE)) \n",
        "        train_images.append(img)\n",
        "        train_labels.append(label)\n",
        "\n",
        "    for img_path in glob.glob(os.path.join(directory_path, \"*.jpg\")):\n",
        "        img = cv2.imread(img_path, cv2.IMREAD_COLOR)\n",
        "        img = cv2.cvtColor(img, cv2.COLOR_BGR2GRAY)  \n",
        "        img = cv2.resize(img, (SIZE, SIZE))\n",
        "        train_images.append(img)\n",
        "        train_labels.append(label)\n",
        "        \n",
        "train_images = np.array(train_images)\n",
        "train_labels = np.array(train_labels)"
      ],
      "metadata": {
        "colab": {
          "base_uri": "https://localhost:8080/"
        },
        "id": "LeRlVaaOLMFK",
        "outputId": "c4090e5f-9a9a-4433-96fd-dba207a264dd"
      },
      "execution_count": 3,
      "outputs": [
        {
          "output_type": "stream",
          "name": "stdout",
          "text": [
            "minor\n",
            "moderate\n",
            "severe\n"
          ]
        }
      ]
    },
    {
      "cell_type": "code",
      "source": [
        "#Resize images to\n",
        "SIZE = 128\n",
        "\n",
        "#Capturing images and labels into arrays.\n",
        "train_images = []\n",
        "train_labels = [] \n",
        "for directory_path in glob.glob(\"/content/drive/MyDrive/data3a/training/*\"):\n",
        "    label = directory_path.split(\"-\")[-1]\n",
        "    print(label)\n",
        "    for img_path in glob.glob(os.path.join(directory_path, \"*.JPEG\")):\n",
        "        img = cv2.imread(img_path, 0) #Reading color images\n",
        "        img = cv2.resize(img, (SIZE, SIZE)) #Resizing images\n",
        "        train_images.append(img)\n",
        "        train_labels.append(label)\n",
        "\n",
        "        \n",
        "    for img_path in glob.glob(os.path.join(directory_path, \"*.jpeg\")):\n",
        "        img = cv2.imread(img_path, 0)\n",
        "        img = cv2.resize(img, (SIZE, SIZE)) \n",
        "        train_images.append(img)\n",
        "        train_labels.append(label)\n",
        "\n",
        "    for img_path in glob.glob(os.path.join(directory_path, \"*.jpg\")):\n",
        "        img = cv2.imread(img_path, 0)\n",
        "        img = cv2.resize(img, (SIZE, SIZE))\n",
        "        train_images.append(img)\n",
        "        train_labels.append(label)\n",
        "        \n",
        "train_images = np.array(train_images)\n",
        "train_labels = np.array(train_labels)"
      ],
      "metadata": {
        "colab": {
          "base_uri": "https://localhost:8080/"
        },
        "id": "cvLVOwkgArrx",
        "outputId": "1df6db97-a081-413d-a315-b56bee6d3416"
      },
      "execution_count": 4,
      "outputs": [
        {
          "output_type": "stream",
          "name": "stdout",
          "text": [
            "minor\n",
            "moderate\n",
            "severe\n"
          ]
        }
      ]
    },
    {
      "cell_type": "code",
      "source": [
        "img.shape"
      ],
      "metadata": {
        "colab": {
          "base_uri": "https://localhost:8080/"
        },
        "id": "9ptpIAJ_A1VS",
        "outputId": "60bc7735-52f6-4b8a-aa8d-28492646b3f7"
      },
      "execution_count": 5,
      "outputs": [
        {
          "output_type": "execute_result",
          "data": {
            "text/plain": [
              "(128, 128)"
            ]
          },
          "metadata": {},
          "execution_count": 5
        }
      ]
    },
    {
      "cell_type": "code",
      "source": [
        "#Test images\n",
        "test_images = []\n",
        "test_labels = [] \n",
        "for directory_path in glob.glob(\"/content/drive/MyDrive/data3a/validation/*\"):\n",
        "    test_label = directory_path.split(\"-\")[-1]\n",
        "    print(test_label)\n",
        "    for img_path in glob.glob(os.path.join(directory_path, \"*.JPEG\")):\n",
        "        img = cv2.imread(img_path, cv2.IMREAD_COLOR)\n",
        "        img = cv2.cvtColor(img, cv2.COLOR_BGR2GRAY)  \n",
        "\n",
        "        img = cv2.resize(img, (SIZE, SIZE))\n",
        "        test_images.append(img)\n",
        "        test_labels.append(test_label)\n",
        "    for img_path in glob.glob(os.path.join(directory_path, \"*.jpeg\")):\n",
        "        img = cv2.imread(img_path, cv2.IMREAD_COLOR)\n",
        "        img = cv2.cvtColor(img, cv2.COLOR_BGR2GRAY)  \n",
        "\n",
        "        img = cv2.resize(img, (SIZE, SIZE))\n",
        "        test_images.append(img)\n",
        "        test_labels.append(test_label)\n",
        "    for img_path in glob.glob(os.path.join(directory_path, \"*.jpg\")):\n",
        "        img = cv2.imread(img_path, cv2.IMREAD_COLOR)\n",
        "        img = cv2.cvtColor(img, cv2.COLOR_BGR2GRAY)  \n",
        "\n",
        "        img = cv2.resize(img, (SIZE, SIZE))\n",
        "        test_images.append(img)\n",
        "        test_labels.append(test_label)\n",
        "\n",
        "test_images = np.array(test_images)\n",
        "test_labels = np.array(test_labels)"
      ],
      "metadata": {
        "id": "bNyAMV4LXEFf",
        "colab": {
          "base_uri": "https://localhost:8080/"
        },
        "outputId": "2aab5bc8-68e9-4c66-ffd4-83d73648b196"
      },
      "execution_count": 6,
      "outputs": [
        {
          "output_type": "stream",
          "name": "stdout",
          "text": [
            "minor\n",
            "severe\n",
            "moderate\n"
          ]
        }
      ]
    },
    {
      "cell_type": "code",
      "source": [],
      "metadata": {
        "id": "Q6InxNL4y4u7"
      },
      "execution_count": 6,
      "outputs": []
    },
    {
      "cell_type": "code",
      "source": [
        "train_images.shape,train_labels.shape"
      ],
      "metadata": {
        "colab": {
          "base_uri": "https://localhost:8080/"
        },
        "id": "1fZnpUE6LMLR",
        "outputId": "7b576948-a1b7-486b-f8cd-11c345000e3e"
      },
      "execution_count": 7,
      "outputs": [
        {
          "output_type": "execute_result",
          "data": {
            "text/plain": [
              "((1383, 128, 128), (1383,))"
            ]
          },
          "metadata": {},
          "execution_count": 7
        }
      ]
    },
    {
      "cell_type": "code",
      "source": [
        "test_images.shape,test_labels.shape"
      ],
      "metadata": {
        "colab": {
          "base_uri": "https://localhost:8080/"
        },
        "id": "oju62wP3XEI-",
        "outputId": "ba04481a-f4cd-4cdd-e4cc-f3f971345640"
      },
      "execution_count": 8,
      "outputs": [
        {
          "output_type": "execute_result",
          "data": {
            "text/plain": [
              "((248, 128, 128), (248,))"
            ]
          },
          "metadata": {},
          "execution_count": 8
        }
      ]
    },
    {
      "cell_type": "code",
      "source": [
        "#Label Encoding\n",
        "le = preprocessing.LabelEncoder()\n",
        "le.fit(test_labels)\n",
        "test_labels_encoded = le.transform(test_labels)\n",
        "le.fit(train_labels)\n",
        "train_labels_encoded = le.transform(train_labels)"
      ],
      "metadata": {
        "id": "dpsG8hnitABw"
      },
      "execution_count": 9,
      "outputs": []
    },
    {
      "cell_type": "code",
      "source": [
        "# Normalizing pixel values to between 0 and 1\n",
        "# x_train, x_test = x_train / 255.0, x_test / 255.0"
      ],
      "metadata": {
        "id": "r4EgsSvzlq1s"
      },
      "execution_count": 10,
      "outputs": []
    },
    {
      "cell_type": "code",
      "source": [
        "#Spliting data into train, validation and test datasets \n",
        "x_train, x_val,y_train, y_val = train_test_split(train_images, train_labels_encoded, test_size=0.2, random_state=1)\n",
        "x_test, y_test = test_images, test_labels_encoded\n"
      ],
      "metadata": {
        "id": "T74ZO7xztRUz"
      },
      "execution_count": 11,
      "outputs": []
    },
    {
      "cell_type": "code",
      "source": [
        "x_train.shape , y_train.shape , x_val.shape , y_val.shape , x_test.shape , y_test.shape"
      ],
      "metadata": {
        "colab": {
          "base_uri": "https://localhost:8080/"
        },
        "id": "PjPasYJlzA4a",
        "outputId": "5d3482cc-d634-491e-9abf-4307d2436d7b"
      },
      "execution_count": 12,
      "outputs": [
        {
          "output_type": "execute_result",
          "data": {
            "text/plain": [
              "((1106, 128, 128), (1106,), (277, 128, 128), (277,), (248, 128, 128), (248,))"
            ]
          },
          "metadata": {},
          "execution_count": 12
        }
      ]
    },
    {
      "cell_type": "code",
      "source": [
        "df = pd.DataFrame(\n",
        "                       x_train.reshape((-1, x_train.shape[-1])), \n",
        "                       index= pd.MultiIndex.from_product(\n",
        "                          [range(x_train.shape[0]), range(x_train.shape[1])]\n",
        "                          )\n",
        "                      ).to_csv('/content/sample_data_x_train.csv')"
      ],
      "metadata": {
        "id": "GGp4amBGDN8u"
      },
      "execution_count": 25,
      "outputs": []
    },
    {
      "cell_type": "code",
      "source": [
        "# df = pd.DataFrame(\n",
        "#                        y_train.reshape((-1, y_train.shape[-1])), \n",
        "#                        index= pd.MultiIndex.from_product(\n",
        "#                           [range(y_train.shape[0]), range(y_train.shape[1])]\n",
        "#                           )\n",
        "#                       ).to_csv('/content/sample_data_y_train.csv')\n",
        "\n",
        "df = pd.DataFrame(y_train)\n",
        "df.to_csv('/content/sample_data_y_train.csv', index=False)  \n"
      ],
      "metadata": {
        "id": "ci50JGncIvHx"
      },
      "execution_count": 31,
      "outputs": []
    },
    {
      "cell_type": "code",
      "source": [
        "df = pd.DataFrame(\n",
        "                       x_val.reshape((-1, x_val.shape[-1])), \n",
        "                       index= pd.MultiIndex.from_product(\n",
        "                          [range(x_val.shape[0]), range(x_val.shape[1])]\n",
        "                          )\n",
        "                      ).to_csv('/content/sample_data_x_val.csv')"
      ],
      "metadata": {
        "id": "MMXXlCClJAOV"
      },
      "execution_count": 27,
      "outputs": []
    },
    {
      "cell_type": "code",
      "source": [
        "# df = pd.DataFrame(\n",
        "#                        y_val.reshape((-1, y_val.shape[-1])), \n",
        "#                        index= pd.MultiIndex.from_product(\n",
        "#                           [range(y_val.shape[0]), range(y_val.shape[1])]\n",
        "#                           )\n",
        "#                       ).to_csv('/content/sample_data_y_val.csv')\n",
        "\n",
        "df = pd.DataFrame(y_val)\n",
        "df.to_csv('/content/sample_data_y_val.csv', index=False)  \n"
      ],
      "metadata": {
        "id": "IV-D_e9NJAbX"
      },
      "execution_count": 32,
      "outputs": []
    },
    {
      "cell_type": "code",
      "source": [
        "df = pd.DataFrame(\n",
        "                       x_test.reshape((-1, x_test.shape[-1])), \n",
        "                       index= pd.MultiIndex.from_product(\n",
        "                          [range(x_test.shape[0]), range(x_test.shape[1])]\n",
        "                          )\n",
        "                      ).to_csv('/content/sample_data_x_test.csv')"
      ],
      "metadata": {
        "id": "rHEFWqNIJAhc"
      },
      "execution_count": 29,
      "outputs": []
    },
    {
      "cell_type": "code",
      "source": [
        "# df = pd.DataFrame(\n",
        "#                        y_test.reshape((-1, y_test.shape[-1])), \n",
        "#                        index= pd.MultiIndex.from_product(\n",
        "#                           [range(y_test.shape[0]), range(y_test.shape[1])]\n",
        "#                           )\n",
        "#                       ).to_csv('/content/sample_data_y_test.csv')\n",
        "\n",
        "df = pd.DataFrame(y_test)\n",
        "df.to_csv('/content/sample_data_y_test.csv', index=False)  \n"
      ],
      "metadata": {
        "id": "6wRrMk24JBcd"
      },
      "execution_count": 33,
      "outputs": []
    },
    {
      "cell_type": "code",
      "source": [
        "# df = pd.read_csv('/content/sample_data/sample_data_x_train.csv', header=None, index_col=[0,1])\n",
        "# np.array(df.agg(list, 1).groupby(level=0).agg(list).tolist())"
      ],
      "metadata": {
        "id": "xE9K2mOiDcUL"
      },
      "execution_count": 36,
      "outputs": []
    },
    {
      "cell_type": "code",
      "source": [],
      "metadata": {
        "id": "LaGi_lI8C9Mi"
      },
      "execution_count": null,
      "outputs": []
    },
    {
      "cell_type": "code",
      "source": [
        "###################################################################\n",
        "# FEATURE EXTRACTOR function\n",
        "# input shape is (n, x, y, c) - number of images, x, y, and channels\n",
        "def feature_extractor(dataset):\n",
        "    image_dataset = pd.DataFrame()\n",
        "    for image in range(dataset.shape[0]):  #iterate through each file \n",
        "        #print(image)\n",
        "        \n",
        "        df = pd.DataFrame()  #Temporary data frame to capture information for each loop.\n",
        "        #Reset dataframe to blank after each loop.\n",
        "        \n",
        "        img = dataset[image, :,:]\n",
        "    ################################################################\n",
        "    #START ADDING DATA TO THE DATAFRAME\n",
        "  \n",
        "                \n",
        "         #Full image\n",
        "        #GLCM = graycomatrix(img, [1], [0, np.pi/4, np.pi/2, 3*np.pi/4])\n",
        "        GLCM = graycomatrix(img, [1], [0])       \n",
        "        GLCM_Energy = graycoprops(GLCM, 'energy')[0]\n",
        "        df['Energy'] = GLCM_Energy\n",
        "        GLCM_corr = graycoprops(GLCM, 'correlation')[0]\n",
        "        df['Corr'] = GLCM_corr       \n",
        "        GLCM_diss = graycoprops(GLCM, 'dissimilarity')[0]\n",
        "        df['Diss_sim'] = GLCM_diss       \n",
        "        GLCM_hom = graycoprops(GLCM, 'homogeneity')[0]\n",
        "        df['Homogen'] = GLCM_hom       \n",
        "        GLCM_contr = graycoprops(GLCM, 'contrast')[0]\n",
        "        df['Contrast'] = GLCM_contr\n",
        "\n",
        "\n",
        "        GLCM2 = graycomatrix(img, [3], [0])       \n",
        "        GLCM_Energy2 = graycoprops(GLCM2, 'energy')[0]\n",
        "        df['Energy2'] = GLCM_Energy2\n",
        "        GLCM_corr2 = graycoprops(GLCM2, 'correlation')[0]\n",
        "        df['Corr2'] = GLCM_corr2       \n",
        "        GLCM_diss2 = graycoprops(GLCM2, 'dissimilarity')[0]\n",
        "        df['Diss_sim2'] = GLCM_diss2       \n",
        "        GLCM_hom2 = graycoprops(GLCM2, 'homogeneity')[0]\n",
        "        df['Homogen2'] = GLCM_hom2       \n",
        "        GLCM_contr2 = graycoprops(GLCM2, 'contrast')[0]\n",
        "        df['Contrast2'] = GLCM_contr2\n",
        "\n",
        "        GLCM3 = graycomatrix(img, [5], [0])       \n",
        "        GLCM_Energy3 = graycoprops(GLCM3, 'energy')[0]\n",
        "        df['Energy3'] = GLCM_Energy3\n",
        "        GLCM_corr3 = graycoprops(GLCM3, 'correlation')[0]\n",
        "        df['Corr3'] = GLCM_corr3       \n",
        "        GLCM_diss3 = graycoprops(GLCM3, 'dissimilarity')[0]\n",
        "        df['Diss_sim3'] = GLCM_diss3       \n",
        "        GLCM_hom3 = graycoprops(GLCM3, 'homogeneity')[0]\n",
        "        df['Homogen3'] = GLCM_hom3       \n",
        "        GLCM_contr3 = graycoprops(GLCM3, 'contrast')[0]\n",
        "        df['Contrast3'] = GLCM_contr3\n",
        "\n",
        "        GLCM4 = graycomatrix(img, [0], [np.pi/4])       \n",
        "        GLCM_Energy4 = graycoprops(GLCM4, 'energy')[0]\n",
        "        df['Energy4'] = GLCM_Energy4\n",
        "        GLCM_corr4 = graycoprops(GLCM4, 'correlation')[0]\n",
        "        df['Corr4'] = GLCM_corr4       \n",
        "        GLCM_diss4 = graycoprops(GLCM4, 'dissimilarity')[0]\n",
        "        df['Diss_sim4'] = GLCM_diss4       \n",
        "        GLCM_hom4 = graycoprops(GLCM4, 'homogeneity')[0]\n",
        "        df['Homogen4'] = GLCM_hom4       \n",
        "        GLCM_contr4 = graycoprops(GLCM4, 'contrast')[0]\n",
        "        df['Contrast4'] = GLCM_contr4\n",
        "        \n",
        "        GLCM5 = graycomatrix(img, [0], [np.pi/2])       \n",
        "        GLCM_Energy5 = graycoprops(GLCM5, 'energy')[0]\n",
        "        df['Energy5'] = GLCM_Energy5\n",
        "        GLCM_corr5 = graycoprops(GLCM5, 'correlation')[0]\n",
        "        df['Corr5'] = GLCM_corr5       \n",
        "        GLCM_diss5 = graycoprops(GLCM5, 'dissimilarity')[0]\n",
        "        df['Diss_sim5'] = GLCM_diss5       \n",
        "        GLCM_hom5 = graycoprops(GLCM5, 'homogeneity')[0]\n",
        "        df['Homogen5'] = GLCM_hom5       \n",
        "        GLCM_contr5 = graycoprops(GLCM5, 'contrast')[0]\n",
        "        df['Contrast5'] = GLCM_contr5\n",
        "        \n",
        "        #Add more filters as needed\n",
        "        #entropy = shannon_entropy(img)\n",
        "        #df['Entropy'] = entropy\n",
        "\n",
        "        \n",
        "        #Append features from current image to the dataset\n",
        "        image_dataset= pd.concat([image_dataset, df], axis=0)\n",
        "        \n",
        "    return image_dataset"
      ],
      "metadata": {
        "id": "ZmNmHW9sfseT"
      },
      "execution_count": 37,
      "outputs": []
    },
    {
      "cell_type": "code",
      "source": [
        "#Extract features from training images\n",
        "image_features = feature_extractor(x_train)\n",
        "X_for_ML_GLCM =image_features\n",
        "X_for_ML_GLCM.shape"
      ],
      "metadata": {
        "colab": {
          "base_uri": "https://localhost:8080/"
        },
        "id": "Y2JU_yNcgIrH",
        "outputId": "239e109a-193e-4819-9f95-7f88ccfe76f8"
      },
      "execution_count": 67,
      "outputs": [
        {
          "output_type": "execute_result",
          "data": {
            "text/plain": [
              "(1106, 25)"
            ]
          },
          "metadata": {},
          "execution_count": 67
        }
      ]
    },
    {
      "cell_type": "code",
      "source": [
        "X_for_ML_GLCM.to_csv('/content/sample_data_X_for_ML_GLCM.csv', index=False)  "
      ],
      "metadata": {
        "id": "rEfkr5HyLgUB"
      },
      "execution_count": 40,
      "outputs": []
    },
    {
      "cell_type": "code",
      "source": [
        "X_for_ML_GLCM = pd.read_csv('/content/sample_data/sample_data_X_for_ML_GLCM.csv')"
      ],
      "metadata": {
        "id": "VA_WfoKDMMuf"
      },
      "execution_count": 41,
      "outputs": []
    },
    {
      "cell_type": "code",
      "source": [
        "X_for_ML_GLCM.shape"
      ],
      "metadata": {
        "colab": {
          "base_uri": "https://localhost:8080/"
        },
        "id": "JIVBasGJOw-k",
        "outputId": "e580a16c-8c5c-4617-9909-9a8ee56e2375"
      },
      "execution_count": 66,
      "outputs": [
        {
          "output_type": "execute_result",
          "data": {
            "text/plain": [
              "(1106, 25)"
            ]
          },
          "metadata": {},
          "execution_count": 66
        }
      ]
    },
    {
      "cell_type": "code",
      "source": [
        "#Define the classifier\n",
        "from sklearn.ensemble import RandomForestClassifier\n",
        "RF_model = RandomForestClassifier(n_estimators = 50, random_state = 42)"
      ],
      "metadata": {
        "id": "Gaskt5EW5-z8"
      },
      "execution_count": 42,
      "outputs": []
    },
    {
      "cell_type": "code",
      "source": [
        "#Can also use SVM but RF is faster and may be more accurate.\n",
        "# from sklearn import svm\n",
        "# SVM_model = svm.SVC(decision_function_shape='ovo')  #For multiclass classification\n",
        "\n",
        "\n",
        "# Fit the model on training data\n",
        "RF_model.fit(X_for_ML_GLCM.values, y_train) #For sklearn no one hot encoding\n",
        "# SVM_model.fit(X_for_RF, y_train)\n",
        "\n"
      ],
      "metadata": {
        "colab": {
          "base_uri": "https://localhost:8080/",
          "height": 74
        },
        "id": "jtwbZk7sgi1H",
        "outputId": "0f88aaeb-ab2d-4f84-996a-2851f75f02c2"
      },
      "execution_count": 81,
      "outputs": [
        {
          "output_type": "execute_result",
          "data": {
            "text/plain": [
              "RandomForestClassifier(n_estimators=50, random_state=42)"
            ],
            "text/html": [
              "<style>#sk-container-id-5 {color: black;background-color: white;}#sk-container-id-5 pre{padding: 0;}#sk-container-id-5 div.sk-toggleable {background-color: white;}#sk-container-id-5 label.sk-toggleable__label {cursor: pointer;display: block;width: 100%;margin-bottom: 0;padding: 0.3em;box-sizing: border-box;text-align: center;}#sk-container-id-5 label.sk-toggleable__label-arrow:before {content: \"▸\";float: left;margin-right: 0.25em;color: #696969;}#sk-container-id-5 label.sk-toggleable__label-arrow:hover:before {color: black;}#sk-container-id-5 div.sk-estimator:hover label.sk-toggleable__label-arrow:before {color: black;}#sk-container-id-5 div.sk-toggleable__content {max-height: 0;max-width: 0;overflow: hidden;text-align: left;background-color: #f0f8ff;}#sk-container-id-5 div.sk-toggleable__content pre {margin: 0.2em;color: black;border-radius: 0.25em;background-color: #f0f8ff;}#sk-container-id-5 input.sk-toggleable__control:checked~div.sk-toggleable__content {max-height: 200px;max-width: 100%;overflow: auto;}#sk-container-id-5 input.sk-toggleable__control:checked~label.sk-toggleable__label-arrow:before {content: \"▾\";}#sk-container-id-5 div.sk-estimator input.sk-toggleable__control:checked~label.sk-toggleable__label {background-color: #d4ebff;}#sk-container-id-5 div.sk-label input.sk-toggleable__control:checked~label.sk-toggleable__label {background-color: #d4ebff;}#sk-container-id-5 input.sk-hidden--visually {border: 0;clip: rect(1px 1px 1px 1px);clip: rect(1px, 1px, 1px, 1px);height: 1px;margin: -1px;overflow: hidden;padding: 0;position: absolute;width: 1px;}#sk-container-id-5 div.sk-estimator {font-family: monospace;background-color: #f0f8ff;border: 1px dotted black;border-radius: 0.25em;box-sizing: border-box;margin-bottom: 0.5em;}#sk-container-id-5 div.sk-estimator:hover {background-color: #d4ebff;}#sk-container-id-5 div.sk-parallel-item::after {content: \"\";width: 100%;border-bottom: 1px solid gray;flex-grow: 1;}#sk-container-id-5 div.sk-label:hover label.sk-toggleable__label {background-color: #d4ebff;}#sk-container-id-5 div.sk-serial::before {content: \"\";position: absolute;border-left: 1px solid gray;box-sizing: border-box;top: 0;bottom: 0;left: 50%;z-index: 0;}#sk-container-id-5 div.sk-serial {display: flex;flex-direction: column;align-items: center;background-color: white;padding-right: 0.2em;padding-left: 0.2em;position: relative;}#sk-container-id-5 div.sk-item {position: relative;z-index: 1;}#sk-container-id-5 div.sk-parallel {display: flex;align-items: stretch;justify-content: center;background-color: white;position: relative;}#sk-container-id-5 div.sk-item::before, #sk-container-id-5 div.sk-parallel-item::before {content: \"\";position: absolute;border-left: 1px solid gray;box-sizing: border-box;top: 0;bottom: 0;left: 50%;z-index: -1;}#sk-container-id-5 div.sk-parallel-item {display: flex;flex-direction: column;z-index: 1;position: relative;background-color: white;}#sk-container-id-5 div.sk-parallel-item:first-child::after {align-self: flex-end;width: 50%;}#sk-container-id-5 div.sk-parallel-item:last-child::after {align-self: flex-start;width: 50%;}#sk-container-id-5 div.sk-parallel-item:only-child::after {width: 0;}#sk-container-id-5 div.sk-dashed-wrapped {border: 1px dashed gray;margin: 0 0.4em 0.5em 0.4em;box-sizing: border-box;padding-bottom: 0.4em;background-color: white;}#sk-container-id-5 div.sk-label label {font-family: monospace;font-weight: bold;display: inline-block;line-height: 1.2em;}#sk-container-id-5 div.sk-label-container {text-align: center;}#sk-container-id-5 div.sk-container {/* jupyter's `normalize.less` sets `[hidden] { display: none; }` but bootstrap.min.css set `[hidden] { display: none !important; }` so we also need the `!important` here to be able to override the default hidden behavior on the sphinx rendered scikit-learn.org. See: https://github.com/scikit-learn/scikit-learn/issues/21755 */display: inline-block !important;position: relative;}#sk-container-id-5 div.sk-text-repr-fallback {display: none;}</style><div id=\"sk-container-id-5\" class=\"sk-top-container\"><div class=\"sk-text-repr-fallback\"><pre>RandomForestClassifier(n_estimators=50, random_state=42)</pre><b>In a Jupyter environment, please rerun this cell to show the HTML representation or trust the notebook. <br />On GitHub, the HTML representation is unable to render, please try loading this page with nbviewer.org.</b></div><div class=\"sk-container\" hidden><div class=\"sk-item\"><div class=\"sk-estimator sk-toggleable\"><input class=\"sk-toggleable__control sk-hidden--visually\" id=\"sk-estimator-id-5\" type=\"checkbox\" checked><label for=\"sk-estimator-id-5\" class=\"sk-toggleable__label sk-toggleable__label-arrow\">RandomForestClassifier</label><div class=\"sk-toggleable__content\"><pre>RandomForestClassifier(n_estimators=50, random_state=42)</pre></div></div></div></div></div>"
            ]
          },
          "metadata": {},
          "execution_count": 81
        }
      ]
    },
    {
      "cell_type": "code",
      "source": [
        "#Predict on Test data\n",
        "#Extract features from test data and reshape, just like training data\n",
        "val_features = feature_extractor(x_val)\n",
        "val_features = np.expand_dims(val_features, axis=0)\n",
        "val_for_RF = np.reshape(val_features, (x_val.shape[0], -1))"
      ],
      "metadata": {
        "id": "AlJXZrMWzbkK"
      },
      "execution_count": 83,
      "outputs": []
    },
    {
      "cell_type": "code",
      "source": [
        "type(val_for_RF), type(val_features)"
      ],
      "metadata": {
        "colab": {
          "base_uri": "https://localhost:8080/"
        },
        "id": "qkppHiZnQCph",
        "outputId": "ebf1e5a9-8dd7-4293-fc9f-3b4615341685"
      },
      "execution_count": 79,
      "outputs": [
        {
          "output_type": "execute_result",
          "data": {
            "text/plain": [
              "(numpy.ndarray, numpy.ndarray)"
            ]
          },
          "metadata": {},
          "execution_count": 79
        }
      ]
    },
    {
      "cell_type": "code",
      "source": [
        "#Predict on test\n",
        "val_prediction_RF = RF_model.predict(val_for_RF)\n",
        "#Inverse le transform to get original label back. \n",
        "val_prediction_RF = le.inverse_transform(val_prediction_RF)"
      ],
      "metadata": {
        "id": "BpgB54gi0xyF"
      },
      "execution_count": 84,
      "outputs": []
    },
    {
      "cell_type": "code",
      "source": [
        "y_val_labels= le.inverse_transform(y_val)"
      ],
      "metadata": {
        "id": "YEtpG9Po14js"
      },
      "execution_count": 85,
      "outputs": []
    },
    {
      "cell_type": "code",
      "source": [
        "#Print overall accuracy\n",
        "from sklearn import metrics\n",
        "print (\"Accuracy = \", metrics.accuracy_score(y_val_labels, val_prediction_RF))"
      ],
      "metadata": {
        "colab": {
          "base_uri": "https://localhost:8080/"
        },
        "id": "K5wBJOC4jFGf",
        "outputId": "b2831295-9686-4e19-a5b0-466b2d1d30c8"
      },
      "execution_count": 86,
      "outputs": [
        {
          "output_type": "stream",
          "name": "stdout",
          "text": [
            "Accuracy =  0.5054151624548736\n"
          ]
        }
      ]
    },
    {
      "cell_type": "code",
      "source": [
        "#Print confusion matrix\n",
        "from sklearn.metrics import confusion_matrix\n",
        "cm = confusion_matrix(y_val_labels, val_prediction_RF)\n",
        "\n",
        "fig, ax = plt.subplots(figsize=(6,6))         # Sample figsize in inches\n",
        "sns.set(font_scale=1.6)\n",
        "sns.heatmap(cm, annot=True, ax=ax)"
      ],
      "metadata": {
        "colab": {
          "base_uri": "https://localhost:8080/",
          "height": 539
        },
        "id": "4zDTZNwcjFJ3",
        "outputId": "ddb89e9e-3e79-44b5-bdcb-cb5b2a126d16"
      },
      "execution_count": 87,
      "outputs": [
        {
          "output_type": "execute_result",
          "data": {
            "text/plain": [
              "<Axes: >"
            ]
          },
          "metadata": {},
          "execution_count": 87
        },
        {
          "output_type": "display_data",
          "data": {
            "text/plain": [
              "<Figure size 600x600 with 2 Axes>"
            ],
            "image/png": "[encoded data removed]"
          },
          "metadata": {}
        }
      ]
    },
    {
      "cell_type": "code",
      "source": [
        "# FEATURE EXTRACTOR function\n",
        "# input shape is (n, x, y, c) - number of images, x, y, and channels\n",
        "def feature_extractor(dataset):\n",
        "    x_train = dataset\n",
        "    image_dataset = pd.DataFrame()\n",
        "    for image in range(x_train.shape[0]):  #Iterating through each file \n",
        "        \n",
        "        df = pd.DataFrame()  #Temporary data frame to capture information for each loop.\n",
        "        \n",
        "        input_img = x_train[image, :,:]\n",
        "        img = input_img\n",
        "\n",
        "         # FEATURE 1 - Pixel values         \n",
        "        #Adding pixel values to the data frame\n",
        "        pixel_values = img.reshape(-1)\n",
        "        df['Pixel_Value'] = pixel_values  \n",
        "        #Generate Gabor features\n",
        "        num = 1  #To count numbers up in order to give Gabor features a lable in the data frame\n",
        "        kernels = []  #Create empty list to hold all kernels that we will generate in a loop\n",
        "        for theta in range(2):   #Define number of thetas. Here only 2 theta values 0 and 1/4 . pi \n",
        "            theta = theta / 4. * np.pi\n",
        "            for sigma in (1, 3):  #Sigma with values of 1 and 3\n",
        "                for lamda in np.arange(0, np.pi, np.pi / 4):   #Range of wavelengths\n",
        "                    for gamma in (0.05, 0.5):   #Gamma values of 0.05 and 0.5\n",
        "                                  \n",
        "                        gabor_label = 'Gabor' + str(num)  #Label Gabor columns as Gabor1, Gabor2, etc.\n",
        "                        ksize=9\n",
        "                        kernel = cv2.getGaborKernel((ksize, ksize), sigma, theta, lamda, gamma, 0, ktype=cv2.CV_32F)    \n",
        "                        kernels.append(kernel)\n",
        "                        #Now filter the image and add values to a new column \n",
        "                        fimg = cv2.filter2D(img, cv2.CV_8UC3, kernel)\n",
        "                        filtered_img = fimg.reshape(-1)\n",
        "                        df[gabor_label] = filtered_img  #Labels columns as Gabor1, Gabor2, etc.\n",
        "                        num += 1  #Increment for gabor column label\n",
        "        \n",
        "        #Append features from current image to the dataset\n",
        "        image_dataset= pd.concat([image_dataset, df], axis=0)\n",
        "        \n",
        "    return image_dataset"
      ],
      "metadata": {
        "id": "qWUQD_sTxL-n"
      },
      "execution_count": 88,
      "outputs": []
    },
    {
      "cell_type": "code",
      "source": [
        "# Normalizing pixel values to between 0 and 1\n",
        "x_train,x_val = x_train / 255.0,x_val / 255.0"
      ],
      "metadata": {
        "id": "TRxfSWUKxMBM"
      },
      "execution_count": 89,
      "outputs": []
    },
    {
      "cell_type": "code",
      "source": [
        "#Extracting features\n",
        "image_features = feature_extractor(x_train)"
      ],
      "metadata": {
        "id": "DsJvmWYixMFe"
      },
      "execution_count": 90,
      "outputs": []
    },
    {
      "cell_type": "code",
      "source": [
        "image_features.shape"
      ],
      "metadata": {
        "colab": {
          "base_uri": "https://localhost:8080/"
        },
        "id": "v-8P9erpxMH-",
        "outputId": "83ccccd9-0542-432d-fa07-c90c5611bbf9"
      },
      "execution_count": 91,
      "outputs": [
        {
          "output_type": "execute_result",
          "data": {
            "text/plain": [
              "(18120704, 33)"
            ]
          },
          "metadata": {},
          "execution_count": 91
        }
      ]
    },
    {
      "cell_type": "code",
      "source": [
        "#Reshaping to a vector for ML training\n",
        "n_features = image_features.shape[1]\n",
        "image_features = np.expand_dims(image_features, axis=0)\n",
        "X_for_RF_GABOR = np.reshape(image_features, (x_train.shape[0], -1))  #Reshape to #images, features"
      ],
      "metadata": {
        "id": "HLUyQTWd2x9j"
      },
      "execution_count": 92,
      "outputs": []
    },
    {
      "cell_type": "code",
      "source": [
        "X_for_RF_GABOR.shape"
      ],
      "metadata": {
        "colab": {
          "base_uri": "https://localhost:8080/"
        },
        "id": "tUKScjXA2yJY",
        "outputId": "6a5c1be6-3fe4-494d-a379-8ca724d5d866"
      },
      "execution_count": 93,
      "outputs": [
        {
          "output_type": "execute_result",
          "data": {
            "text/plain": [
              "(1106, 540672)"
            ]
          },
          "metadata": {},
          "execution_count": 93
        }
      ]
    },
    {
      "cell_type": "code",
      "source": [
        "df=pd.DataFrame(X_for_RF_GABOR)\n",
        "df.to_csv('/content/sample_data_X_for_RF_GABOR1.csv', index=False)"
      ],
      "metadata": {
        "id": "ZSBA5xsURGG3"
      },
      "execution_count": null,
      "outputs": []
    },
    {
      "cell_type": "code",
      "source": [
        "X_for_ML_GLCM = pd.read_csv('/content/sample_data/sample_data_X_for_RF_GABOR.csv')"
      ],
      "metadata": {
        "colab": {
          "base_uri": "https://localhost:8080/",
          "height": 324
        },
        "id": "6cB8hTZeTJk9",
        "outputId": "d69cba18-5ed4-4a80-ae1a-1363a5118275"
      },
      "execution_count": 97,
      "outputs": [
        {
          "output_type": "error",
          "ename": "FileNotFoundError",
          "evalue": "ignored",
          "traceback": [
            "\u001b[0;31m---------------------------------------------------------------------------\u001b[0m",
            "\u001b[0;31mFileNotFoundError\u001b[0m                         Traceback (most recent call last)",
            "\u001b[0;32m<ipython-input-97-f0e656649c9d>\u001b[0m in \u001b[0;36m<cell line: 1>\u001b[0;34m()\u001b[0m\n\u001b[0;32m----> 1\u001b[0;31m \u001b[0mX_for_ML_GLCM\u001b[0m \u001b[0;34m=\u001b[0m \u001b[0mpd\u001b[0m\u001b[0;34m.\u001b[0m\u001b[0mread_csv\u001b[0m\u001b[0;34m(\u001b[0m\u001b[0;34m'/content/sample_data/sample_data_X_for_RF_GABOR.csv'\u001b[0m\u001b[0;34m)\u001b[0m\u001b[0;34m\u001b[0m\u001b[0;34m\u001b[0m\u001b[0m\n\u001b[0m",
            "\u001b[0;32m/usr/local/lib/python3.10/dist-packages/pandas/util/_decorators.py\u001b[0m in \u001b[0;36mwrapper\u001b[0;34m(*args, **kwargs)\u001b[0m\n\u001b[1;32m    209\u001b[0m                 \u001b[0;32melse\u001b[0m\u001b[0;34m:\u001b[0m\u001b[0;34m\u001b[0m\u001b[0;34m\u001b[0m\u001b[0m\n\u001b[1;32m    210\u001b[0m                     \u001b[0mkwargs\u001b[0m\u001b[0;34m[\u001b[0m\u001b[0mnew_arg_name\u001b[0m\u001b[0;34m]\u001b[0m \u001b[0;34m=\u001b[0m \u001b[0mnew_arg_value\u001b[0m\u001b[0;34m\u001b[0m\u001b[0;34m\u001b[0m\u001b[0m\n\u001b[0;32m--> 211\u001b[0;31m             \u001b[0;32mreturn\u001b[0m \u001b[0mfunc\u001b[0m\u001b[0;34m(\u001b[0m\u001b[0;34m*\u001b[0m\u001b[0margs\u001b[0m\u001b[0;34m,\u001b[0m \u001b[0;34m**\u001b[0m\u001b[0mkwargs\u001b[0m\u001b[0;34m)\u001b[0m\u001b[0;34m\u001b[0m\u001b[0;34m\u001b[0m\u001b[0m\n\u001b[0m\u001b[1;32m    212\u001b[0m \u001b[0;34m\u001b[0m\u001b[0m\n\u001b[1;32m    213\u001b[0m         \u001b[0;32mreturn\u001b[0m \u001b[0mcast\u001b[0m\u001b[0;34m(\u001b[0m\u001b[0mF\u001b[0m\u001b[0;34m,\u001b[0m \u001b[0mwrapper\u001b[0m\u001b[0;34m)\u001b[0m\u001b[0;34m\u001b[0m\u001b[0;34m\u001b[0m\u001b[0m\n",
            "\u001b[0;32m/usr/local/lib/python3.10/dist-packages/pandas/util/_decorators.py\u001b[0m in \u001b[0;36mwrapper\u001b[0;34m(*args, **kwargs)\u001b[0m\n\u001b[1;32m    329\u001b[0m                     \u001b[0mstacklevel\u001b[0m\u001b[0;34m=\u001b[0m\u001b[0mfind_stack_level\u001b[0m\u001b[0;34m(\u001b[0m\u001b[0;34m)\u001b[0m\u001b[0;34m,\u001b[0m\u001b[0;34m\u001b[0m\u001b[0;34m\u001b[0m\u001b[0m\n\u001b[1;32m    330\u001b[0m                 )\n\u001b[0;32m--> 331\u001b[0;31m             \u001b[0;32mreturn\u001b[0m \u001b[0mfunc\u001b[0m\u001b[0;34m(\u001b[0m\u001b[0;34m*\u001b[0m\u001b[0margs\u001b[0m\u001b[0;34m,\u001b[0m \u001b[0;34m**\u001b[0m\u001b[0mkwargs\u001b[0m\u001b[0;34m)\u001b[0m\u001b[0;34m\u001b[0m\u001b[0;34m\u001b[0m\u001b[0m\n\u001b[0m\u001b[1;32m    332\u001b[0m \u001b[0;34m\u001b[0m\u001b[0m\n\u001b[1;32m    333\u001b[0m         \u001b[0;31m# error: \"Callable[[VarArg(Any), KwArg(Any)], Any]\" has no\u001b[0m\u001b[0;34m\u001b[0m\u001b[0;34m\u001b[0m\u001b[0m\n",
            "\u001b[0;32m/usr/local/lib/python3.10/dist-packages/pandas/io/parsers/readers.py\u001b[0m in \u001b[0;36mread_csv\u001b[0;34m(filepath_or_buffer, sep, delimiter, header, names, index_col, usecols, squeeze, prefix, mangle_dupe_cols, dtype, engine, converters, true_values, false_values, skipinitialspace, skiprows, skipfooter, nrows, na_values, keep_default_na, na_filter, verbose, skip_blank_lines, parse_dates, infer_datetime_format, keep_date_col, date_parser, dayfirst, cache_dates, iterator, chunksize, compression, thousands, decimal, lineterminator, quotechar, quoting, doublequote, escapechar, comment, encoding, encoding_errors, dialect, error_bad_lines, warn_bad_lines, on_bad_lines, delim_whitespace, low_memory, memory_map, float_precision, storage_options)\u001b[0m\n\u001b[1;32m    948\u001b[0m     \u001b[0mkwds\u001b[0m\u001b[0;34m.\u001b[0m\u001b[0mupdate\u001b[0m\u001b[0;34m(\u001b[0m\u001b[0mkwds_defaults\u001b[0m\u001b[0;34m)\u001b[0m\u001b[0;34m\u001b[0m\u001b[0;34m\u001b[0m\u001b[0m\n\u001b[1;32m    949\u001b[0m \u001b[0;34m\u001b[0m\u001b[0m\n\u001b[0;32m--> 950\u001b[0;31m     \u001b[0;32mreturn\u001b[0m \u001b[0m_read\u001b[0m\u001b[0;34m(\u001b[0m\u001b[0mfilepath_or_buffer\u001b[0m\u001b[0;34m,\u001b[0m \u001b[0mkwds\u001b[0m\u001b[0;34m)\u001b[0m\u001b[0;34m\u001b[0m\u001b[0;34m\u001b[0m\u001b[0m\n\u001b[0m\u001b[1;32m    951\u001b[0m \u001b[0;34m\u001b[0m\u001b[0m\n\u001b[1;32m    952\u001b[0m \u001b[0;34m\u001b[0m\u001b[0m\n",
            "\u001b[0;32m/usr/local/lib/python3.10/dist-packages/pandas/io/parsers/readers.py\u001b[0m in \u001b[0;36m_read\u001b[0;34m(filepath_or_buffer, kwds)\u001b[0m\n\u001b[1;32m    603\u001b[0m \u001b[0;34m\u001b[0m\u001b[0m\n\u001b[1;32m    604\u001b[0m     \u001b[0;31m# Create the parser.\u001b[0m\u001b[0;34m\u001b[0m\u001b[0;34m\u001b[0m\u001b[0m\n\u001b[0;32m--> 605\u001b[0;31m     \u001b[0mparser\u001b[0m \u001b[0;34m=\u001b[0m \u001b[0mTextFileReader\u001b[0m\u001b[0;34m(\u001b[0m\u001b[0mfilepath_or_buffer\u001b[0m\u001b[0;34m,\u001b[0m \u001b[0;34m**\u001b[0m\u001b[0mkwds\u001b[0m\u001b[0;34m)\u001b[0m\u001b[0;34m\u001b[0m\u001b[0;34m\u001b[0m\u001b[0m\n\u001b[0m\u001b[1;32m    606\u001b[0m \u001b[0;34m\u001b[0m\u001b[0m\n\u001b[1;32m    607\u001b[0m     \u001b[0;32mif\u001b[0m \u001b[0mchunksize\u001b[0m \u001b[0;32mor\u001b[0m \u001b[0miterator\u001b[0m\u001b[0;34m:\u001b[0m\u001b[0;34m\u001b[0m\u001b[0;34m\u001b[0m\u001b[0m\n",
            "\u001b[0;32m/usr/local/lib/python3.10/dist-packages/pandas/io/parsers/readers.py\u001b[0m in \u001b[0;36m__init__\u001b[0;34m(self, f, engine, **kwds)\u001b[0m\n\u001b[1;32m   1440\u001b[0m \u001b[0;34m\u001b[0m\u001b[0m\n\u001b[1;32m   1441\u001b[0m         \u001b[0mself\u001b[0m\u001b[0;34m.\u001b[0m\u001b[0mhandles\u001b[0m\u001b[0;34m:\u001b[0m \u001b[0mIOHandles\u001b[0m \u001b[0;34m|\u001b[0m \u001b[0;32mNone\u001b[0m \u001b[0;34m=\u001b[0m \u001b[0;32mNone\u001b[0m\u001b[0;34m\u001b[0m\u001b[0;34m\u001b[0m\u001b[0m\n\u001b[0;32m-> 1442\u001b[0;31m         \u001b[0mself\u001b[0m\u001b[0;34m.\u001b[0m\u001b[0m_engine\u001b[0m \u001b[0;34m=\u001b[0m \u001b[0mself\u001b[0m\u001b[0;34m.\u001b[0m\u001b[0m_make_engine\u001b[0m\u001b[0;34m(\u001b[0m\u001b[0mf\u001b[0m\u001b[0;34m,\u001b[0m \u001b[0mself\u001b[0m\u001b[0;34m.\u001b[0m\u001b[0mengine\u001b[0m\u001b[0;34m)\u001b[0m\u001b[0;34m\u001b[0m\u001b[0;34m\u001b[0m\u001b[0m\n\u001b[0m\u001b[1;32m   1443\u001b[0m \u001b[0;34m\u001b[0m\u001b[0m\n\u001b[1;32m   1444\u001b[0m     \u001b[0;32mdef\u001b[0m \u001b[0mclose\u001b[0m\u001b[0;34m(\u001b[0m\u001b[0mself\u001b[0m\u001b[0;34m)\u001b[0m \u001b[0;34m->\u001b[0m \u001b[0;32mNone\u001b[0m\u001b[0;34m:\u001b[0m\u001b[0;34m\u001b[0m\u001b[0;34m\u001b[0m\u001b[0m\n",
            "\u001b[0;32m/usr/local/lib/python3.10/dist-packages/pandas/io/parsers/readers.py\u001b[0m in \u001b[0;36m_make_engine\u001b[0;34m(self, f, engine)\u001b[0m\n\u001b[1;32m   1733\u001b[0m                 \u001b[0;32mif\u001b[0m \u001b[0;34m\"b\"\u001b[0m \u001b[0;32mnot\u001b[0m \u001b[0;32min\u001b[0m \u001b[0mmode\u001b[0m\u001b[0;34m:\u001b[0m\u001b[0;34m\u001b[0m\u001b[0;34m\u001b[0m\u001b[0m\n\u001b[1;32m   1734\u001b[0m                     \u001b[0mmode\u001b[0m \u001b[0;34m+=\u001b[0m \u001b[0;34m\"b\"\u001b[0m\u001b[0;34m\u001b[0m\u001b[0;34m\u001b[0m\u001b[0m\n\u001b[0;32m-> 1735\u001b[0;31m             self.handles = get_handle(\n\u001b[0m\u001b[1;32m   1736\u001b[0m                 \u001b[0mf\u001b[0m\u001b[0;34m,\u001b[0m\u001b[0;34m\u001b[0m\u001b[0;34m\u001b[0m\u001b[0m\n\u001b[1;32m   1737\u001b[0m                 \u001b[0mmode\u001b[0m\u001b[0;34m,\u001b[0m\u001b[0;34m\u001b[0m\u001b[0;34m\u001b[0m\u001b[0m\n",
            "\u001b[0;32m/usr/local/lib/python3.10/dist-packages/pandas/io/common.py\u001b[0m in \u001b[0;36mget_handle\u001b[0;34m(path_or_buf, mode, encoding, compression, memory_map, is_text, errors, storage_options)\u001b[0m\n\u001b[1;32m    854\u001b[0m         \u001b[0;32mif\u001b[0m \u001b[0mioargs\u001b[0m\u001b[0;34m.\u001b[0m\u001b[0mencoding\u001b[0m \u001b[0;32mand\u001b[0m \u001b[0;34m\"b\"\u001b[0m \u001b[0;32mnot\u001b[0m \u001b[0;32min\u001b[0m \u001b[0mioargs\u001b[0m\u001b[0;34m.\u001b[0m\u001b[0mmode\u001b[0m\u001b[0;34m:\u001b[0m\u001b[0;34m\u001b[0m\u001b[0;34m\u001b[0m\u001b[0m\n\u001b[1;32m    855\u001b[0m             \u001b[0;31m# Encoding\u001b[0m\u001b[0;34m\u001b[0m\u001b[0;34m\u001b[0m\u001b[0m\n\u001b[0;32m--> 856\u001b[0;31m             handle = open(\n\u001b[0m\u001b[1;32m    857\u001b[0m                 \u001b[0mhandle\u001b[0m\u001b[0;34m,\u001b[0m\u001b[0;34m\u001b[0m\u001b[0;34m\u001b[0m\u001b[0m\n\u001b[1;32m    858\u001b[0m                 \u001b[0mioargs\u001b[0m\u001b[0;34m.\u001b[0m\u001b[0mmode\u001b[0m\u001b[0;34m,\u001b[0m\u001b[0;34m\u001b[0m\u001b[0;34m\u001b[0m\u001b[0m\n",
            "\u001b[0;31mFileNotFoundError\u001b[0m: [Errno 2] No such file or directory: '/content/sample_data/sample_data_X_for_RF_GABOR.csv'"
          ]
        }
      ]
    },
    {
      "cell_type": "code",
      "source": [
        "# Fit the model on training data\n",
        "RF_model.fit(X_for_RF_GABOR.values, y_train) #For sklearn no one hot encoding"
      ],
      "metadata": {
        "id": "HFXwmV3M2yOf"
      },
      "execution_count": null,
      "outputs": []
    },
    {
      "cell_type": "code",
      "source": [
        "df.to_csv('/content/sample_data.csv', index=False)  \n",
        "\n"
      ],
      "metadata": {
        "id": "BcmfpPSMxMKU"
      },
      "execution_count": null,
      "outputs": []
    }
  ]
}