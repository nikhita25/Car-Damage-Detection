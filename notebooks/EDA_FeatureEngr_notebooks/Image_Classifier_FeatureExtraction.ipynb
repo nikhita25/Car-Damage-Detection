{
  "nbformat": 4,
  "nbformat_minor": 0,
  "metadata": {
    "colab": {
      "provenance": []
    },
    "kernelspec": {
      "name": "python3",
      "display_name": "Python 3"
    },
    "language_info": {
      "name": "python"
    }
  },
  "cells": [
    {
      "cell_type": "code",
      "execution_count": 1,
      "metadata": {
        "colab": {
          "base_uri": "https://localhost:8080/"
        },
        "id": "bbNdz5tULBd_",
        "outputId": "a5471861-892b-4aa9-f038-90947557fdf9"
      },
      "outputs": [
        {
          "output_type": "stream",
          "name": "stdout",
          "text": [
            "Mounted at /content/drive\n"
          ]
        }
      ],
      "source": [
        "from google.colab import drive\n",
        "drive.mount('/content/drive')"
      ]
    },
    {
      "cell_type": "code",
      "source": [
        "import numpy as np \n",
        "import matplotlib.pyplot as plt\n",
        "import glob\n",
        "import cv2\n",
        "import os\n",
        "import seaborn as sns\n",
        "import pandas as pd\n",
        "from skimage.filters import sobel,roberts, scharr, prewitt\n",
        "from sklearn.model_selection import train_test_split"
      ],
      "metadata": {
        "id": "16p5vIGELL9K"
      },
      "execution_count": 2,
      "outputs": []
    },
    {
      "cell_type": "code",
      "source": [
        "for directory_path in glob.glob(\"/content/drive/MyDrive/data3a/training/*\"):\n",
        "    label = directory_path.split(\"-\")[-1]\n",
        "    print(label)\n"
      ],
      "metadata": {
        "colab": {
          "base_uri": "https://localhost:8080/"
        },
        "id": "FSvqbYBtW0e6",
        "outputId": "4b699ac0-80b1-4881-a829-8bde339c7099"
      },
      "execution_count": 3,
      "outputs": [
        {
          "output_type": "stream",
          "name": "stdout",
          "text": [
            "minor\n",
            "moderate\n",
            "severe\n"
          ]
        }
      ]
    },
    {
      "cell_type": "code",
      "source": [
        "\n",
        "#Resize images to\n",
        "SIZE = 128\n",
        "\n",
        "#Capturing images and labels into arrays.\n",
        "train_images = []\n",
        "train_labels = [] \n",
        "for directory_path in glob.glob(\"/content/drive/MyDrive/data3a/training/*\"):\n",
        "    label = directory_path.split(\"-\")[-1]\n",
        "    print(label)\n",
        "    for img_path in glob.glob(os.path.join(directory_path, \"*.JPEG\")):\n",
        "        img = cv2.imread(img_path, cv2.IMREAD_COLOR) #Reading color images\n",
        "        img = cv2.cvtColor(img, cv2.COLOR_BGR2GRAY)  \n",
        "\n",
        "        img = cv2.resize(img, (SIZE, SIZE)) #Resizing images\n",
        "        #img = cv2.cvtColor(img, cv2.COLOR_RGB2BGR) #Optional step. Change BGR to RGB\n",
        "        train_images.append(img)\n",
        "        train_labels.append(label)\n",
        "    for img_path in glob.glob(os.path.join(directory_path, \"*.jpeg\")):\n",
        "        img = cv2.imread(img_path, cv2.IMREAD_COLOR)\n",
        "        img = cv2.cvtColor(img, cv2.COLOR_BGR2GRAY)  \n",
        "\n",
        "        img = cv2.resize(img, (SIZE, SIZE)) \n",
        "        #img = cv2.cvtColor(img, cv2.COLOR_RGB2BGR) #Optional step. Change BGR to RGB\n",
        "        train_images.append(img)\n",
        "        train_labels.append(label)\n",
        "    for img_path in glob.glob(os.path.join(directory_path, \"*.jpg\")):\n",
        "        # print(img_path)\n",
        "        img = cv2.imread(img_path, cv2.IMREAD_COLOR)\n",
        "        img = cv2.cvtColor(img, cv2.COLOR_BGR2GRAY)  \n",
        " \n",
        "        img = cv2.resize(img, (SIZE, SIZE))\n",
        "        #img = cv2.cvtColor(img, cv2.COLOR_RGB2BGR) #Optional step. Change BGR to RGB\n",
        "        train_images.append(img)\n",
        "        train_labels.append(label)\n",
        "        \n",
        "train_images = np.array(train_images)\n",
        "train_labels = np.array(train_labels)"
      ],
      "metadata": {
        "colab": {
          "base_uri": "https://localhost:8080/"
        },
        "id": "LeRlVaaOLMFK",
        "outputId": "4e116a80-426b-4474-d585-a3900cc3fa41"
      },
      "execution_count": 4,
      "outputs": [
        {
          "output_type": "stream",
          "name": "stdout",
          "text": [
            "minor\n",
            "moderate\n",
            "severe\n"
          ]
        }
      ]
    },
    {
      "cell_type": "code",
      "source": [
        "train_images.shape,train_labels.shape"
      ],
      "metadata": {
        "colab": {
          "base_uri": "https://localhost:8080/"
        },
        "id": "1fZnpUE6LMLR",
        "outputId": "3a721d0b-4571-4846-90e1-ce51ccf69798"
      },
      "execution_count": 5,
      "outputs": [
        {
          "output_type": "execute_result",
          "data": {
            "text/plain": [
              "((1383, 128, 128), (1383,))"
            ]
          },
          "metadata": {},
          "execution_count": 5
        }
      ]
    },
    {
      "cell_type": "code",
      "source": [
        "#Test images\n",
        "test_images = []\n",
        "test_labels = [] \n",
        "for directory_path in glob.glob(\"/content/drive/MyDrive/data3a/validation/*\"):\n",
        "    fruit_label = directory_path.split(\"-\")[-1]\n",
        "    for img_path in glob.glob(os.path.join(directory_path, \"*.JPEG\")):\n",
        "        img = cv2.imread(img_path, cv2.IMREAD_COLOR)\n",
        "        img = cv2.cvtColor(img, cv2.COLOR_BGR2GRAY)  \n",
        "\n",
        "        img = cv2.resize(img, (SIZE, SIZE))\n",
        "        #img = cv2.cvtColor(img, cv2.COLOR_RGB2BGR) #Optional\n",
        "        test_images.append(img)\n",
        "        test_labels.append(fruit_label)\n",
        "    for img_path in glob.glob(os.path.join(directory_path, \"*.jpeg\")):\n",
        "        img = cv2.imread(img_path, cv2.IMREAD_COLOR)\n",
        "        img = cv2.cvtColor(img, cv2.COLOR_BGR2GRAY)  \n",
        "\n",
        "        img = cv2.resize(img, (SIZE, SIZE))\n",
        "        #img = cv2.cvtColor(img, cv2.COLOR_RGB2BGR) #Optional\n",
        "        test_images.append(img)\n",
        "        test_labels.append(fruit_label)\n",
        "    for img_path in glob.glob(os.path.join(directory_path, \"*.jpg\")):\n",
        "        img = cv2.imread(img_path, cv2.IMREAD_COLOR)\n",
        "        img = cv2.cvtColor(img, cv2.COLOR_BGR2GRAY)  \n",
        "\n",
        "        img = cv2.resize(img, (SIZE, SIZE))\n",
        "        #img = cv2.cvtColor(img, cv2.COLOR_RGB2BGR) #Optional\n",
        "        test_images.append(img)\n",
        "        test_labels.append(fruit_label)\n",
        "\n",
        "test_images = np.array(test_images)\n",
        "test_labels = np.array(test_labels)"
      ],
      "metadata": {
        "id": "bNyAMV4LXEFf"
      },
      "execution_count": 6,
      "outputs": []
    },
    {
      "cell_type": "code",
      "source": [
        "test_images.shape,test_labels.shape"
      ],
      "metadata": {
        "colab": {
          "base_uri": "https://localhost:8080/"
        },
        "id": "oju62wP3XEI-",
        "outputId": "68c617ee-71f2-4651-88a9-35d03911f570"
      },
      "execution_count": 7,
      "outputs": [
        {
          "output_type": "execute_result",
          "data": {
            "text/plain": [
              "((248, 128, 128), (248,))"
            ]
          },
          "metadata": {},
          "execution_count": 7
        }
      ]
    },
    {
      "cell_type": "code",
      "source": [
        "#Encoding labels from text (folder names) to integers.\n",
        "from sklearn import preprocessing\n",
        "le = preprocessing.LabelEncoder()\n",
        "le.fit(test_labels)\n",
        "test_labels_encoded = le.transform(test_labels)\n",
        "le.fit(train_labels)\n",
        "train_labels_encoded = le.transform(train_labels)"
      ],
      "metadata": {
        "id": "cDnTflG1Z26O"
      },
      "execution_count": 8,
      "outputs": []
    },
    {
      "cell_type": "code",
      "source": [
        "#Spliting data into train, validation and test datasets \n",
        "\n",
        "x_train, x_val,y_train, y_val = train_test_split(train_images, train_labels_encoded, test_size=0.2, random_state=1)\n",
        "x_test, y_test = test_images, test_labels_encoded\n"
      ],
      "metadata": {
        "id": "BY0Pi-bGZ29V"
      },
      "execution_count": 9,
      "outputs": []
    },
    {
      "cell_type": "code",
      "source": [
        "# Normalizing pixel values to between 0 and 1\n",
        "x_train, x_test = x_train / 255.0, x_test / 255.0"
      ],
      "metadata": {
        "id": "r4EgsSvzlq1s"
      },
      "execution_count": 10,
      "outputs": []
    },
    {
      "cell_type": "code",
      "source": [
        "x_train.shape , y_train.shape , x_val.shape , y_val.shape , x_test.shape , y_test.shape"
      ],
      "metadata": {
        "colab": {
          "base_uri": "https://localhost:8080/"
        },
        "id": "5lJlzPUtahQZ",
        "outputId": "5df89028-4585-47b7-b247-ea87c925dd7c"
      },
      "execution_count": 11,
      "outputs": [
        {
          "output_type": "execute_result",
          "data": {
            "text/plain": [
              "((1106, 128, 128), (1106,), (277, 128, 128), (277,), (248, 128, 128), (248,))"
            ]
          },
          "metadata": {},
          "execution_count": 11
        }
      ]
    },
    {
      "cell_type": "code",
      "source": [
        "# FEATURE EXTRACTOR function\n",
        "# input shape is (n, x, y, c) - number of images, x, y, and channels\n",
        "def feature_extractor(dataset):\n",
        "    x_train = dataset\n",
        "    image_dataset = pd.DataFrame()\n",
        "    for image in range(x_train.shape[0]):  #Iterating through each file \n",
        "        \n",
        "        df = pd.DataFrame()  #Temporary data frame to capture information for each loop.\n",
        "        \n",
        "        input_img = x_train[image, :,:]\n",
        "        img = input_img\n",
        "\n",
        "         # FEATURE 1 - Pixel values         \n",
        "        #Adding pixel values to the data frame\n",
        "        pixel_values = img.reshape(-1)\n",
        "        df['Pixel_Value'] = pixel_values  \n",
        "        \n",
        "        # FEATURE 2 - Bunch of Gabor filter responses\n",
        "                #Generating Gabor features\n",
        "        num = 1 \n",
        "        kernels = []\n",
        "        for theta in range(2):   #Defining number of thetas\n",
        "            theta = theta / 4. * np.pi\n",
        "            for sigma in (1, 3):  #Sigma with 1 and 3\n",
        "                lamda = np.pi/4\n",
        "                gamma = 0.5\n",
        "                \n",
        "                gabor_label = 'Gabor' + str(num)  #Labelling Gabor columns as Gabor1, Gabor2, etc.\n",
        "                ksize=9\n",
        "                kernel = cv2.getGaborKernel((ksize, ksize), sigma, theta, lamda, gamma, 0, ktype=cv2.CV_32F)    \n",
        "                kernels.append(kernel)\n",
        "\n",
        "                fimg = cv2.filter2D(img, cv2.CV_8UC3, kernel)\n",
        "                filtered_img = fimg.reshape(-1)\n",
        "                df[gabor_label] = filtered_img  #Labeling columns as Gabor1, Gabor2, etc.\n",
        "                num += 1  #Iterate all over\n",
        "                \n",
        "         \n",
        "        # FEATURE 3 Sobel\n",
        "        edge_sobel = sobel(img)\n",
        "        edge_sobel1 = edge_sobel.reshape(-1)\n",
        "        df['Sobel'] = edge_sobel1\n",
        "       \n",
        "        #Adding filters as needed\n",
        "        #ROBERTS EDGE\n",
        "        edge_roberts = roberts(img)\n",
        "        edge_roberts1 = edge_roberts.reshape(-1)\n",
        "        df['Roberts'] = edge_roberts1\n",
        "        #SCHARR\n",
        "        edge_scharr = scharr(img)\n",
        "        edge_scharr1 = edge_scharr.reshape(-1)\n",
        "        df['Scharr'] = edge_scharr1\n",
        "\n",
        "        #PREWITT\n",
        "        edge_prewitt = prewitt(img)\n",
        "        edge_prewitt1 = edge_prewitt.reshape(-1)\n",
        "        df['Prewitt'] = edge_prewitt1\n",
        "\n",
        "        #GAUSSIAN with sigma=3\n",
        "        from scipy import ndimage as nd\n",
        "        gaussian_img = nd.gaussian_filter(img, sigma=3)\n",
        "        gaussian_img1 = gaussian_img.reshape(-1)\n",
        "        df['Gaussian s3'] = gaussian_img1\n",
        "\n",
        "        #GAUSSIAN with sigma=7\n",
        "        gaussian_img2 = nd.gaussian_filter(img, sigma=7)\n",
        "        gaussian_img3 = gaussian_img2.reshape(-1)\n",
        "        df['Gaussian s7'] = gaussian_img3\n",
        "\n",
        "        #MEDIAN with sigma=3\n",
        "        median_img = nd.median_filter(img, size=3)\n",
        "        median_img1 = median_img.reshape(-1)\n",
        "        df['Median s3'] = median_img1\n",
        "\n",
        "        #VARIANCE with size=3\n",
        "        variance_img = nd.generic_filter(img, np.var, size=3)\n",
        "        variance_img1 = variance_img.reshape(-1)\n",
        "        df['Variance s3'] = variance_img1  #Add column to original dataframe\n",
        "        \n",
        "        #Append features from current image to the dataset\n",
        "        # image_dataset = image_dataset.append(df)\n",
        "        image_dataset= pd.concat([image_dataset, df], axis=0)\n",
        "        \n",
        "    return image_dataset"
      ],
      "metadata": {
        "id": "s-_y8-Y0ahTt"
      },
      "execution_count": 12,
      "outputs": []
    },
    {
      "cell_type": "code",
      "source": [
        "#Extracting features from training images\n",
        "image_features = feature_extractor(x_train)"
      ],
      "metadata": {
        "id": "nPFn5gFiahWv"
      },
      "execution_count": null,
      "outputs": []
    },
    {
      "cell_type": "code",
      "source": [
        "image_features.shape"
      ],
      "metadata": {
        "colab": {
          "base_uri": "https://localhost:8080/"
        },
        "id": "5dEdFHR50fJs",
        "outputId": "78745242-c305-4022-9a9a-2417b1c63632"
      },
      "execution_count": null,
      "outputs": [
        {
          "output_type": "execute_result",
          "data": {
            "text/plain": [
              "(18120704, 13)"
            ]
          },
          "metadata": {},
          "execution_count": 15
        }
      ]
    }
  ]
}