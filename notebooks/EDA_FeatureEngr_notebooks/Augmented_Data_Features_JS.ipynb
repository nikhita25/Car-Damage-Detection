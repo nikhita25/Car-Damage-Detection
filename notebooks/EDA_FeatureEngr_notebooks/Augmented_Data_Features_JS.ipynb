{
  "cells": [
    {
      "cell_type": "code",
      "execution_count": null,
      "metadata": {
        "colab": {
          "base_uri": "https://localhost:8080/"
        },
        "id": "bbNdz5tULBd_",
        "outputId": "a632369f-159b-4539-b887-eb47c9b8e480"
      },
      "outputs": [
        {
          "output_type": "stream",
          "name": "stdout",
          "text": [
            "Mounted at /content/drive\n"
          ]
        }
      ],
      "source": [
        "from google.colab import drive\n",
        "drive.mount('/content/drive')"
      ]
    },
    {
      "cell_type": "code",
      "execution_count": null,
      "metadata": {
        "id": "16p5vIGELL9K"
      },
      "outputs": [],
      "source": [
        "import numpy as np \n",
        "import matplotlib.pyplot as plt\n",
        "import glob\n",
        "import cv2\n",
        "import os\n",
        "import seaborn as sns\n",
        "import pandas as pd\n",
        "from skimage.filters import sobel,roberts, scharr, prewitt\n",
        "from sklearn.model_selection import train_test_split\n",
        "from sklearn import preprocessing\n",
        "from skimage.filters import sobel\n",
        "from skimage.feature import graycomatrix, graycoprops\n",
        "from skimage.measure import shannon_entropy\n",
        "import xarray as xr\n",
        "from skimage.filters.rank import entropy\n",
        "from skimage.morphology import disk\n",
        "from skimage.filters import meijering, sato, frangi, hessian\n",
        "import cv2\n",
        "from scipy import ndimage as nd\n",
        "from skimage import util, exposure, data\n",
        "import pywt\n",
        "from skimage.feature import greycomatrix\n"
      ]
    },
    {
      "cell_type": "code",
      "execution_count": null,
      "metadata": {
        "colab": {
          "base_uri": "https://localhost:8080/"
        },
        "id": "LeRlVaaOLMFK",
        "outputId": "310f9270-4c78-4b0e-a2b4-afd0384aadb8"
      },
      "outputs": [
        {
          "output_type": "stream",
          "name": "stdout",
          "text": [
            "minor\n",
            "moderate\n",
            "severe\n"
          ]
        }
      ],
      "source": [
        "# #Resize images to\n",
        "# SIZE = 128\n",
        "\n",
        "# #Capturing images and labels into arrays.\n",
        "# train_images = []\n",
        "# train_labels = [] \n",
        "# for directory_path in glob.glob(\"/content/drive/MyDrive/data3a/training/*\"):\n",
        "#     label = directory_path.split(\"-\")[-1]\n",
        "#     print(label)\n",
        "#     for img_path in glob.glob(os.path.join(directory_path, \"*.JPEG\")):\n",
        "#         img = cv2.imread(img_path, cv2.IMREAD_COLOR) #Reading color images\n",
        "#         img = cv2.cvtColor(img, cv2.COLOR_BGR2GRAY)  \n",
        "#         img = cv2.resize(img, (SIZE, SIZE)) #Resizing images\n",
        "#         train_images.append(img)\n",
        "#         train_labels.append(label)\n",
        "\n",
        "#     for img_path in glob.glob(os.path.join(directory_path, \"*.jpeg\")):\n",
        "#         img = cv2.imread(img_path, cv2.IMREAD_COLOR)\n",
        "#         img = cv2.cvtColor(img, cv2.COLOR_BGR2GRAY)  \n",
        "#         img = cv2.resize(img, (SIZE, SIZE)) \n",
        "#         train_images.append(img)\n",
        "#         train_labels.append(label)\n",
        "\n",
        "#     for img_path in glob.glob(os.path.join(directory_path, \"*.jpg\")):\n",
        "#         img = cv2.imread(img_path, cv2.IMREAD_COLOR)\n",
        "#         img = cv2.cvtColor(img, cv2.COLOR_BGR2GRAY)  \n",
        "#         img = cv2.resize(img, (SIZE, SIZE))\n",
        "#         train_images.append(img)\n",
        "#         train_labels.append(label)\n",
        "        \n",
        "# train_images = np.array(train_images)\n",
        "# train_labels = np.array(train_labels)"
      ]
    },
    {
      "cell_type": "code",
      "execution_count": null,
      "metadata": {
        "colab": {
          "base_uri": "https://localhost:8080/"
        },
        "id": "cvLVOwkgArrx",
        "outputId": "794a8010-871c-4269-891c-bee4216e3a72"
      },
      "outputs": [
        {
          "output_type": "stream",
          "name": "stdout",
          "text": [
            "minor\n",
            "moderate\n",
            "severe\n"
          ]
        }
      ],
      "source": [
        "# #Resize images to\n",
        "# SIZE = 128\n",
        "\n",
        "# #Capturing images and labels into arrays.\n",
        "# train_images = []\n",
        "# train_labels = [] \n",
        "# for directory_path in glob.glob(\"/content/drive/MyDrive/data3a/training/*\"):\n",
        "#     label = directory_path.split(\"-\")[-1]\n",
        "#     print(label)\n",
        "#     for img_path in glob.glob(os.path.join(directory_path, \"*.JPEG\")):\n",
        "#         img = cv2.imread(img_path, 0) #Reading color images\n",
        "#         img = cv2.resize(img, (SIZE, SIZE)) #Resizing images\n",
        "#         train_images.append(img)\n",
        "#         train_labels.append(label)\n",
        "\n",
        "        \n",
        "#     for img_path in glob.glob(os.path.join(directory_path, \"*.jpeg\")):\n",
        "#         img = cv2.imread(img_path, 0)\n",
        "#         img = cv2.resize(img, (SIZE, SIZE)) \n",
        "#         train_images.append(img)\n",
        "#         train_labels.append(label)\n",
        "\n",
        "#     for img_path in glob.glob(os.path.join(directory_path, \"*.jpg\")):\n",
        "#         img = cv2.imread(img_path, 0)\n",
        "#         img = cv2.resize(img, (SIZE, SIZE))\n",
        "#         train_images.append(img)\n",
        "#         train_labels.append(label)\n",
        "        \n",
        "# train_images = np.array(train_images)\n",
        "# train_labels = np.array(train_labels)"
      ]
    },
    {
      "cell_type": "code",
      "execution_count": null,
      "metadata": {
        "colab": {
          "base_uri": "https://localhost:8080/"
        },
        "id": "9ptpIAJ_A1VS",
        "outputId": "a1bef4db-f91b-4d4e-b581-dcb4f76905bf"
      },
      "outputs": [
        {
          "output_type": "execute_result",
          "data": {
            "text/plain": [
              "(128, 128)"
            ]
          },
          "metadata": {},
          "execution_count": 5
        }
      ],
      "source": [
        "# img.shape"
      ]
    },
    {
      "cell_type": "code",
      "execution_count": null,
      "metadata": {
        "colab": {
          "base_uri": "https://localhost:8080/"
        },
        "id": "bNyAMV4LXEFf",
        "outputId": "fbafd783-afed-4d1b-8ed4-75c0c1ba299d"
      },
      "outputs": [
        {
          "output_type": "stream",
          "name": "stdout",
          "text": [
            "minor\n",
            "severe\n",
            "moderate\n"
          ]
        }
      ],
      "source": [
        "# #Test images\n",
        "# test_images = []\n",
        "# test_labels = [] \n",
        "# for directory_path in glob.glob(\"/content/drive/MyDrive/data3a/validation/*\"):\n",
        "#     test_label = directory_path.split(\"-\")[-1]\n",
        "#     print(test_label)\n",
        "#     for img_path in glob.glob(os.path.join(directory_path, \"*.JPEG\")):\n",
        "#         img = cv2.imread(img_path, cv2.IMREAD_COLOR)\n",
        "#         img = cv2.cvtColor(img, cv2.COLOR_BGR2GRAY)  \n",
        "\n",
        "#         img = cv2.resize(img, (SIZE, SIZE))\n",
        "#         test_images.append(img)\n",
        "#         test_labels.append(test_label)\n",
        "#     for img_path in glob.glob(os.path.join(directory_path, \"*.jpeg\")):\n",
        "#         img = cv2.imread(img_path, cv2.IMREAD_COLOR)\n",
        "#         img = cv2.cvtColor(img, cv2.COLOR_BGR2GRAY)  \n",
        "\n",
        "#         img = cv2.resize(img, (SIZE, SIZE))\n",
        "#         test_images.append(img)\n",
        "#         test_labels.append(test_label)\n",
        "#     for img_path in glob.glob(os.path.join(directory_path, \"*.jpg\")):\n",
        "#         img = cv2.imread(img_path, cv2.IMREAD_COLOR)\n",
        "#         img = cv2.cvtColor(img, cv2.COLOR_BGR2GRAY)  \n",
        "\n",
        "#         img = cv2.resize(img, (SIZE, SIZE))\n",
        "#         test_images.append(img)\n",
        "#         test_labels.append(test_label)\n",
        "\n",
        "# test_images = np.array(test_images)\n",
        "# test_labels = np.array(test_labels)"
      ]
    },
    {
      "cell_type": "code",
      "execution_count": null,
      "metadata": {
        "colab": {
          "base_uri": "https://localhost:8080/"
        },
        "id": "1fZnpUE6LMLR",
        "outputId": "f466030f-d995-48f6-fdee-cb94225174ff"
      },
      "outputs": [
        {
          "output_type": "execute_result",
          "data": {
            "text/plain": [
              "((1383, 128, 128), (1383,))"
            ]
          },
          "metadata": {},
          "execution_count": 7
        }
      ],
      "source": [
        "# train_images.shape,train_labels.shape"
      ]
    },
    {
      "cell_type": "code",
      "execution_count": null,
      "metadata": {
        "colab": {
          "base_uri": "https://localhost:8080/"
        },
        "id": "oju62wP3XEI-",
        "outputId": "b22ee9e8-6ec0-41dc-94e7-6dfce448675a"
      },
      "outputs": [
        {
          "output_type": "execute_result",
          "data": {
            "text/plain": [
              "((248, 128, 128), (248,))"
            ]
          },
          "metadata": {},
          "execution_count": 8
        }
      ],
      "source": [
        "# test_images.shape,test_labels.shape"
      ]
    },
    {
      "cell_type": "code",
      "source": [
        "my_arrays_final = np.load('/content/drive/MyDrive/Augmented Data/numpy_data.npz', allow_pickle=True)"
      ],
      "metadata": {
        "id": "bFCI9BbEAffn"
      },
      "execution_count": null,
      "outputs": []
    },
    {
      "cell_type": "code",
      "source": [
        "# Extract the X_train, y_train, X_test, and y_test arrays from the data\n",
        "X_train = my_arrays_final['X_train']\n",
        "y_train = my_arrays_final['y_train']\n",
        "X_test = my_arrays_final['X_test']\n",
        "y_test = my_arrays_final['y_test']"
      ],
      "metadata": {
        "id": "rg5ciDMPAflw"
      },
      "execution_count": null,
      "outputs": []
    },
    {
      "cell_type": "code",
      "source": [
        "# Print the shapes of the data\n",
        "print(f'X_train shape: {X_train.shape}')\n",
        "print(f'y_train shape: {y_train.shape}')\n",
        "print(f'X_test shape: {X_test.shape}')\n",
        "print(f'y_test shape: {y_test.shape}')"
      ],
      "metadata": {
        "colab": {
          "base_uri": "https://localhost:8080/"
        },
        "id": "_KmjdXcFAfpG",
        "outputId": "07821c0b-b108-4fcf-b179-043c91dfd4ea"
      },
      "execution_count": null,
      "outputs": [
        {
          "output_type": "stream",
          "name": "stdout",
          "text": [
            "X_train shape: (6050, 100, 100, 1)\n",
            "y_train shape: (6050,)\n",
            "X_test shape: (1513, 100, 100, 1)\n",
            "y_test shape: (1513,)\n"
          ]
        }
      ]
    },
    {
      "cell_type": "code",
      "source": [
        "X_train[1].shape"
      ],
      "metadata": {
        "colab": {
          "base_uri": "https://localhost:8080/"
        },
        "id": "qQM1fCISAfuS",
        "outputId": "fd1d9aa5-aa0c-4fac-a746-adc8a705c334"
      },
      "execution_count": null,
      "outputs": [
        {
          "output_type": "execute_result",
          "data": {
            "text/plain": [
              "(100, 100, 1)"
            ]
          },
          "metadata": {},
          "execution_count": 57
        }
      ]
    },
    {
      "cell_type": "code",
      "source": [
        "plt.subplot(121)\n",
        "img = np.reshape(X_train[1], (100, 100, 1))\n",
        "plt.imshow(img)"
      ],
      "metadata": {
        "colab": {
          "base_uri": "https://localhost:8080/",
          "height": 327
        },
        "id": "ncTb8UkFAfxX",
        "outputId": "9fff1855-3760-4c0e-8235-bcf7929b86e2"
      },
      "execution_count": null,
      "outputs": [
        {
          "output_type": "execute_result",
          "data": {
            "text/plain": [
              "<matplotlib.image.AxesImage at 0x7f954dd7d0c0>"
            ]
          },
          "metadata": {},
          "execution_count": 58
        },
        {
          "output_type": "display_data",
          "data": {
            "text/plain": [
              "<Figure size 640x480 with 1 Axes>"
            ],
            "image/png": "[encoded data removed]"
          },
          "metadata": {}
        }
      ]
    },
    {
      "cell_type": "code",
      "source": [
        "X_train_r = X_train.reshape(X_train.shape[0], 100,100)\n",
        "X_test_r = X_test.reshape (X_test. shape[0], 100, 100)\n"
      ],
      "metadata": {
        "id": "RC6XVcwiArjP"
      },
      "execution_count": null,
      "outputs": []
    },
    {
      "cell_type": "code",
      "source": [
        "X_test_r.shape"
      ],
      "metadata": {
        "colab": {
          "base_uri": "https://localhost:8080/"
        },
        "id": "rstp3GjSArpY",
        "outputId": "db1ee850-3b36-4fb8-e2f1-5ded5c5df37e"
      },
      "execution_count": null,
      "outputs": [
        {
          "output_type": "execute_result",
          "data": {
            "text/plain": [
              "(1513, 100, 100)"
            ]
          },
          "metadata": {},
          "execution_count": 60
        }
      ]
    },
    {
      "cell_type": "code",
      "source": [
        "X=np.vstack((X_train_r,X_test_r))\n",
        "X.shape"
      ],
      "metadata": {
        "colab": {
          "base_uri": "https://localhost:8080/"
        },
        "id": "cUbYtphvArs3",
        "outputId": "d1a0038c-57ae-4497-9bff-31752f8a243f"
      },
      "execution_count": null,
      "outputs": [
        {
          "output_type": "execute_result",
          "data": {
            "text/plain": [
              "(7563, 100, 100)"
            ]
          },
          "metadata": {},
          "execution_count": 61
        }
      ]
    },
    {
      "cell_type": "code",
      "source": [
        "Y=np.hstack((y_train,y_test))\n",
        "Y.shape"
      ],
      "metadata": {
        "colab": {
          "base_uri": "https://localhost:8080/"
        },
        "id": "IlT88KQbAf3D",
        "outputId": "68c4f446-d0fe-49a4-bc88-fa0905dd1d6c"
      },
      "execution_count": null,
      "outputs": [
        {
          "output_type": "execute_result",
          "data": {
            "text/plain": [
              "(7563,)"
            ]
          },
          "metadata": {},
          "execution_count": 62
        }
      ]
    },
    {
      "cell_type": "code",
      "source": [
        "#Label Encoding\n",
        "le = preprocessing.LabelEncoder()\n",
        "le.fit(Y)\n",
        "labels_encoded = le.transform(Y)\n",
        "labels_encoded"
      ],
      "metadata": {
        "colab": {
          "base_uri": "https://localhost:8080/"
        },
        "id": "Bh_HWvROBI21",
        "outputId": "e54dca4a-4a5f-4a4e-d44b-c63b6bc3dde9"
      },
      "execution_count": null,
      "outputs": [
        {
          "output_type": "execute_result",
          "data": {
            "text/plain": [
              "array([2, 2, 0, ..., 0, 2, 2])"
            ]
          },
          "metadata": {},
          "execution_count": 63
        }
      ]
    },
    {
      "cell_type": "code",
      "source": [
        "#Spliting data into train, testidation and test datasets \n",
        "x_train, x_test,y_train, y_test = train_test_split(X, labels_encoded, test_size=0.40, random_state=1, shuffle = True, stratify = labels_encoded)\n",
        "x_val, x_test,y_val, y_test = train_test_split(x_test, y_test, test_size=0.50, random_state=1, shuffle = True, stratify = y_test)"
      ],
      "metadata": {
        "id": "nrVrRIwoBI6b"
      },
      "execution_count": null,
      "outputs": []
    },
    {
      "cell_type": "code",
      "source": [
        "x_test.shape, y_test.shape,x_val.shape, y_val.shape,x_train.shape, y_train.shape"
      ],
      "metadata": {
        "colab": {
          "base_uri": "https://localhost:8080/"
        },
        "id": "-5wCgkV2BJBS",
        "outputId": "b6e1a789-ef0a-463a-c93e-5c772e0f1547"
      },
      "execution_count": null,
      "outputs": [
        {
          "output_type": "execute_result",
          "data": {
            "text/plain": [
              "((1513, 100, 100),\n",
              " (1513,),\n",
              " (1513, 100, 100),\n",
              " (1513,),\n",
              " (4537, 100, 100),\n",
              " (4537,))"
            ]
          },
          "metadata": {},
          "execution_count": 65
        }
      ]
    },
    {
      "cell_type": "code",
      "source": [
        "x_test.dtype"
      ],
      "metadata": {
        "colab": {
          "base_uri": "https://localhost:8080/"
        },
        "id": "XXjBC892BzGz",
        "outputId": "2a5bff7d-176f-4540-acb6-75fd1ee09edb"
      },
      "execution_count": null,
      "outputs": [
        {
          "output_type": "execute_result",
          "data": {
            "text/plain": [
              "dtype('float64')"
            ]
          },
          "metadata": {},
          "execution_count": 70
        }
      ]
    },
    {
      "cell_type": "code",
      "execution_count": null,
      "metadata": {
        "id": "dpsG8hnitABw"
      },
      "outputs": [],
      "source": [
        "# #Label Encoding\n",
        "# le = preprocessing.LabelEncoder()\n",
        "# le.fit(test_labels)\n",
        "# test_labels_encoded = le.transform(test_labels)\n",
        "# le.fit(train_labels)\n",
        "# train_labels_encoded = le.transform(train_labels)"
      ]
    },
    {
      "cell_type": "code",
      "execution_count": null,
      "metadata": {
        "id": "r4EgsSvzlq1s"
      },
      "outputs": [],
      "source": [
        "# Normalizing pixel values to between 0 and 1\n",
        "# x_train, x_test = x_train / 255.0, x_test / 255.0"
      ]
    },
    {
      "cell_type": "code",
      "execution_count": null,
      "metadata": {
        "id": "T74ZO7xztRUz"
      },
      "outputs": [],
      "source": [
        "# #Spliting data into train, validation and test datasets \n",
        "# x_train, x_val,y_train, y_val = train_test_split(train_images, train_labels_encoded, test_size=0.30, random_state=1, shuffle = True, stratify = train_labels_encoded)\n",
        "# x_test, y_test = test_images, test_labels_encoded\n"
      ]
    },
    {
      "cell_type": "code",
      "execution_count": null,
      "metadata": {
        "colab": {
          "base_uri": "https://localhost:8080/"
        },
        "id": "PjPasYJlzA4a",
        "outputId": "5d618afd-b32e-42c9-c959-219aa1cab420"
      },
      "outputs": [
        {
          "output_type": "execute_result",
          "data": {
            "text/plain": [
              "((968, 128, 128), (968,), (415, 128, 128), (415,), (248, 128, 128), (248,))"
            ]
          },
          "metadata": {},
          "execution_count": 12
        }
      ],
      "source": [
        "# x_train.shape , y_train.shape , x_val.shape , y_val.shape , x_test.shape , y_test.shape"
      ]
    },
    {
      "cell_type": "code",
      "execution_count": null,
      "metadata": {
        "id": "KplfVkTQ77gv"
      },
      "outputs": [],
      "source": [
        "###################################################################\n",
        "# FEATURE EXTRACTOR function\n",
        "# input shape is (n, x, y, c) - number of images, x, y, and channels\n",
        "def feature_extractor(dataset):\n",
        "    image_dataset = pd.DataFrame()\n",
        "    for image in range(dataset.shape[0]):  #iterate through each file \n",
        "        #print(image)\n",
        "        \n",
        "        #Reset dataframe to blank after each loop.\n",
        "        df_1 = pd.DataFrame()  #Temporary data frame to capture information for each loop.\n",
        "        df_2 = pd.DataFrame()  #Temporary data frame to capture information for each loop.\n",
        "        df_3 = pd.DataFrame()   #Temporary data frame to capture information for each loop.\n",
        "        # df_3['SHI-TOM','TOM']\n",
        "\n",
        "\n",
        "        img = dataset[image, :,:]\n",
        "    ################################################################\n",
        "    #START ADDING DATA TO THE DATAFRAME\n",
        "        hist,bins = np.histogram(img.ravel(),64,[0,256])\n",
        "        df_2= pd.DataFrame(hist).transpose()\n",
        "        df_2.columns=np.floor(bins[1:])\n",
        "        \n",
        "        #Append features from current image to the dataset\n",
        "        # image_dataset_1= pd.concat([image_dataset, df], axis=0)\n",
        "        # image_dataset=df\n",
        "\n",
        "\n",
        "        #GLCM = graycomatrix(img, [1], [0, np.pi/4, np.pi/2, 3*np.pi/4])\n",
        "        GLCM = graycomatrix(img, [1], [0])       \n",
        "        GLCM_Energy = graycoprops(GLCM, 'energy')[0]\n",
        "        df_1['Energy'] = GLCM_Energy\n",
        "        GLCM_corr = graycoprops(GLCM, 'correlation')[0]\n",
        "        df_1['Corr'] = GLCM_corr       \n",
        "        GLCM_diss = graycoprops(GLCM, 'dissimilarity')[0]\n",
        "        df_1['Diss_sim'] = GLCM_diss       \n",
        "        GLCM_hom = graycoprops(GLCM, 'homogeneity')[0]\n",
        "        df_1['Homogen'] = GLCM_hom       \n",
        "        GLCM_contr = graycoprops(GLCM, 'contrast')[0]\n",
        "        df_1['Contrast'] = GLCM_contr\n",
        "\n",
        "        GLCM2 = graycomatrix(img, [3], [0])       \n",
        "        GLCM_Energy2 = graycoprops(GLCM2, 'energy')[0]\n",
        "        df_1['Energy2'] = GLCM_Energy2\n",
        "        GLCM_corr2 = graycoprops(GLCM2, 'correlation')[0]\n",
        "        df_1['Corr2'] = GLCM_corr2       \n",
        "        GLCM_diss2 = graycoprops(GLCM2, 'dissimilarity')[0]\n",
        "        df_1['Diss_sim2'] = GLCM_diss2       \n",
        "        GLCM_hom2 = graycoprops(GLCM2, 'homogeneity')[0]\n",
        "        df_1['Homogen2'] = GLCM_hom2       \n",
        "        GLCM_contr2 = graycoprops(GLCM2, 'contrast')[0]\n",
        "        df_1['Contrast2'] = GLCM_contr2\n",
        "\n",
        "        GLCM3 = graycomatrix(img, [5], [0])       \n",
        "        GLCM_Energy3 = graycoprops(GLCM3, 'energy')[0]\n",
        "        df_1['Energy3'] = GLCM_Energy3\n",
        "        GLCM_corr3 = graycoprops(GLCM3, 'correlation')[0]\n",
        "        df_1['Corr3'] = GLCM_corr3       \n",
        "        GLCM_diss3 = graycoprops(GLCM3, 'dissimilarity')[0]\n",
        "        df_1['Diss_sim3'] = GLCM_diss3       \n",
        "        GLCM_hom3 = graycoprops(GLCM3, 'homogeneity')[0]\n",
        "        df_1['Homogen3'] = GLCM_hom3       \n",
        "        GLCM_contr3 = graycoprops(GLCM3, 'contrast')[0]\n",
        "        df_1['Contrast3'] = GLCM_contr3\n",
        "\n",
        "        GLCM4 = graycomatrix(img, [0], [np.pi/4])       \n",
        "        GLCM_Energy4 = graycoprops(GLCM4, 'energy')[0]\n",
        "        df_1['Energy4'] = GLCM_Energy4\n",
        "        GLCM_corr4 = graycoprops(GLCM4, 'correlation')[0]\n",
        "        df_1['Corr4'] = GLCM_corr4       \n",
        "        GLCM_diss4 = graycoprops(GLCM4, 'dissimilarity')[0]\n",
        "        df_1['Diss_sim4'] = GLCM_diss4       \n",
        "        GLCM_hom4 = graycoprops(GLCM4, 'homogeneity')[0]\n",
        "        df_1['Homogen4'] = GLCM_hom4       \n",
        "        GLCM_contr4 = graycoprops(GLCM4, 'contrast')[0]\n",
        "        df_1['Contrast4'] = GLCM_contr4\n",
        "        \n",
        "        GLCM5 = graycomatrix(img, [0], [np.pi/2])       \n",
        "        GLCM_Energy5 = graycoprops(GLCM5, 'energy')[0]\n",
        "        df_1['Energy5'] = GLCM_Energy5\n",
        "        GLCM_corr5 = graycoprops(GLCM5, 'correlation')[0]\n",
        "        df_1['Corr5'] = GLCM_corr5       \n",
        "        GLCM_diss5 = graycoprops(GLCM5, 'dissimilarity')[0]\n",
        "        df_1['Diss_sim5'] = GLCM_diss5       \n",
        "        GLCM_hom5 = graycoprops(GLCM5, 'homogeneity')[0]\n",
        "        df_1['Homogen5'] = GLCM_hom5       \n",
        "        GLCM_contr5 = graycoprops(GLCM5, 'contrast')[0]\n",
        "        df_1['Contrast5'] = GLCM_contr5\n",
        "\n",
        "\n",
        "        s_entropy=shannon_entropy(img)\n",
        "        df_1['shannon_entropy'] = s_entropy\n",
        "        \n",
        "        dft = cv2.dft(np.float32(img), flags=cv2.DFT_COMPLEX_OUTPUT)\n",
        "        # img_1 = cv2.cvtColor(np.float32(img), cv2.COLOR_BGR2GRAY)\n",
        "        # dft = cv2.dft(np.float32(img), flags=cv2.DFT_COMPLEX_OUTPUT)\n",
        "\n",
        "        #Shift DFT. First check the output without the shift\n",
        "        dft_shift = np.fft.fftshift(dft)\n",
        "\n",
        "        #Calculate magnitude spectrum from the DFT\n",
        "        #Added 1 as we may see 0 values and log of 0 is indeterminate\n",
        "        magnitude_spectrum = 20 * np.log((cv2.magnitude(dft_shift[:, :, 0], dft_shift[:, :, 1]))+1)\n",
        "        magnitude_spectrum.shape\n",
        "        df_1['fourier_1'] = magnitude_spectrum[0].sum()\n",
        "        df_1['fourier_2'] = magnitude_spectrum[1].sum()\n",
        "\n",
        "\n",
        "        # df= pd.concat([df_2, df_1], axis=1)\n",
        "       ################################################################\n",
        "        # img=x_train[0]\n",
        "        # plt.imshow(img)\n",
        "\n",
        "        # gray = cv2.cvtColor(img, cv2.COLOR_BGR2GRAY)\n",
        "\n",
        "        # SHI-TOMASI METHOD\n",
        "        corners = cv2.goodFeaturesToTrack(img, maxCorners=1000,\n",
        "                        qualityLevel=0.01, minDistance=.01)\n",
        "        # print(corners.shape)\n",
        "        a = np.array([len(corners)])\n",
        "        df_3['SHI-TOM']= a\n",
        "        # print(len(corners))\n",
        "\n",
        "\n",
        "        # print(len(corners))\n",
        "\n",
        "        corners = cv2.goodFeaturesToTrack(img, maxCorners=1000,\n",
        "                qualityLevel=0.01, minDistance=.01,\n",
        "                useHarrisDetector=True, k=0.04)\n",
        "        # corners = np.int0(corners)\n",
        "        a = np.array([len(corners)])\n",
        "        df_3['TOM']= a\n",
        "\n",
        "          # Initiate FAST object with default values\n",
        "        fast = cv2.FastFeatureDetector_create()\n",
        "          # find and draw the keypoints\n",
        "        kp = fast.detect(img,None)\n",
        "          # img2 = cv.drawKeypoints(img, kp, None, color=(0,0,255))\n",
        "          # # Print all default params\n",
        "        a = np.array([len(kp)])\n",
        "        df_3['Keypoints']= a\n",
        "       ################################################################\n",
        "\n",
        "        df_4 = pd.DataFrame()\n",
        "\n",
        "        img2 = img.reshape(-1)\n",
        "        df_4['Original Image'] = img2\n",
        "        # entropy_img = entropy(img, disk(4))\n",
        "\n",
        "        entropy_img = entropy(img, disk(1))\n",
        "        entropy1 = entropy_img.reshape(-1)\n",
        "        df_4['Entropy'] = entropy1\n",
        "\n",
        "        gaussian_img = nd.gaussian_filter(img, sigma=4)\n",
        "        gaussian_img1 = gaussian_img.reshape(-1)\n",
        "        df_4['Gaussian s4'] = gaussian_img1\n",
        "\n",
        "        sobel_img = sobel(img)\n",
        "        sobel1 = sobel_img.reshape(-1)\n",
        "        df_4['Sobel'] = sobel1\n",
        "\n",
        "        meijering_img = meijering(img)\n",
        "        meijering1 = meijering_img.reshape(-1)\n",
        "        df_4['meijering'] = meijering1\n",
        "\n",
        "        sato_img = sato(img)\n",
        "        sato1 = sato_img.reshape(-1)\n",
        "        df_4['sato'] = sato1        \n",
        "        \n",
        "        frangi_img = frangi(img)\n",
        "        frangi1 = frangi_img.reshape(-1)\n",
        "        df_4['frangi'] = frangi1  \n",
        "\n",
        "\n",
        "        # hessian_img = hessian(img)\n",
        "        # hessian1 = hessian_img.reshape(-1)\n",
        "        # df_4['hessian'] = hessian1  \n",
        "\n",
        "        #ROBERTS EDGE\n",
        "        edge_roberts = roberts(img)\n",
        "        edge_roberts1 = edge_roberts.reshape(-1)\n",
        "        df_4['Roberts'] = edge_roberts1\n",
        "\n",
        "        #SCHARR\n",
        "        edge_scharr = scharr(img)\n",
        "        edge_scharr1 = edge_scharr.reshape(-1)\n",
        "        df_4['Scharr'] = edge_scharr1\n",
        "\n",
        "        #PREWITT\n",
        "        edge_prewitt = prewitt(img)\n",
        "        edge_prewitt1 = edge_prewitt.reshape(-1)\n",
        "        df_4['Prewitt'] = edge_prewitt1\n",
        "\n",
        "        # #GAUSSIAN with sigma=8\n",
        "        # # gaussian_img2 = nd.gaussian_filter(img, sigma=8)\n",
        "        # # gaussian_img3 = gaussian_img2.reshape(-1)\n",
        "        # # df_4['Gaussian s8'] = gaussian_img3\n",
        "\n",
        "        #MEDIAN with sigma=3\n",
        "        median_img = nd.median_filter(img, size=3)\n",
        "        median_img1 = median_img.reshape(-1)\n",
        "        df_4['Median s3'] = median_img1\n",
        "\n",
        "        # MEDIAN with sigma=7\n",
        "        median_img2 = nd.median_filter(img, size=7)\n",
        "        median_img3 = median_img2.reshape(-1)\n",
        "        df_4['Median s7'] = median_img3\n",
        "\n",
        "        #VARIANCE with size=3\n",
        "        variance_img = nd.generic_filter(img, np.var, size=3)\n",
        "        variance_img1 = variance_img.reshape(-1)\n",
        "        df_4['Variance s3'] = variance_img1\n",
        "\n",
        "        #VARIANCE with size=7\n",
        "        # variance_img2 = nd.generic_filter(img, np.var, size=7)\n",
        "        # variance_img3 = variance_img2.reshape(-1)\n",
        "        # df_4['Variance s7'] = variance_img3 \n",
        "\n",
        "\n",
        "        # df_4=df_4.sum(axis=0)\n",
        "        # df_4=df_4.to_frame()\n",
        "        # df_4=df_4.T\n",
        "        df_5=df_4.describe()\n",
        "        df_5.drop(['count','min','max'],axis=0,inplace = True)\n",
        "        df_5_5=df_5.sum(axis=0)\n",
        "        df_6=df_5.T\n",
        "        df_6['sum']=df_5_5\n",
        "        # df_7=df_6.iloc[:,1:]\n",
        "        df_7=df_6.to_numpy().flatten()\n",
        "\n",
        "        strs=[]\n",
        "\n",
        "        for i in range(len(df_6.index)):\n",
        "          for j in range(len(df_6.columns)):\n",
        "            st=(f'{df_6.columns[j]}_{df_6.index[i]}')\n",
        "            strs.append(st)\n",
        "\n",
        "        columns = np.array(strs)\n",
        "        df_8 = pd.DataFrame(df_7)\n",
        "        df_9=df_8.T\n",
        "        df_9.columns = columns\n",
        "\n",
        "        # df= pd.concat([df, df_3], axis=0)\n",
        "\n",
        "\n",
        "        df= pd.concat([df_2, df_1,df_3,df_9], axis=1)\n",
        "\n",
        "        # df= pd.concat([df, df_3], axis=0)\n",
        "\n",
        "\n",
        "        # df= pd.concat([df_2, df_1,df_3,df_4], axis=1)\n",
        "\n",
        "        image_dataset= pd.concat([image_dataset, df], ignore_index= True)\n",
        "\n",
        "        #Append features from current image to the dataset\n",
        "        # image_dataset=df\n",
        "\n",
        "        # # #Append features from current image to the dataset\n",
        "        # # image_dataset= pd.concat([image_dataset, df], axis=0)\n",
        "        # # # image_dataset=df\n",
        "    return image_dataset"
      ]
    },
    {
      "cell_type": "code",
      "source": [
        "x_train.dtype"
      ],
      "metadata": {
        "colab": {
          "base_uri": "https://localhost:8080/"
        },
        "id": "l2s-k2f5EW3B",
        "outputId": "07173456-0e4a-4e70-864e-67eec7dc3c6e"
      },
      "execution_count": null,
      "outputs": [
        {
          "output_type": "execute_result",
          "data": {
            "text/plain": [
              "dtype('float64')"
            ]
          },
          "metadata": {},
          "execution_count": 71
        }
      ]
    },
    {
      "cell_type": "code",
      "source": [
        "x_train_scaled = exposure.rescale_intensity(x_train, out_range=(0, 1))\n",
        "\n",
        "bin_width = 32\n",
        "im = util.img_as_ubyte(x_train_scaled)\n",
        "x_train_binned = im//bin_width"
      ],
      "metadata": {
        "id": "KwlIrNIFEXks"
      },
      "execution_count": null,
      "outputs": []
    },
    {
      "cell_type": "code",
      "source": [
        "x_train_binned.dtype"
      ],
      "metadata": {
        "colab": {
          "base_uri": "https://localhost:8080/"
        },
        "id": "2vKadBu_Ea40",
        "outputId": "60fd1245-8275-443d-92d6-8469aa14520f"
      },
      "execution_count": null,
      "outputs": [
        {
          "output_type": "execute_result",
          "data": {
            "text/plain": [
              "dtype('uint8')"
            ]
          },
          "metadata": {},
          "execution_count": 79
        }
      ]
    },
    {
      "cell_type": "code",
      "execution_count": null,
      "metadata": {
        "colab": {
          "base_uri": "https://localhost:8080/"
        },
        "id": "7eEd0mPT8O9c",
        "outputId": "9df01763-098b-435e-d404-ca46fa77e641"
      },
      "outputs": [
        {
          "output_type": "execute_result",
          "data": {
            "text/plain": [
              "(4537, 173)"
            ]
          },
          "metadata": {},
          "execution_count": 84
        }
      ],
      "source": [
        "#Extract features from training images\n",
        "image_features = feature_extractor(x_train_binned)\n",
        "X_for_ML_GLCM_2 =image_features\n",
        "X_for_ML_GLCM_2.shape"
      ]
    },
    {
      "cell_type": "code",
      "source": [
        " df = X_for_ML_GLCM_2.to_csv('/content/drive/MyDrive/Augmented Data/data_X_for_ML.csv')"
      ],
      "metadata": {
        "id": "5WqOlNZxXVOS"
      },
      "execution_count": null,
      "outputs": []
    },
    {
      "cell_type": "code",
      "execution_count": null,
      "metadata": {
        "id": "dHB4iL-AdJOb"
      },
      "outputs": [],
      "source": [
        "#Define the classifier\n",
        "from sklearn.ensemble import RandomForestClassifier\n",
        "RF_model = RandomForestClassifier(n_estimators = 50, random_state = 42)"
      ]
    },
    {
      "cell_type": "code",
      "source": [
        "X_for_ML_GLCM_2.columns = X_for_ML_GLCM_2.columns.map(str)\n",
        "# Fit the model on training data\n",
        "RF_model.fit(X_for_ML_GLCM_2, y_train) #For sklearn no one hot encoding\n",
        "\n",
        "#Predict on train\n",
        "train_prediction = RF_model.predict(X_for_ML_GLCM_2.values)\n",
        "#Inverse le transform to get original label back. \n",
        "train_prediction = le.inverse_transform(train_prediction)\n",
        "y_train_labels= le.inverse_transform(y_train)\n",
        "\n",
        "#Print overall accuracy\n",
        "from sklearn import metrics\n",
        "print (\"Accuracy = \", metrics.accuracy_score(y_train_labels, train_prediction))\n",
        "print (\"Accuracy = \", metrics.accuracy_score(y_train_labels, train_prediction))\n",
        "from sklearn.metrics import classification_report\n",
        "print (\"Accuracy = \", classification_report(y_train_labels, train_prediction))"
      ],
      "metadata": {
        "colab": {
          "base_uri": "https://localhost:8080/"
        },
        "id": "-a2XFY815nwu",
        "outputId": "1a4df7a6-939f-4bfc-c3e3-819e41811f48"
      },
      "execution_count": null,
      "outputs": [
        {
          "output_type": "stream",
          "name": "stderr",
          "text": [
            "/usr/local/lib/python3.10/dist-packages/sklearn/base.py:439: UserWarning: X does not have valid feature names, but RandomForestClassifier was fitted with feature names\n",
            "  warnings.warn(\n"
          ]
        },
        {
          "output_type": "stream",
          "name": "stdout",
          "text": [
            "Accuracy =  1.0\n",
            "Accuracy =  1.0\n",
            "Accuracy =                precision    recall  f1-score   support\n",
            "\n",
            "         0.0       1.00      1.00      1.00      1487\n",
            "         1.0       1.00      1.00      1.00      1513\n",
            "         2.0       1.00      1.00      1.00      1537\n",
            "\n",
            "    accuracy                           1.00      4537\n",
            "   macro avg       1.00      1.00      1.00      4537\n",
            "weighted avg       1.00      1.00      1.00      4537\n",
            "\n"
          ]
        }
      ]
    },
    {
      "cell_type": "code",
      "source": [],
      "metadata": {
        "id": "oIXUzxL7Y8K8"
      },
      "execution_count": null,
      "outputs": []
    },
    {
      "cell_type": "code",
      "source": [
        "X_for_ML_GLCM_2.shape"
      ],
      "metadata": {
        "id": "-Vslt0CB7Pj9",
        "colab": {
          "base_uri": "https://localhost:8080/"
        },
        "outputId": "0399785e-ca15-43af-e21b-872191c28119"
      },
      "execution_count": null,
      "outputs": [
        {
          "output_type": "execute_result",
          "data": {
            "text/plain": [
              "(4537, 173)"
            ]
          },
          "metadata": {},
          "execution_count": 103
        }
      ]
    },
    {
      "cell_type": "code",
      "source": [
        "x_val_scaled = exposure.rescale_intensity(x_val, out_range=(0, 1))\n",
        "\n",
        "bin_width = 32\n",
        "im = util.img_as_ubyte(x_val_scaled)\n",
        "x_val_binned = im//bin_width"
      ],
      "metadata": {
        "id": "G9TkhR88PCA1"
      },
      "execution_count": null,
      "outputs": []
    },
    {
      "cell_type": "code",
      "source": [
        "x_val_binned.dtype"
      ],
      "metadata": {
        "colab": {
          "base_uri": "https://localhost:8080/"
        },
        "id": "A_eCFaKuPNMa",
        "outputId": "3f6a1038-7232-4f95-c341-e2ffabdcd969"
      },
      "execution_count": null,
      "outputs": [
        {
          "output_type": "execute_result",
          "data": {
            "text/plain": [
              "dtype('uint8')"
            ]
          },
          "metadata": {},
          "execution_count": 92
        }
      ]
    },
    {
      "cell_type": "code",
      "execution_count": null,
      "metadata": {
        "id": "mMcjN4pT87Te",
        "colab": {
          "base_uri": "https://localhost:8080/"
        },
        "outputId": "325c9a3c-3077-4098-e419-84bd5e95488c"
      },
      "outputs": [
        {
          "output_type": "stream",
          "name": "stdout",
          "text": [
            "Accuracy =  0.5981493721083939\n",
            "Accuracy =  0.5981493721083939\n",
            "Accuracy =                precision    recall  f1-score   support\n",
            "\n",
            "         0.0       0.67      0.68      0.67       496\n",
            "         1.0       0.52      0.49      0.50       505\n",
            "         2.0       0.60      0.63      0.62       512\n",
            "\n",
            "    accuracy                           0.60      1513\n",
            "   macro avg       0.60      0.60      0.60      1513\n",
            "weighted avg       0.60      0.60      0.60      1513\n",
            "\n"
          ]
        }
      ],
      "source": [
        "val_for_RF = feature_extractor(x_val_binned)\n",
        "val_for_RF.columns = val_for_RF.columns.map(str)\n",
        "\n",
        "#Predict on val\n",
        "val_prediction = RF_model.predict(val_for_RF)\n",
        "#Inverse le transform to get original label back. \n",
        "val_prediction = le.inverse_transform(val_prediction)\n",
        "y_val_labels= le.inverse_transform(y_val)\n",
        "\n",
        "#Print overall accuracy\n",
        "from sklearn import metrics\n",
        "print (\"Accuracy = \", metrics.accuracy_score(y_val_labels, val_prediction))\n",
        "print (\"Accuracy = \", metrics.accuracy_score(y_val_labels, val_prediction))\n",
        "from sklearn.metrics import classification_report\n",
        "print (\"Accuracy = \", classification_report(y_val_labels, val_prediction))"
      ]
    },
    {
      "cell_type": "code",
      "source": [
        " df = val_for_RF.to_csv('/content/drive/MyDrive/Augmented Data/data_val_for_ML.csv')"
      ],
      "metadata": {
        "id": "CgzkQN6aZVUw"
      },
      "execution_count": null,
      "outputs": []
    },
    {
      "cell_type": "code",
      "source": [
        "val_for_RF.shape"
      ],
      "metadata": {
        "colab": {
          "base_uri": "https://localhost:8080/"
        },
        "id": "fvYPx3EDZj7t",
        "outputId": "9a634986-1b80-4a84-a5ea-49ac5729ddcb"
      },
      "execution_count": null,
      "outputs": [
        {
          "output_type": "execute_result",
          "data": {
            "text/plain": [
              "(1513, 173)"
            ]
          },
          "metadata": {},
          "execution_count": 107
        }
      ]
    },
    {
      "cell_type": "code",
      "source": [
        "import plotly.express as px\n",
        "fig = px.bar(x=RF_model.feature_importances_, y=X_for_ML_GLCM_2.columns)\n",
        "# fig.write_html('first_figure.html', auto_open=True)\n",
        "fig.show()"
      ],
      "metadata": {
        "colab": {
          "base_uri": "https://localhost:8080/",
          "height": 562
        },
        "id": "XjYpkptiUxuk",
        "outputId": "db99d860-d600-4506-d90f-60f90c8163d9"
      },
      "execution_count": null,
      "outputs": [
        {
          "output_type": "display_data",
          "data": {
            "text/html": [
              "<html>\n",
              "<head><meta charset=\"utf-8\" /></head>\n",
              "<body>\n",
              "    <div>            <script src=\"https://cdnjs.cloudflare.com/ajax/libs/mathjax/2.7.5/MathJax.js?config=TeX-AMS-MML_SVG\"></script><script type=\"text/javascript\">if (window.MathJax && window.MathJax.Hub && window.MathJax.Hub.Config) {window.MathJax.Hub.Config({SVG: {font: \"STIX-Web\"}});}</script>                <script type=\"text/javascript\">window.PlotlyConfig = {MathJaxConfig: 'local'};</script>\n",
              "        <script src=\"https://cdn.plot.ly/plotly-2.18.2.min.js\"></script>                <div id=\"7b674beb-c130-42f3-a6f5-547a7ae1e8be\" class=\"plotly-graph-div\" style=\"height:525px; width:100%;\"></div>            <script type=\"text/javascript\">                                    window.PLOTLYENV=window.PLOTLYENV || {};                                    if (document.getElementById(\"7b674beb-c130-42f3-a6f5-547a7ae1e8be\")) {                    Plotly.newPlot(                        \"7b674beb-c130-42f3-a6f5-547a7ae1e8be\",                        [{\"alignmentgroup\":\"True\",\"hovertemplate\":\"x=%{x}<br>y=%{y}<extra></extra>\",\"legendgroup\":\"\",\"marker\":{\"color\":\"#636efa\",\"pattern\":{\"shape\":\"\"}},\"name\":\"\",\"offsetgroup\":\"\",\"orientation\":\"h\",\"showlegend\":false,\"textposition\":\"auto\",\"x\":[0.012231923610750626,0.011597357095028833,0.0,0.0,0.0,0.0,0.0,0.0,0.0,0.0,0.0,0.0,0.0,0.0,0.0,0.0,0.0,0.0,0.0,0.0,0.0,0.0,0.0,0.0,0.0,0.0,0.0,0.0,0.0,0.0,0.0,0.0,0.0,0.0,0.0,0.0,0.0,0.0,0.0,0.0,0.0,0.0,0.0,0.0,0.0,0.0,0.0,0.0,0.0,0.0,0.0,0.0,0.0,0.0,0.0,0.0,0.0,0.0,0.0,0.0,0.0,0.0,0.0,0.0,0.011423962113761378,0.012405410611624031,0.01458475059137251,0.01719248791995324,0.01271862063097073,0.012343079360608175,0.01262121017933526,0.012829666528628393,0.011058220241380848,0.013403994697256087,0.013046151117177584,0.012806763721289756,0.011764640786698683,0.014148367485462157,0.011872850109937683,0.012183909182916954,0.0,0.0,0.0,0.0,0.012585849757884217,0.0,0.0,0.0,0.0,0.011671816117939313,0.013038420090596501,0.012581720810245185,0.013363341291133415,0.02968067810898477,0.0,0.012646729876058077,0.012902994402841927,0.002672850844680419,0.0025200282026182873,0.0035390081739850965,0.011302325530187455,0.02398385777546722,0.012612670088755856,0.00025927127578858196,0.0007936115270965013,0.0017026479325009058,0.021542281607678754,0.011362101115087937,0.014685517345099125,0.0032311274769972476,0.0028152745330536403,0.003780706165649015,0.012621588434066085,0.012474224671650417,0.011232774682534185,0.00045451571091525354,0.00398897709979897,0.009016210892922542,0.01514266919995357,0.011733698805128007,0.015484471799367195,0.010902594657070315,0.01535808301603612,0.013101422162734308,0.012231720686548134,0.013909360825414902,0.014486054919015378,0.0171920375348498,0.015079575116750812,0.01253241221821318,0.013065538983321918,0.0,0.0,0.0,0.0,0.0,0.0,0.02568337829053476,0.011140009431458434,0.0,0.0014671675327021525,0.0008642137512015769,0.019153320396014546,0.01652995738132582,0.011934507985606146,0.0008138328162585634,0.0065132685475553015,0.012648478307643457,0.012168070284912902,0.012326082676318144,0.012861131373527648,0.0005558485636835112,0.0029347937531946392,0.007018207865670974,0.0155854484038407,0.013633532456692389,0.011668748179559606,0.0030657490313875835,0.00318894492423464,0.0034260871127975868,0.012112631967779225,0.01218565604710634,0.013839108714653716,0.0030981317912045165,0.0034353462599433903,0.0031211565236831857,0.011201922099321589,0.012912740866917929,0.014136062571740257,0.0,0.0,0.00013338193470395775,0.013126954706051434],\"xaxis\":\"x\",\"y\":[\"4.0\",\"8.0\",\"12.0\",\"16.0\",\"20.0\",\"24.0\",\"28.0\",\"32.0\",\"36.0\",\"40.0\",\"44.0\",\"48.0\",\"52.0\",\"56.0\",\"60.0\",\"64.0\",\"68.0\",\"72.0\",\"76.0\",\"80.0\",\"84.0\",\"88.0\",\"92.0\",\"96.0\",\"100.0\",\"104.0\",\"108.0\",\"112.0\",\"116.0\",\"120.0\",\"124.0\",\"128.0\",\"132.0\",\"136.0\",\"140.0\",\"144.0\",\"148.0\",\"152.0\",\"156.0\",\"160.0\",\"164.0\",\"168.0\",\"172.0\",\"176.0\",\"180.0\",\"184.0\",\"188.0\",\"192.0\",\"196.0\",\"200.0\",\"204.0\",\"208.0\",\"212.0\",\"216.0\",\"220.0\",\"224.0\",\"228.0\",\"232.0\",\"236.0\",\"240.0\",\"244.0\",\"248.0\",\"252.0\",\"256.0\",\"Energy\",\"Corr\",\"Diss_sim\",\"Homogen\",\"Contrast\",\"Energy2\",\"Corr2\",\"Diss_sim2\",\"Homogen2\",\"Contrast2\",\"Energy3\",\"Corr3\",\"Diss_sim3\",\"Homogen3\",\"Contrast3\",\"Energy4\",\"Corr4\",\"Diss_sim4\",\"Homogen4\",\"Contrast4\",\"Energy5\",\"Corr5\",\"Diss_sim5\",\"Homogen5\",\"Contrast5\",\"shannon_entropy\",\"fourier_1\",\"fourier_2\",\"SHI-TOM\",\"TOM\",\"Keypoints\",\"mean_Original Image\",\"std_Original Image\",\"25%_Original Image\",\"50%_Original Image\",\"75%_Original Image\",\"sum_Original Image\",\"mean_Entropy\",\"std_Entropy\",\"25%_Entropy\",\"50%_Entropy\",\"75%_Entropy\",\"sum_Entropy\",\"mean_Gaussian s4\",\"std_Gaussian s4\",\"25%_Gaussian s4\",\"50%_Gaussian s4\",\"75%_Gaussian s4\",\"sum_Gaussian s4\",\"mean_Sobel\",\"std_Sobel\",\"25%_Sobel\",\"50%_Sobel\",\"75%_Sobel\",\"sum_Sobel\",\"mean_meijering\",\"std_meijering\",\"25%_meijering\",\"50%_meijering\",\"75%_meijering\",\"sum_meijering\",\"mean_sato\",\"std_sato\",\"25%_sato\",\"50%_sato\",\"75%_sato\",\"sum_sato\",\"mean_frangi\",\"std_frangi\",\"25%_frangi\",\"50%_frangi\",\"75%_frangi\",\"sum_frangi\",\"mean_Roberts\",\"std_Roberts\",\"25%_Roberts\",\"50%_Roberts\",\"75%_Roberts\",\"sum_Roberts\",\"mean_Scharr\",\"std_Scharr\",\"25%_Scharr\",\"50%_Scharr\",\"75%_Scharr\",\"sum_Scharr\",\"mean_Prewitt\",\"std_Prewitt\",\"25%_Prewitt\",\"50%_Prewitt\",\"75%_Prewitt\",\"sum_Prewitt\",\"mean_Median s3\",\"std_Median s3\",\"25%_Median s3\",\"50%_Median s3\",\"75%_Median s3\",\"sum_Median s3\",\"mean_Median s7\",\"std_Median s7\",\"25%_Median s7\",\"50%_Median s7\",\"75%_Median s7\",\"sum_Median s7\",\"mean_Variance s3\",\"std_Variance s3\",\"25%_Variance s3\",\"50%_Variance s3\",\"75%_Variance s3\",\"sum_Variance s3\"],\"yaxis\":\"y\",\"type\":\"bar\"}],                        {\"template\":{\"data\":{\"histogram2dcontour\":[{\"type\":\"histogram2dcontour\",\"colorbar\":{\"outlinewidth\":0,\"ticks\":\"\"},\"colorscale\":[[0.0,\"#0d0887\"],[0.1111111111111111,\"#46039f\"],[0.2222222222222222,\"#7201a8\"],[0.3333333333333333,\"#9c179e\"],[0.4444444444444444,\"#bd3786\"],[0.5555555555555556,\"#d8576b\"],[0.6666666666666666,\"#ed7953\"],[0.7777777777777778,\"#fb9f3a\"],[0.8888888888888888,\"#fdca26\"],[1.0,\"#f0f921\"]]}],\"choropleth\":[{\"type\":\"choropleth\",\"colorbar\":{\"outlinewidth\":0,\"ticks\":\"\"}}],\"histogram2d\":[{\"type\":\"histogram2d\",\"colorbar\":{\"outlinewidth\":0,\"ticks\":\"\"},\"colorscale\":[[0.0,\"#0d0887\"],[0.1111111111111111,\"#46039f\"],[0.2222222222222222,\"#7201a8\"],[0.3333333333333333,\"#9c179e\"],[0.4444444444444444,\"#bd3786\"],[0.5555555555555556,\"#d8576b\"],[0.6666666666666666,\"#ed7953\"],[0.7777777777777778,\"#fb9f3a\"],[0.8888888888888888,\"#fdca26\"],[1.0,\"#f0f921\"]]}],\"heatmap\":[{\"type\":\"heatmap\",\"colorbar\":{\"outlinewidth\":0,\"ticks\":\"\"},\"colorscale\":[[0.0,\"#0d0887\"],[0.1111111111111111,\"#46039f\"],[0.2222222222222222,\"#7201a8\"],[0.3333333333333333,\"#9c179e\"],[0.4444444444444444,\"#bd3786\"],[0.5555555555555556,\"#d8576b\"],[0.6666666666666666,\"#ed7953\"],[0.7777777777777778,\"#fb9f3a\"],[0.8888888888888888,\"#fdca26\"],[1.0,\"#f0f921\"]]}],\"heatmapgl\":[{\"type\":\"heatmapgl\",\"colorbar\":{\"outlinewidth\":0,\"ticks\":\"\"},\"colorscale\":[[0.0,\"#0d0887\"],[0.1111111111111111,\"#46039f\"],[0.2222222222222222,\"#7201a8\"],[0.3333333333333333,\"#9c179e\"],[0.4444444444444444,\"#bd3786\"],[0.5555555555555556,\"#d8576b\"],[0.6666666666666666,\"#ed7953\"],[0.7777777777777778,\"#fb9f3a\"],[0.8888888888888888,\"#fdca26\"],[1.0,\"#f0f921\"]]}],\"contourcarpet\":[{\"type\":\"contourcarpet\",\"colorbar\":{\"outlinewidth\":0,\"ticks\":\"\"}}],\"contour\":[{\"type\":\"contour\",\"colorbar\":{\"outlinewidth\":0,\"ticks\":\"\"},\"colorscale\":[[0.0,\"#0d0887\"],[0.1111111111111111,\"#46039f\"],[0.2222222222222222,\"#7201a8\"],[0.3333333333333333,\"#9c179e\"],[0.4444444444444444,\"#bd3786\"],[0.5555555555555556,\"#d8576b\"],[0.6666666666666666,\"#ed7953\"],[0.7777777777777778,\"#fb9f3a\"],[0.8888888888888888,\"#fdca26\"],[1.0,\"#f0f921\"]]}],\"surface\":[{\"type\":\"surface\",\"colorbar\":{\"outlinewidth\":0,\"ticks\":\"\"},\"colorscale\":[[0.0,\"#0d0887\"],[0.1111111111111111,\"#46039f\"],[0.2222222222222222,\"#7201a8\"],[0.3333333333333333,\"#9c179e\"],[0.4444444444444444,\"#bd3786\"],[0.5555555555555556,\"#d8576b\"],[0.6666666666666666,\"#ed7953\"],[0.7777777777777778,\"#fb9f3a\"],[0.8888888888888888,\"#fdca26\"],[1.0,\"#f0f921\"]]}],\"mesh3d\":[{\"type\":\"mesh3d\",\"colorbar\":{\"outlinewidth\":0,\"ticks\":\"\"}}],\"scatter\":[{\"fillpattern\":{\"fillmode\":\"overlay\",\"size\":10,\"solidity\":0.2},\"type\":\"scatter\"}],\"parcoords\":[{\"type\":\"parcoords\",\"line\":{\"colorbar\":{\"outlinewidth\":0,\"ticks\":\"\"}}}],\"scatterpolargl\":[{\"type\":\"scatterpolargl\",\"marker\":{\"colorbar\":{\"outlinewidth\":0,\"ticks\":\"\"}}}],\"bar\":[{\"error_x\":{\"color\":\"#2a3f5f\"},\"error_y\":{\"color\":\"#2a3f5f\"},\"marker\":{\"line\":{\"color\":\"#E5ECF6\",\"width\":0.5},\"pattern\":{\"fillmode\":\"overlay\",\"size\":10,\"solidity\":0.2}},\"type\":\"bar\"}],\"scattergeo\":[{\"type\":\"scattergeo\",\"marker\":{\"colorbar\":{\"outlinewidth\":0,\"ticks\":\"\"}}}],\"scatterpolar\":[{\"type\":\"scatterpolar\",\"marker\":{\"colorbar\":{\"outlinewidth\":0,\"ticks\":\"\"}}}],\"histogram\":[{\"marker\":{\"pattern\":{\"fillmode\":\"overlay\",\"size\":10,\"solidity\":0.2}},\"type\":\"histogram\"}],\"scattergl\":[{\"type\":\"scattergl\",\"marker\":{\"colorbar\":{\"outlinewidth\":0,\"ticks\":\"\"}}}],\"scatter3d\":[{\"type\":\"scatter3d\",\"line\":{\"colorbar\":{\"outlinewidth\":0,\"ticks\":\"\"}},\"marker\":{\"colorbar\":{\"outlinewidth\":0,\"ticks\":\"\"}}}],\"scattermapbox\":[{\"type\":\"scattermapbox\",\"marker\":{\"colorbar\":{\"outlinewidth\":0,\"ticks\":\"\"}}}],\"scatterternary\":[{\"type\":\"scatterternary\",\"marker\":{\"colorbar\":{\"outlinewidth\":0,\"ticks\":\"\"}}}],\"scattercarpet\":[{\"type\":\"scattercarpet\",\"marker\":{\"colorbar\":{\"outlinewidth\":0,\"ticks\":\"\"}}}],\"carpet\":[{\"aaxis\":{\"endlinecolor\":\"#2a3f5f\",\"gridcolor\":\"white\",\"linecolor\":\"white\",\"minorgridcolor\":\"white\",\"startlinecolor\":\"#2a3f5f\"},\"baxis\":{\"endlinecolor\":\"#2a3f5f\",\"gridcolor\":\"white\",\"linecolor\":\"white\",\"minorgridcolor\":\"white\",\"startlinecolor\":\"#2a3f5f\"},\"type\":\"carpet\"}],\"table\":[{\"cells\":{\"fill\":{\"color\":\"#EBF0F8\"},\"line\":{\"color\":\"white\"}},\"header\":{\"fill\":{\"color\":\"#C8D4E3\"},\"line\":{\"color\":\"white\"}},\"type\":\"table\"}],\"barpolar\":[{\"marker\":{\"line\":{\"color\":\"#E5ECF6\",\"width\":0.5},\"pattern\":{\"fillmode\":\"overlay\",\"size\":10,\"solidity\":0.2}},\"type\":\"barpolar\"}],\"pie\":[{\"automargin\":true,\"type\":\"pie\"}]},\"layout\":{\"autotypenumbers\":\"strict\",\"colorway\":[\"#636efa\",\"#EF553B\",\"#00cc96\",\"#ab63fa\",\"#FFA15A\",\"#19d3f3\",\"#FF6692\",\"#B6E880\",\"#FF97FF\",\"#FECB52\"],\"font\":{\"color\":\"#2a3f5f\"},\"hovermode\":\"closest\",\"hoverlabel\":{\"align\":\"left\"},\"paper_bgcolor\":\"white\",\"plot_bgcolor\":\"#E5ECF6\",\"polar\":{\"bgcolor\":\"#E5ECF6\",\"angularaxis\":{\"gridcolor\":\"white\",\"linecolor\":\"white\",\"ticks\":\"\"},\"radialaxis\":{\"gridcolor\":\"white\",\"linecolor\":\"white\",\"ticks\":\"\"}},\"ternary\":{\"bgcolor\":\"#E5ECF6\",\"aaxis\":{\"gridcolor\":\"white\",\"linecolor\":\"white\",\"ticks\":\"\"},\"baxis\":{\"gridcolor\":\"white\",\"linecolor\":\"white\",\"ticks\":\"\"},\"caxis\":{\"gridcolor\":\"white\",\"linecolor\":\"white\",\"ticks\":\"\"}},\"coloraxis\":{\"colorbar\":{\"outlinewidth\":0,\"ticks\":\"\"}},\"colorscale\":{\"sequential\":[[0.0,\"#0d0887\"],[0.1111111111111111,\"#46039f\"],[0.2222222222222222,\"#7201a8\"],[0.3333333333333333,\"#9c179e\"],[0.4444444444444444,\"#bd3786\"],[0.5555555555555556,\"#d8576b\"],[0.6666666666666666,\"#ed7953\"],[0.7777777777777778,\"#fb9f3a\"],[0.8888888888888888,\"#fdca26\"],[1.0,\"#f0f921\"]],\"sequentialminus\":[[0.0,\"#0d0887\"],[0.1111111111111111,\"#46039f\"],[0.2222222222222222,\"#7201a8\"],[0.3333333333333333,\"#9c179e\"],[0.4444444444444444,\"#bd3786\"],[0.5555555555555556,\"#d8576b\"],[0.6666666666666666,\"#ed7953\"],[0.7777777777777778,\"#fb9f3a\"],[0.8888888888888888,\"#fdca26\"],[1.0,\"#f0f921\"]],\"diverging\":[[0,\"#8e0152\"],[0.1,\"#c51b7d\"],[0.2,\"#de77ae\"],[0.3,\"#f1b6da\"],[0.4,\"#fde0ef\"],[0.5,\"#f7f7f7\"],[0.6,\"#e6f5d0\"],[0.7,\"#b8e186\"],[0.8,\"#7fbc41\"],[0.9,\"#4d9221\"],[1,\"#276419\"]]},\"xaxis\":{\"gridcolor\":\"white\",\"linecolor\":\"white\",\"ticks\":\"\",\"title\":{\"standoff\":15},\"zerolinecolor\":\"white\",\"automargin\":true,\"zerolinewidth\":2},\"yaxis\":{\"gridcolor\":\"white\",\"linecolor\":\"white\",\"ticks\":\"\",\"title\":{\"standoff\":15},\"zerolinecolor\":\"white\",\"automargin\":true,\"zerolinewidth\":2},\"scene\":{\"xaxis\":{\"backgroundcolor\":\"#E5ECF6\",\"gridcolor\":\"white\",\"linecolor\":\"white\",\"showbackground\":true,\"ticks\":\"\",\"zerolinecolor\":\"white\",\"gridwidth\":2},\"yaxis\":{\"backgroundcolor\":\"#E5ECF6\",\"gridcolor\":\"white\",\"linecolor\":\"white\",\"showbackground\":true,\"ticks\":\"\",\"zerolinecolor\":\"white\",\"gridwidth\":2},\"zaxis\":{\"backgroundcolor\":\"#E5ECF6\",\"gridcolor\":\"white\",\"linecolor\":\"white\",\"showbackground\":true,\"ticks\":\"\",\"zerolinecolor\":\"white\",\"gridwidth\":2}},\"shapedefaults\":{\"line\":{\"color\":\"#2a3f5f\"}},\"annotationdefaults\":{\"arrowcolor\":\"#2a3f5f\",\"arrowhead\":0,\"arrowwidth\":1},\"geo\":{\"bgcolor\":\"white\",\"landcolor\":\"#E5ECF6\",\"subunitcolor\":\"white\",\"showland\":true,\"showlakes\":true,\"lakecolor\":\"white\"},\"title\":{\"x\":0.05},\"mapbox\":{\"style\":\"light\"}}},\"xaxis\":{\"anchor\":\"y\",\"domain\":[0.0,1.0],\"title\":{\"text\":\"x\"}},\"yaxis\":{\"anchor\":\"x\",\"domain\":[0.0,1.0],\"title\":{\"text\":\"y\"}},\"legend\":{\"tracegroupgap\":0},\"margin\":{\"t\":60},\"barmode\":\"relative\"},                        {\"responsive\": true}                    ).then(function(){\n",
              "                            \n",
              "var gd = document.getElementById('7b674beb-c130-42f3-a6f5-547a7ae1e8be');\n",
              "var x = new MutationObserver(function (mutations, observer) {{\n",
              "        var display = window.getComputedStyle(gd).display;\n",
              "        if (!display || display === 'none') {{\n",
              "            console.log([gd, 'removed!']);\n",
              "            Plotly.purge(gd);\n",
              "            observer.disconnect();\n",
              "        }}\n",
              "}});\n",
              "\n",
              "// Listen for the removal of the full notebook cells\n",
              "var notebookContainer = gd.closest('#notebook-container');\n",
              "if (notebookContainer) {{\n",
              "    x.observe(notebookContainer, {childList: true});\n",
              "}}\n",
              "\n",
              "// Listen for the clearing of the current output cell\n",
              "var outputEl = gd.closest('.output');\n",
              "if (outputEl) {{\n",
              "    x.observe(outputEl, {childList: true});\n",
              "}}\n",
              "\n",
              "                        })                };                            </script>        </div>\n",
              "</body>\n",
              "</html>"
            ]
          },
          "metadata": {}
        }
      ]
    },
    {
      "cell_type": "code",
      "source": [
        "#Print confusion matrix\n",
        "from sklearn.metrics import confusion_matrix\n",
        "cm = confusion_matrix(y_val_labels, val_prediction)\n",
        "\n",
        "fig, ax = plt.subplots(figsize=(5,5))        \n",
        "sns.set(font_scale=1.6)\n",
        "sns.heatmap(cm, annot=True, ax=ax)"
      ],
      "metadata": {
        "colab": {
          "base_uri": "https://localhost:8080/",
          "height": 482
        },
        "id": "mWC392X2aDmQ",
        "outputId": "98accf50-fdbf-4727-a699-6e295711fe07"
      },
      "execution_count": null,
      "outputs": [
        {
          "output_type": "execute_result",
          "data": {
            "text/plain": [
              "<Axes: >"
            ]
          },
          "metadata": {},
          "execution_count": 110
        },
        {
          "output_type": "display_data",
          "data": {
            "text/plain": [
              "<Figure size 500x500 with 2 Axes>"
            ],
            "image/png": "[encoded data removed]"
          },
          "metadata": {}
        }
      ]
    }
  ],
  "metadata": {
    "colab": {
      "provenance": []
    },
    "kernelspec": {
      "display_name": "Python 3",
      "name": "python3"
    },
    "language_info": {
      "name": "python"
    }
  },
  "nbformat": 4,
  "nbformat_minor": 0
}