{
  "nbformat": 4,
  "nbformat_minor": 0,
  "metadata": {
    "colab": {
      "provenance": [],
      "gpuType": "T4"
    },
    "kernelspec": {
      "name": "python3",
      "display_name": "Python 3"
    },
    "language_info": {
      "name": "python"
    },
    "accelerator": "GPU",
    "gpuClass": "standard"
  },
  "cells": [
    {
      "cell_type": "code",
      "execution_count": 1,
      "metadata": {
        "id": "28wEzVF2Rpfq"
      },
      "outputs": [],
      "source": [
        "import numpy as np\n",
        "from sklearn.model_selection import train_test_split\n",
        "from sklearn.model_selection import KFold\n",
        "from sklearn.linear_model import LogisticRegression \n",
        "from sklearn.metrics import accuracy_score,precision_score,recall_score,confusion_matrix,roc_curve,roc_auc_score\n",
        "from sklearn.model_selection import GridSearchCV\n",
        "from sklearn.preprocessing import LabelEncoder\n",
        "from sklearn.ensemble import RandomForestClassifier, BaggingClassifier,GradientBoostingClassifier\n",
        "from sklearn import metrics\n",
        "from sklearn.manifold import Isomap, LocallyLinearEmbedding, MDS, SpectralEmbedding, TSNE\n",
        "import matplotlib.pyplot as plt\n",
        "from sklearn.decomposition import PCA\n",
        "from sklearn.neighbors import KNeighborsClassifier\n",
        "from sklearn.datasets import load_iris\n",
        "from sklearn.model_selection import cross_val_score, train_test_split\n",
        "from sklearn.preprocessing import StandardScaler\n",
        "from sklearn.neighbors import KNeighborsClassifier\n",
        "from sklearn.ensemble import RandomForestClassifier, VotingClassifier\n",
        "from sklearn.svm import SVC\n",
        "from sklearn.naive_bayes import GaussianNB\n",
        "from sklearn.linear_model import LogisticRegression\n",
        "from sklearn.metrics import classification_report, confusion_matrix\n",
        "\n",
        "from sklearn.datasets import load_iris\n",
        "from sklearn.model_selection import cross_val_score, train_test_split\n",
        "from sklearn.ensemble import AdaBoostClassifier, GradientBoostingClassifier\n",
        "from xgboost import XGBClassifier\n",
        "\n",
        "\n",
        "\n",
        "import warnings\n",
        "warnings.filterwarnings(\"ignore\")\n"
      ]
    },
    {
      "cell_type": "code",
      "source": [
        "from google.colab import drive\n",
        "drive.mount('/content/drive')"
      ],
      "metadata": {
        "colab": {
          "base_uri": "https://localhost:8080/"
        },
        "id": "Ig4tZ42YR51G",
        "outputId": "9bb364b3-4237-48b1-886e-57fe790c8dd7"
      },
      "execution_count": 2,
      "outputs": [
        {
          "output_type": "stream",
          "name": "stdout",
          "text": [
            "Drive already mounted at /content/drive; to attempt to forcibly remount, call drive.mount(\"/content/drive\", force_remount=True).\n"
          ]
        }
      ]
    },
    {
      "cell_type": "code",
      "source": [
        "my_arrays_final = np.load(\"/content/drive/MyDrive/numpy_data_CNN_128*128.npz\", allow_pickle=True)\n"
      ],
      "metadata": {
        "id": "_wcF4LsVR54B"
      },
      "execution_count": 3,
      "outputs": []
    },
    {
      "cell_type": "code",
      "source": [
        "# Extract the X_train, y_train, X_test, and y_test arrays from the data\n",
        "X_train = my_arrays_final['X_train']\n",
        "y_train = my_arrays_final['y_train']\n",
        "X_test = my_arrays_final['X_test']\n",
        "y_test = my_arrays_final['y_test']"
      ],
      "metadata": {
        "id": "G4hsdu74R56s"
      },
      "execution_count": 4,
      "outputs": []
    },
    {
      "cell_type": "code",
      "source": [
        "# Print the shapes of the data\n",
        "print(f'X_train shape: {X_train.shape}')\n",
        "print(f'y_train shape: {y_train.shape}')\n",
        "print(f'X_test shape: {X_test.shape}')\n",
        "print(f'y_test shape: {y_test.shape}')"
      ],
      "metadata": {
        "colab": {
          "base_uri": "https://localhost:8080/"
        },
        "id": "ccpuPXY8R59W",
        "outputId": "e9762a98-713e-41a1-9f43-44d8d7ae5330"
      },
      "execution_count": 5,
      "outputs": [
        {
          "output_type": "stream",
          "name": "stdout",
          "text": [
            "X_train shape: (6052, 128, 128, 3)\n",
            "y_train shape: (6052,)\n",
            "X_test shape: (1514, 128, 128, 3)\n",
            "y_test shape: (1514,)\n"
          ]
        }
      ]
    },
    {
      "cell_type": "code",
      "source": [
        "featuresTrain_1 = np.load('/content/drive/MyDrive/FineTuneVGGfeatures_128*128_train.npy')\n"
      ],
      "metadata": {
        "id": "jLLE9dT6R5_v"
      },
      "execution_count": 6,
      "outputs": []
    },
    {
      "cell_type": "code",
      "source": [
        "featuresTrain_1.shape"
      ],
      "metadata": {
        "colab": {
          "base_uri": "https://localhost:8080/"
        },
        "id": "eZGPEq8rR6Ci",
        "outputId": "b31526ec-dee3-491a-8318-ec010bd356fb"
      },
      "execution_count": 7,
      "outputs": [
        {
          "output_type": "execute_result",
          "data": {
            "text/plain": [
              "(6052, 17)"
            ]
          },
          "metadata": {},
          "execution_count": 7
        }
      ]
    },
    {
      "cell_type": "code",
      "source": [
        "featuresVal_1 = np.load('/content/drive/MyDrive/FineTuneVGGfeatures_128*128_val.npy')\n"
      ],
      "metadata": {
        "id": "5orySEyTSYlD"
      },
      "execution_count": 8,
      "outputs": []
    },
    {
      "cell_type": "code",
      "source": [
        "featuresVal_1.shape"
      ],
      "metadata": {
        "colab": {
          "base_uri": "https://localhost:8080/"
        },
        "id": "JhfZvHoRSYnj",
        "outputId": "3f41cc7e-5471-4e87-c7dc-4fc0ef1896f5"
      },
      "execution_count": 9,
      "outputs": [
        {
          "output_type": "execute_result",
          "data": {
            "text/plain": [
              "(1514, 17)"
            ]
          },
          "metadata": {},
          "execution_count": 9
        }
      ]
    },
    {
      "cell_type": "code",
      "source": [
        "model = RandomForestClassifier(50)\n",
        "model.fit(featuresTrain_1, y_train)\n",
        "\n",
        "results = model.predict(featuresTrain_1)\n",
        "train_accuracy = accuracy_score(y_train, results)\n",
        "print(\"Training Accuracy:\", train_accuracy)\n",
        "\n",
        "# evaluate the model\n",
        "\n",
        "results = model.predict(featuresVal_1)\n",
        "test_accuracy = accuracy_score(y_test, results)\n",
        "print(\"Testing Accuracy:\", test_accuracy)"
      ],
      "metadata": {
        "colab": {
          "base_uri": "https://localhost:8080/"
        },
        "id": "TqRjSq9uSYqC",
        "outputId": "41fadaa0-1064-49d5-bfef-c0ae95ccc998"
      },
      "execution_count": 10,
      "outputs": [
        {
          "output_type": "stream",
          "name": "stdout",
          "text": [
            "Training Accuracy: 0.9020158625247852\n",
            "Testing Accuracy: 0.6360634081902246\n"
          ]
        }
      ]
    },
    {
      "cell_type": "code",
      "source": [
        "# Create neighbors\n",
        "neighbors = np.arange(1, 13)\n",
        "train_accuracies = {}\n",
        "test_accuracies = {}\n",
        "\n",
        "for neighbor in neighbors:\n",
        "    knn = KNeighborsClassifier(n_neighbors=neighbor)\n",
        "    knn.fit(featuresTrain_1, y_train)\n",
        "    train_accuracies[neighbor] = knn.score(featuresTrain_1, y_train)\n",
        "    test_accuracies[neighbor] = knn.score(featuresVal_1, y_test)\n",
        "print(neighbors, '\\n', train_accuracies, '\\n', test_accuracies)"
      ],
      "metadata": {
        "colab": {
          "base_uri": "https://localhost:8080/"
        },
        "id": "9qDfG3ifR6G3",
        "outputId": "f97f9489-06c0-420c-df61-722cb8ecf2f7"
      },
      "execution_count": 11,
      "outputs": [
        {
          "output_type": "stream",
          "name": "stdout",
          "text": [
            "[ 1  2  3  4  5  6  7  8  9 10 11 12] \n",
            " {1: 0.9020158625247852, 2: 0.8907799074686055, 3: 0.8902842035690681, 4: 0.8886318572372769, 5: 0.8869795109054858, 6: 0.8859881031064111, 7: 0.8868142762723067, 8: 0.8866490416391276, 9: 0.8861533377395903, 10: 0.8854923992068737, 11: 0.8856576338400529, 12: 0.8854923992068737} \n",
            " {1: 0.6347424042272127, 2: 0.6281373844121533, 3: 0.6321003963011889, 4: 0.630779392338177, 5: 0.6301188903566711, 6: 0.6334214002642008, 7: 0.6373844121532365, 8: 0.6387054161162483, 9: 0.6354029062087186, 10: 0.6354029062087186, 11: 0.6340819022457067, 12: 0.6340819022457067}\n"
          ]
        }
      ]
    },
    {
      "cell_type": "code",
      "source": [
        "# Import the function for implementing cross validation\n",
        "from sklearn.model_selection import cross_val_score\n",
        "\n",
        "# Use that function to print the cross validation score for 10 folds\n",
        "print(cross_val_score(knn,featuresTrain_1,y_train,cv=10))"
      ],
      "metadata": {
        "colab": {
          "base_uri": "https://localhost:8080/"
        },
        "id": "VDLNo-V5WJMt",
        "outputId": "50060d47-ccb8-400c-fbb0-b1b46715fde9"
      },
      "execution_count": 12,
      "outputs": [
        {
          "output_type": "stream",
          "name": "stdout",
          "text": [
            "[0.89933993 0.89768977 0.87768595 0.86446281 0.8677686  0.89586777\n",
            " 0.88760331 0.87438017 0.8892562  0.87768595]\n"
          ]
        }
      ]
    },
    {
      "cell_type": "code",
      "source": [
        "rf = RandomForestClassifier()\n",
        "\n",
        "# evaluate the Random Forest classifier using cross-validation\n",
        "scores = cross_val_score(rf, featuresTrain_1, y_train, cv=5)\n",
        "\n",
        "print(\"Training Accuracy: %0.2f (+/- %0.2f)\" % (scores.mean(), scores.std() * 2))\n",
        "\n",
        "# fit the Random Forest classifier to the entire training set\n",
        "rf.fit(featuresTrain_1, y_train)\n",
        "\n",
        "# calculate validation accuracy\n",
        "val_accuracy = rf.score(featuresVal_1, y_test)\n",
        "\n",
        "print(\"Validation Accuracy: %0.2f\" % val_accuracy)"
      ],
      "metadata": {
        "colab": {
          "base_uri": "https://localhost:8080/"
        },
        "id": "0XkO3mZDXn4n",
        "outputId": "9cb5aa50-b3d7-4610-f1cd-461ba488bec5"
      },
      "execution_count": 13,
      "outputs": [
        {
          "output_type": "stream",
          "name": "stdout",
          "text": [
            "Training Accuracy: 0.88 (+/- 0.02)\n",
            "Validation Accuracy: 0.64\n"
          ]
        }
      ]
    },
    {
      "cell_type": "code",
      "source": [
        "# create a Random Forest classifier\n",
        "rf_1 = RandomForestClassifier(n_estimators=100, max_depth=5, min_samples_split=2, min_samples_leaf=1)\n",
        "\n",
        "# evaluate the Random Forest classifier using cross-validation\n",
        "scores = cross_val_score(rf_1, featuresTrain_1, y_train, cv=5)\n",
        "\n",
        "print(\"RandomForestClassifier - Training Accuracy: %0.2f\" % (scores.mean()))\n",
        "\n",
        "# fit the Random Forest classifier to the entire training set\n",
        "rf.fit(featuresTrain_1, y_train)\n",
        "\n",
        "# calculate validation accuracy\n",
        "val_accuracy = rf.score(featuresVal_1, y_test)\n",
        "\n",
        "print(\"RandomForestClassifier - Validation Accuracy: %0.2f\" % val_accuracy)"
      ],
      "metadata": {
        "colab": {
          "base_uri": "https://localhost:8080/"
        },
        "id": "0hPE5aaCXn7u",
        "outputId": "48fee959-699e-42ba-89ac-b9ac409f16f3"
      },
      "execution_count": 14,
      "outputs": [
        {
          "output_type": "stream",
          "name": "stdout",
          "text": [
            "RandomForestClassifier - Training Accuracy: 0.88\n",
            "RandomForestClassifier - Validation Accuracy: 0.63\n"
          ]
        }
      ]
    },
    {
      "cell_type": "code",
      "source": [
        "# generate predictions on the testing set\n",
        "y_pred = rf.predict(featuresVal_1)\n",
        "\n",
        "# generate the classification report\n",
        "print(classification_report(y_test, y_pred))\n"
      ],
      "metadata": {
        "colab": {
          "base_uri": "https://localhost:8080/"
        },
        "id": "S6SyewxOaZ6G",
        "outputId": "91948459-fe6d-462e-f461-5f58043d8e04"
      },
      "execution_count": 15,
      "outputs": [
        {
          "output_type": "stream",
          "name": "stdout",
          "text": [
            "              precision    recall  f1-score   support\n",
            "\n",
            "           0       0.68      0.79      0.73       463\n",
            "           1       0.53      0.63      0.57       540\n",
            "           2       0.77      0.51      0.61       511\n",
            "\n",
            "    accuracy                           0.63      1514\n",
            "   macro avg       0.66      0.64      0.64      1514\n",
            "weighted avg       0.66      0.63      0.63      1514\n",
            "\n"
          ]
        }
      ]
    },
    {
      "cell_type": "code",
      "source": [
        "# create a GradientBoostingClassifier\n",
        "gb_1 = GradientBoostingClassifier(n_estimators=100, learning_rate=0.1, max_depth=5)\n",
        "\n",
        "# evaluate the GradientBoostingClassifier using cross-validation\n",
        "scores = cross_val_score(gb_1, featuresTrain_1, y_train, cv=5)\n",
        "\n",
        "print(\"GradientBoostingClassifier - Training Accuracy: %0.2f\" % (scores.mean()))\n",
        "\n",
        "# fit the GradientBoostingClassifier to the entire training set\n",
        "gb_1.fit(featuresTrain_1, y_train)\n",
        "\n",
        "# calculate validation accuracy\n",
        "val_accuracy = gb_1.score(featuresVal_1, y_test)\n",
        "\n",
        "print(\"GradientBoostingClassifier - Validation Accuracy: %0.2f\" % val_accuracy)\n"
      ],
      "metadata": {
        "colab": {
          "base_uri": "https://localhost:8080/"
        },
        "id": "yNzjiPsDdamp",
        "outputId": "257fce24-d82b-4403-ae2f-634d20ac589e"
      },
      "execution_count": 16,
      "outputs": [
        {
          "output_type": "stream",
          "name": "stdout",
          "text": [
            "GradientBoostingClassifier - Training Accuracy: 0.88\n",
            "GradientBoostingClassifier - Validation Accuracy: 0.64\n"
          ]
        }
      ]
    },
    {
      "cell_type": "code",
      "source": [
        "# generate predictions on the testing set\n",
        "y_pred = rf.predict(featuresVal_1)\n",
        "\n",
        "# generate the classification report\n",
        "print(classification_report(y_test, y_pred))\n"
      ],
      "metadata": {
        "colab": {
          "base_uri": "https://localhost:8080/"
        },
        "id": "Yt5Jh2-5dcOD",
        "outputId": "3ada4d08-61b7-43f1-a24f-1d42a808f024"
      },
      "execution_count": 17,
      "outputs": [
        {
          "output_type": "stream",
          "name": "stdout",
          "text": [
            "              precision    recall  f1-score   support\n",
            "\n",
            "           0       0.68      0.79      0.73       463\n",
            "           1       0.53      0.63      0.57       540\n",
            "           2       0.77      0.51      0.61       511\n",
            "\n",
            "    accuracy                           0.63      1514\n",
            "   macro avg       0.66      0.64      0.64      1514\n",
            "weighted avg       0.66      0.63      0.63      1514\n",
            "\n"
          ]
        }
      ]
    },
    {
      "cell_type": "code",
      "source": [
        "# create an XGBClassifier\n",
        "xgb_1 = XGBClassifier(n_estimators=100, learning_rate=0.1, max_depth=5)\n",
        "\n",
        "# evaluate the XGBClassifier using cross-validation\n",
        "scores = cross_val_score(xgb_1, featuresTrain_1, y_train, cv=5)\n",
        "\n",
        "print(\"XGBClassifier - Training Accuracy: %0.2f\" % (scores.mean()))\n",
        "\n",
        "# fit the XGBClassifier to the entire training set\n",
        "xgb_1.fit(featuresTrain_1, y_train)\n",
        "\n",
        "# calculate validation accuracy\n",
        "val_accuracy = xgb_1.score(featuresVal_1, y_test)\n",
        "\n",
        "print(\"XGBClassifier - Validation Accuracy: %0.2f\" % val_accuracy)\n"
      ],
      "metadata": {
        "colab": {
          "base_uri": "https://localhost:8080/"
        },
        "id": "bF9iSIPMdtrt",
        "outputId": "97e68dfd-7bad-4b94-a9d1-81ab7a468d17"
      },
      "execution_count": 18,
      "outputs": [
        {
          "output_type": "stream",
          "name": "stdout",
          "text": [
            "XGBClassifier - Training Accuracy: 0.88\n",
            "XGBClassifier - Validation Accuracy: 0.64\n"
          ]
        }
      ]
    },
    {
      "cell_type": "code",
      "source": [
        "# generate predictions on the testing set\n",
        "y_pred = rf.predict(featuresVal_1)\n",
        "\n",
        "# generate the classification report\n",
        "print(classification_report(y_test, y_pred))\n"
      ],
      "metadata": {
        "colab": {
          "base_uri": "https://localhost:8080/"
        },
        "id": "ybyvO8mIeAjR",
        "outputId": "0fcea14d-a1a1-4033-80ad-905589379b66"
      },
      "execution_count": 19,
      "outputs": [
        {
          "output_type": "stream",
          "name": "stdout",
          "text": [
            "              precision    recall  f1-score   support\n",
            "\n",
            "           0       0.68      0.79      0.73       463\n",
            "           1       0.53      0.63      0.57       540\n",
            "           2       0.77      0.51      0.61       511\n",
            "\n",
            "    accuracy                           0.63      1514\n",
            "   macro avg       0.66      0.64      0.64      1514\n",
            "weighted avg       0.66      0.63      0.63      1514\n",
            "\n"
          ]
        }
      ]
    },
    {
      "cell_type": "code",
      "source": [
        "# create an AdaBoost classifier\n",
        "ada_1 = AdaBoostClassifier(n_estimators=50, learning_rate=1.0)\n",
        "\n",
        "# evaluate the AdaBoost classifier using cross-validation\n",
        "scores = cross_val_score(ada_1, featuresTrain_1, y_train, cv=5)\n",
        "\n",
        "print(\"AdaBoostClassifier - Training Accuracy: %0.2f\" % (scores.mean()))\n",
        "\n",
        "# fit the AdaBoost classifier to the entire training set\n",
        "ada_1.fit(featuresTrain_1, y_train)\n",
        "\n",
        "# calculate validation accuracy\n",
        "val_accuracy = ada_1.score(featuresVal_1, y_test)\n",
        "\n",
        "print(\"AdaBoostClassifier - Validation Accuracy: %0.2f\" % val_accuracy)\n"
      ],
      "metadata": {
        "colab": {
          "base_uri": "https://localhost:8080/"
        },
        "id": "gq4xyg1ec_iA",
        "outputId": "149c26c0-d986-4110-eddd-3c5bb04f4613"
      },
      "execution_count": 20,
      "outputs": [
        {
          "output_type": "stream",
          "name": "stdout",
          "text": [
            "AdaBoostClassifier - Training Accuracy: 0.65\n",
            "AdaBoostClassifier - Validation Accuracy: 0.63\n"
          ]
        }
      ]
    },
    {
      "cell_type": "code",
      "source": [
        "# generate predictions on the testing set\n",
        "y_pred = rf.predict(featuresVal_1)\n",
        "\n",
        "# generate the classification report\n",
        "print(classification_report(y_test, y_pred))"
      ],
      "metadata": {
        "colab": {
          "base_uri": "https://localhost:8080/"
        },
        "id": "4j5dc-9adIir",
        "outputId": "62104e3f-12c2-4103-ef9d-87d374b1373a"
      },
      "execution_count": 21,
      "outputs": [
        {
          "output_type": "stream",
          "name": "stdout",
          "text": [
            "              precision    recall  f1-score   support\n",
            "\n",
            "           0       0.68      0.79      0.73       463\n",
            "           1       0.53      0.63      0.57       540\n",
            "           2       0.77      0.51      0.61       511\n",
            "\n",
            "    accuracy                           0.63      1514\n",
            "   macro avg       0.66      0.64      0.64      1514\n",
            "weighted avg       0.66      0.63      0.63      1514\n",
            "\n"
          ]
        }
      ]
    },
    {
      "cell_type": "code",
      "source": [],
      "metadata": {
        "id": "bP8bL3x1dM36"
      },
      "execution_count": 21,
      "outputs": []
    }
  ]
}