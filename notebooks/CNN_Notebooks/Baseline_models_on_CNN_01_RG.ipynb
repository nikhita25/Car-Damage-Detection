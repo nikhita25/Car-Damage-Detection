{
  "nbformat": 4,
  "nbformat_minor": 0,
  "metadata": {
    "colab": {
      "provenance": [],
      "gpuType": "T4"
    },
    "kernelspec": {
      "name": "python3",
      "display_name": "Python 3"
    },
    "language_info": {
      "name": "python"
    },
    "accelerator": "GPU",
    "gpuClass": "standard"
  },
  "cells": [
    {
      "cell_type": "code",
      "execution_count": 1,
      "metadata": {
        "id": "gBzJtMyADwp2"
      },
      "outputs": [],
      "source": [
        "# Ignore  the warnings\n",
        "import warnings\n",
        "warnings.filterwarnings('always')\n",
        "warnings.filterwarnings('ignore')\n",
        "\n",
        "# data visualisation and manipulation\n",
        "import numpy as np\n",
        "import pandas as pd\n",
        "import matplotlib.pyplot as plt\n",
        "from matplotlib import style\n",
        "import seaborn as sns\n",
        " \n",
        "#configure\n",
        "# sets matplotlib to inline and displays graphs below the corressponding cell.\n",
        "# % matplotlib inline  \n",
        "style.use('fivethirtyeight')\n",
        "sns.set(style='whitegrid',color_codes=True)\n",
        "\n",
        "#model selection\n",
        "from sklearn.model_selection import train_test_split\n",
        "from sklearn.model_selection import KFold\n",
        "from sklearn.linear_model import LogisticRegression \n",
        "from sklearn.metrics import accuracy_score,precision_score,recall_score,confusion_matrix,roc_curve,roc_auc_score\n",
        "from sklearn.model_selection import GridSearchCV\n",
        "from sklearn.preprocessing import LabelEncoder\n",
        "from sklearn.ensemble import RandomForestClassifier, BaggingClassifier,GradientBoostingClassifier\n",
        "from sklearn import metrics\n",
        "\n",
        "#preprocess.\n",
        "from keras.preprocessing.image import ImageDataGenerator\n",
        "\n",
        "#dl libraraies\n",
        "from keras import backend as K\n",
        "from keras.models import Sequential\n",
        "from keras.layers import Dense\n",
        "from keras.optimizers import Adam,SGD,Adagrad,Adadelta,RMSprop\n",
        "from keras.utils import to_categorical\n",
        "from keras.callbacks import ReduceLROnPlateau\n",
        "\n",
        "# specifically for cnn\n",
        "from keras.layers import Dropout, Flatten,Activation\n",
        "from keras.layers import Conv2D, MaxPooling2D, BatchNormalization\n",
        " \n",
        "import tensorflow as tf\n",
        "import random as rn\n",
        "\n",
        "# specifically for manipulating zipped images and getting numpy arrays of pixel values of images.\n",
        "import cv2  \n",
        "import h5py\n",
        "import numpy as np  \n",
        "from tqdm import tqdm\n",
        "import os                   \n",
        "from random import shuffle  \n",
        "from zipfile import ZipFile\n",
        "from PIL import Image\n",
        "\n",
        "#TL pecific modules\n",
        "from keras.applications.vgg16 import VGG16\n",
        "from keras.applications.inception_v3 import InceptionV3\n",
        "# from keras.applications.resnet50 import ResNet50"
      ]
    },
    {
      "cell_type": "code",
      "source": [
        "from google.colab import drive\n",
        "drive.mount('/content/drive')"
      ],
      "metadata": {
        "colab": {
          "base_uri": "https://localhost:8080/"
        },
        "id": "APWe-UHDEdT-",
        "outputId": "7d25df7f-0695-4ff7-926e-7299acb6b7ee"
      },
      "execution_count": 2,
      "outputs": [
        {
          "output_type": "stream",
          "name": "stdout",
          "text": [
            "Mounted at /content/drive\n"
          ]
        }
      ]
    },
    {
      "cell_type": "code",
      "source": [
        "my_arrays_final = np.load(\"/content/drive/MyDrive/numpy_data_CNN_128*128.npz\", allow_pickle=True)\n"
      ],
      "metadata": {
        "id": "mVG_q23uEj97"
      },
      "execution_count": 3,
      "outputs": []
    },
    {
      "cell_type": "code",
      "source": [
        "# Extract the X_train, y_train, X_test, and y_test arrays from the data\n",
        "X_train = my_arrays_final['X_train']\n",
        "y_train = my_arrays_final['y_train']\n",
        "X_test = my_arrays_final['X_test']\n",
        "y_test = my_arrays_final['y_test']"
      ],
      "metadata": {
        "id": "PnE28HFOEtlt"
      },
      "execution_count": 4,
      "outputs": []
    },
    {
      "cell_type": "code",
      "source": [
        "# Print the shapes of the data\n",
        "print(f'X_train shape: {X_train.shape}')\n",
        "print(f'y_train shape: {y_train.shape}')\n",
        "print(f'X_test shape: {X_test.shape}')\n",
        "print(f'y_test shape: {y_test.shape}')"
      ],
      "metadata": {
        "colab": {
          "base_uri": "https://localhost:8080/"
        },
        "id": "bWulEbokEzDt",
        "outputId": "ce62b5d1-93ae-4aa9-ed83-54cc435f0d78"
      },
      "execution_count": 5,
      "outputs": [
        {
          "output_type": "stream",
          "name": "stdout",
          "text": [
            "X_train shape: (6052, 128, 128, 3)\n",
            "y_train shape: (6052,)\n",
            "X_test shape: (1514, 128, 128, 3)\n",
            "y_test shape: (1514,)\n"
          ]
        }
      ]
    },
    {
      "cell_type": "code",
      "source": [
        "plt.subplot(121)\n",
        "img = np.reshape(X_train[1], (128,128,3))\n",
        "plt.imshow(img)"
      ],
      "metadata": {
        "colab": {
          "base_uri": "https://localhost:8080/",
          "height": 341
        },
        "id": "epxh5VUuE2SI",
        "outputId": "7dfae7b0-1aa3-4b83-ddea-221012716cdb"
      },
      "execution_count": 6,
      "outputs": [
        {
          "output_type": "execute_result",
          "data": {
            "text/plain": [
              "<matplotlib.image.AxesImage at 0x7f050ec52ef0>"
            ]
          },
          "metadata": {},
          "execution_count": 6
        },
        {
          "output_type": "display_data",
          "data": {
            "text/plain": [
              "<Figure size 640x480 with 1 Axes>"
            ],
            "image/png": "[encoded data removed]"
          },
          "metadata": {}
        }
      ]
    },
    {
      "cell_type": "code",
      "source": [
        "base_model=VGG16(include_top=False, weights='imagenet',input_shape=(128,128,3))\n"
      ],
      "metadata": {
        "colab": {
          "base_uri": "https://localhost:8080/"
        },
        "id": "p913IX2dE5hq",
        "outputId": "573d9d88-0b13-48e1-bf7b-6a56f20e51e0"
      },
      "execution_count": 6,
      "outputs": [
        {
          "output_type": "stream",
          "name": "stdout",
          "text": [
            "Downloading data from https://storage.googleapis.com/tensorflow/keras-applications/vgg16/vgg16_weights_tf_dim_ordering_tf_kernels_notop.h5\n",
            "58889256/58889256 [==============================] - 4s 0us/step\n"
          ]
        }
      ]
    },
    {
      "cell_type": "code",
      "source": [
        "print (base_model.summary())\n"
      ],
      "metadata": {
        "colab": {
          "base_uri": "https://localhost:8080/"
        },
        "id": "y77ObaeQFBzf",
        "outputId": "69d038e0-3fd3-4942-df39-b2ff9cf33b44"
      },
      "execution_count": 7,
      "outputs": [
        {
          "output_type": "stream",
          "name": "stdout",
          "text": [
            "Model: \"vgg16\"\n",
            "_________________________________________________________________\n",
            " Layer (type)                Output Shape              Param #   \n",
            "=================================================================\n",
            " input_1 (InputLayer)        [(None, 128, 128, 3)]     0         \n",
            "                                                                 \n",
            " block1_conv1 (Conv2D)       (None, 128, 128, 64)      1792      \n",
            "                                                                 \n",
            " block1_conv2 (Conv2D)       (None, 128, 128, 64)      36928     \n",
            "                                                                 \n",
            " block1_pool (MaxPooling2D)  (None, 64, 64, 64)        0         \n",
            "                                                                 \n",
            " block2_conv1 (Conv2D)       (None, 64, 64, 128)       73856     \n",
            "                                                                 \n",
            " block2_conv2 (Conv2D)       (None, 64, 64, 128)       147584    \n",
            "                                                                 \n",
            " block2_pool (MaxPooling2D)  (None, 32, 32, 128)       0         \n",
            "                                                                 \n",
            " block3_conv1 (Conv2D)       (None, 32, 32, 256)       295168    \n",
            "                                                                 \n",
            " block3_conv2 (Conv2D)       (None, 32, 32, 256)       590080    \n",
            "                                                                 \n",
            " block3_conv3 (Conv2D)       (None, 32, 32, 256)       590080    \n",
            "                                                                 \n",
            " block3_pool (MaxPooling2D)  (None, 16, 16, 256)       0         \n",
            "                                                                 \n",
            " block4_conv1 (Conv2D)       (None, 16, 16, 512)       1180160   \n",
            "                                                                 \n",
            " block4_conv2 (Conv2D)       (None, 16, 16, 512)       2359808   \n",
            "                                                                 \n",
            " block4_conv3 (Conv2D)       (None, 16, 16, 512)       2359808   \n",
            "                                                                 \n",
            " block4_pool (MaxPooling2D)  (None, 8, 8, 512)         0         \n",
            "                                                                 \n",
            " block5_conv1 (Conv2D)       (None, 8, 8, 512)         2359808   \n",
            "                                                                 \n",
            " block5_conv2 (Conv2D)       (None, 8, 8, 512)         2359808   \n",
            "                                                                 \n",
            " block5_conv3 (Conv2D)       (None, 8, 8, 512)         2359808   \n",
            "                                                                 \n",
            " block5_pool (MaxPooling2D)  (None, 4, 4, 512)         0         \n",
            "                                                                 \n",
            "=================================================================\n",
            "Total params: 14,714,688\n",
            "Trainable params: 14,714,688\n",
            "Non-trainable params: 0\n",
            "_________________________________________________________________\n",
            "None\n"
          ]
        }
      ]
    },
    {
      "cell_type": "code",
      "source": [
        "#Feature extraction using VGG16 as baseline model\n",
        "featuresTrain= base_model.predict(X_train)\n",
        "\n",
        "#reshape to flatten feature for Train data\n",
        "featuresTrain= featuresTrain.reshape(featuresTrain.shape[0], -1)\n",
        "\n",
        "featuresVal= base_model.predict(X_test)\n",
        "#reshape to flatten feature for Test data\n",
        "featuresVal= featuresVal.reshape(featuresVal.shape[0], -1)"
      ],
      "metadata": {
        "colab": {
          "base_uri": "https://localhost:8080/"
        },
        "id": "3-7dAQI5FIdF",
        "outputId": "5d0c0b8e-5516-4dfd-bec0-84405384b6c6"
      },
      "execution_count": 15,
      "outputs": [
        {
          "output_type": "stream",
          "name": "stdout",
          "text": [
            "190/190 [==============================] - 1266s 7s/step\n",
            "48/48 [==============================] - 307s 6s/step\n"
          ]
        }
      ]
    },
    {
      "cell_type": "code",
      "source": [
        "np.save('VGGfeatures_128*128', featuresTrain)\n"
      ],
      "metadata": {
        "id": "YnJAScG1FIfj"
      },
      "execution_count": 16,
      "outputs": []
    },
    {
      "cell_type": "code",
      "source": [
        "np.save('VGGfeatures_128*128_Val', featuresVal)\n"
      ],
      "metadata": {
        "id": "EndAyA1yFIhy"
      },
      "execution_count": 17,
      "outputs": []
    },
    {
      "cell_type": "code",
      "source": [
        "model = RandomForestClassifier(400,verbose=1)\n",
        "model.fit(featuresTrain, y_train)\n",
        "results_1 = model.predict(featuresTrain)\n",
        "print (metrics.accuracy_score(results_1, y_train))\n",
        "\n",
        "# evaluate the model\n",
        "\n",
        "results = model.predict(featuresVal)\n",
        "print (metrics.accuracy_score(results, y_test))"
      ],
      "metadata": {
        "colab": {
          "base_uri": "https://localhost:8080/"
        },
        "id": "mZM0ZET4FIjy",
        "outputId": "27a3866b-a3d9-4c8e-e998-6821c37cdaf7"
      },
      "execution_count": 21,
      "outputs": [
        {
          "output_type": "stream",
          "name": "stderr",
          "text": [
            "[Parallel(n_jobs=1)]: Using backend SequentialBackend with 1 concurrent workers.\n",
            "[Parallel(n_jobs=1)]: Done 400 out of 400 | elapsed:  1.3min finished\n",
            "[Parallel(n_jobs=1)]: Using backend SequentialBackend with 1 concurrent workers.\n",
            "[Parallel(n_jobs=1)]: Done 400 out of 400 | elapsed:    1.5s finished\n",
            "[Parallel(n_jobs=1)]: Using backend SequentialBackend with 1 concurrent workers.\n"
          ]
        },
        {
          "output_type": "stream",
          "name": "stdout",
          "text": [
            "1.0\n",
            "0.6677675033025099\n"
          ]
        },
        {
          "output_type": "stream",
          "name": "stderr",
          "text": [
            "[Parallel(n_jobs=1)]: Done 400 out of 400 | elapsed:    0.4s finished\n"
          ]
        }
      ]
    },
    {
      "cell_type": "code",
      "source": [
        "#Bagging classifier\n",
        "model23 = BaggingClassifier(base_estimator=None, n_estimators=10, max_samples=1.0, max_features=1.0, \n",
        "                            bootstrap=True, bootstrap_features=False, oob_score=False, warm_start=False,\n",
        "                            n_jobs=None, random_state=None, verbose=1)\n",
        "model23.fit(featuresTrain, y_train)\n",
        "results_1 = model23.predict(featuresTrain)\n",
        "print (metrics.accuracy_score(results_1, y_train))\n",
        "\n",
        "\n",
        "# evaluate the model\n",
        "\n",
        "results23 = model23.predict(featuresVal)\n",
        "print (metrics.accuracy_score(results23, y_test))\n"
      ],
      "metadata": {
        "colab": {
          "base_uri": "https://localhost:8080/"
        },
        "id": "lCSV5829VAnL",
        "outputId": "5461894c-8efb-4497-a251-f5041bd2cc2a"
      },
      "execution_count": 22,
      "outputs": [
        {
          "output_type": "stream",
          "name": "stderr",
          "text": [
            "[Parallel(n_jobs=1)]: Using backend SequentialBackend with 1 concurrent workers.\n",
            "[Parallel(n_jobs=1)]: Done   1 out of   1 | elapsed:  2.5min finished\n",
            "[Parallel(n_jobs=1)]: Using backend SequentialBackend with 1 concurrent workers.\n",
            "[Parallel(n_jobs=1)]: Done 400 out of 400 | elapsed:    1.2s finished\n",
            "[Parallel(n_jobs=1)]: Using backend SequentialBackend with 1 concurrent workers.\n"
          ]
        },
        {
          "output_type": "stream",
          "name": "stdout",
          "text": [
            "1.0\n",
            "0.5858652575957728\n"
          ]
        },
        {
          "output_type": "stream",
          "name": "stderr",
          "text": [
            "[Parallel(n_jobs=1)]: Done   1 out of   1 | elapsed:    1.1s finished\n"
          ]
        }
      ]
    },
    {
      "cell_type": "code",
      "source": [
        "base_model_1 = InceptionV3(include_top=False, weights='imagenet',input_shape=(128,128,3))\n"
      ],
      "metadata": {
        "id": "99_E-djwFIng"
      },
      "execution_count": 9,
      "outputs": []
    },
    {
      "cell_type": "code",
      "source": [
        "#Feature extraction using InceptionV3 as baseline model\n",
        "featuresTrain_IncepV3= base_model_1.predict(X_train)\n",
        "\n",
        "#reshape to flatten feature for Train data\n",
        "featuresTrain_IncepV3= featuresTrain_IncepV3.reshape(featuresTrain_IncepV3.shape[0], -1)\n",
        "\n",
        "\n",
        "featuresVal_IncepV3= base_model_1.predict(X_test)\n",
        "#reshape to flatten feature for Test data\n",
        "featuresVal_IncepV3= featuresVal_IncepV3.reshape(featuresVal_IncepV3.shape[0], -1)\n"
      ],
      "metadata": {
        "colab": {
          "base_uri": "https://localhost:8080/"
        },
        "id": "zfy8XvBZWP0f",
        "outputId": "2d001962-67ff-4701-c7aa-8bc4ac4c48ab"
      },
      "execution_count": 11,
      "outputs": [
        {
          "output_type": "stream",
          "name": "stdout",
          "text": [
            "190/190 [==============================] - 182s 952ms/step\n",
            "48/48 [==============================] - 58s 1s/step\n"
          ]
        }
      ]
    },
    {
      "cell_type": "code",
      "source": [
        "#Random forest classifier\n",
        "model2 = RandomForestClassifier(5000,verbose = 1)\n",
        "model2.fit(featuresTrain_IncepV3, y_train)\n",
        "results_2 = model2.predict(featuresTrain_IncepV3)\n",
        "train_accuracy = accuracy_score(y_train, results_2)\n",
        "print(\"Training Accuracy:\", train_accuracy)\n",
        "\n",
        "\n",
        "# evaluate the model\n",
        "\n",
        "results_2 = model2.predict(featuresVal_IncepV3)\n",
        "test_accuracy = accuracy_score(y_test, results_2)\n",
        "print(\"Testing Accuracy:\", test_accuracy)"
      ],
      "metadata": {
        "colab": {
          "base_uri": "https://localhost:8080/"
        },
        "id": "yiClTyqAWP3M",
        "outputId": "702f3ea0-560c-41d1-97cc-4979e49ad1a1"
      },
      "execution_count": 13,
      "outputs": [
        {
          "output_type": "stream",
          "name": "stderr",
          "text": [
            "[Parallel(n_jobs=1)]: Using backend SequentialBackend with 1 concurrent workers.\n",
            "[Parallel(n_jobs=1)]: Done 5000 out of 5000 | elapsed: 37.6min finished\n",
            "[Parallel(n_jobs=1)]: Using backend SequentialBackend with 1 concurrent workers.\n",
            "[Parallel(n_jobs=1)]: Done 5000 out of 5000 | elapsed:   16.0s finished\n",
            "[Parallel(n_jobs=1)]: Using backend SequentialBackend with 1 concurrent workers.\n"
          ]
        },
        {
          "output_type": "stream",
          "name": "stdout",
          "text": [
            "Training Accuracy: 1.0\n",
            "Testing Accuracy: 0.5330250990752973\n"
          ]
        },
        {
          "output_type": "stream",
          "name": "stderr",
          "text": [
            "[Parallel(n_jobs=1)]: Done 5000 out of 5000 | elapsed:    4.8s finished\n"
          ]
        }
      ]
    },
    {
      "cell_type": "code",
      "source": [
        "#Bagging classifier\n",
        "model44 = BaggingClassifier(base_estimator=None, n_estimators=10, max_samples=1.0, max_features=1.0, \n",
        "                            bootstrap=True, bootstrap_features=False, oob_score=False, warm_start=False,\n",
        "                            n_jobs=None, random_state=None, verbose=1)\n",
        "model44.fit(featuresTrain_IncepV3, y_train)\n",
        "results44 = model44.predict(featuresTrain_IncepV3)\n",
        "\n",
        "train_accuracy = accuracy_score(y_train, results44)\n",
        "print(\"Training Accuracy:\", train_accuracy)\n",
        "\n",
        "# evaluate the model\n",
        "\n",
        "results44 = model44.predict(featuresVal_IncepV3)\n",
        "test_accuracy = accuracy_score(y_test, results44)\n",
        "print(\"Testing Accuracy:\", test_accuracy)\n"
      ],
      "metadata": {
        "colab": {
          "base_uri": "https://localhost:8080/"
        },
        "id": "fNudTI_I3bmU",
        "outputId": "804544b1-8541-4349-cbb3-925cbf7445ea"
      },
      "execution_count": 14,
      "outputs": [
        {
          "output_type": "stream",
          "name": "stderr",
          "text": [
            "[Parallel(n_jobs=1)]: Using backend SequentialBackend with 1 concurrent workers.\n",
            "[Parallel(n_jobs=1)]: Done   1 out of   1 | elapsed:  7.0min finished\n",
            "[Parallel(n_jobs=1)]: Using backend SequentialBackend with 1 concurrent workers.\n",
            "[Parallel(n_jobs=1)]: Done   1 out of   1 | elapsed:    7.5s finished\n",
            "[Parallel(n_jobs=1)]: Using backend SequentialBackend with 1 concurrent workers.\n"
          ]
        },
        {
          "output_type": "stream",
          "name": "stdout",
          "text": [
            "Training Accuracy: 0.9890945142101785\n",
            "Training Accuracy: 0.47820343461030385\n"
          ]
        },
        {
          "output_type": "stream",
          "name": "stderr",
          "text": [
            "[Parallel(n_jobs=1)]: Done   1 out of   1 | elapsed:    1.0s finished\n"
          ]
        }
      ]
    },
    {
      "cell_type": "code",
      "source": [
        "#Logistic regression\n",
        "model3 = LogisticRegression(random_state=0, solver='lbfgs',dual= False,max_iter=1000, multi_class='multinomial',verbose =1).fit(featuresTrain_IncepV3, y_train)\n",
        "\n",
        "# model3.predict(featuresTrain_IncepV3)\n",
        "results_3 = model3.predict(featuresTrain_IncepV3)\n",
        "train_accuracy = accuracy_score(y_train, results_3)\n",
        "print(\"Training Accuracy:\", train_accuracy)\n",
        "\n",
        "#evaluate the model\n",
        "\n",
        "results_3 = model3.predict(featuresVal_IncepV3)\n",
        "test_accuracy = accuracy_score(y_test, results_3)\n",
        "print(\"Testing Accuracy:\", test_accuracy)\n"
      ],
      "metadata": {
        "colab": {
          "base_uri": "https://localhost:8080/"
        },
        "id": "TmQBBymk3bo_",
        "outputId": "474542ef-503c-47c5-a7eb-ca907c5f007a"
      },
      "execution_count": 17,
      "outputs": [
        {
          "output_type": "stream",
          "name": "stderr",
          "text": [
            "[Parallel(n_jobs=1)]: Using backend SequentialBackend with 1 concurrent workers.\n",
            "[Parallel(n_jobs=1)]: Done   1 out of   1 | elapsed:  7.3min finished\n"
          ]
        },
        {
          "output_type": "stream",
          "name": "stdout",
          "text": [
            "Training Accuracy: 1.0\n",
            "Testing Accuracy: 0.4630118890356671\n"
          ]
        }
      ]
    },
    {
      "cell_type": "code",
      "source": [
        "initialModel = tf.keras.applications.VGG19(weights = 'imagenet',include_top = False, input_shape =(128,128,3))\n",
        "\n",
        "newModel = tf.keras.Model(inputs = initialModel.input, outputs = initialModel.get_layer('block5_conv2').output)"
      ],
      "metadata": {
        "colab": {
          "base_uri": "https://localhost:8080/"
        },
        "id": "oAvwcejbMgb_",
        "outputId": "edd98118-6fcd-4bde-e820-acaec4a2e2a9"
      },
      "execution_count": 13,
      "outputs": [
        {
          "output_type": "stream",
          "name": "stdout",
          "text": [
            "Downloading data from https://storage.googleapis.com/tensorflow/keras-applications/vgg19/vgg19_weights_tf_dim_ordering_tf_kernels_notop.h5\n",
            "80134624/80134624 [==============================] - 4s 0us/step\n"
          ]
        }
      ]
    },
    {
      "cell_type": "code",
      "source": [
        "print(newModel.summary())\n"
      ],
      "metadata": {
        "colab": {
          "base_uri": "https://localhost:8080/"
        },
        "id": "3ITelzFTMget",
        "outputId": "b9196ec6-f7c5-4fc1-989a-d028f024ea67"
      },
      "execution_count": 14,
      "outputs": [
        {
          "output_type": "stream",
          "name": "stdout",
          "text": [
            "Model: \"model\"\n",
            "_________________________________________________________________\n",
            " Layer (type)                Output Shape              Param #   \n",
            "=================================================================\n",
            " input_3 (InputLayer)        [(None, 128, 128, 3)]     0         \n",
            "                                                                 \n",
            " block1_conv1 (Conv2D)       (None, 128, 128, 64)      1792      \n",
            "                                                                 \n",
            " block1_conv2 (Conv2D)       (None, 128, 128, 64)      36928     \n",
            "                                                                 \n",
            " block1_pool (MaxPooling2D)  (None, 64, 64, 64)        0         \n",
            "                                                                 \n",
            " block2_conv1 (Conv2D)       (None, 64, 64, 128)       73856     \n",
            "                                                                 \n",
            " block2_conv2 (Conv2D)       (None, 64, 64, 128)       147584    \n",
            "                                                                 \n",
            " block2_pool (MaxPooling2D)  (None, 32, 32, 128)       0         \n",
            "                                                                 \n",
            " block3_conv1 (Conv2D)       (None, 32, 32, 256)       295168    \n",
            "                                                                 \n",
            " block3_conv2 (Conv2D)       (None, 32, 32, 256)       590080    \n",
            "                                                                 \n",
            " block3_conv3 (Conv2D)       (None, 32, 32, 256)       590080    \n",
            "                                                                 \n",
            " block3_conv4 (Conv2D)       (None, 32, 32, 256)       590080    \n",
            "                                                                 \n",
            " block3_pool (MaxPooling2D)  (None, 16, 16, 256)       0         \n",
            "                                                                 \n",
            " block4_conv1 (Conv2D)       (None, 16, 16, 512)       1180160   \n",
            "                                                                 \n",
            " block4_conv2 (Conv2D)       (None, 16, 16, 512)       2359808   \n",
            "                                                                 \n",
            " block4_conv3 (Conv2D)       (None, 16, 16, 512)       2359808   \n",
            "                                                                 \n",
            " block4_conv4 (Conv2D)       (None, 16, 16, 512)       2359808   \n",
            "                                                                 \n",
            " block4_pool (MaxPooling2D)  (None, 8, 8, 512)         0         \n",
            "                                                                 \n",
            " block5_conv1 (Conv2D)       (None, 8, 8, 512)         2359808   \n",
            "                                                                 \n",
            " block5_conv2 (Conv2D)       (None, 8, 8, 512)         2359808   \n",
            "                                                                 \n",
            "=================================================================\n",
            "Total params: 15,304,768\n",
            "Trainable params: 15,304,768\n",
            "Non-trainable params: 0\n",
            "_________________________________________________________________\n",
            "None\n"
          ]
        }
      ]
    },
    {
      "cell_type": "code",
      "source": [],
      "metadata": {
        "id": "EP5LV80sgoq9"
      },
      "execution_count": null,
      "outputs": []
    },
    {
      "cell_type": "code",
      "source": [
        "featuresTrain_1= newModel.predict(X_train)\n",
        "\n",
        "#reshape to flatten feature for Train data\n",
        "featuresTrain_1= featuresTrain_1.reshape(featuresTrain_1.shape[0], -1)\n",
        "\n",
        "featuresVal_1= newModel.predict(X_test)\n",
        "#reshape to flatten feature for Test data\n",
        "featuresVal_1= featuresVal_1.reshape(featuresVal_1.shape[0], -1)\n"
      ],
      "metadata": {
        "colab": {
          "base_uri": "https://localhost:8080/"
        },
        "id": "_mviZJpKMghs",
        "outputId": "9d5c5a0d-1471-49c7-f185-8c72ebb91435"
      },
      "execution_count": 15,
      "outputs": [
        {
          "output_type": "stream",
          "name": "stdout",
          "text": [
            "190/190 [==============================] - 8s 41ms/step\n",
            "48/48 [==============================] - 2s 43ms/step\n"
          ]
        }
      ]
    },
    {
      "cell_type": "code",
      "source": [
        "model = RandomForestClassifier(200)\n",
        "model.fit(featuresTrain_1, y_train)\n",
        "\n",
        "results = model.predict(featuresTrain_1)\n",
        "train_accuracy = accuracy_score(y_train, results)\n",
        "print(\"Training Accuracy:\", train_accuracy)\n",
        "\n",
        "# evaluate the model\n",
        "\n",
        "results = model.predict(featuresVal_1)\n",
        "test_accuracy = accuracy_score(y_test, results)\n",
        "print(\"Testing Accuracy:\", test_accuracy)"
      ],
      "metadata": {
        "colab": {
          "base_uri": "https://localhost:8080/"
        },
        "id": "1It-WVS9Mgkr",
        "outputId": "c8e16503-03bc-44d4-99b4-71bb2d1a6663"
      },
      "execution_count": 18,
      "outputs": [
        {
          "output_type": "stream",
          "name": "stdout",
          "text": [
            "Training Accuracy: 1.0\n",
            "Testing Accuracy: 0.6354029062087186\n"
          ]
        }
      ]
    },
    {
      "cell_type": "code",
      "source": [
        "model1 = LogisticRegression(random_state=0, solver='lbfgs',dual= False,max_iter=1000, multi_class='multinomial').fit(featuresTrain_1, y_train)\n",
        "\n",
        "results_1 = model1.predict(featuresTrain_1)\n",
        "train_accuracy = accuracy_score(y_train, results_1)\n",
        "print(\"Training Accuracy:\", train_accuracy)\n",
        "\n",
        "#evaluate the model\n",
        "\n",
        "results_1 = model1.predict(featuresVal_1)\n",
        "test_accuracy = accuracy_score(y_test, results_1)\n",
        "print(\"Testing Accuracy:\", test_accuracy)\n",
        "\n"
      ],
      "metadata": {
        "colab": {
          "base_uri": "https://localhost:8080/"
        },
        "id": "-4a8au06TWLJ",
        "outputId": "2a5f68f5-965c-4cf5-ab31-719a626e353a"
      },
      "execution_count": 22,
      "outputs": [
        {
          "output_type": "stream",
          "name": "stdout",
          "text": [
            "Training Accuracy: 1.0\n",
            "Testing Accuracy: 0.6968295904887715\n"
          ]
        }
      ]
    },
    {
      "cell_type": "code",
      "source": [],
      "metadata": {
        "id": "Vqv6-7P7TWRD"
      },
      "execution_count": null,
      "outputs": []
    },
    {
      "cell_type": "code",
      "source": [],
      "metadata": {
        "id": "AelUPJrRTWWC"
      },
      "execution_count": null,
      "outputs": []
    },
    {
      "cell_type": "code",
      "source": [
        "NUM_EPOCHS = 50\n"
      ],
      "metadata": {
        "id": "FdrDMi1o3btA"
      },
      "execution_count": 8,
      "outputs": []
    },
    {
      "cell_type": "code",
      "source": [
        "keep_prob = 0.5\n",
        "# Load the ImageNet VGG model. Notice we exclude the densely #connected layer at the top\n",
        "vggModel= tf.keras.applications.VGG16( weights='imagenet', include_top=False, input_shape=(128, 128, 3))\n",
        "\n",
        "vggModel.trainable= False\n",
        "\n",
        "model = tf.keras.models.Sequential()\n",
        "#We now add the vggModel directly to our new model\n",
        "model.add(vggModel)\n",
        "model.add(tf.keras.layers.Flatten())\n",
        "model.add(tf.keras.layers.Dense(256, activation='relu'))\n",
        "model.add(tf.keras.layers.Dropout(rate = 1 - keep_prob))\n",
        "model.add(tf.keras.layers.Dense(17, activation='softmax'))\n",
        "\n",
        "print (model.summary())\n"
      ],
      "metadata": {
        "colab": {
          "base_uri": "https://localhost:8080/"
        },
        "id": "SpRpVO03N1ij",
        "outputId": "8eb19964-9d36-4d18-92e7-066492f07429"
      },
      "execution_count": 18,
      "outputs": [
        {
          "output_type": "stream",
          "name": "stdout",
          "text": [
            "Model: \"sequential_1\"\n",
            "_________________________________________________________________\n",
            " Layer (type)                Output Shape              Param #   \n",
            "=================================================================\n",
            " vgg16 (Functional)          (None, 4, 4, 512)         14714688  \n",
            "                                                                 \n",
            " flatten_1 (Flatten)         (None, 8192)              0         \n",
            "                                                                 \n",
            " dense_2 (Dense)             (None, 256)               2097408   \n",
            "                                                                 \n",
            " dropout_1 (Dropout)         (None, 256)               0         \n",
            "                                                                 \n",
            " dense_3 (Dense)             (None, 17)                4369      \n",
            "                                                                 \n",
            "=================================================================\n",
            "Total params: 16,816,465\n",
            "Trainable params: 2,101,777\n",
            "Non-trainable params: 14,714,688\n",
            "_________________________________________________________________\n",
            "None\n"
          ]
        }
      ]
    },
    {
      "cell_type": "code",
      "source": [
        "model.compile(loss='sparse_categorical_crossentropy', optimizer=tf.keras.optimizers.SGD(lr=0.01),metrics=['accuracy'])\n",
        "\n",
        "H = model.fit(X_train, y_train, epochs=NUM_EPOCHS, batch_size=32, validation_data=(X_test, y_test))\n"
      ],
      "metadata": {
        "colab": {
          "base_uri": "https://localhost:8080/"
        },
        "id": "AJylUq-YN1la",
        "outputId": "c0fc71fa-0961-4214-a4af-49a6d194b6fa"
      },
      "execution_count": 10,
      "outputs": [
        {
          "output_type": "stream",
          "name": "stderr",
          "text": [
            "WARNING:absl:`lr` is deprecated in Keras optimizer, please use `learning_rate` or use the legacy optimizer, e.g.,tf.keras.optimizers.legacy.SGD.\n"
          ]
        },
        {
          "output_type": "stream",
          "name": "stdout",
          "text": [
            "Epoch 1/50\n",
            "190/190 [==============================] - 21s 59ms/step - loss: 17.4287 - accuracy: 0.3442 - val_loss: 3.7744 - val_accuracy: 0.3415\n",
            "Epoch 2/50\n",
            "190/190 [==============================] - 10s 54ms/step - loss: 2.4430 - accuracy: 0.3521 - val_loss: 2.0230 - val_accuracy: 0.4075\n",
            "Epoch 3/50\n",
            "190/190 [==============================] - 10s 54ms/step - loss: 1.9511 - accuracy: 0.3762 - val_loss: 1.7154 - val_accuracy: 0.4399\n",
            "Epoch 4/50\n",
            "190/190 [==============================] - 10s 50ms/step - loss: 1.7476 - accuracy: 0.3710 - val_loss: 1.6433 - val_accuracy: 0.3758\n",
            "Epoch 5/50\n",
            "190/190 [==============================] - 10s 55ms/step - loss: 1.6121 - accuracy: 0.3518 - val_loss: 16.4644 - val_accuracy: 0.3388\n",
            "Epoch 6/50\n",
            "190/190 [==============================] - 10s 51ms/step - loss: 1.7743 - accuracy: 0.4053 - val_loss: 1.2936 - val_accuracy: 0.4888\n",
            "Epoch 7/50\n",
            "190/190 [==============================] - 10s 51ms/step - loss: 1.3816 - accuracy: 0.4116 - val_loss: 1.2410 - val_accuracy: 0.5007\n",
            "Epoch 8/50\n",
            "190/190 [==============================] - 11s 56ms/step - loss: 1.3097 - accuracy: 0.4349 - val_loss: 1.1914 - val_accuracy: 0.5231\n",
            "Epoch 9/50\n",
            "190/190 [==============================] - 10s 53ms/step - loss: 1.2309 - accuracy: 0.4551 - val_loss: 1.1719 - val_accuracy: 0.5343\n",
            "Epoch 10/50\n",
            "190/190 [==============================] - 10s 51ms/step - loss: 1.2134 - accuracy: 0.4470 - val_loss: 1.1806 - val_accuracy: 0.4690\n",
            "Epoch 11/50\n",
            "190/190 [==============================] - 10s 51ms/step - loss: 1.1643 - accuracy: 0.4537 - val_loss: 1.0656 - val_accuracy: 0.5627\n",
            "Epoch 12/50\n",
            "190/190 [==============================] - 10s 51ms/step - loss: 1.1358 - accuracy: 0.4780 - val_loss: 1.0993 - val_accuracy: 0.4954\n",
            "Epoch 13/50\n",
            "190/190 [==============================] - 10s 51ms/step - loss: 1.1007 - accuracy: 0.4934 - val_loss: 1.1061 - val_accuracy: 0.5674\n",
            "Epoch 14/50\n",
            "190/190 [==============================] - 10s 54ms/step - loss: 1.0588 - accuracy: 0.5111 - val_loss: 1.0106 - val_accuracy: 0.5674\n",
            "Epoch 15/50\n",
            "190/190 [==============================] - 10s 51ms/step - loss: 1.0167 - accuracy: 0.5309 - val_loss: 1.2292 - val_accuracy: 0.5819\n",
            "Epoch 16/50\n",
            "190/190 [==============================] - 10s 55ms/step - loss: 1.0367 - accuracy: 0.5081 - val_loss: 1.0151 - val_accuracy: 0.5661\n",
            "Epoch 17/50\n",
            "190/190 [==============================] - 10s 51ms/step - loss: 1.0257 - accuracy: 0.5086 - val_loss: 1.8622 - val_accuracy: 0.5634\n",
            "Epoch 18/50\n",
            "190/190 [==============================] - 10s 54ms/step - loss: 1.0587 - accuracy: 0.4977 - val_loss: 1.1591 - val_accuracy: 0.5218\n",
            "Epoch 19/50\n",
            "190/190 [==============================] - 10s 55ms/step - loss: 1.0442 - accuracy: 0.4985 - val_loss: 1.1296 - val_accuracy: 0.5317\n",
            "Epoch 20/50\n",
            "190/190 [==============================] - 10s 51ms/step - loss: 1.0081 - accuracy: 0.5127 - val_loss: 1.0536 - val_accuracy: 0.5462\n",
            "Epoch 21/50\n",
            "190/190 [==============================] - 10s 51ms/step - loss: 0.9412 - accuracy: 0.5486 - val_loss: 1.0155 - val_accuracy: 0.5925\n",
            "Epoch 22/50\n",
            "190/190 [==============================] - 10s 51ms/step - loss: 0.9357 - accuracy: 0.5468 - val_loss: 1.0269 - val_accuracy: 0.5733\n",
            "Epoch 23/50\n",
            "190/190 [==============================] - 10s 51ms/step - loss: 0.9401 - accuracy: 0.5499 - val_loss: 1.0220 - val_accuracy: 0.5918\n",
            "Epoch 24/50\n",
            "190/190 [==============================] - 10s 51ms/step - loss: 0.9028 - accuracy: 0.5691 - val_loss: 0.9965 - val_accuracy: 0.5852\n",
            "Epoch 25/50\n",
            "190/190 [==============================] - 10s 54ms/step - loss: 0.8914 - accuracy: 0.5793 - val_loss: 1.0284 - val_accuracy: 0.5964\n",
            "Epoch 26/50\n",
            "190/190 [==============================] - 10s 55ms/step - loss: 0.8752 - accuracy: 0.5882 - val_loss: 1.0150 - val_accuracy: 0.6143\n",
            "Epoch 27/50\n",
            "190/190 [==============================] - 10s 51ms/step - loss: 0.8332 - accuracy: 0.6084 - val_loss: 0.9878 - val_accuracy: 0.6176\n",
            "Epoch 28/50\n",
            "190/190 [==============================] - 10s 54ms/step - loss: 0.8361 - accuracy: 0.6086 - val_loss: 3.1842 - val_accuracy: 0.6123\n",
            "Epoch 29/50\n",
            "190/190 [==============================] - 10s 51ms/step - loss: 0.8504 - accuracy: 0.5939 - val_loss: 0.9305 - val_accuracy: 0.5971\n",
            "Epoch 30/50\n",
            "190/190 [==============================] - 10s 55ms/step - loss: 0.8530 - accuracy: 0.5960 - val_loss: 1.1363 - val_accuracy: 0.6090\n",
            "Epoch 31/50\n",
            "190/190 [==============================] - 10s 55ms/step - loss: 0.8985 - accuracy: 0.5790 - val_loss: 1.3122 - val_accuracy: 0.6063\n",
            "Epoch 32/50\n",
            "190/190 [==============================] - 10s 51ms/step - loss: 0.8687 - accuracy: 0.5849 - val_loss: 1.1838 - val_accuracy: 0.6209\n",
            "Epoch 33/50\n",
            "190/190 [==============================] - 10s 51ms/step - loss: 0.8669 - accuracy: 0.5887 - val_loss: 1.0592 - val_accuracy: 0.6103\n",
            "Epoch 34/50\n",
            "190/190 [==============================] - 10s 52ms/step - loss: 0.8319 - accuracy: 0.5988 - val_loss: 0.9897 - val_accuracy: 0.6248\n",
            "Epoch 35/50\n",
            "190/190 [==============================] - 10s 54ms/step - loss: 0.8417 - accuracy: 0.5920 - val_loss: 1.0086 - val_accuracy: 0.6050\n",
            "Epoch 36/50\n",
            "190/190 [==============================] - 10s 51ms/step - loss: 0.8306 - accuracy: 0.5990 - val_loss: 1.0009 - val_accuracy: 0.5845\n",
            "Epoch 37/50\n",
            "190/190 [==============================] - 10s 55ms/step - loss: 0.8221 - accuracy: 0.6003 - val_loss: 1.0003 - val_accuracy: 0.6156\n",
            "Epoch 38/50\n",
            "190/190 [==============================] - 10s 51ms/step - loss: 0.7969 - accuracy: 0.6153 - val_loss: 1.1145 - val_accuracy: 0.6037\n",
            "Epoch 39/50\n",
            "190/190 [==============================] - 10s 54ms/step - loss: 0.8245 - accuracy: 0.6094 - val_loss: 1.1338 - val_accuracy: 0.6255\n",
            "Epoch 40/50\n",
            "190/190 [==============================] - 10s 54ms/step - loss: 0.7961 - accuracy: 0.6205 - val_loss: 0.9759 - val_accuracy: 0.6070\n",
            "Epoch 41/50\n",
            "190/190 [==============================] - 10s 55ms/step - loss: 0.7841 - accuracy: 0.6274 - val_loss: 0.9257 - val_accuracy: 0.6235\n",
            "Epoch 42/50\n",
            "190/190 [==============================] - 10s 53ms/step - loss: 0.7682 - accuracy: 0.6378 - val_loss: 1.0890 - val_accuracy: 0.6394\n",
            "Epoch 43/50\n",
            "190/190 [==============================] - 10s 51ms/step - loss: 0.7599 - accuracy: 0.6411 - val_loss: 1.0275 - val_accuracy: 0.6295\n",
            "Epoch 44/50\n",
            "190/190 [==============================] - 10s 55ms/step - loss: 0.7532 - accuracy: 0.6424 - val_loss: 1.0289 - val_accuracy: 0.6255\n",
            "Epoch 45/50\n",
            "190/190 [==============================] - 11s 55ms/step - loss: 0.7301 - accuracy: 0.6571 - val_loss: 0.9717 - val_accuracy: 0.6229\n",
            "Epoch 46/50\n",
            "190/190 [==============================] - 11s 55ms/step - loss: 0.7262 - accuracy: 0.6596 - val_loss: 1.0012 - val_accuracy: 0.6420\n",
            "Epoch 47/50\n",
            "190/190 [==============================] - 10s 51ms/step - loss: 0.7071 - accuracy: 0.6687 - val_loss: 1.0541 - val_accuracy: 0.6321\n",
            "Epoch 48/50\n",
            "190/190 [==============================] - 10s 52ms/step - loss: 0.7045 - accuracy: 0.6713 - val_loss: 1.0545 - val_accuracy: 0.6229\n",
            "Epoch 49/50\n",
            "190/190 [==============================] - 11s 55ms/step - loss: 0.7097 - accuracy: 0.6680 - val_loss: 0.9793 - val_accuracy: 0.6288\n",
            "Epoch 50/50\n",
            "190/190 [==============================] - 10s 55ms/step - loss: 0.6932 - accuracy: 0.6819 - val_loss: 1.0739 - val_accuracy: 0.6314\n"
          ]
        }
      ]
    },
    {
      "cell_type": "code",
      "source": [
        "featuresTrain_1= model.predict(X_train)\n",
        "\n",
        "#reshape to flatten feature for Train data\n",
        "featuresTrain_1= featuresTrain_1.reshape(featuresTrain_1.shape[0], -1)\n",
        "\n",
        "featuresVal_1= model.predict(X_test)\n",
        "#reshape to flatten feature for Test data\n",
        "featuresVal_1= featuresVal_1.reshape(featuresVal_1.shape[0], -1)\n"
      ],
      "metadata": {
        "colab": {
          "base_uri": "https://localhost:8080/"
        },
        "id": "wKqLZAyxiEZp",
        "outputId": "533df3d3-b9c3-4e07-b865-4234ad6b080f"
      },
      "execution_count": 11,
      "outputs": [
        {
          "output_type": "stream",
          "name": "stdout",
          "text": [
            "190/190 [==============================] - 8s 39ms/step\n",
            "48/48 [==============================] - 2s 40ms/step\n"
          ]
        }
      ]
    },
    {
      "cell_type": "code",
      "source": [
        "np.save('/content/drive/MyDrive/FineTuneVGGfeatures_128*128', featuresTrain_1)\n"
      ],
      "metadata": {
        "id": "pPMADx0x9y_I"
      },
      "execution_count": 13,
      "outputs": []
    },
    {
      "cell_type": "code",
      "source": [
        "np.save('/content/drive/MyDrive/FineTuneVGGfeatures_128*128', featuresVal_1)"
      ],
      "metadata": {
        "id": "p0v8ePyt9zGl"
      },
      "execution_count": 14,
      "outputs": []
    },
    {
      "cell_type": "code",
      "source": [
        "model = RandomForestClassifier(200)\n",
        "model.fit(featuresTrain_1, y_train)\n",
        "\n",
        "results = model.predict(featuresTrain_1)\n",
        "train_accuracy = accuracy_score(y_train, results)\n",
        "print(\"Training Accuracy:\", train_accuracy)\n",
        "\n",
        "# evaluate the model\n",
        "\n",
        "results = model.predict(featuresVal_1)\n",
        "test_accuracy = accuracy_score(y_test, results)\n",
        "print(\"Testing Accuracy:\", test_accuracy)"
      ],
      "metadata": {
        "colab": {
          "base_uri": "https://localhost:8080/"
        },
        "id": "b62R0B2N9zJZ",
        "outputId": "8534d7ea-3b8d-4682-f342-7bc6bdc23584"
      },
      "execution_count": 15,
      "outputs": [
        {
          "output_type": "stream",
          "name": "stdout",
          "text": [
            "Training Accuracy: 0.8220423000660938\n",
            "Testing Accuracy: 0.6287978863936592\n"
          ]
        }
      ]
    },
    {
      "cell_type": "code",
      "source": [
        "model1 = LogisticRegression(random_state=0, solver='lbfgs',dual= False,max_iter=1000, multi_class='multinomial').fit(featuresTrain_1, y_train)\n",
        "\n",
        "results_1 = model1.predict(featuresTrain_1)\n",
        "train_accuracy = accuracy_score(y_train, results_1)\n",
        "print(\"Training Accuracy:\", train_accuracy)\n",
        "\n",
        "#evaluate the model\n",
        "\n",
        "results_1 = model1.predict(featuresVal_1)\n",
        "test_accuracy = accuracy_score(y_test, results_1)\n",
        "print(\"Testing Accuracy:\", test_accuracy)\n",
        "\n"
      ],
      "metadata": {
        "colab": {
          "base_uri": "https://localhost:8080/"
        },
        "id": "6CTrbYGf-O4F",
        "outputId": "0a1087aa-044f-4c35-e9d0-1b6475262342"
      },
      "execution_count": 16,
      "outputs": [
        {
          "output_type": "stream",
          "name": "stdout",
          "text": [
            "Training Accuracy: 0.8070059484467944\n",
            "Testing Accuracy: 0.6301188903566711\n"
          ]
        }
      ]
    },
    {
      "cell_type": "code",
      "source": [
        "# vggModel.trainable = True\n",
        "# trainableFlag = False\n",
        "\n",
        "# for layer in vggModel.layers:\n",
        "#     if layer.name == 'block4_conv1':\n",
        "#         trainableFlag = True\n",
        "#     if layer.name == 'block4_conv2':\n",
        "#         trainableFlag = True\n",
        "#     if layer.name == 'block4_conv3':\n",
        "#         trainableFlag = True\n",
        "#     if layer.name == 'block4_pool':\n",
        "#         trainableFlag = True\n",
        "# #    if layer.name == 'block5_conv1':\n",
        "# #        trainableFlag = True\n",
        "# #     if layer.name == 'block5_conv2':\n",
        "# #         trainableFlag = True\n",
        "# #     if layer.name == 'block5_conv3':\n",
        "# #         trainableFlag = True\n",
        "# #     if layer.name == 'block5_pool':\n",
        "# #         trainableFlag = True\n",
        "#     layer.trainable = trainableFlag\n",
        "    \n",
        "# model.compile(loss='sparse_categorical_crossentropy', optimizer=tf.keras.optimizers.SGD(lr=0.0001),metrics=['accuracy'])\n",
        "# #model.compile(loss='sparse_categorical_crossentropy', optimizer=tf.keras.optimizers.RMSprop(lr=0.001, rho=0.9, epsilon=None, decay=0.0),metrics=['accuracy'])\n",
        "# #model.compile(loss='sparse_categorical_crossentropy', optimizer=tf.keras.optimizers.Adam(lr=0.001, beta_1=0.9, beta_2=0.999, \n",
        "#                                # epsilon=None, decay=0.0, amsgrad=Fals,metrics=['accuracy'])\n",
        "# print (model.summary())\n",
        "# H2 = model.fit(X_train, y_train, epochs=NUM_EPOCHS, batch_size=32, validation_data=(X_test, y_test))\n"
      ],
      "metadata": {
        "id": "ALhVhymjNvX6"
      },
      "execution_count": 20,
      "outputs": []
    },
    {
      "cell_type": "code",
      "source": [],
      "metadata": {
        "id": "P6dzeof7MFUr"
      },
      "execution_count": null,
      "outputs": []
    },
    {
      "cell_type": "code",
      "source": [],
      "metadata": {
        "id": "R93-7w_sMFb0"
      },
      "execution_count": null,
      "outputs": []
    },
    {
      "cell_type": "code",
      "source": [],
      "metadata": {
        "id": "rJTwVc3yMFe3"
      },
      "execution_count": null,
      "outputs": []
    }
  ]
}