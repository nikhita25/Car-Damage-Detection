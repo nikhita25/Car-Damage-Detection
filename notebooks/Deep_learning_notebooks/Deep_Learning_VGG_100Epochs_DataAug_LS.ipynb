{
  "cells": [
    {
      "cell_type": "markdown",
      "metadata": {
        "id": "TtpWyDAHno_P"
      },
      "source": [
        "# Importing Libraries"
      ]
    },
    {
      "cell_type": "code",
      "execution_count": 1,
      "metadata": {
        "id": "TwTDVBXmOdYL"
      },
      "outputs": [],
      "source": [
        "import os                   \n",
        "import cv2  \n",
        "import h5py\n",
        "from tqdm import tqdm\n",
        "import random as rn\n",
        "from random import shuffle  \n",
        "from zipfile import ZipFile\n",
        "from PIL import Image\n",
        "\n",
        "import numpy as np\n",
        "import pandas as pd\n",
        "import seaborn as sns\n",
        "import matplotlib.pyplot as plt\n",
        "from matplotlib import style\n",
        "# % matplotlib inline  \n",
        "style.use('fivethirtyeight')\n",
        "sns.set(style='whitegrid',color_codes=True)"
      ]
    },
    {
      "cell_type": "code",
      "execution_count": 2,
      "metadata": {
        "id": "E7rZn49wnKpJ"
      },
      "outputs": [],
      "source": [
        "from sklearn.model_selection import train_test_split\n",
        "from sklearn.preprocessing import LabelEncoder    #For encoding categorical variables\n",
        "from sklearn.model_selection import KFold\n",
        "from sklearn.linear_model import LogisticRegression \n",
        "from sklearn.metrics import accuracy_score,precision_score,recall_score,confusion_matrix,roc_curve,roc_auc_score\n",
        "from sklearn.model_selection import GridSearchCV\n",
        "from sklearn.preprocessing import LabelEncoder\n",
        "from sklearn.ensemble import RandomForestClassifier, BaggingClassifier,GradientBoostingClassifier\n",
        "from sklearn import metrics"
      ]
    },
    {
      "cell_type": "code",
      "execution_count": 3,
      "metadata": {
        "id": "KXOOR0KaO4Qt"
      },
      "outputs": [],
      "source": [
        "from keras.preprocessing.image import ImageDataGenerator\n",
        "from keras import backend as K\n",
        "from keras.models import Sequential\n",
        "from keras.layers import Dense\n",
        "from keras.optimizers import Adam,SGD,Adagrad,Adadelta,RMSprop\n",
        "from keras.utils import to_categorical\n",
        "from keras.callbacks import ReduceLROnPlateau\n",
        "from tensorflow.keras.models import load_model\n",
        "\n",
        "from keras.layers import Dropout, Flatten,Activation\n",
        "from keras.layers import Conv2D, MaxPooling2D, BatchNormalization\n",
        " \n",
        "import tensorflow as tf\n",
        "from tensorflow.keras.callbacks import ModelCheckpoint\n",
        "\n",
        "from keras.applications.vgg16 import VGG16\n",
        "from keras.applications.inception_v3 import InceptionV3\n",
        "# from keras.applications.resnet50 import ResNet50"
      ]
    },
    {
      "cell_type": "code",
      "execution_count": 4,
      "metadata": {
        "id": "1wQcofXPau8I"
      },
      "outputs": [],
      "source": [
        "import warnings\n",
        "warnings.filterwarnings('always')\n",
        "warnings.filterwarnings('ignore')"
      ]
    },
    {
      "cell_type": "markdown",
      "metadata": {
        "id": "oZc2L2qBO3mX"
      },
      "source": [
        "# Importing increased data augumentation file\n"
      ]
    },
    {
      "cell_type": "code",
      "execution_count": 5,
      "metadata": {
        "id": "56s0Jq7lPAAS",
        "colab": {
          "base_uri": "https://localhost:8080/"
        },
        "outputId": "a12ab6b5-1ddb-4178-ec97-53518dd4705f"
      },
      "outputs": [
        {
          "output_type": "stream",
          "name": "stdout",
          "text": [
            "Drive already mounted at /content/drive; to attempt to forcibly remount, call drive.mount(\"/content/drive\", force_remount=True).\n"
          ]
        }
      ],
      "source": [
        "from google.colab import drive\n",
        "drive.mount('/content/drive')"
      ]
    },
    {
      "cell_type": "code",
      "execution_count": 6,
      "metadata": {
        "id": "TrPy2SRHPC9t"
      },
      "outputs": [],
      "source": [
        "array_128x128_final = np.load(\"/content/drive/MyDrive/Colab Notebooks/Car_damage_aug_dataset_final.npz\", allow_pickle=True)\n"
      ]
    },
    {
      "cell_type": "markdown",
      "metadata": {
        "id": "Rw749vvDPEEv"
      },
      "source": [
        "# Train-Test-Split "
      ]
    },
    {
      "cell_type": "code",
      "execution_count": 7,
      "metadata": {
        "id": "sXQJkELCPEed"
      },
      "outputs": [],
      "source": [
        "X_train = array_128x128_final['X_train']\n",
        "y_train = array_128x128_final['y_train']"
      ]
    },
    {
      "cell_type": "code",
      "execution_count": 8,
      "metadata": {
        "id": "k8ochn8dPG96",
        "colab": {
          "base_uri": "https://localhost:8080/"
        },
        "outputId": "a6fa2671-78e1-4953-e9c2-1e5521b34291"
      },
      "outputs": [
        {
          "output_type": "stream",
          "name": "stdout",
          "text": [
            "X_train shape: (12640, 128, 128, 3)\n",
            "y_train shape: (12640,)\n"
          ]
        }
      ],
      "source": [
        "print(f'X_train shape: {X_train.shape}')\n",
        "print(f'y_train shape: {y_train.shape}')"
      ]
    },
    {
      "cell_type": "code",
      "execution_count": 9,
      "metadata": {
        "id": "mWMEtTG9oDI-"
      },
      "outputs": [],
      "source": [
        "X_test = array_128x128_final['X_test']\n",
        "y_test = array_128x128_final['y_test']"
      ]
    },
    {
      "cell_type": "code",
      "execution_count": 10,
      "metadata": {
        "id": "Y5wh8KVRoDLW",
        "colab": {
          "base_uri": "https://localhost:8080/"
        },
        "outputId": "2dd5c15b-b41e-43bd-e6e8-1ec49204f28d"
      },
      "outputs": [
        {
          "output_type": "stream",
          "name": "stdout",
          "text": [
            "X_test shape: (5418, 128, 128, 3)\n",
            "y_test shape: (5418,)\n"
          ]
        }
      ],
      "source": [
        "print(f'X_test shape: {X_test.shape}')\n",
        "print(f'y_test shape: {y_test.shape}')"
      ]
    },
    {
      "cell_type": "markdown",
      "metadata": {
        "id": "mD2jJB3nO_h_"
      },
      "source": [
        "# Verifying image, plotting single image from numpy data"
      ]
    },
    {
      "cell_type": "code",
      "execution_count": 11,
      "metadata": {
        "id": "nUb0kfrroDNm",
        "colab": {
          "base_uri": "https://localhost:8080/",
          "height": 476
        },
        "outputId": "96689588-c2c8-48a2-9d3c-ac71a4d45126"
      },
      "outputs": [
        {
          "output_type": "execute_result",
          "data": {
            "text/plain": [
              "<matplotlib.image.AxesImage at 0x7f99760ad2d0>"
            ]
          },
          "metadata": {},
          "execution_count": 11
        },
        {
          "output_type": "display_data",
          "data": {
            "text/plain": [
              "<Figure size 640x480 with 1 Axes>"
            ],
            "image/png": "[encoded data removed]"
          },
          "metadata": {}
        }
      ],
      "source": [
        "plt.plot(121)\n",
        "img = np.reshape(X_train[1], (128,128,3))\n",
        "plt.imshow(img)"
      ]
    },
    {
      "cell_type": "markdown",
      "source": [
        "# Running previous best performing model: decrease architecture complexity and dropout"
      ],
      "metadata": {
        "id": "tL_NOlCTrEIP"
      }
    },
    {
      "cell_type": "code",
      "execution_count": 12,
      "metadata": {
        "id": "yrcf_DAnoDPt",
        "colab": {
          "base_uri": "https://localhost:8080/"
        },
        "outputId": "bd3b7351-ca1f-41f1-eb47-0b49c21fc388"
      },
      "outputs": [
        {
          "output_type": "stream",
          "name": "stdout",
          "text": [
            "Model: \"sequential\"\n",
            "_________________________________________________________________\n",
            " Layer (type)                Output Shape              Param #   \n",
            "=================================================================\n",
            " vgg16 (Functional)          (None, 4, 4, 512)         14714688  \n",
            "                                                                 \n",
            " flatten (Flatten)           (None, 8192)              0         \n",
            "                                                                 \n",
            " dense (Dense)               (None, 256)               2097408   \n",
            "                                                                 \n",
            " dropout (Dropout)           (None, 256)               0         \n",
            "                                                                 \n",
            " dense_1 (Dense)             (None, 3)                 771       \n",
            "                                                                 \n",
            "=================================================================\n",
            "Total params: 16,812,867\n",
            "Trainable params: 2,098,179\n",
            "Non-trainable params: 14,714,688\n",
            "_________________________________________________________________\n",
            "None\n"
          ]
        }
      ],
      "source": [
        "NUM_EPOCHS = 100\n",
        "keep_prob = 0.5\n",
        "model_rate = 1-keep_prob\n",
        "vggModel= tf.keras.applications.VGG16( weights='imagenet', include_top=False, input_shape=(128, 128, 3))\n",
        "\n",
        "vggModel.trainable= False\n",
        "\n",
        "model = tf.keras.models.Sequential()\n",
        "model.add(vggModel)\n",
        "model.add(tf.keras.layers.Flatten())\n",
        "model.add(tf.keras.layers.Dense(256, activation='relu'))\n",
        "model.add(tf.keras.layers.Dropout(rate=model_rate))\n",
        "model.add(tf.keras.layers.Dense(3, activation='softmax'))\n",
        "\n",
        "print (model.summary())"
      ]
    },
    {
      "cell_type": "markdown",
      "metadata": {
        "id": "uEq1chkLiSqR"
      },
      "source": [
        "##### Saving the model during training \n"
      ]
    },
    {
      "cell_type": "code",
      "execution_count": 13,
      "metadata": {
        "id": "MrckHiUNoDSQ"
      },
      "outputs": [],
      "source": [
        "save_at = \"/content/drive/MyDrive/Colab Notebooks/model.hdf5\"\n",
        "save_best = ModelCheckpoint (save_at, monitor='val_accuracy', verbose=0, save_best_only=True, save_weights_only=False, mode='max')"
      ]
    },
    {
      "cell_type": "code",
      "execution_count": 14,
      "metadata": {
        "colab": {
          "base_uri": "https://localhost:8080/"
        },
        "id": "UYHQHsOhoDUx",
        "outputId": "0495146b-bc22-4ee0-d490-23d10b911623"
      },
      "outputs": [
        {
          "output_type": "stream",
          "name": "stdout",
          "text": [
            "Epoch 1/100\n",
            "395/395 [==============================] - 34s 72ms/step - loss: 5.9721 - accuracy: 0.4094 - val_loss: 0.9848 - val_accuracy: 0.4788\n",
            "Epoch 2/100\n",
            "395/395 [==============================] - 26s 67ms/step - loss: 1.0009 - accuracy: 0.4903 - val_loss: 0.9297 - val_accuracy: 0.5445\n",
            "Epoch 3/100\n",
            "395/395 [==============================] - 25s 64ms/step - loss: 1.0044 - accuracy: 0.5089 - val_loss: 0.8772 - val_accuracy: 0.5949\n",
            "Epoch 4/100\n",
            "395/395 [==============================] - 25s 64ms/step - loss: 0.9279 - accuracy: 0.5398 - val_loss: 0.9034 - val_accuracy: 0.6045\n",
            "Epoch 5/100\n",
            "395/395 [==============================] - 27s 69ms/step - loss: 0.9013 - accuracy: 0.5612 - val_loss: 0.8998 - val_accuracy: 0.5775\n",
            "Epoch 6/100\n",
            "395/395 [==============================] - 25s 64ms/step - loss: 0.8478 - accuracy: 0.5818 - val_loss: 0.8245 - val_accuracy: 0.6294\n",
            "Epoch 7/100\n",
            "395/395 [==============================] - 27s 69ms/step - loss: 0.8651 - accuracy: 0.6017 - val_loss: 0.8661 - val_accuracy: 0.5803\n",
            "Epoch 8/100\n",
            "395/395 [==============================] - 28s 71ms/step - loss: 0.8048 - accuracy: 0.6109 - val_loss: 0.8413 - val_accuracy: 0.6469\n",
            "Epoch 9/100\n",
            "395/395 [==============================] - 25s 62ms/step - loss: 0.7607 - accuracy: 0.6444 - val_loss: 0.7916 - val_accuracy: 0.6412\n",
            "Epoch 10/100\n",
            "395/395 [==============================] - 25s 65ms/step - loss: 0.7386 - accuracy: 0.6600 - val_loss: 0.8172 - val_accuracy: 0.6676\n",
            "Epoch 11/100\n",
            "395/395 [==============================] - 28s 71ms/step - loss: 0.7069 - accuracy: 0.6723 - val_loss: 0.7400 - val_accuracy: 0.6875\n",
            "Epoch 12/100\n",
            "395/395 [==============================] - 25s 64ms/step - loss: 0.6597 - accuracy: 0.6995 - val_loss: 0.7455 - val_accuracy: 0.7016\n",
            "Epoch 13/100\n",
            "395/395 [==============================] - 25s 62ms/step - loss: 0.6478 - accuracy: 0.7066 - val_loss: 0.7320 - val_accuracy: 0.6836\n",
            "Epoch 14/100\n",
            "395/395 [==============================] - 25s 64ms/step - loss: 0.6004 - accuracy: 0.7300 - val_loss: 0.7989 - val_accuracy: 0.7145\n",
            "Epoch 15/100\n",
            "395/395 [==============================] - 28s 71ms/step - loss: 0.5831 - accuracy: 0.7422 - val_loss: 0.7317 - val_accuracy: 0.7169\n",
            "Epoch 16/100\n",
            "395/395 [==============================] - 28s 71ms/step - loss: 0.5630 - accuracy: 0.7523 - val_loss: 0.7669 - val_accuracy: 0.7283\n",
            "Epoch 17/100\n",
            "395/395 [==============================] - 25s 64ms/step - loss: 0.5491 - accuracy: 0.7626 - val_loss: 0.7061 - val_accuracy: 0.7298\n",
            "Epoch 18/100\n",
            "395/395 [==============================] - 25s 64ms/step - loss: 0.5273 - accuracy: 0.7715 - val_loss: 0.7161 - val_accuracy: 0.7362\n",
            "Epoch 19/100\n",
            "395/395 [==============================] - 28s 71ms/step - loss: 0.5119 - accuracy: 0.7824 - val_loss: 0.7296 - val_accuracy: 0.7431\n",
            "Epoch 20/100\n",
            "395/395 [==============================] - 28s 72ms/step - loss: 0.5034 - accuracy: 0.7855 - val_loss: 0.7366 - val_accuracy: 0.7516\n",
            "Epoch 21/100\n",
            "395/395 [==============================] - 27s 69ms/step - loss: 0.5044 - accuracy: 0.7888 - val_loss: 0.7547 - val_accuracy: 0.7403\n",
            "Epoch 22/100\n",
            "395/395 [==============================] - 27s 69ms/step - loss: 0.4726 - accuracy: 0.7971 - val_loss: 0.6876 - val_accuracy: 0.7484\n",
            "Epoch 23/100\n",
            "395/395 [==============================] - 27s 69ms/step - loss: 0.4611 - accuracy: 0.8070 - val_loss: 0.7401 - val_accuracy: 0.7510\n",
            "Epoch 24/100\n",
            "395/395 [==============================] - 25s 62ms/step - loss: 0.4435 - accuracy: 0.8109 - val_loss: 0.7518 - val_accuracy: 0.7497\n",
            "Epoch 25/100\n",
            "395/395 [==============================] - 25s 64ms/step - loss: 0.4385 - accuracy: 0.8152 - val_loss: 0.7319 - val_accuracy: 0.7643\n",
            "Epoch 26/100\n",
            "395/395 [==============================] - 27s 69ms/step - loss: 0.4296 - accuracy: 0.8203 - val_loss: 0.7530 - val_accuracy: 0.7619\n",
            "Epoch 27/100\n",
            "395/395 [==============================] - 28s 72ms/step - loss: 0.4170 - accuracy: 0.8258 - val_loss: 0.7634 - val_accuracy: 0.7680\n",
            "Epoch 28/100\n",
            "395/395 [==============================] - 24s 62ms/step - loss: 0.4057 - accuracy: 0.8304 - val_loss: 0.7942 - val_accuracy: 0.7540\n",
            "Epoch 29/100\n",
            "395/395 [==============================] - 27s 69ms/step - loss: 0.3965 - accuracy: 0.8389 - val_loss: 0.8115 - val_accuracy: 0.7680\n",
            "Epoch 30/100\n",
            "395/395 [==============================] - 25s 63ms/step - loss: 0.4006 - accuracy: 0.8354 - val_loss: 0.7374 - val_accuracy: 0.7783\n",
            "Epoch 31/100\n",
            "395/395 [==============================] - 25s 62ms/step - loss: 0.3867 - accuracy: 0.8415 - val_loss: 0.7777 - val_accuracy: 0.7660\n",
            "Epoch 32/100\n",
            "395/395 [==============================] - 24s 62ms/step - loss: 0.3786 - accuracy: 0.8450 - val_loss: 0.7614 - val_accuracy: 0.7695\n",
            "Epoch 33/100\n",
            "395/395 [==============================] - 24s 61ms/step - loss: 0.3794 - accuracy: 0.8451 - val_loss: 0.7388 - val_accuracy: 0.7737\n",
            "Epoch 34/100\n",
            "395/395 [==============================] - 25s 64ms/step - loss: 0.3571 - accuracy: 0.8558 - val_loss: 0.7388 - val_accuracy: 0.7787\n",
            "Epoch 35/100\n",
            "395/395 [==============================] - 28s 72ms/step - loss: 0.3603 - accuracy: 0.8534 - val_loss: 0.7433 - val_accuracy: 0.7846\n",
            "Epoch 36/100\n",
            "395/395 [==============================] - 27s 69ms/step - loss: 0.3488 - accuracy: 0.8599 - val_loss: 0.8357 - val_accuracy: 0.7759\n",
            "Epoch 37/100\n",
            "395/395 [==============================] - 25s 62ms/step - loss: 0.3481 - accuracy: 0.8589 - val_loss: 0.7943 - val_accuracy: 0.7818\n",
            "Epoch 38/100\n",
            "395/395 [==============================] - 24s 62ms/step - loss: 0.3383 - accuracy: 0.8604 - val_loss: 0.8702 - val_accuracy: 0.7737\n",
            "Epoch 39/100\n",
            "395/395 [==============================] - 24s 61ms/step - loss: 0.3415 - accuracy: 0.8619 - val_loss: 0.8794 - val_accuracy: 0.7763\n",
            "Epoch 40/100\n",
            "395/395 [==============================] - 27s 69ms/step - loss: 0.3289 - accuracy: 0.8699 - val_loss: 0.7898 - val_accuracy: 0.7805\n",
            "Epoch 41/100\n",
            "395/395 [==============================] - 28s 71ms/step - loss: 0.3278 - accuracy: 0.8651 - val_loss: 0.7733 - val_accuracy: 0.7848\n",
            "Epoch 42/100\n",
            "395/395 [==============================] - 26s 65ms/step - loss: 0.3144 - accuracy: 0.8736 - val_loss: 0.8064 - val_accuracy: 0.7881\n",
            "Epoch 43/100\n",
            "395/395 [==============================] - 27s 70ms/step - loss: 0.3132 - accuracy: 0.8774 - val_loss: 0.8364 - val_accuracy: 0.7791\n",
            "Epoch 44/100\n",
            "395/395 [==============================] - 24s 61ms/step - loss: 0.3119 - accuracy: 0.8752 - val_loss: 0.8357 - val_accuracy: 0.7876\n",
            "Epoch 45/100\n",
            "395/395 [==============================] - 25s 65ms/step - loss: 0.3050 - accuracy: 0.8785 - val_loss: 0.7864 - val_accuracy: 0.7911\n",
            "Epoch 46/100\n",
            "395/395 [==============================] - 27s 69ms/step - loss: 0.3109 - accuracy: 0.8768 - val_loss: 0.8223 - val_accuracy: 0.7828\n",
            "Epoch 47/100\n",
            "395/395 [==============================] - 27s 69ms/step - loss: 0.2990 - accuracy: 0.8809 - val_loss: 0.9307 - val_accuracy: 0.7879\n",
            "Epoch 48/100\n",
            "395/395 [==============================] - 24s 62ms/step - loss: 0.2936 - accuracy: 0.8829 - val_loss: 0.9200 - val_accuracy: 0.7837\n",
            "Epoch 49/100\n",
            "395/395 [==============================] - 27s 69ms/step - loss: 0.2913 - accuracy: 0.8863 - val_loss: 0.8492 - val_accuracy: 0.7885\n",
            "Epoch 50/100\n",
            "395/395 [==============================] - 28s 71ms/step - loss: 0.2866 - accuracy: 0.8888 - val_loss: 0.7973 - val_accuracy: 0.7931\n",
            "Epoch 51/100\n",
            "395/395 [==============================] - 26s 65ms/step - loss: 0.2804 - accuracy: 0.8890 - val_loss: 0.8910 - val_accuracy: 0.7940\n",
            "Epoch 52/100\n",
            "395/395 [==============================] - 24s 62ms/step - loss: 0.2742 - accuracy: 0.8907 - val_loss: 0.8799 - val_accuracy: 0.7913\n",
            "Epoch 53/100\n",
            "395/395 [==============================] - 24s 61ms/step - loss: 0.2838 - accuracy: 0.8887 - val_loss: 0.9440 - val_accuracy: 0.7876\n",
            "Epoch 54/100\n",
            "395/395 [==============================] - 28s 71ms/step - loss: 0.2725 - accuracy: 0.8915 - val_loss: 0.9647 - val_accuracy: 0.7953\n",
            "Epoch 55/100\n",
            "395/395 [==============================] - 27s 69ms/step - loss: 0.2864 - accuracy: 0.8858 - val_loss: 0.8546 - val_accuracy: 0.7933\n",
            "Epoch 56/100\n",
            "395/395 [==============================] - 28s 72ms/step - loss: 0.2753 - accuracy: 0.8896 - val_loss: 0.8450 - val_accuracy: 0.7975\n",
            "Epoch 57/100\n",
            "395/395 [==============================] - 27s 69ms/step - loss: 0.2676 - accuracy: 0.8939 - val_loss: 0.8828 - val_accuracy: 0.7940\n",
            "Epoch 58/100\n",
            "395/395 [==============================] - 27s 69ms/step - loss: 0.2664 - accuracy: 0.8901 - val_loss: 0.9535 - val_accuracy: 0.7922\n",
            "Epoch 59/100\n",
            "395/395 [==============================] - 24s 62ms/step - loss: 0.2609 - accuracy: 0.8957 - val_loss: 0.9295 - val_accuracy: 0.7931\n",
            "Epoch 60/100\n",
            "395/395 [==============================] - 24s 62ms/step - loss: 0.2559 - accuracy: 0.8985 - val_loss: 1.0002 - val_accuracy: 0.7892\n",
            "Epoch 61/100\n",
            "395/395 [==============================] - 25s 64ms/step - loss: 0.2629 - accuracy: 0.8934 - val_loss: 0.9308 - val_accuracy: 0.7999\n",
            "Epoch 62/100\n",
            "395/395 [==============================] - 27s 69ms/step - loss: 0.2709 - accuracy: 0.8911 - val_loss: 1.0349 - val_accuracy: 0.7857\n",
            "Epoch 63/100\n",
            "395/395 [==============================] - 24s 62ms/step - loss: 0.2442 - accuracy: 0.9015 - val_loss: 0.9394 - val_accuracy: 0.7999\n",
            "Epoch 64/100\n",
            "395/395 [==============================] - 24s 62ms/step - loss: 0.2550 - accuracy: 0.8984 - val_loss: 0.9784 - val_accuracy: 0.7966\n",
            "Epoch 65/100\n",
            "395/395 [==============================] - 27s 69ms/step - loss: 0.2540 - accuracy: 0.8982 - val_loss: 0.9651 - val_accuracy: 0.7984\n",
            "Epoch 66/100\n",
            "395/395 [==============================] - 24s 61ms/step - loss: 0.2530 - accuracy: 0.8995 - val_loss: 0.9341 - val_accuracy: 0.7988\n",
            "Epoch 67/100\n",
            "395/395 [==============================] - 28s 71ms/step - loss: 0.2407 - accuracy: 0.9045 - val_loss: 0.9342 - val_accuracy: 0.8044\n",
            "Epoch 68/100\n",
            "395/395 [==============================] - 27s 69ms/step - loss: 0.2445 - accuracy: 0.9017 - val_loss: 0.9964 - val_accuracy: 0.8040\n",
            "Epoch 69/100\n",
            "395/395 [==============================] - 24s 62ms/step - loss: 0.2509 - accuracy: 0.8988 - val_loss: 0.9286 - val_accuracy: 0.8018\n",
            "Epoch 70/100\n",
            "395/395 [==============================] - 27s 69ms/step - loss: 0.2345 - accuracy: 0.9068 - val_loss: 1.0147 - val_accuracy: 0.7972\n",
            "Epoch 71/100\n",
            "395/395 [==============================] - 27s 69ms/step - loss: 0.2398 - accuracy: 0.9048 - val_loss: 0.9987 - val_accuracy: 0.7961\n",
            "Epoch 72/100\n",
            "395/395 [==============================] - 27s 69ms/step - loss: 0.2318 - accuracy: 0.9093 - val_loss: 1.0163 - val_accuracy: 0.7992\n",
            "Epoch 73/100\n",
            "395/395 [==============================] - 27s 69ms/step - loss: 0.2393 - accuracy: 0.9053 - val_loss: 0.9551 - val_accuracy: 0.8007\n",
            "Epoch 74/100\n",
            "395/395 [==============================] - 24s 61ms/step - loss: 0.2266 - accuracy: 0.9090 - val_loss: 1.0395 - val_accuracy: 0.7988\n",
            "Epoch 75/100\n",
            "395/395 [==============================] - 24s 62ms/step - loss: 0.2253 - accuracy: 0.9104 - val_loss: 0.9649 - val_accuracy: 0.8008\n",
            "Epoch 76/100\n",
            "395/395 [==============================] - 24s 61ms/step - loss: 0.2311 - accuracy: 0.9074 - val_loss: 0.8981 - val_accuracy: 0.8008\n",
            "Epoch 77/100\n",
            "395/395 [==============================] - 25s 64ms/step - loss: 0.2258 - accuracy: 0.9097 - val_loss: 0.9429 - val_accuracy: 0.8073\n",
            "Epoch 78/100\n",
            "395/395 [==============================] - 24s 61ms/step - loss: 0.2249 - accuracy: 0.9100 - val_loss: 0.9970 - val_accuracy: 0.8032\n",
            "Epoch 79/100\n",
            "395/395 [==============================] - 24s 62ms/step - loss: 0.2231 - accuracy: 0.9120 - val_loss: 0.9663 - val_accuracy: 0.8051\n",
            "Epoch 80/100\n",
            "395/395 [==============================] - 27s 69ms/step - loss: 0.2184 - accuracy: 0.9133 - val_loss: 1.0369 - val_accuracy: 0.8049\n",
            "Epoch 81/100\n",
            "395/395 [==============================] - 28s 71ms/step - loss: 0.2230 - accuracy: 0.9102 - val_loss: 0.9411 - val_accuracy: 0.8101\n",
            "Epoch 82/100\n",
            "395/395 [==============================] - 27s 69ms/step - loss: 0.2164 - accuracy: 0.9132 - val_loss: 1.0847 - val_accuracy: 0.8047\n",
            "Epoch 83/100\n",
            "395/395 [==============================] - 27s 69ms/step - loss: 0.2263 - accuracy: 0.9091 - val_loss: 1.0303 - val_accuracy: 0.8079\n",
            "Epoch 84/100\n",
            "395/395 [==============================] - 27s 69ms/step - loss: 0.2171 - accuracy: 0.9124 - val_loss: 0.9888 - val_accuracy: 0.8077\n",
            "Epoch 85/100\n",
            "395/395 [==============================] - 27s 69ms/step - loss: 0.2150 - accuracy: 0.9137 - val_loss: 1.0185 - val_accuracy: 0.8058\n",
            "Epoch 86/100\n",
            "395/395 [==============================] - 27s 69ms/step - loss: 0.2097 - accuracy: 0.9171 - val_loss: 1.0710 - val_accuracy: 0.8021\n",
            "Epoch 87/100\n",
            "395/395 [==============================] - 27s 69ms/step - loss: 0.2158 - accuracy: 0.9153 - val_loss: 1.1363 - val_accuracy: 0.7996\n",
            "Epoch 88/100\n",
            "395/395 [==============================] - 25s 64ms/step - loss: 0.2118 - accuracy: 0.9147 - val_loss: 1.0315 - val_accuracy: 0.8121\n",
            "Epoch 89/100\n",
            "395/395 [==============================] - 24s 62ms/step - loss: 0.2089 - accuracy: 0.9165 - val_loss: 1.1368 - val_accuracy: 0.8077\n",
            "Epoch 90/100\n",
            "395/395 [==============================] - 27s 69ms/step - loss: 0.2066 - accuracy: 0.9161 - val_loss: 1.0334 - val_accuracy: 0.8082\n",
            "Epoch 91/100\n",
            "395/395 [==============================] - 27s 69ms/step - loss: 0.2076 - accuracy: 0.9172 - val_loss: 1.0927 - val_accuracy: 0.8079\n",
            "Epoch 92/100\n",
            "395/395 [==============================] - 27s 69ms/step - loss: 0.2017 - accuracy: 0.9202 - val_loss: 1.0088 - val_accuracy: 0.8051\n",
            "Epoch 93/100\n",
            "395/395 [==============================] - 28s 71ms/step - loss: 0.2062 - accuracy: 0.9176 - val_loss: 1.0204 - val_accuracy: 0.8123\n",
            "Epoch 94/100\n",
            "395/395 [==============================] - 27s 69ms/step - loss: 0.2023 - accuracy: 0.9198 - val_loss: 1.1431 - val_accuracy: 0.8064\n",
            "Epoch 95/100\n",
            "395/395 [==============================] - 25s 62ms/step - loss: 0.1992 - accuracy: 0.9199 - val_loss: 1.0798 - val_accuracy: 0.8071\n",
            "Epoch 96/100\n",
            "395/395 [==============================] - 27s 69ms/step - loss: 0.1999 - accuracy: 0.9183 - val_loss: 1.3198 - val_accuracy: 0.7940\n",
            "Epoch 97/100\n",
            "395/395 [==============================] - 27s 69ms/step - loss: 0.2010 - accuracy: 0.9222 - val_loss: 1.0477 - val_accuracy: 0.8077\n",
            "Epoch 98/100\n",
            "395/395 [==============================] - 27s 69ms/step - loss: 0.2037 - accuracy: 0.9190 - val_loss: 1.1197 - val_accuracy: 0.8031\n",
            "Epoch 99/100\n",
            "395/395 [==============================] - 27s 69ms/step - loss: 0.1979 - accuracy: 0.9209 - val_loss: 1.0456 - val_accuracy: 0.8071\n",
            "Epoch 100/100\n",
            "395/395 [==============================] - 28s 71ms/step - loss: 0.1957 - accuracy: 0.9220 - val_loss: 1.0744 - val_accuracy: 0.8127\n"
          ]
        }
      ],
      "source": [
        "model.compile(loss='sparse_categorical_crossentropy', optimizer=tf.keras.optimizers.SGD(learning_rate=0.01),metrics=['accuracy'])\n",
        "\n",
        "#  = model.fit(X_train, y_train, epochs=NUM_EPOCHS, batch_size=32, validation_data=(X_test, y_test))\n",
        "H = model.fit(X_train, y_train, epochs=NUM_EPOCHS, batch_size=32, validation_data=(X_test, y_test), callbacks=[save_best])\n"
      ]
    },
    {
      "cell_type": "markdown",
      "metadata": {
        "id": "erUlpBd9i6Ko"
      },
      "source": [
        "# Running model on Test Set"
      ]
    },
    {
      "cell_type": "code",
      "execution_count": 15,
      "metadata": {
        "id": "ZslnMU0noDXI",
        "colab": {
          "base_uri": "https://localhost:8080/"
        },
        "outputId": "4e3aa957-091f-4e53-a392-2a68d5995c3e"
      },
      "outputs": [
        {
          "output_type": "stream",
          "name": "stdout",
          "text": [
            "Accuracy over the test set: \n",
            "  81.27 %\n"
          ]
        }
      ],
      "source": [
        "model = load_model('/content/drive/MyDrive/Colab Notebooks/model.hdf5')\n",
        "score = model.evaluate(X_test, y_test, verbose=0)\n",
        "print('Accuracy over the test set: \\n ', round((score[1]*100), 2), '%')"
      ]
    },
    {
      "cell_type": "code",
      "execution_count": 16,
      "metadata": {
        "id": "kA8I_H2pi8xo",
        "colab": {
          "base_uri": "https://localhost:8080/"
        },
        "outputId": "41be9cc2-816d-4f32-a876-4f8919639d01"
      },
      "outputs": [
        {
          "output_type": "execute_result",
          "data": {
            "text/plain": [
              "array([1, 2, 0, ..., 1, 0, 0])"
            ]
          },
          "metadata": {},
          "execution_count": 16
        }
      ],
      "source": [
        "y_test"
      ]
    },
    {
      "cell_type": "code",
      "execution_count": 17,
      "metadata": {
        "id": "RLdedutmjBqn",
        "colab": {
          "base_uri": "https://localhost:8080/"
        },
        "outputId": "674d2555-c6d9-441b-cfc4-ed3d3fd06174"
      },
      "outputs": [
        {
          "output_type": "execute_result",
          "data": {
            "text/plain": [
              "(5418,)"
            ]
          },
          "metadata": {},
          "execution_count": 17
        }
      ],
      "source": [
        "encoder = LabelEncoder()\n",
        "Targets = encoder.fit_transform(y_test)\n",
        "Targets\n",
        "Targets.shape"
      ]
    },
    {
      "cell_type": "code",
      "execution_count": null,
      "metadata": {
        "id": "bQEe549ZjEZJ",
        "colab": {
          "base_uri": "https://localhost:8080/"
        },
        "outputId": "0ddf26de-6373-4bb8-8111-2f6c01c33861"
      },
      "outputs": [
        {
          "output_type": "stream",
          "name": "stdout",
          "text": [
            "169/170 [============================>.] - ETA: 0s"
          ]
        }
      ],
      "source": [
        "Y_pred = np.round(model.predict(X_test))\n",
        "\n",
        "np.random.seed(87)\n",
        "for rand_num in np.random.randint(0, len(y_test), 10):\n",
        "  plt.figure()\n",
        "  plt.imshow(X_test[rand_num]), plt.axis('off')\n",
        "  if np.where(Y_pred[rand_num] == 1)[0].sum() == np.where(y_test[rand_num] == 1)[0].sum():\n",
        "    plt.title(encoder.classes_[np.where(Y_pred[rand_num] == 1)[0].sum()], color='g')\n",
        "  else :\n",
        "    plt.title(encoder.classes_[np.where(Y_pred[rand_num] == 1)[0].sum()], color='r')"
      ]
    },
    {
      "cell_type": "markdown",
      "metadata": {
        "id": "rQLPIBKpNP1l"
      },
      "source": [
        "# Plotting Training/Validation Accuracy and Loss"
      ]
    },
    {
      "cell_type": "code",
      "execution_count": null,
      "metadata": {
        "id": "vuN3iBYJjg3P"
      },
      "outputs": [],
      "source": [
        "history = model.fit(X_train, y_train, validation_split=0.1, epochs=50, batch_size=4)"
      ]
    },
    {
      "cell_type": "code",
      "execution_count": null,
      "metadata": {
        "id": "ePKyxR5jOLZ1"
      },
      "outputs": [],
      "source": [
        "history.history.keys()"
      ]
    },
    {
      "cell_type": "code",
      "execution_count": null,
      "metadata": {
        "id": "9gm312DaNWwZ"
      },
      "outputs": [],
      "source": [
        "plt.plot(history.history['accuracy'])\n",
        "plt.plot(history.history['val_accuracy'])\n",
        "plt.title('Model Accuracy')\n",
        "plt.ylabel('Accuracy')\n",
        "plt.xlabel('Epoch')\n",
        "plt.legend(['train', 'validation'], loc='upper left')\n",
        "plt.show()"
      ]
    },
    {
      "cell_type": "code",
      "execution_count": null,
      "metadata": {
        "id": "cIrHeuPvN0Sd"
      },
      "outputs": [],
      "source": [
        "plt.plot(history.history['loss'])\n",
        "plt.plot(history.history['val_loss'])\n",
        "plt.title('Model Loss')\n",
        "plt.ylabel('Loss')\n",
        "plt.xlabel('Epoch')\n",
        "plt.legend(['train', 'validation'], loc='upper left')\n",
        "plt.show()"
      ]
    },
    {
      "cell_type": "code",
      "execution_count": null,
      "metadata": {
        "id": "NNg9r7mfXelJ"
      },
      "outputs": [],
      "source": []
    },
    {
      "cell_type": "markdown",
      "metadata": {
        "id": "IwwAaz7um630"
      },
      "source": [
        "# Trying other parameters"
      ]
    },
    {
      "cell_type": "code",
      "execution_count": null,
      "metadata": {
        "id": "sLcB6-NAfJkV"
      },
      "outputs": [],
      "source": [
        "from keras import regularizers, layers\n",
        "from keras.callbacks import EarlyStopping\n",
        "\n",
        "\n",
        "NUM_EPOCHS = 100\n",
        "keep_prob = 0.5\n",
        "model_rate = 1-keep_prob\n",
        "vggModel= tf.keras.applications.VGG16(weights='imagenet', include_top=False, input_shape=(128, 128, 3))\n",
        "\n",
        "vggModel.trainable= False\n",
        "\n",
        "model2 = tf.keras.models.Sequential()\n",
        "model2.add(vggModel)\n",
        "model2.add(tf.keras.layers.Flatten())\n",
        "model2.add(tf.keras.layers.Dense(256, activation='relu'))\n",
        "model2.add(tf.keras.layers.Dropout(rate=model_rate))\n",
        "model2.add(tf.keras.layers.Dense(3, activation='softmax'))\n",
        "# model2.add(tf.keras.layers.Dense(5, activation='softmax'))\n",
        "\n",
        "print (model2.summary())"
      ]
    },
    {
      "cell_type": "code",
      "execution_count": null,
      "metadata": {
        "id": "ZsH7jwdzfJX6"
      },
      "outputs": [],
      "source": [
        "save_at = \"/content/drive/MyDrive/Colab Notebooks/model2.hdf5\"\n",
        "save_best = ModelCheckpoint(save_at, monitor='val_accuracy', verbose=0, save_best_only=True, save_weights_only=False, mode='max')"
      ]
    },
    {
      "cell_type": "code",
      "execution_count": null,
      "metadata": {
        "id": "pVn5EuDJn6Xi"
      },
      "outputs": [],
      "source": [
        "model2.compile(loss='sparse_categorical_crossentropy', optimizer=tf.keras.optimizers.SGD(learning_rate=0.01),metrics=['accuracy'])\n",
        "# simple early stopping\n",
        "# es = EarlyStopping(monitor='val_loss', mode='min', verbose=1)\n",
        "# #patience early stopping\n",
        "es = EarlyStopping(monitor='val_loss', mode='min', verbose=1, patience=200)\n",
        "H2 = model.fit(X_train, y_train, epochs=NUM_EPOCHS, batch_size=32, validation_data=(X_test, y_test), callbacks=[es, save_best])\n"
      ]
    },
    {
      "cell_type": "code",
      "execution_count": null,
      "metadata": {
        "id": "809hyq_jfJe9"
      },
      "outputs": [],
      "source": [
        "model2 = load_model('/content/drive/MyDrive/Colab Notebooks/model2.hdf5')\n",
        "\n",
        "# evaluate the model\n",
        "_, train_acc = model2.evaluate(X_train, y_train, verbose=0)\n",
        "_, test_acc = model2.evaluate(X_test, y_test, verbose=0)\n",
        "print('Train: %.3f, Test: %.3f' % (train_acc, test_acc))"
      ]
    },
    {
      "cell_type": "code",
      "execution_count": null,
      "metadata": {
        "id": "QCp7JQ-6qEj1"
      },
      "outputs": [],
      "source": [
        "plt.plot(history.history['loss'])\n",
        "plt.plot(history.history['val_loss'])\n",
        "plt.title('Model Loss')\n",
        "plt.ylabel('Loss')\n",
        "plt.xlabel('Epoch')\n",
        "plt.legend(['train', 'validation'], loc='upper left')\n",
        "plt.show()"
      ]
    },
    {
      "cell_type": "code",
      "execution_count": null,
      "metadata": {
        "id": "Bx96TAIEqIPo"
      },
      "outputs": [],
      "source": []
    }
  ],
  "metadata": {
    "accelerator": "GPU",
    "colab": {
      "provenance": []
    },
    "gpuClass": "standard",
    "kernelspec": {
      "display_name": "Python 3",
      "name": "python3"
    },
    "language_info": {
      "name": "python"
    }
  },
  "nbformat": 4,
  "nbformat_minor": 0
}