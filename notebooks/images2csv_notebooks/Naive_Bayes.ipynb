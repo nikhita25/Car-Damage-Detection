{
 "cells": [
  {
   "cell_type": "code",
   "execution_count": 54,
   "id": "e038a7eb",
   "metadata": {},
   "outputs": [],
   "source": [
    "import pandas as pd\n",
    "from sklearn.naive_bayes import GaussianNB\n",
    "from sklearn.model_selection import train_test_split\n",
    "import matplotlib.pyplot as plt\n",
    "from PIL import Image\n",
    "import numpy as np\n",
    "import sys\n",
    "import os\n",
    "import csv\n",
    "import cv2"
   ]
  },
  {
   "cell_type": "code",
   "execution_count": 55,
   "id": "7c6309b0",
   "metadata": {},
   "outputs": [],
   "source": [
    "df = pd.read_csv(\"/Users/rohitgulve/Documents/Applied_Machine_Learning/data3a/finaldata_car_damage.csv\")"
   ]
  },
  {
   "cell_type": "code",
   "execution_count": 56,
   "id": "057c2948",
   "metadata": {},
   "outputs": [
    {
     "data": {
      "text/html": [
       "<div>\n",
       "<style scoped>\n",
       "    .dataframe tbody tr th:only-of-type {\n",
       "        vertical-align: middle;\n",
       "    }\n",
       "\n",
       "    .dataframe tbody tr th {\n",
       "        vertical-align: top;\n",
       "    }\n",
       "\n",
       "    .dataframe thead th {\n",
       "        text-align: right;\n",
       "    }\n",
       "</style>\n",
       "<table border=\"1\" class=\"dataframe\">\n",
       "  <thead>\n",
       "    <tr style=\"text-align: right;\">\n",
       "      <th></th>\n",
       "      <th>Pixel_1</th>\n",
       "      <th>Pixel_2</th>\n",
       "      <th>Pixel_3</th>\n",
       "      <th>Pixel_4</th>\n",
       "      <th>Pixel_5</th>\n",
       "      <th>Pixel_6</th>\n",
       "      <th>Pixel_7</th>\n",
       "      <th>Pixel_8</th>\n",
       "      <th>Pixel_9</th>\n",
       "      <th>Pixel_10</th>\n",
       "      <th>...</th>\n",
       "      <th>Pixel_2296</th>\n",
       "      <th>Pixel_2297</th>\n",
       "      <th>Pixel_2298</th>\n",
       "      <th>Pixel_2299</th>\n",
       "      <th>Pixel_2300</th>\n",
       "      <th>Pixel_2301</th>\n",
       "      <th>Pixel_2302</th>\n",
       "      <th>Pixel_2303</th>\n",
       "      <th>Pixel_2304</th>\n",
       "      <th>label</th>\n",
       "    </tr>\n",
       "  </thead>\n",
       "  <tbody>\n",
       "    <tr>\n",
       "      <th>0</th>\n",
       "      <td>247.0</td>\n",
       "      <td>247.0</td>\n",
       "      <td>247.0</td>\n",
       "      <td>247.0</td>\n",
       "      <td>247.0</td>\n",
       "      <td>247.0</td>\n",
       "      <td>247.0</td>\n",
       "      <td>247.0</td>\n",
       "      <td>245.0</td>\n",
       "      <td>249.0</td>\n",
       "      <td>...</td>\n",
       "      <td>55.0</td>\n",
       "      <td>64.0</td>\n",
       "      <td>74.0</td>\n",
       "      <td>78.0</td>\n",
       "      <td>96.0</td>\n",
       "      <td>105.0</td>\n",
       "      <td>124.0</td>\n",
       "      <td>140.0</td>\n",
       "      <td>144.0</td>\n",
       "      <td>0</td>\n",
       "    </tr>\n",
       "    <tr>\n",
       "      <th>1</th>\n",
       "      <td>57.0</td>\n",
       "      <td>46.0</td>\n",
       "      <td>133.0</td>\n",
       "      <td>246.0</td>\n",
       "      <td>245.0</td>\n",
       "      <td>240.0</td>\n",
       "      <td>241.0</td>\n",
       "      <td>171.0</td>\n",
       "      <td>88.0</td>\n",
       "      <td>75.0</td>\n",
       "      <td>...</td>\n",
       "      <td>52.0</td>\n",
       "      <td>53.0</td>\n",
       "      <td>52.0</td>\n",
       "      <td>57.0</td>\n",
       "      <td>58.0</td>\n",
       "      <td>56.0</td>\n",
       "      <td>56.0</td>\n",
       "      <td>57.0</td>\n",
       "      <td>58.0</td>\n",
       "      <td>0</td>\n",
       "    </tr>\n",
       "    <tr>\n",
       "      <th>2</th>\n",
       "      <td>64.0</td>\n",
       "      <td>78.0</td>\n",
       "      <td>76.0</td>\n",
       "      <td>105.0</td>\n",
       "      <td>186.0</td>\n",
       "      <td>127.0</td>\n",
       "      <td>93.0</td>\n",
       "      <td>37.0</td>\n",
       "      <td>26.0</td>\n",
       "      <td>14.0</td>\n",
       "      <td>...</td>\n",
       "      <td>165.0</td>\n",
       "      <td>157.0</td>\n",
       "      <td>155.0</td>\n",
       "      <td>172.0</td>\n",
       "      <td>176.0</td>\n",
       "      <td>183.0</td>\n",
       "      <td>179.0</td>\n",
       "      <td>159.0</td>\n",
       "      <td>157.0</td>\n",
       "      <td>0</td>\n",
       "    </tr>\n",
       "    <tr>\n",
       "      <th>3</th>\n",
       "      <td>250.0</td>\n",
       "      <td>250.0</td>\n",
       "      <td>250.0</td>\n",
       "      <td>250.0</td>\n",
       "      <td>250.0</td>\n",
       "      <td>250.0</td>\n",
       "      <td>250.0</td>\n",
       "      <td>250.0</td>\n",
       "      <td>249.0</td>\n",
       "      <td>249.0</td>\n",
       "      <td>...</td>\n",
       "      <td>188.0</td>\n",
       "      <td>161.0</td>\n",
       "      <td>165.0</td>\n",
       "      <td>175.0</td>\n",
       "      <td>180.0</td>\n",
       "      <td>183.0</td>\n",
       "      <td>185.0</td>\n",
       "      <td>188.0</td>\n",
       "      <td>191.0</td>\n",
       "      <td>0</td>\n",
       "    </tr>\n",
       "    <tr>\n",
       "      <th>4</th>\n",
       "      <td>179.0</td>\n",
       "      <td>182.0</td>\n",
       "      <td>185.0</td>\n",
       "      <td>188.0</td>\n",
       "      <td>194.0</td>\n",
       "      <td>202.0</td>\n",
       "      <td>199.0</td>\n",
       "      <td>203.0</td>\n",
       "      <td>202.0</td>\n",
       "      <td>192.0</td>\n",
       "      <td>...</td>\n",
       "      <td>60.0</td>\n",
       "      <td>55.0</td>\n",
       "      <td>51.0</td>\n",
       "      <td>45.0</td>\n",
       "      <td>43.0</td>\n",
       "      <td>39.0</td>\n",
       "      <td>38.0</td>\n",
       "      <td>40.0</td>\n",
       "      <td>36.0</td>\n",
       "      <td>0</td>\n",
       "    </tr>\n",
       "  </tbody>\n",
       "</table>\n",
       "<p>5 rows × 2305 columns</p>\n",
       "</div>"
      ],
      "text/plain": [
       "   Pixel_1  Pixel_2  Pixel_3  Pixel_4  Pixel_5  Pixel_6  Pixel_7  Pixel_8  \\\n",
       "0    247.0    247.0    247.0    247.0    247.0    247.0    247.0    247.0   \n",
       "1     57.0     46.0    133.0    246.0    245.0    240.0    241.0    171.0   \n",
       "2     64.0     78.0     76.0    105.0    186.0    127.0     93.0     37.0   \n",
       "3    250.0    250.0    250.0    250.0    250.0    250.0    250.0    250.0   \n",
       "4    179.0    182.0    185.0    188.0    194.0    202.0    199.0    203.0   \n",
       "\n",
       "   Pixel_9  Pixel_10  ...  Pixel_2296  Pixel_2297  Pixel_2298  Pixel_2299  \\\n",
       "0    245.0     249.0  ...        55.0        64.0        74.0        78.0   \n",
       "1     88.0      75.0  ...        52.0        53.0        52.0        57.0   \n",
       "2     26.0      14.0  ...       165.0       157.0       155.0       172.0   \n",
       "3    249.0     249.0  ...       188.0       161.0       165.0       175.0   \n",
       "4    202.0     192.0  ...        60.0        55.0        51.0        45.0   \n",
       "\n",
       "   Pixel_2300  Pixel_2301  Pixel_2302  Pixel_2303  Pixel_2304  label  \n",
       "0        96.0       105.0       124.0       140.0       144.0      0  \n",
       "1        58.0        56.0        56.0        57.0        58.0      0  \n",
       "2       176.0       183.0       179.0       159.0       157.0      0  \n",
       "3       180.0       183.0       185.0       188.0       191.0      0  \n",
       "4        43.0        39.0        38.0        40.0        36.0      0  \n",
       "\n",
       "[5 rows x 2305 columns]"
      ]
     },
     "execution_count": 56,
     "metadata": {},
     "output_type": "execute_result"
    }
   ],
   "source": [
    "df.head()"
   ]
  },
  {
   "cell_type": "code",
   "execution_count": 57,
   "id": "22302f30",
   "metadata": {},
   "outputs": [
    {
     "data": {
      "text/plain": [
       "(7563, 2305)"
      ]
     },
     "execution_count": 57,
     "metadata": {},
     "output_type": "execute_result"
    }
   ],
   "source": [
    "df.shape"
   ]
  },
  {
   "cell_type": "code",
   "execution_count": 58,
   "id": "3b9fce85",
   "metadata": {},
   "outputs": [
    {
     "data": {
      "text/plain": [
       "2    2562\n",
       "1    2522\n",
       "0    2479\n",
       "Name: label, dtype: int64"
      ]
     },
     "execution_count": 58,
     "metadata": {},
     "output_type": "execute_result"
    }
   ],
   "source": [
    "df['label'].value_counts()"
   ]
  },
  {
   "cell_type": "code",
   "execution_count": 59,
   "id": "0176ddbd",
   "metadata": {},
   "outputs": [
    {
     "data": {
      "text/plain": [
       "Pixel_1       0\n",
       "Pixel_2       0\n",
       "Pixel_3       0\n",
       "Pixel_4       0\n",
       "Pixel_5       0\n",
       "             ..\n",
       "Pixel_2301    0\n",
       "Pixel_2302    0\n",
       "Pixel_2303    0\n",
       "Pixel_2304    0\n",
       "label         0\n",
       "Length: 2305, dtype: int64"
      ]
     },
     "execution_count": 59,
     "metadata": {},
     "output_type": "execute_result"
    }
   ],
   "source": [
    "df.isnull().sum()"
   ]
  },
  {
   "cell_type": "code",
   "execution_count": 61,
   "id": "43f3f6cb",
   "metadata": {},
   "outputs": [
    {
     "data": {
      "text/plain": [
       "<matplotlib.image.AxesImage at 0x7fe8aaf45250>"
      ]
     },
     "execution_count": 61,
     "metadata": {},
     "output_type": "execute_result"
    },
    {
     "data": {
      "image/png": "[encoded data removed]",
      "text/plain": [
       "<Figure size 432x288 with 1 Axes>"
      ]
     },
     "metadata": {
      "needs_background": "light"
     },
     "output_type": "display_data"
    }
   ],
   "source": [
    "images = df.drop(columns = \"label\").values\n",
    "plt.imshow(images[30].reshape(48,48))\n"
   ]
  },
  {
   "cell_type": "code",
   "execution_count": 62,
   "id": "6621c1ea",
   "metadata": {},
   "outputs": [],
   "source": [
    "X = df.drop(columns = ['label']).values\n"
   ]
  },
  {
   "cell_type": "code",
   "execution_count": 63,
   "id": "07204844",
   "metadata": {},
   "outputs": [
    {
     "data": {
      "text/plain": [
       "array([[247., 247., 247., ..., 124., 140., 144.],\n",
       "       [ 57.,  46., 133., ...,  56.,  57.,  58.],\n",
       "       [ 64.,  78.,  76., ..., 179., 159., 157.],\n",
       "       ...,\n",
       "       [140., 135., 123., ..., 236., 226., 219.],\n",
       "       [125., 141., 151., ...,  81.,  77.,  85.],\n",
       "       [154., 100.,  97., ...,  45.,  38.,  47.]])"
      ]
     },
     "execution_count": 63,
     "metadata": {},
     "output_type": "execute_result"
    }
   ],
   "source": [
    "X"
   ]
  },
  {
   "cell_type": "code",
   "execution_count": 64,
   "id": "fb4d5d8c",
   "metadata": {},
   "outputs": [],
   "source": [
    "y = df['label'].values"
   ]
  },
  {
   "cell_type": "code",
   "execution_count": 65,
   "id": "7d5e8805",
   "metadata": {},
   "outputs": [
    {
     "data": {
      "text/plain": [
       "array([0, 0, 0, ..., 2, 2, 2])"
      ]
     },
     "execution_count": 65,
     "metadata": {},
     "output_type": "execute_result"
    }
   ],
   "source": [
    "y"
   ]
  },
  {
   "cell_type": "code",
   "execution_count": 66,
   "id": "589c4b54",
   "metadata": {},
   "outputs": [],
   "source": [
    "X_train, X_test, y_train, y_test = train_test_split(X, y, test_size=0.3, random_state=42, stratify=y)\n"
   ]
  },
  {
   "cell_type": "code",
   "execution_count": 67,
   "id": "7f6bdaa0",
   "metadata": {},
   "outputs": [
    {
     "data": {
      "text/plain": [
       "((5294, 2304), (2269, 2304), (5294,), (2269,))"
      ]
     },
     "execution_count": 67,
     "metadata": {},
     "output_type": "execute_result"
    }
   ],
   "source": [
    "X_train.shape, X_test.shape, y_train.shape, y_test.shape"
   ]
  },
  {
   "cell_type": "code",
   "execution_count": 70,
   "id": "5f49e336",
   "metadata": {},
   "outputs": [],
   "source": [
    "gnb = GaussianNB()\n",
    "y_pred = gnb.fit(X_train, y_train).predict(X_test)"
   ]
  },
  {
   "cell_type": "code",
   "execution_count": 71,
   "id": "e9cf1628",
   "metadata": {},
   "outputs": [
    {
     "name": "stdout",
     "output_type": "stream",
     "text": [
      "Accuracy: 0.3843102688408991\n"
     ]
    }
   ],
   "source": [
    "from sklearn.metrics import (\n",
    "    accuracy_score,\n",
    "    confusion_matrix,\n",
    "    ConfusionMatrixDisplay,\n",
    "    f1_score,\n",
    ")\n",
    "\n",
    "y_pred = gnb.predict(X_test)\n",
    "accuray = accuracy_score(y_pred, y_test)\n",
    "\n",
    "print(\"Accuracy:\", accuray)\n"
   ]
  },
  {
   "cell_type": "code",
   "execution_count": 72,
   "id": "4b3e68b7",
   "metadata": {},
   "outputs": [],
   "source": [
    "cm = confusion_matrix(y_test, y_pred)\n"
   ]
  },
  {
   "cell_type": "code",
   "execution_count": null,
   "id": "72123a2c",
   "metadata": {},
   "outputs": [],
   "source": []
  }
 ],
 "metadata": {
  "kernelspec": {
   "display_name": "Python 3 (ipykernel)",
   "language": "python",
   "name": "python3"
  },
  "language_info": {
   "codemirror_mode": {
    "name": "ipython",
    "version": 3
   },
   "file_extension": ".py",
   "mimetype": "text/x-python",
   "name": "python",
   "nbconvert_exporter": "python",
   "pygments_lexer": "ipython3",
   "version": "3.9.12"
  }
 },
 "nbformat": 4,
 "nbformat_minor": 5
}
