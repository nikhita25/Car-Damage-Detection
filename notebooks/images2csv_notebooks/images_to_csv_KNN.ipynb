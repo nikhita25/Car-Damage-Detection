{
  "nbformat": 4,
  "nbformat_minor": 0,
  "metadata": {
    "colab": {
      "provenance": []
    },
    "kernelspec": {
      "name": "python3",
      "display_name": "Python 3"
    },
    "language_info": {
      "name": "python"
    }
  },
  "cells": [
    {
      "cell_type": "code",
      "source": [
        "from google.colab import drive\n",
        "drive.mount('/content/drive')"
      ],
      "metadata": {
        "colab": {
          "base_uri": "https://localhost:8080/"
        },
        "id": "yeeuQVryEyNs",
        "outputId": "8e2a468b-e3e3-40f9-b8b3-459e35c4e98e"
      },
      "execution_count": null,
      "outputs": [
        {
          "output_type": "stream",
          "name": "stdout",
          "text": [
            "Mounted at /content/drive\n"
          ]
        }
      ]
    },
    {
      "cell_type": "code",
      "source": [],
      "metadata": {
        "id": "FFg5usDUYYy6"
      },
      "execution_count": null,
      "outputs": []
    },
    {
      "cell_type": "code",
      "source": [
        "import pandas as pd\n",
        "import numpy as np\n",
        "from PIL import Image\n",
        "import cv2\n",
        "import os"
      ],
      "metadata": {
        "id": "kagtsg4WdFLH"
      },
      "execution_count": null,
      "outputs": []
    },
    {
      "cell_type": "code",
      "source": [
        "IMG_DIR = '/content/drive/MyDrive/data3a/training/01-minor'\n",
        "\n",
        "for img in os.listdir(IMG_DIR):\n",
        "    img_array = cv2.imread(os.path.join(IMG_DIR,img), cv2.IMREAD_GRAYSCALE)\n",
        "\n",
        "    img_pil = Image.fromarray(img_array)\n",
        "    img_28x28 = np.array(img_pil.resize((28, 28), Image.ANTIALIAS))\n",
        "\n",
        "    img_array = (img_28x28.flatten())\n",
        "\n",
        "    img_array  = img_array.reshape(-1,1).T\n",
        "\n",
        "    with open('train_01_minor.csv', 'ab') as f:\n",
        "\n",
        "        np.savetxt(f, img_array, delimiter=\",\")"
      ],
      "metadata": {
        "id": "eTPi7O2tpNR1"
      },
      "execution_count": null,
      "outputs": []
    },
    {
      "cell_type": "code",
      "source": [
        "IMG_DIR = '/content/drive/MyDrive/data3a/training/02-moderate'\n",
        "\n",
        "for img in os.listdir(IMG_DIR):\n",
        "    img_array = cv2.imread(os.path.join(IMG_DIR,img), cv2.IMREAD_GRAYSCALE)\n",
        "\n",
        "    img_pil = Image.fromarray(img_array)\n",
        "    img_28x28 = np.array(img_pil.resize((28, 28), Image.ANTIALIAS))\n",
        "\n",
        "    img_array = (img_28x28.flatten())\n",
        "\n",
        "    img_array  = img_array.reshape(-1,1).T\n",
        "\n",
        "    with open('train_02_moderate.csv', 'ab') as f:\n",
        "\n",
        "        np.savetxt(f, img_array, delimiter=\",\")"
      ],
      "metadata": {
        "id": "K156JnnBdTcT"
      },
      "execution_count": null,
      "outputs": []
    },
    {
      "cell_type": "code",
      "source": [
        "IMG_DIR = '/content/drive/MyDrive/data3a/training/03-severe'\n",
        "\n",
        "for img in os.listdir(IMG_DIR):\n",
        "    img_array = cv2.imread(os.path.join(IMG_DIR,img), cv2.IMREAD_GRAYSCALE)\n",
        "\n",
        "    img_pil = Image.fromarray(img_array)\n",
        "    img_28x28 = np.array(img_pil.resize((28, 28), Image.ANTIALIAS))\n",
        "\n",
        "    img_array = (img_28x28.flatten())\n",
        "\n",
        "    img_array  = img_array.reshape(-1,1).T\n",
        "\n",
        "    with open('train_03_severe.csv', 'ab') as f:\n",
        "\n",
        "        np.savetxt(f, img_array, delimiter=\",\")"
      ],
      "metadata": {
        "id": "yooSTU54E23v"
      },
      "execution_count": null,
      "outputs": []
    },
    {
      "cell_type": "code",
      "source": [
        "train_minor = pd.read_csv(\"train_01_minor.csv\", header=None)\n",
        "\n",
        "columnnames = {}\n",
        "count = 0\n",
        "for i in train_minor.columns:\n",
        "  count += 1\n",
        "  columnnames[i] = f\"Pix_{count}\"\n",
        "train_minor.rename(columns = columnnames ,inplace = True)\n",
        "\n",
        "train_minor['label'] = 0\n",
        "train_minor.head()\n",
        "\n",
        "\n",
        "\n"
      ],
      "metadata": {
        "colab": {
          "base_uri": "https://localhost:8080/",
          "height": 297
        },
        "id": "60XhYzMOE28t",
        "outputId": "3d5be56b-74a3-4612-aef1-41e91ef864ef"
      },
      "execution_count": null,
      "outputs": [
        {
          "output_type": "execute_result",
          "data": {
            "text/plain": [
              "   Pix_1  Pix_2  Pix_3  Pix_4  Pix_5  Pix_6  Pix_7  Pix_8  Pix_9  Pix_10  ...  \\\n",
              "0  165.0  165.0  164.0  165.0  166.0  162.0  203.0  150.0  152.0   171.0  ...   \n",
              "1   60.0   77.0  103.0  115.0  143.0  144.0  148.0  152.0  154.0   155.0  ...   \n",
              "2  171.0  207.0  150.0  114.0  142.0  121.0   97.0   50.0   51.0    61.0  ...   \n",
              "3  117.0  115.0  112.0  111.0  108.0  105.0   97.0   76.0   64.0    56.0  ...   \n",
              "4  107.0  105.0   98.0  113.0  116.0  107.0  109.0  115.0  105.0   114.0  ...   \n",
              "\n",
              "   Pix_776  Pix_777  Pix_778  Pix_779  Pix_780  Pix_781  Pix_782  Pix_783  \\\n",
              "0     98.0     96.0     94.0    114.0    124.0    128.0    100.0    106.0   \n",
              "1    121.0    123.0    116.0    111.0    112.0    105.0    106.0    102.0   \n",
              "2    104.0    104.0    106.0    111.0    112.0    111.0    116.0    114.0   \n",
              "3     47.0     57.0     76.0     93.0     87.0     81.0     96.0    138.0   \n",
              "4     42.0     43.0     45.0     48.0     46.0     47.0    104.0    126.0   \n",
              "\n",
              "   Pix_784  label  \n",
              "0     93.0      0  \n",
              "1     99.0      0  \n",
              "2    115.0      0  \n",
              "3    190.0      0  \n",
              "4    118.0      0  \n",
              "\n",
              "[5 rows x 785 columns]"
            ],
            "text/html": [
              "\n",
              "  <div id=\"df-789c25a6-0c0d-41de-b516-709bf9b74907\">\n",
              "    <div class=\"colab-df-container\">\n",
              "      <div>\n",
              "<style scoped>\n",
              "    .dataframe tbody tr th:only-of-type {\n",
              "        vertical-align: middle;\n",
              "    }\n",
              "\n",
              "    .dataframe tbody tr th {\n",
              "        vertical-align: top;\n",
              "    }\n",
              "\n",
              "    .dataframe thead th {\n",
              "        text-align: right;\n",
              "    }\n",
              "</style>\n",
              "<table border=\"1\" class=\"dataframe\">\n",
              "  <thead>\n",
              "    <tr style=\"text-align: right;\">\n",
              "      <th></th>\n",
              "      <th>Pix_1</th>\n",
              "      <th>Pix_2</th>\n",
              "      <th>Pix_3</th>\n",
              "      <th>Pix_4</th>\n",
              "      <th>Pix_5</th>\n",
              "      <th>Pix_6</th>\n",
              "      <th>Pix_7</th>\n",
              "      <th>Pix_8</th>\n",
              "      <th>Pix_9</th>\n",
              "      <th>Pix_10</th>\n",
              "      <th>...</th>\n",
              "      <th>Pix_776</th>\n",
              "      <th>Pix_777</th>\n",
              "      <th>Pix_778</th>\n",
              "      <th>Pix_779</th>\n",
              "      <th>Pix_780</th>\n",
              "      <th>Pix_781</th>\n",
              "      <th>Pix_782</th>\n",
              "      <th>Pix_783</th>\n",
              "      <th>Pix_784</th>\n",
              "      <th>label</th>\n",
              "    </tr>\n",
              "  </thead>\n",
              "  <tbody>\n",
              "    <tr>\n",
              "      <th>0</th>\n",
              "      <td>165.0</td>\n",
              "      <td>165.0</td>\n",
              "      <td>164.0</td>\n",
              "      <td>165.0</td>\n",
              "      <td>166.0</td>\n",
              "      <td>162.0</td>\n",
              "      <td>203.0</td>\n",
              "      <td>150.0</td>\n",
              "      <td>152.0</td>\n",
              "      <td>171.0</td>\n",
              "      <td>...</td>\n",
              "      <td>98.0</td>\n",
              "      <td>96.0</td>\n",
              "      <td>94.0</td>\n",
              "      <td>114.0</td>\n",
              "      <td>124.0</td>\n",
              "      <td>128.0</td>\n",
              "      <td>100.0</td>\n",
              "      <td>106.0</td>\n",
              "      <td>93.0</td>\n",
              "      <td>0</td>\n",
              "    </tr>\n",
              "    <tr>\n",
              "      <th>1</th>\n",
              "      <td>60.0</td>\n",
              "      <td>77.0</td>\n",
              "      <td>103.0</td>\n",
              "      <td>115.0</td>\n",
              "      <td>143.0</td>\n",
              "      <td>144.0</td>\n",
              "      <td>148.0</td>\n",
              "      <td>152.0</td>\n",
              "      <td>154.0</td>\n",
              "      <td>155.0</td>\n",
              "      <td>...</td>\n",
              "      <td>121.0</td>\n",
              "      <td>123.0</td>\n",
              "      <td>116.0</td>\n",
              "      <td>111.0</td>\n",
              "      <td>112.0</td>\n",
              "      <td>105.0</td>\n",
              "      <td>106.0</td>\n",
              "      <td>102.0</td>\n",
              "      <td>99.0</td>\n",
              "      <td>0</td>\n",
              "    </tr>\n",
              "    <tr>\n",
              "      <th>2</th>\n",
              "      <td>171.0</td>\n",
              "      <td>207.0</td>\n",
              "      <td>150.0</td>\n",
              "      <td>114.0</td>\n",
              "      <td>142.0</td>\n",
              "      <td>121.0</td>\n",
              "      <td>97.0</td>\n",
              "      <td>50.0</td>\n",
              "      <td>51.0</td>\n",
              "      <td>61.0</td>\n",
              "      <td>...</td>\n",
              "      <td>104.0</td>\n",
              "      <td>104.0</td>\n",
              "      <td>106.0</td>\n",
              "      <td>111.0</td>\n",
              "      <td>112.0</td>\n",
              "      <td>111.0</td>\n",
              "      <td>116.0</td>\n",
              "      <td>114.0</td>\n",
              "      <td>115.0</td>\n",
              "      <td>0</td>\n",
              "    </tr>\n",
              "    <tr>\n",
              "      <th>3</th>\n",
              "      <td>117.0</td>\n",
              "      <td>115.0</td>\n",
              "      <td>112.0</td>\n",
              "      <td>111.0</td>\n",
              "      <td>108.0</td>\n",
              "      <td>105.0</td>\n",
              "      <td>97.0</td>\n",
              "      <td>76.0</td>\n",
              "      <td>64.0</td>\n",
              "      <td>56.0</td>\n",
              "      <td>...</td>\n",
              "      <td>47.0</td>\n",
              "      <td>57.0</td>\n",
              "      <td>76.0</td>\n",
              "      <td>93.0</td>\n",
              "      <td>87.0</td>\n",
              "      <td>81.0</td>\n",
              "      <td>96.0</td>\n",
              "      <td>138.0</td>\n",
              "      <td>190.0</td>\n",
              "      <td>0</td>\n",
              "    </tr>\n",
              "    <tr>\n",
              "      <th>4</th>\n",
              "      <td>107.0</td>\n",
              "      <td>105.0</td>\n",
              "      <td>98.0</td>\n",
              "      <td>113.0</td>\n",
              "      <td>116.0</td>\n",
              "      <td>107.0</td>\n",
              "      <td>109.0</td>\n",
              "      <td>115.0</td>\n",
              "      <td>105.0</td>\n",
              "      <td>114.0</td>\n",
              "      <td>...</td>\n",
              "      <td>42.0</td>\n",
              "      <td>43.0</td>\n",
              "      <td>45.0</td>\n",
              "      <td>48.0</td>\n",
              "      <td>46.0</td>\n",
              "      <td>47.0</td>\n",
              "      <td>104.0</td>\n",
              "      <td>126.0</td>\n",
              "      <td>118.0</td>\n",
              "      <td>0</td>\n",
              "    </tr>\n",
              "  </tbody>\n",
              "</table>\n",
              "<p>5 rows × 785 columns</p>\n",
              "</div>\n",
              "      <button class=\"colab-df-convert\" onclick=\"convertToInteractive('df-789c25a6-0c0d-41de-b516-709bf9b74907')\"\n",
              "              title=\"Convert this dataframe to an interactive table.\"\n",
              "              style=\"display:none;\">\n",
              "        \n",
              "  <svg xmlns=\"http://www.w3.org/2000/svg\" height=\"24px\"viewBox=\"0 0 24 24\"\n",
              "       width=\"24px\">\n",
              "    <path d=\"M0 0h24v24H0V0z\" fill=\"none\"/>\n",
              "    <path d=\"M18.56 5.44l.94 2.06.94-2.06 2.06-.94-2.06-.94-.94-2.06-.94 2.06-2.06.94zm-11 1L8.5 8.5l.94-2.06 2.06-.94-2.06-.94L8.5 2.5l-.94 2.06-2.06.94zm10 10l.94 2.06.94-2.06 2.06-.94-2.06-.94-.94-2.06-.94 2.06-2.06.94z\"/><path d=\"M17.41 7.96l-1.37-1.37c-.4-.4-.92-.59-1.43-.59-.52 0-1.04.2-1.43.59L10.3 9.45l-7.72 7.72c-.78.78-.78 2.05 0 2.83L4 21.41c.39.39.9.59 1.41.59.51 0 1.02-.2 1.41-.59l7.78-7.78 2.81-2.81c.8-.78.8-2.07 0-2.86zM5.41 20L4 18.59l7.72-7.72 1.47 1.35L5.41 20z\"/>\n",
              "  </svg>\n",
              "      </button>\n",
              "      \n",
              "  <style>\n",
              "    .colab-df-container {\n",
              "      display:flex;\n",
              "      flex-wrap:wrap;\n",
              "      gap: 12px;\n",
              "    }\n",
              "\n",
              "    .colab-df-convert {\n",
              "      background-color: #E8F0FE;\n",
              "      border: none;\n",
              "      border-radius: 50%;\n",
              "      cursor: pointer;\n",
              "      display: none;\n",
              "      fill: #1967D2;\n",
              "      height: 32px;\n",
              "      padding: 0 0 0 0;\n",
              "      width: 32px;\n",
              "    }\n",
              "\n",
              "    .colab-df-convert:hover {\n",
              "      background-color: #E2EBFA;\n",
              "      box-shadow: 0px 1px 2px rgba(60, 64, 67, 0.3), 0px 1px 3px 1px rgba(60, 64, 67, 0.15);\n",
              "      fill: #174EA6;\n",
              "    }\n",
              "\n",
              "    [theme=dark] .colab-df-convert {\n",
              "      background-color: #3B4455;\n",
              "      fill: #D2E3FC;\n",
              "    }\n",
              "\n",
              "    [theme=dark] .colab-df-convert:hover {\n",
              "      background-color: #434B5C;\n",
              "      box-shadow: 0px 1px 3px 1px rgba(0, 0, 0, 0.15);\n",
              "      filter: drop-shadow(0px 1px 2px rgba(0, 0, 0, 0.3));\n",
              "      fill: #FFFFFF;\n",
              "    }\n",
              "  </style>\n",
              "\n",
              "      <script>\n",
              "        const buttonEl =\n",
              "          document.querySelector('#df-789c25a6-0c0d-41de-b516-709bf9b74907 button.colab-df-convert');\n",
              "        buttonEl.style.display =\n",
              "          google.colab.kernel.accessAllowed ? 'block' : 'none';\n",
              "\n",
              "        async function convertToInteractive(key) {\n",
              "          const element = document.querySelector('#df-789c25a6-0c0d-41de-b516-709bf9b74907');\n",
              "          const dataTable =\n",
              "            await google.colab.kernel.invokeFunction('convertToInteractive',\n",
              "                                                     [key], {});\n",
              "          if (!dataTable) return;\n",
              "\n",
              "          const docLinkHtml = 'Like what you see? Visit the ' +\n",
              "            '<a target=\"_blank\" href=https://colab.research.google.com/notebooks/data_table.ipynb>data table notebook</a>'\n",
              "            + ' to learn more about interactive tables.';\n",
              "          element.innerHTML = '';\n",
              "          dataTable['output_type'] = 'display_data';\n",
              "          await google.colab.output.renderOutput(dataTable, element);\n",
              "          const docLink = document.createElement('div');\n",
              "          docLink.innerHTML = docLinkHtml;\n",
              "          element.appendChild(docLink);\n",
              "        }\n",
              "      </script>\n",
              "    </div>\n",
              "  </div>\n",
              "  "
            ]
          },
          "metadata": {},
          "execution_count": 19
        }
      ]
    },
    {
      "cell_type": "code",
      "source": [
        "train_moderate = pd.read_csv(\"train_02_moderate.csv\", header=None)\n",
        "\n",
        "columnnames = {}\n",
        "count = 0\n",
        "for i in train_moderate.columns:\n",
        "  count += 1\n",
        "  columnnames[i] = f\"Pix_{count}\"\n",
        "train_moderate.rename(columns = columnnames ,inplace = True)\n",
        "\n",
        "\n",
        "train_moderate['label'] = 1\n",
        "train_moderate.head()"
      ],
      "metadata": {
        "colab": {
          "base_uri": "https://localhost:8080/",
          "height": 297
        },
        "id": "ry7uBZA0ta7j",
        "outputId": "ee47446a-81c0-4bd1-9953-2820d6600e09"
      },
      "execution_count": null,
      "outputs": [
        {
          "output_type": "execute_result",
          "data": {
            "text/plain": [
              "   Pix_1  Pix_2  Pix_3  Pix_4  Pix_5  Pix_6  Pix_7  Pix_8  Pix_9  Pix_10  ...  \\\n",
              "0  231.0  219.0  214.0  218.0  187.0  166.0  169.0  153.0  127.0   118.0  ...   \n",
              "1  234.0  225.0  240.0  225.0  236.0  249.0  176.0  126.0  171.0   171.0  ...   \n",
              "2  249.0  251.0  255.0  255.0  255.0  250.0  249.0  252.0  255.0   255.0  ...   \n",
              "3  231.0  224.0  211.0  232.0  230.0  243.0  233.0  230.0  249.0   247.0  ...   \n",
              "4  108.0   86.0  145.0  120.0   77.0   45.0   50.0   95.0   51.0    17.0  ...   \n",
              "\n",
              "   Pix_776  Pix_777  Pix_778  Pix_779  Pix_780  Pix_781  Pix_782  Pix_783  \\\n",
              "0    132.0    134.0    135.0    125.0    119.0    113.0    113.0    116.0   \n",
              "1    147.0    163.0    175.0    189.0    205.0    212.0    227.0    228.0   \n",
              "2     78.0     81.0    194.0    255.0    236.0    218.0    194.0    183.0   \n",
              "3     60.0     57.0     55.0     54.0     57.0     55.0     56.0     49.0   \n",
              "4      9.0     29.0     47.0     17.0      9.0     20.0      5.0      2.0   \n",
              "\n",
              "   Pix_784  label  \n",
              "0    110.0      1  \n",
              "1    222.0      1  \n",
              "2    176.0      1  \n",
              "3     43.0      1  \n",
              "4      8.0      1  \n",
              "\n",
              "[5 rows x 785 columns]"
            ],
            "text/html": [
              "\n",
              "  <div id=\"df-f6d96377-e615-4445-8ff1-e4c0f3b74a17\">\n",
              "    <div class=\"colab-df-container\">\n",
              "      <div>\n",
              "<style scoped>\n",
              "    .dataframe tbody tr th:only-of-type {\n",
              "        vertical-align: middle;\n",
              "    }\n",
              "\n",
              "    .dataframe tbody tr th {\n",
              "        vertical-align: top;\n",
              "    }\n",
              "\n",
              "    .dataframe thead th {\n",
              "        text-align: right;\n",
              "    }\n",
              "</style>\n",
              "<table border=\"1\" class=\"dataframe\">\n",
              "  <thead>\n",
              "    <tr style=\"text-align: right;\">\n",
              "      <th></th>\n",
              "      <th>Pix_1</th>\n",
              "      <th>Pix_2</th>\n",
              "      <th>Pix_3</th>\n",
              "      <th>Pix_4</th>\n",
              "      <th>Pix_5</th>\n",
              "      <th>Pix_6</th>\n",
              "      <th>Pix_7</th>\n",
              "      <th>Pix_8</th>\n",
              "      <th>Pix_9</th>\n",
              "      <th>Pix_10</th>\n",
              "      <th>...</th>\n",
              "      <th>Pix_776</th>\n",
              "      <th>Pix_777</th>\n",
              "      <th>Pix_778</th>\n",
              "      <th>Pix_779</th>\n",
              "      <th>Pix_780</th>\n",
              "      <th>Pix_781</th>\n",
              "      <th>Pix_782</th>\n",
              "      <th>Pix_783</th>\n",
              "      <th>Pix_784</th>\n",
              "      <th>label</th>\n",
              "    </tr>\n",
              "  </thead>\n",
              "  <tbody>\n",
              "    <tr>\n",
              "      <th>0</th>\n",
              "      <td>231.0</td>\n",
              "      <td>219.0</td>\n",
              "      <td>214.0</td>\n",
              "      <td>218.0</td>\n",
              "      <td>187.0</td>\n",
              "      <td>166.0</td>\n",
              "      <td>169.0</td>\n",
              "      <td>153.0</td>\n",
              "      <td>127.0</td>\n",
              "      <td>118.0</td>\n",
              "      <td>...</td>\n",
              "      <td>132.0</td>\n",
              "      <td>134.0</td>\n",
              "      <td>135.0</td>\n",
              "      <td>125.0</td>\n",
              "      <td>119.0</td>\n",
              "      <td>113.0</td>\n",
              "      <td>113.0</td>\n",
              "      <td>116.0</td>\n",
              "      <td>110.0</td>\n",
              "      <td>1</td>\n",
              "    </tr>\n",
              "    <tr>\n",
              "      <th>1</th>\n",
              "      <td>234.0</td>\n",
              "      <td>225.0</td>\n",
              "      <td>240.0</td>\n",
              "      <td>225.0</td>\n",
              "      <td>236.0</td>\n",
              "      <td>249.0</td>\n",
              "      <td>176.0</td>\n",
              "      <td>126.0</td>\n",
              "      <td>171.0</td>\n",
              "      <td>171.0</td>\n",
              "      <td>...</td>\n",
              "      <td>147.0</td>\n",
              "      <td>163.0</td>\n",
              "      <td>175.0</td>\n",
              "      <td>189.0</td>\n",
              "      <td>205.0</td>\n",
              "      <td>212.0</td>\n",
              "      <td>227.0</td>\n",
              "      <td>228.0</td>\n",
              "      <td>222.0</td>\n",
              "      <td>1</td>\n",
              "    </tr>\n",
              "    <tr>\n",
              "      <th>2</th>\n",
              "      <td>249.0</td>\n",
              "      <td>251.0</td>\n",
              "      <td>255.0</td>\n",
              "      <td>255.0</td>\n",
              "      <td>255.0</td>\n",
              "      <td>250.0</td>\n",
              "      <td>249.0</td>\n",
              "      <td>252.0</td>\n",
              "      <td>255.0</td>\n",
              "      <td>255.0</td>\n",
              "      <td>...</td>\n",
              "      <td>78.0</td>\n",
              "      <td>81.0</td>\n",
              "      <td>194.0</td>\n",
              "      <td>255.0</td>\n",
              "      <td>236.0</td>\n",
              "      <td>218.0</td>\n",
              "      <td>194.0</td>\n",
              "      <td>183.0</td>\n",
              "      <td>176.0</td>\n",
              "      <td>1</td>\n",
              "    </tr>\n",
              "    <tr>\n",
              "      <th>3</th>\n",
              "      <td>231.0</td>\n",
              "      <td>224.0</td>\n",
              "      <td>211.0</td>\n",
              "      <td>232.0</td>\n",
              "      <td>230.0</td>\n",
              "      <td>243.0</td>\n",
              "      <td>233.0</td>\n",
              "      <td>230.0</td>\n",
              "      <td>249.0</td>\n",
              "      <td>247.0</td>\n",
              "      <td>...</td>\n",
              "      <td>60.0</td>\n",
              "      <td>57.0</td>\n",
              "      <td>55.0</td>\n",
              "      <td>54.0</td>\n",
              "      <td>57.0</td>\n",
              "      <td>55.0</td>\n",
              "      <td>56.0</td>\n",
              "      <td>49.0</td>\n",
              "      <td>43.0</td>\n",
              "      <td>1</td>\n",
              "    </tr>\n",
              "    <tr>\n",
              "      <th>4</th>\n",
              "      <td>108.0</td>\n",
              "      <td>86.0</td>\n",
              "      <td>145.0</td>\n",
              "      <td>120.0</td>\n",
              "      <td>77.0</td>\n",
              "      <td>45.0</td>\n",
              "      <td>50.0</td>\n",
              "      <td>95.0</td>\n",
              "      <td>51.0</td>\n",
              "      <td>17.0</td>\n",
              "      <td>...</td>\n",
              "      <td>9.0</td>\n",
              "      <td>29.0</td>\n",
              "      <td>47.0</td>\n",
              "      <td>17.0</td>\n",
              "      <td>9.0</td>\n",
              "      <td>20.0</td>\n",
              "      <td>5.0</td>\n",
              "      <td>2.0</td>\n",
              "      <td>8.0</td>\n",
              "      <td>1</td>\n",
              "    </tr>\n",
              "  </tbody>\n",
              "</table>\n",
              "<p>5 rows × 785 columns</p>\n",
              "</div>\n",
              "      <button class=\"colab-df-convert\" onclick=\"convertToInteractive('df-f6d96377-e615-4445-8ff1-e4c0f3b74a17')\"\n",
              "              title=\"Convert this dataframe to an interactive table.\"\n",
              "              style=\"display:none;\">\n",
              "        \n",
              "  <svg xmlns=\"http://www.w3.org/2000/svg\" height=\"24px\"viewBox=\"0 0 24 24\"\n",
              "       width=\"24px\">\n",
              "    <path d=\"M0 0h24v24H0V0z\" fill=\"none\"/>\n",
              "    <path d=\"M18.56 5.44l.94 2.06.94-2.06 2.06-.94-2.06-.94-.94-2.06-.94 2.06-2.06.94zm-11 1L8.5 8.5l.94-2.06 2.06-.94-2.06-.94L8.5 2.5l-.94 2.06-2.06.94zm10 10l.94 2.06.94-2.06 2.06-.94-2.06-.94-.94-2.06-.94 2.06-2.06.94z\"/><path d=\"M17.41 7.96l-1.37-1.37c-.4-.4-.92-.59-1.43-.59-.52 0-1.04.2-1.43.59L10.3 9.45l-7.72 7.72c-.78.78-.78 2.05 0 2.83L4 21.41c.39.39.9.59 1.41.59.51 0 1.02-.2 1.41-.59l7.78-7.78 2.81-2.81c.8-.78.8-2.07 0-2.86zM5.41 20L4 18.59l7.72-7.72 1.47 1.35L5.41 20z\"/>\n",
              "  </svg>\n",
              "      </button>\n",
              "      \n",
              "  <style>\n",
              "    .colab-df-container {\n",
              "      display:flex;\n",
              "      flex-wrap:wrap;\n",
              "      gap: 12px;\n",
              "    }\n",
              "\n",
              "    .colab-df-convert {\n",
              "      background-color: #E8F0FE;\n",
              "      border: none;\n",
              "      border-radius: 50%;\n",
              "      cursor: pointer;\n",
              "      display: none;\n",
              "      fill: #1967D2;\n",
              "      height: 32px;\n",
              "      padding: 0 0 0 0;\n",
              "      width: 32px;\n",
              "    }\n",
              "\n",
              "    .colab-df-convert:hover {\n",
              "      background-color: #E2EBFA;\n",
              "      box-shadow: 0px 1px 2px rgba(60, 64, 67, 0.3), 0px 1px 3px 1px rgba(60, 64, 67, 0.15);\n",
              "      fill: #174EA6;\n",
              "    }\n",
              "\n",
              "    [theme=dark] .colab-df-convert {\n",
              "      background-color: #3B4455;\n",
              "      fill: #D2E3FC;\n",
              "    }\n",
              "\n",
              "    [theme=dark] .colab-df-convert:hover {\n",
              "      background-color: #434B5C;\n",
              "      box-shadow: 0px 1px 3px 1px rgba(0, 0, 0, 0.15);\n",
              "      filter: drop-shadow(0px 1px 2px rgba(0, 0, 0, 0.3));\n",
              "      fill: #FFFFFF;\n",
              "    }\n",
              "  </style>\n",
              "\n",
              "      <script>\n",
              "        const buttonEl =\n",
              "          document.querySelector('#df-f6d96377-e615-4445-8ff1-e4c0f3b74a17 button.colab-df-convert');\n",
              "        buttonEl.style.display =\n",
              "          google.colab.kernel.accessAllowed ? 'block' : 'none';\n",
              "\n",
              "        async function convertToInteractive(key) {\n",
              "          const element = document.querySelector('#df-f6d96377-e615-4445-8ff1-e4c0f3b74a17');\n",
              "          const dataTable =\n",
              "            await google.colab.kernel.invokeFunction('convertToInteractive',\n",
              "                                                     [key], {});\n",
              "          if (!dataTable) return;\n",
              "\n",
              "          const docLinkHtml = 'Like what you see? Visit the ' +\n",
              "            '<a target=\"_blank\" href=https://colab.research.google.com/notebooks/data_table.ipynb>data table notebook</a>'\n",
              "            + ' to learn more about interactive tables.';\n",
              "          element.innerHTML = '';\n",
              "          dataTable['output_type'] = 'display_data';\n",
              "          await google.colab.output.renderOutput(dataTable, element);\n",
              "          const docLink = document.createElement('div');\n",
              "          docLink.innerHTML = docLinkHtml;\n",
              "          element.appendChild(docLink);\n",
              "        }\n",
              "      </script>\n",
              "    </div>\n",
              "  </div>\n",
              "  "
            ]
          },
          "metadata": {},
          "execution_count": 21
        }
      ]
    },
    {
      "cell_type": "code",
      "source": [
        "train_severe = pd.read_csv(\"train_03_severe.csv\", header=None)\n",
        "\n",
        "columnnames = {}\n",
        "count = 0\n",
        "for i in train_severe.columns:\n",
        "  count += 1\n",
        "  columnnames[i] = f\"Pix_{count}\"\n",
        "train_severe.rename(columns = columnnames ,inplace = True)\n",
        "\n",
        "train_severe['label'] = 3\n",
        "train_severe.head()"
      ],
      "metadata": {
        "colab": {
          "base_uri": "https://localhost:8080/",
          "height": 297
        },
        "id": "snuzIOKUta_C",
        "outputId": "f69c00e0-2a7a-4a92-efd8-09367dad4c56"
      },
      "execution_count": null,
      "outputs": [
        {
          "output_type": "execute_result",
          "data": {
            "text/plain": [
              "   Pix_1  Pix_2  Pix_3  Pix_4  Pix_5  Pix_6  Pix_7  Pix_8  Pix_9  Pix_10  ...  \\\n",
              "0  155.0  176.0  204.0  202.0  208.0  212.0  208.0  203.0  204.0   210.0  ...   \n",
              "1  246.0  249.0  249.0  248.0  251.0  241.0  191.0  192.0  191.0   194.0  ...   \n",
              "2  200.0  227.0  207.0  156.0  171.0  155.0   87.0   86.0   85.0    81.0  ...   \n",
              "3  160.0  169.0  143.0   98.0  126.0  137.0  145.0  134.0  121.0   136.0  ...   \n",
              "4   15.0   39.0   34.0   45.0   81.0  142.0  150.0  125.0  107.0    69.0  ...   \n",
              "\n",
              "   Pix_776  Pix_777  Pix_778  Pix_779  Pix_780  Pix_781  Pix_782  Pix_783  \\\n",
              "0     64.0     48.0     36.0     28.0     38.0     38.0     44.0     87.0   \n",
              "1     74.0     78.0     73.0     71.0     68.0     69.0     81.0     73.0   \n",
              "2    122.0    123.0    125.0    130.0    125.0    128.0    138.0    141.0   \n",
              "3    208.0    244.0    245.0    246.0    246.0    246.0    246.0    247.0   \n",
              "4    255.0    255.0    255.0    255.0    255.0    255.0    255.0    255.0   \n",
              "\n",
              "   Pix_784  label  \n",
              "0    117.0      3  \n",
              "1     66.0      3  \n",
              "2    147.0      3  \n",
              "3    246.0      3  \n",
              "4    255.0      3  \n",
              "\n",
              "[5 rows x 785 columns]"
            ],
            "text/html": [
              "\n",
              "  <div id=\"df-80f731af-b643-439b-82f6-1735ea7743ba\">\n",
              "    <div class=\"colab-df-container\">\n",
              "      <div>\n",
              "<style scoped>\n",
              "    .dataframe tbody tr th:only-of-type {\n",
              "        vertical-align: middle;\n",
              "    }\n",
              "\n",
              "    .dataframe tbody tr th {\n",
              "        vertical-align: top;\n",
              "    }\n",
              "\n",
              "    .dataframe thead th {\n",
              "        text-align: right;\n",
              "    }\n",
              "</style>\n",
              "<table border=\"1\" class=\"dataframe\">\n",
              "  <thead>\n",
              "    <tr style=\"text-align: right;\">\n",
              "      <th></th>\n",
              "      <th>Pix_1</th>\n",
              "      <th>Pix_2</th>\n",
              "      <th>Pix_3</th>\n",
              "      <th>Pix_4</th>\n",
              "      <th>Pix_5</th>\n",
              "      <th>Pix_6</th>\n",
              "      <th>Pix_7</th>\n",
              "      <th>Pix_8</th>\n",
              "      <th>Pix_9</th>\n",
              "      <th>Pix_10</th>\n",
              "      <th>...</th>\n",
              "      <th>Pix_776</th>\n",
              "      <th>Pix_777</th>\n",
              "      <th>Pix_778</th>\n",
              "      <th>Pix_779</th>\n",
              "      <th>Pix_780</th>\n",
              "      <th>Pix_781</th>\n",
              "      <th>Pix_782</th>\n",
              "      <th>Pix_783</th>\n",
              "      <th>Pix_784</th>\n",
              "      <th>label</th>\n",
              "    </tr>\n",
              "  </thead>\n",
              "  <tbody>\n",
              "    <tr>\n",
              "      <th>0</th>\n",
              "      <td>155.0</td>\n",
              "      <td>176.0</td>\n",
              "      <td>204.0</td>\n",
              "      <td>202.0</td>\n",
              "      <td>208.0</td>\n",
              "      <td>212.0</td>\n",
              "      <td>208.0</td>\n",
              "      <td>203.0</td>\n",
              "      <td>204.0</td>\n",
              "      <td>210.0</td>\n",
              "      <td>...</td>\n",
              "      <td>64.0</td>\n",
              "      <td>48.0</td>\n",
              "      <td>36.0</td>\n",
              "      <td>28.0</td>\n",
              "      <td>38.0</td>\n",
              "      <td>38.0</td>\n",
              "      <td>44.0</td>\n",
              "      <td>87.0</td>\n",
              "      <td>117.0</td>\n",
              "      <td>3</td>\n",
              "    </tr>\n",
              "    <tr>\n",
              "      <th>1</th>\n",
              "      <td>246.0</td>\n",
              "      <td>249.0</td>\n",
              "      <td>249.0</td>\n",
              "      <td>248.0</td>\n",
              "      <td>251.0</td>\n",
              "      <td>241.0</td>\n",
              "      <td>191.0</td>\n",
              "      <td>192.0</td>\n",
              "      <td>191.0</td>\n",
              "      <td>194.0</td>\n",
              "      <td>...</td>\n",
              "      <td>74.0</td>\n",
              "      <td>78.0</td>\n",
              "      <td>73.0</td>\n",
              "      <td>71.0</td>\n",
              "      <td>68.0</td>\n",
              "      <td>69.0</td>\n",
              "      <td>81.0</td>\n",
              "      <td>73.0</td>\n",
              "      <td>66.0</td>\n",
              "      <td>3</td>\n",
              "    </tr>\n",
              "    <tr>\n",
              "      <th>2</th>\n",
              "      <td>200.0</td>\n",
              "      <td>227.0</td>\n",
              "      <td>207.0</td>\n",
              "      <td>156.0</td>\n",
              "      <td>171.0</td>\n",
              "      <td>155.0</td>\n",
              "      <td>87.0</td>\n",
              "      <td>86.0</td>\n",
              "      <td>85.0</td>\n",
              "      <td>81.0</td>\n",
              "      <td>...</td>\n",
              "      <td>122.0</td>\n",
              "      <td>123.0</td>\n",
              "      <td>125.0</td>\n",
              "      <td>130.0</td>\n",
              "      <td>125.0</td>\n",
              "      <td>128.0</td>\n",
              "      <td>138.0</td>\n",
              "      <td>141.0</td>\n",
              "      <td>147.0</td>\n",
              "      <td>3</td>\n",
              "    </tr>\n",
              "    <tr>\n",
              "      <th>3</th>\n",
              "      <td>160.0</td>\n",
              "      <td>169.0</td>\n",
              "      <td>143.0</td>\n",
              "      <td>98.0</td>\n",
              "      <td>126.0</td>\n",
              "      <td>137.0</td>\n",
              "      <td>145.0</td>\n",
              "      <td>134.0</td>\n",
              "      <td>121.0</td>\n",
              "      <td>136.0</td>\n",
              "      <td>...</td>\n",
              "      <td>208.0</td>\n",
              "      <td>244.0</td>\n",
              "      <td>245.0</td>\n",
              "      <td>246.0</td>\n",
              "      <td>246.0</td>\n",
              "      <td>246.0</td>\n",
              "      <td>246.0</td>\n",
              "      <td>247.0</td>\n",
              "      <td>246.0</td>\n",
              "      <td>3</td>\n",
              "    </tr>\n",
              "    <tr>\n",
              "      <th>4</th>\n",
              "      <td>15.0</td>\n",
              "      <td>39.0</td>\n",
              "      <td>34.0</td>\n",
              "      <td>45.0</td>\n",
              "      <td>81.0</td>\n",
              "      <td>142.0</td>\n",
              "      <td>150.0</td>\n",
              "      <td>125.0</td>\n",
              "      <td>107.0</td>\n",
              "      <td>69.0</td>\n",
              "      <td>...</td>\n",
              "      <td>255.0</td>\n",
              "      <td>255.0</td>\n",
              "      <td>255.0</td>\n",
              "      <td>255.0</td>\n",
              "      <td>255.0</td>\n",
              "      <td>255.0</td>\n",
              "      <td>255.0</td>\n",
              "      <td>255.0</td>\n",
              "      <td>255.0</td>\n",
              "      <td>3</td>\n",
              "    </tr>\n",
              "  </tbody>\n",
              "</table>\n",
              "<p>5 rows × 785 columns</p>\n",
              "</div>\n",
              "      <button class=\"colab-df-convert\" onclick=\"convertToInteractive('df-80f731af-b643-439b-82f6-1735ea7743ba')\"\n",
              "              title=\"Convert this dataframe to an interactive table.\"\n",
              "              style=\"display:none;\">\n",
              "        \n",
              "  <svg xmlns=\"http://www.w3.org/2000/svg\" height=\"24px\"viewBox=\"0 0 24 24\"\n",
              "       width=\"24px\">\n",
              "    <path d=\"M0 0h24v24H0V0z\" fill=\"none\"/>\n",
              "    <path d=\"M18.56 5.44l.94 2.06.94-2.06 2.06-.94-2.06-.94-.94-2.06-.94 2.06-2.06.94zm-11 1L8.5 8.5l.94-2.06 2.06-.94-2.06-.94L8.5 2.5l-.94 2.06-2.06.94zm10 10l.94 2.06.94-2.06 2.06-.94-2.06-.94-.94-2.06-.94 2.06-2.06.94z\"/><path d=\"M17.41 7.96l-1.37-1.37c-.4-.4-.92-.59-1.43-.59-.52 0-1.04.2-1.43.59L10.3 9.45l-7.72 7.72c-.78.78-.78 2.05 0 2.83L4 21.41c.39.39.9.59 1.41.59.51 0 1.02-.2 1.41-.59l7.78-7.78 2.81-2.81c.8-.78.8-2.07 0-2.86zM5.41 20L4 18.59l7.72-7.72 1.47 1.35L5.41 20z\"/>\n",
              "  </svg>\n",
              "      </button>\n",
              "      \n",
              "  <style>\n",
              "    .colab-df-container {\n",
              "      display:flex;\n",
              "      flex-wrap:wrap;\n",
              "      gap: 12px;\n",
              "    }\n",
              "\n",
              "    .colab-df-convert {\n",
              "      background-color: #E8F0FE;\n",
              "      border: none;\n",
              "      border-radius: 50%;\n",
              "      cursor: pointer;\n",
              "      display: none;\n",
              "      fill: #1967D2;\n",
              "      height: 32px;\n",
              "      padding: 0 0 0 0;\n",
              "      width: 32px;\n",
              "    }\n",
              "\n",
              "    .colab-df-convert:hover {\n",
              "      background-color: #E2EBFA;\n",
              "      box-shadow: 0px 1px 2px rgba(60, 64, 67, 0.3), 0px 1px 3px 1px rgba(60, 64, 67, 0.15);\n",
              "      fill: #174EA6;\n",
              "    }\n",
              "\n",
              "    [theme=dark] .colab-df-convert {\n",
              "      background-color: #3B4455;\n",
              "      fill: #D2E3FC;\n",
              "    }\n",
              "\n",
              "    [theme=dark] .colab-df-convert:hover {\n",
              "      background-color: #434B5C;\n",
              "      box-shadow: 0px 1px 3px 1px rgba(0, 0, 0, 0.15);\n",
              "      filter: drop-shadow(0px 1px 2px rgba(0, 0, 0, 0.3));\n",
              "      fill: #FFFFFF;\n",
              "    }\n",
              "  </style>\n",
              "\n",
              "      <script>\n",
              "        const buttonEl =\n",
              "          document.querySelector('#df-80f731af-b643-439b-82f6-1735ea7743ba button.colab-df-convert');\n",
              "        buttonEl.style.display =\n",
              "          google.colab.kernel.accessAllowed ? 'block' : 'none';\n",
              "\n",
              "        async function convertToInteractive(key) {\n",
              "          const element = document.querySelector('#df-80f731af-b643-439b-82f6-1735ea7743ba');\n",
              "          const dataTable =\n",
              "            await google.colab.kernel.invokeFunction('convertToInteractive',\n",
              "                                                     [key], {});\n",
              "          if (!dataTable) return;\n",
              "\n",
              "          const docLinkHtml = 'Like what you see? Visit the ' +\n",
              "            '<a target=\"_blank\" href=https://colab.research.google.com/notebooks/data_table.ipynb>data table notebook</a>'\n",
              "            + ' to learn more about interactive tables.';\n",
              "          element.innerHTML = '';\n",
              "          dataTable['output_type'] = 'display_data';\n",
              "          await google.colab.output.renderOutput(dataTable, element);\n",
              "          const docLink = document.createElement('div');\n",
              "          docLink.innerHTML = docLinkHtml;\n",
              "          element.appendChild(docLink);\n",
              "        }\n",
              "      </script>\n",
              "    </div>\n",
              "  </div>\n",
              "  "
            ]
          },
          "metadata": {},
          "execution_count": 23
        }
      ]
    },
    {
      "cell_type": "code",
      "source": [
        "data=pd.concat([train_minor,train_moderate,train_severe])\n",
        "data.shape"
      ],
      "metadata": {
        "colab": {
          "base_uri": "https://localhost:8080/"
        },
        "id": "eRwo9jC04_Wa",
        "outputId": "6f7f14fd-6701-49b7-fe94-d4b7016e6e45"
      },
      "execution_count": null,
      "outputs": [
        {
          "output_type": "execute_result",
          "data": {
            "text/plain": [
              "(1383, 785)"
            ]
          },
          "metadata": {},
          "execution_count": 24
        }
      ]
    },
    {
      "cell_type": "code",
      "source": [
        "X_train=data.iloc[:,:-1]\n",
        "X_train.shape"
      ],
      "metadata": {
        "colab": {
          "base_uri": "https://localhost:8080/"
        },
        "id": "3lUHc1SU4_Zz",
        "outputId": "1329632b-1d0d-4063-9380-c1064d0570a8"
      },
      "execution_count": null,
      "outputs": [
        {
          "output_type": "execute_result",
          "data": {
            "text/plain": [
              "(1383, 784)"
            ]
          },
          "metadata": {},
          "execution_count": 27
        }
      ]
    },
    {
      "cell_type": "code",
      "source": [
        "y_train=data.iloc[:,-1]\n",
        "y_train.shape"
      ],
      "metadata": {
        "colab": {
          "base_uri": "https://localhost:8080/"
        },
        "id": "8LCcPIeD9W8r",
        "outputId": "3cfe7f32-ee88-49a7-9efc-b4663a039459"
      },
      "execution_count": null,
      "outputs": [
        {
          "output_type": "execute_result",
          "data": {
            "text/plain": [
              "(1383,)"
            ]
          },
          "metadata": {},
          "execution_count": 29
        }
      ]
    },
    {
      "cell_type": "code",
      "source": [
        "from sklearn.cluster import MiniBatchKMeans\n",
        "import numpy as np\n",
        "\n",
        "total_clusters = len(np.unique(y_train))\n",
        "# Initialize the K-Means model\n",
        "kmeans = MiniBatchKMeans(n_clusters = total_clusters)\n",
        "# Fitting the model to training set\n",
        "kmeans.fit(X_train)"
      ],
      "metadata": {
        "colab": {
          "base_uri": "https://localhost:8080/",
          "height": 128
        },
        "id": "yOmJkQaH4_dc",
        "outputId": "12ed9358-fd1d-4b9e-bfe8-5cf583f926ab"
      },
      "execution_count": 58,
      "outputs": [
        {
          "output_type": "stream",
          "name": "stderr",
          "text": [
            "/usr/local/lib/python3.9/dist-packages/sklearn/cluster/_kmeans.py:870: FutureWarning: The default value of `n_init` will change from 3 to 'auto' in 1.4. Set the value of `n_init` explicitly to suppress the warning\n",
            "  warnings.warn(\n"
          ]
        },
        {
          "output_type": "execute_result",
          "data": {
            "text/plain": [
              "MiniBatchKMeans(n_clusters=3)"
            ],
            "text/html": [
              "<style>#sk-container-id-2 {color: black;background-color: white;}#sk-container-id-2 pre{padding: 0;}#sk-container-id-2 div.sk-toggleable {background-color: white;}#sk-container-id-2 label.sk-toggleable__label {cursor: pointer;display: block;width: 100%;margin-bottom: 0;padding: 0.3em;box-sizing: border-box;text-align: center;}#sk-container-id-2 label.sk-toggleable__label-arrow:before {content: \"▸\";float: left;margin-right: 0.25em;color: #696969;}#sk-container-id-2 label.sk-toggleable__label-arrow:hover:before {color: black;}#sk-container-id-2 div.sk-estimator:hover label.sk-toggleable__label-arrow:before {color: black;}#sk-container-id-2 div.sk-toggleable__content {max-height: 0;max-width: 0;overflow: hidden;text-align: left;background-color: #f0f8ff;}#sk-container-id-2 div.sk-toggleable__content pre {margin: 0.2em;color: black;border-radius: 0.25em;background-color: #f0f8ff;}#sk-container-id-2 input.sk-toggleable__control:checked~div.sk-toggleable__content {max-height: 200px;max-width: 100%;overflow: auto;}#sk-container-id-2 input.sk-toggleable__control:checked~label.sk-toggleable__label-arrow:before {content: \"▾\";}#sk-container-id-2 div.sk-estimator input.sk-toggleable__control:checked~label.sk-toggleable__label {background-color: #d4ebff;}#sk-container-id-2 div.sk-label input.sk-toggleable__control:checked~label.sk-toggleable__label {background-color: #d4ebff;}#sk-container-id-2 input.sk-hidden--visually {border: 0;clip: rect(1px 1px 1px 1px);clip: rect(1px, 1px, 1px, 1px);height: 1px;margin: -1px;overflow: hidden;padding: 0;position: absolute;width: 1px;}#sk-container-id-2 div.sk-estimator {font-family: monospace;background-color: #f0f8ff;border: 1px dotted black;border-radius: 0.25em;box-sizing: border-box;margin-bottom: 0.5em;}#sk-container-id-2 div.sk-estimator:hover {background-color: #d4ebff;}#sk-container-id-2 div.sk-parallel-item::after {content: \"\";width: 100%;border-bottom: 1px solid gray;flex-grow: 1;}#sk-container-id-2 div.sk-label:hover label.sk-toggleable__label {background-color: #d4ebff;}#sk-container-id-2 div.sk-serial::before {content: \"\";position: absolute;border-left: 1px solid gray;box-sizing: border-box;top: 0;bottom: 0;left: 50%;z-index: 0;}#sk-container-id-2 div.sk-serial {display: flex;flex-direction: column;align-items: center;background-color: white;padding-right: 0.2em;padding-left: 0.2em;position: relative;}#sk-container-id-2 div.sk-item {position: relative;z-index: 1;}#sk-container-id-2 div.sk-parallel {display: flex;align-items: stretch;justify-content: center;background-color: white;position: relative;}#sk-container-id-2 div.sk-item::before, #sk-container-id-2 div.sk-parallel-item::before {content: \"\";position: absolute;border-left: 1px solid gray;box-sizing: border-box;top: 0;bottom: 0;left: 50%;z-index: -1;}#sk-container-id-2 div.sk-parallel-item {display: flex;flex-direction: column;z-index: 1;position: relative;background-color: white;}#sk-container-id-2 div.sk-parallel-item:first-child::after {align-self: flex-end;width: 50%;}#sk-container-id-2 div.sk-parallel-item:last-child::after {align-self: flex-start;width: 50%;}#sk-container-id-2 div.sk-parallel-item:only-child::after {width: 0;}#sk-container-id-2 div.sk-dashed-wrapped {border: 1px dashed gray;margin: 0 0.4em 0.5em 0.4em;box-sizing: border-box;padding-bottom: 0.4em;background-color: white;}#sk-container-id-2 div.sk-label label {font-family: monospace;font-weight: bold;display: inline-block;line-height: 1.2em;}#sk-container-id-2 div.sk-label-container {text-align: center;}#sk-container-id-2 div.sk-container {/* jupyter's `normalize.less` sets `[hidden] { display: none; }` but bootstrap.min.css set `[hidden] { display: none !important; }` so we also need the `!important` here to be able to override the default hidden behavior on the sphinx rendered scikit-learn.org. See: https://github.com/scikit-learn/scikit-learn/issues/21755 */display: inline-block !important;position: relative;}#sk-container-id-2 div.sk-text-repr-fallback {display: none;}</style><div id=\"sk-container-id-2\" class=\"sk-top-container\"><div class=\"sk-text-repr-fallback\"><pre>MiniBatchKMeans(n_clusters=3)</pre><b>In a Jupyter environment, please rerun this cell to show the HTML representation or trust the notebook. <br />On GitHub, the HTML representation is unable to render, please try loading this page with nbviewer.org.</b></div><div class=\"sk-container\" hidden><div class=\"sk-item\"><div class=\"sk-estimator sk-toggleable\"><input class=\"sk-toggleable__control sk-hidden--visually\" id=\"sk-estimator-id-2\" type=\"checkbox\" checked><label for=\"sk-estimator-id-2\" class=\"sk-toggleable__label sk-toggleable__label-arrow\">MiniBatchKMeans</label><div class=\"sk-toggleable__content\"><pre>MiniBatchKMeans(n_clusters=3)</pre></div></div></div></div></div>"
            ]
          },
          "metadata": {},
          "execution_count": 58
        }
      ]
    },
    {
      "cell_type": "code",
      "source": [
        "kmeans.labels_"
      ],
      "metadata": {
        "colab": {
          "base_uri": "https://localhost:8080/"
        },
        "id": "QUGBg2nh4_g2",
        "outputId": "9b04cd16-6f20-4bfc-e81b-1b0caa0fd0a5"
      },
      "execution_count": 60,
      "outputs": [
        {
          "output_type": "execute_result",
          "data": {
            "text/plain": [
              "array([2, 1, 1, ..., 0, 1, 1], dtype=int32)"
            ]
          },
          "metadata": {},
          "execution_count": 60
        }
      ]
    },
    {
      "cell_type": "code",
      "source": [
        "def retrieve_info(cluster_labels,y_train):\n",
        "  '''\n",
        "  Associates most probable label with each cluster in KMeans model\n",
        "  returns: dictionary of clusters assigned to each label\n",
        "  '''\n",
        "  # Initializing\n",
        "\n",
        "  reference_labels = {}\n",
        "  # For loop to run through each label of cluster label\n",
        "  for i in range(len(np.unique(kmeans.labels_))):\n",
        "    \n",
        "    index = np.where(cluster_labels == i,1,0)\n",
        "    num = np.bincount(y_train[index==1]).argmax()\n",
        "    reference_labels[i] = num\n",
        "\n",
        "  \n",
        "  return reference_labels\n"
      ],
      "metadata": {
        "id": "Nok_90CZ9rMx"
      },
      "execution_count": 62,
      "outputs": []
    },
    {
      "cell_type": "code",
      "source": [
        "reference_labels = retrieve_info(kmeans.labels_,y_train)\n",
        "number_labels = np.random.rand(len(kmeans.labels_))\n",
        "for i in range(len(kmeans.labels_)):\n",
        "  number_labels[i] = reference_labels[kmeans.labels_[i]]"
      ],
      "metadata": {
        "id": "0uWEYPy4-S4v"
      },
      "execution_count": 63,
      "outputs": []
    },
    {
      "cell_type": "code",
      "source": [
        "reference_labels = retrieve_info(kmeans.labels_,y_train)\n",
        "number_labels = np.random.rand(len(kmeans.labels_))\n",
        "for i in range(len(kmeans.labels_)):\n",
        "  number_labels[i] = reference_labels[kmeans.labels_[i]]"
      ],
      "metadata": {
        "id": "YCOY4hUE-S7U"
      },
      "execution_count": 64,
      "outputs": []
    },
    {
      "cell_type": "code",
      "source": [
        "y_train=y_train.to_numpy()\n"
      ],
      "metadata": {
        "colab": {
          "base_uri": "https://localhost:8080/",
          "height": 164
        },
        "id": "beJt-LBLAA80",
        "outputId": "7191b428-3821-4e41-863d-5f0f3152cdca"
      },
      "execution_count": 65,
      "outputs": [
        {
          "output_type": "error",
          "ename": "AttributeError",
          "evalue": "ignored",
          "traceback": [
            "\u001b[0;31m---------------------------------------------------------------------------\u001b[0m",
            "\u001b[0;31mAttributeError\u001b[0m                            Traceback (most recent call last)",
            "\u001b[0;32m<ipython-input-65-9a0493c800bf>\u001b[0m in \u001b[0;36m<cell line: 1>\u001b[0;34m()\u001b[0m\n\u001b[0;32m----> 1\u001b[0;31m \u001b[0my_train\u001b[0m\u001b[0;34m=\u001b[0m\u001b[0my_train\u001b[0m\u001b[0;34m.\u001b[0m\u001b[0mto_numpy\u001b[0m\u001b[0;34m(\u001b[0m\u001b[0;34m)\u001b[0m\u001b[0;34m\u001b[0m\u001b[0;34m\u001b[0m\u001b[0m\n\u001b[0m",
            "\u001b[0;31mAttributeError\u001b[0m: 'numpy.ndarray' object has no attribute 'to_numpy'"
          ]
        }
      ]
    },
    {
      "cell_type": "code",
      "source": [
        "# Comparing Predicted values and Actual values\n",
        "print(number_labels[:20].astype(int))\n",
        "print(y_train[:20])"
      ],
      "metadata": {
        "colab": {
          "base_uri": "https://localhost:8080/"
        },
        "id": "lGZY4zpi-S-m",
        "outputId": "eef955ee-b229-4194-ac17-1cddd55f50a7"
      },
      "execution_count": 66,
      "outputs": [
        {
          "output_type": "stream",
          "name": "stdout",
          "text": [
            "[3 1 1 3 1 3 3 3 3 1 3 3 1 3 3 3 3 3 1 1]\n",
            "[0 0 0 0 0 0 0 0 0 0 0 0 0 0 0 0 0 0 0 0]\n"
          ]
        }
      ]
    },
    {
      "cell_type": "code",
      "source": [
        "type(number_labels), type(y_train)"
      ],
      "metadata": {
        "colab": {
          "base_uri": "https://localhost:8080/"
        },
        "id": "vq3V67rf_kjB",
        "outputId": "4438fc85-689d-4f33-88a7-63888532994a"
      },
      "execution_count": 67,
      "outputs": [
        {
          "output_type": "execute_result",
          "data": {
            "text/plain": [
              "(numpy.ndarray, numpy.ndarray)"
            ]
          },
          "metadata": {},
          "execution_count": 67
        }
      ]
    },
    {
      "cell_type": "code",
      "source": [],
      "metadata": {
        "id": "x0zYGDXT_wLa"
      },
      "execution_count": null,
      "outputs": []
    },
    {
      "cell_type": "code",
      "source": [
        "# Calculating accuracy score\n",
        "from sklearn.metrics import accuracy_score\n",
        "print(accuracy_score(number_labels,y_train))"
      ],
      "metadata": {
        "colab": {
          "base_uri": "https://localhost:8080/"
        },
        "id": "RULzqjB_-TCA",
        "outputId": "5a8fadd0-0351-49da-a6c9-a0ab76d0776f"
      },
      "execution_count": 68,
      "outputs": [
        {
          "output_type": "stream",
          "name": "stdout",
          "text": [
            "0.3492407809110629\n"
          ]
        }
      ]
    },
    {
      "cell_type": "code",
      "source": [
        "# Function to calculate metrics for the model\n",
        "import sklearn.metrics as metrics\n",
        "\n",
        "def calculate_metrics(model,output):\n",
        "  print('Number of clusters is {}'.format(model.n_clusters))\n",
        "  print('Inertia : {}'.format(model.inertia_))\n",
        "  print('Homogeneity :       {}'.format(metrics.homogeneity_score(output,model.labels_)))\n",
        "\n",
        "\n"
      ],
      "metadata": {
        "id": "2Mvlhps09rQ6"
      },
      "execution_count": 69,
      "outputs": []
    },
    {
      "cell_type": "code",
      "source": [
        "cluster_number = [10,16,36,64,144,256]\n",
        "for i in cluster_number:\n",
        "  total_clusters = len(np.unique(y_train))\n",
        "# Initialize the K-Means model\n",
        "  kmeans = MiniBatchKMeans(n_clusters = i)\n",
        "# Fitting the model to training set\n",
        "  kmeans.fit(X_train)\n",
        "# Calculating the metrics\n",
        " \n",
        "  calculate_metrics(kmeans,y_train)\n",
        "# Calculating reference_labels\n",
        "  reference_labels = retrieve_info(kmeans.labels_,y_train)\n",
        "# ‘number_labels’ is a list which denotes the number displayed in image\n",
        "  number_labels = np.random.rand(len(kmeans.labels_))\n",
        "\n",
        "  for i in range(len(kmeans.labels_)):\n",
        " \n",
        "    number_labels[i] = reference_labels[kmeans.labels_[i]]\n",
        " \n",
        "  print('Accuracy score : {}'.format(accuracy_score(number_labels,y_train)))\n",
        "  print('\\n')"
      ],
      "metadata": {
        "id": "3GZShjZK9rVl",
        "colab": {
          "base_uri": "https://localhost:8080/"
        },
        "outputId": "ab310253-00f6-4aa0-cba2-fce0aded3730"
      },
      "execution_count": 70,
      "outputs": [
        {
          "output_type": "stream",
          "name": "stderr",
          "text": [
            "/usr/local/lib/python3.9/dist-packages/sklearn/cluster/_kmeans.py:870: FutureWarning: The default value of `n_init` will change from 3 to 'auto' in 1.4. Set the value of `n_init` explicitly to suppress the warning\n",
            "  warnings.warn(\n"
          ]
        },
        {
          "output_type": "stream",
          "name": "stdout",
          "text": [
            "Number of clusters is 10\n",
            "Inertia : 3138554509.0080276\n",
            "Homogeneity :       0.01666535665503746\n",
            "Accuracy score : 0.3933477946493131\n",
            "\n",
            "\n"
          ]
        },
        {
          "output_type": "stream",
          "name": "stderr",
          "text": [
            "/usr/local/lib/python3.9/dist-packages/sklearn/cluster/_kmeans.py:870: FutureWarning: The default value of `n_init` will change from 3 to 'auto' in 1.4. Set the value of `n_init` explicitly to suppress the warning\n",
            "  warnings.warn(\n"
          ]
        },
        {
          "output_type": "stream",
          "name": "stdout",
          "text": [
            "Number of clusters is 16\n",
            "Inertia : 2974500160.2631006\n",
            "Homogeneity :       0.01802547217637388\n",
            "Accuracy score : 0.39117859725235\n",
            "\n",
            "\n"
          ]
        },
        {
          "output_type": "stream",
          "name": "stderr",
          "text": [
            "/usr/local/lib/python3.9/dist-packages/sklearn/cluster/_kmeans.py:870: FutureWarning: The default value of `n_init` will change from 3 to 'auto' in 1.4. Set the value of `n_init` explicitly to suppress the warning\n",
            "  warnings.warn(\n"
          ]
        },
        {
          "output_type": "stream",
          "name": "stdout",
          "text": [
            "Number of clusters is 36\n",
            "Inertia : 2758974698.6529694\n",
            "Homogeneity :       0.04074554729993197\n",
            "Accuracy score : 0.42733188720173537\n",
            "\n",
            "\n"
          ]
        },
        {
          "output_type": "stream",
          "name": "stderr",
          "text": [
            "/usr/local/lib/python3.9/dist-packages/sklearn/cluster/_kmeans.py:870: FutureWarning: The default value of `n_init` will change from 3 to 'auto' in 1.4. Set the value of `n_init` explicitly to suppress the warning\n",
            "  warnings.warn(\n"
          ]
        },
        {
          "output_type": "stream",
          "name": "stdout",
          "text": [
            "Number of clusters is 64\n",
            "Inertia : 2601150976.5449514\n",
            "Homogeneity :       0.06529224575203443\n",
            "Accuracy score : 0.44685466377440347\n",
            "\n",
            "\n"
          ]
        },
        {
          "output_type": "stream",
          "name": "stderr",
          "text": [
            "/usr/local/lib/python3.9/dist-packages/sklearn/cluster/_kmeans.py:870: FutureWarning: The default value of `n_init` will change from 3 to 'auto' in 1.4. Set the value of `n_init` explicitly to suppress the warning\n",
            "  warnings.warn(\n"
          ]
        },
        {
          "output_type": "stream",
          "name": "stdout",
          "text": [
            "Number of clusters is 144\n",
            "Inertia : 2291656158.6683354\n",
            "Homogeneity :       0.12887884023319424\n",
            "Accuracy score : 0.4938539407086045\n",
            "\n",
            "\n"
          ]
        },
        {
          "output_type": "stream",
          "name": "stderr",
          "text": [
            "/usr/local/lib/python3.9/dist-packages/sklearn/cluster/_kmeans.py:870: FutureWarning: The default value of `n_init` will change from 3 to 'auto' in 1.4. Set the value of `n_init` explicitly to suppress the warning\n",
            "  warnings.warn(\n"
          ]
        },
        {
          "output_type": "stream",
          "name": "stdout",
          "text": [
            "Number of clusters is 256\n",
            "Inertia : 2006325798.831439\n",
            "Homogeneity :       0.2185176388552057\n",
            "Accuracy score : 0.5502530730296457\n",
            "\n",
            "\n"
          ]
        }
      ]
    },
    {
      "cell_type": "code",
      "source": [
        "cluster_number = [10,16,36,64,144,256]\n",
        "for i in cluster_number:\n",
        "  total_clusters = len(np.unique(y_train))\n",
        "# Initialize the K-Means model\n",
        "  kmeans = MiniBatchKMeans(n_clusters = i)\n",
        "# Fitting the model to training set\n",
        "  kmeans.fit(X_train)\n",
        "# Calculating the metrics\n",
        " \n",
        "  calculate_metrics(kmeans,y_train)\n",
        "# Calculating reference_labels\n",
        "  reference_labels = retrieve_info(kmeans.labels_,y_train)\n",
        "# ‘number_labels’ is a list which denotes the number displayed in image\n",
        "  number_labels = np.random.rand(len(kmeans.labels_))\n",
        "\n",
        "for i in range(len(kmeans.labels_)):\n",
        " \n",
        " number_labels[i] = reference_labels[kmeans.labels_[i]]\n",
        "\n",
        "print('Accuracy score : {}'.format(accuracy_score(number_labels,y_train)))\n",
        "print('\\n')"
      ],
      "metadata": {
        "colab": {
          "base_uri": "https://localhost:8080/",
          "height": 881
        },
        "id": "4yns3hfi_GLm",
        "outputId": "360c40c8-9fc0-477a-bfa5-eade20c7b6d5"
      },
      "execution_count": 46,
      "outputs": [
        {
          "output_type": "stream",
          "name": "stderr",
          "text": [
            "/usr/local/lib/python3.9/dist-packages/sklearn/cluster/_kmeans.py:870: FutureWarning: The default value of `n_init` will change from 3 to 'auto' in 1.4. Set the value of `n_init` explicitly to suppress the warning\n",
            "  warnings.warn(\n"
          ]
        },
        {
          "output_type": "stream",
          "name": "stdout",
          "text": [
            "Number of clusters is 10\n",
            "Inertia : 3109531646.9515033\n",
            "Homogeneity :       0.01587782851947918\n"
          ]
        },
        {
          "output_type": "stream",
          "name": "stderr",
          "text": [
            "/usr/local/lib/python3.9/dist-packages/sklearn/cluster/_kmeans.py:870: FutureWarning: The default value of `n_init` will change from 3 to 'auto' in 1.4. Set the value of `n_init` explicitly to suppress the warning\n",
            "  warnings.warn(\n"
          ]
        },
        {
          "output_type": "stream",
          "name": "stdout",
          "text": [
            "Number of clusters is 16\n",
            "Inertia : 2982467677.724148\n",
            "Homogeneity :       0.025340838303147796\n"
          ]
        },
        {
          "output_type": "stream",
          "name": "stderr",
          "text": [
            "/usr/local/lib/python3.9/dist-packages/sklearn/cluster/_kmeans.py:870: FutureWarning: The default value of `n_init` will change from 3 to 'auto' in 1.4. Set the value of `n_init` explicitly to suppress the warning\n",
            "  warnings.warn(\n"
          ]
        },
        {
          "output_type": "stream",
          "name": "stdout",
          "text": [
            "Number of clusters is 36\n",
            "Inertia : 2738881719.478958\n",
            "Homogeneity :       0.04490793888893357\n"
          ]
        },
        {
          "output_type": "stream",
          "name": "stderr",
          "text": [
            "/usr/local/lib/python3.9/dist-packages/sklearn/cluster/_kmeans.py:870: FutureWarning: The default value of `n_init` will change from 3 to 'auto' in 1.4. Set the value of `n_init` explicitly to suppress the warning\n",
            "  warnings.warn(\n"
          ]
        },
        {
          "output_type": "stream",
          "name": "stdout",
          "text": [
            "Number of clusters is 64\n",
            "Inertia : 2612117555.8006773\n",
            "Homogeneity :       0.06051179255768889\n"
          ]
        },
        {
          "output_type": "stream",
          "name": "stderr",
          "text": [
            "/usr/local/lib/python3.9/dist-packages/sklearn/cluster/_kmeans.py:870: FutureWarning: The default value of `n_init` will change from 3 to 'auto' in 1.4. Set the value of `n_init` explicitly to suppress the warning\n",
            "  warnings.warn(\n"
          ]
        },
        {
          "output_type": "stream",
          "name": "stdout",
          "text": [
            "Number of clusters is 144\n",
            "Inertia : 2282663981.250352\n",
            "Homogeneity :       0.14241966801562878\n"
          ]
        },
        {
          "output_type": "stream",
          "name": "stderr",
          "text": [
            "/usr/local/lib/python3.9/dist-packages/sklearn/cluster/_kmeans.py:870: FutureWarning: The default value of `n_init` will change from 3 to 'auto' in 1.4. Set the value of `n_init` explicitly to suppress the warning\n",
            "  warnings.warn(\n"
          ]
        },
        {
          "output_type": "stream",
          "name": "stdout",
          "text": [
            "Number of clusters is 256\n",
            "Inertia : 2000207172.5465293\n",
            "Homogeneity :       0.20766653739114618\n"
          ]
        },
        {
          "output_type": "error",
          "ename": "ValueError",
          "evalue": "ignored",
          "traceback": [
            "\u001b[0;31m---------------------------------------------------------------------------\u001b[0m",
            "\u001b[0;31mValueError\u001b[0m                                Traceback (most recent call last)",
            "\u001b[0;32m<ipython-input-46-898002f81e69>\u001b[0m in \u001b[0;36m<cell line: 2>\u001b[0;34m()\u001b[0m\n\u001b[1;32m     10\u001b[0m   \u001b[0mcalculate_metrics\u001b[0m\u001b[0;34m(\u001b[0m\u001b[0mkmeans\u001b[0m\u001b[0;34m,\u001b[0m\u001b[0my_train\u001b[0m\u001b[0;34m)\u001b[0m\u001b[0;34m\u001b[0m\u001b[0;34m\u001b[0m\u001b[0m\n\u001b[1;32m     11\u001b[0m \u001b[0;31m# Calculating reference_labels\u001b[0m\u001b[0;34m\u001b[0m\u001b[0;34m\u001b[0m\u001b[0m\n\u001b[0;32m---> 12\u001b[0;31m   \u001b[0mreference_labels\u001b[0m \u001b[0;34m=\u001b[0m \u001b[0mretrieve_info\u001b[0m\u001b[0;34m(\u001b[0m\u001b[0mkmeans\u001b[0m\u001b[0;34m.\u001b[0m\u001b[0mlabels_\u001b[0m\u001b[0;34m,\u001b[0m\u001b[0my_train\u001b[0m\u001b[0;34m)\u001b[0m\u001b[0;34m\u001b[0m\u001b[0;34m\u001b[0m\u001b[0m\n\u001b[0m\u001b[1;32m     13\u001b[0m \u001b[0;31m# ‘number_labels’ is a list which denotes the number displayed in image\u001b[0m\u001b[0;34m\u001b[0m\u001b[0;34m\u001b[0m\u001b[0m\n\u001b[1;32m     14\u001b[0m   \u001b[0mnumber_labels\u001b[0m \u001b[0;34m=\u001b[0m \u001b[0mnp\u001b[0m\u001b[0;34m.\u001b[0m\u001b[0mrandom\u001b[0m\u001b[0;34m.\u001b[0m\u001b[0mrand\u001b[0m\u001b[0;34m(\u001b[0m\u001b[0mlen\u001b[0m\u001b[0;34m(\u001b[0m\u001b[0mkmeans\u001b[0m\u001b[0;34m.\u001b[0m\u001b[0mlabels_\u001b[0m\u001b[0;34m)\u001b[0m\u001b[0;34m)\u001b[0m\u001b[0;34m\u001b[0m\u001b[0;34m\u001b[0m\u001b[0m\n",
            "\u001b[0;32m<ipython-input-35-112625aadb9e>\u001b[0m in \u001b[0;36mretrieve_info\u001b[0;34m(cluster_labels, y_train)\u001b[0m\n\u001b[1;32m     11\u001b[0m \u001b[0;34m\u001b[0m\u001b[0m\n\u001b[1;32m     12\u001b[0m     \u001b[0mindex\u001b[0m \u001b[0;34m=\u001b[0m \u001b[0mnp\u001b[0m\u001b[0;34m.\u001b[0m\u001b[0mwhere\u001b[0m\u001b[0;34m(\u001b[0m\u001b[0mcluster_labels\u001b[0m \u001b[0;34m==\u001b[0m \u001b[0mi\u001b[0m\u001b[0;34m,\u001b[0m\u001b[0;36m1\u001b[0m\u001b[0;34m,\u001b[0m\u001b[0;36m0\u001b[0m\u001b[0;34m)\u001b[0m\u001b[0;34m\u001b[0m\u001b[0;34m\u001b[0m\u001b[0m\n\u001b[0;32m---> 13\u001b[0;31m     \u001b[0mnum\u001b[0m \u001b[0;34m=\u001b[0m \u001b[0mnp\u001b[0m\u001b[0;34m.\u001b[0m\u001b[0mbincount\u001b[0m\u001b[0;34m(\u001b[0m\u001b[0my_train\u001b[0m\u001b[0;34m[\u001b[0m\u001b[0mindex\u001b[0m\u001b[0;34m==\u001b[0m\u001b[0;36m1\u001b[0m\u001b[0;34m]\u001b[0m\u001b[0;34m)\u001b[0m\u001b[0;34m.\u001b[0m\u001b[0margmax\u001b[0m\u001b[0;34m(\u001b[0m\u001b[0;34m)\u001b[0m\u001b[0;34m\u001b[0m\u001b[0;34m\u001b[0m\u001b[0m\n\u001b[0m\u001b[1;32m     14\u001b[0m     \u001b[0mreference_labels\u001b[0m\u001b[0;34m[\u001b[0m\u001b[0mi\u001b[0m\u001b[0;34m]\u001b[0m \u001b[0;34m=\u001b[0m \u001b[0mnum\u001b[0m\u001b[0;34m\u001b[0m\u001b[0;34m\u001b[0m\u001b[0m\n\u001b[1;32m     15\u001b[0m \u001b[0;34m\u001b[0m\u001b[0m\n",
            "\u001b[0;31mValueError\u001b[0m: attempt to get argmax of an empty sequence"
          ]
        }
      ]
    },
    {
      "cell_type": "code",
      "source": [
        "# Testing model on Testing set\n",
        "# Initialize the K-Means model\n",
        "kmeans = MiniBatchKMeans(n_clusters = 256)\n",
        "# Fitting the model to testing set\n",
        "kmeans.fit(X_test)\n",
        "# Calculating the metrics\n",
        "calculate_metrics(kmeans,y_test)\n",
        "# Calculating the reference_labels\n",
        "reference_labels = retrieve_info(kmeans.labels_,y_test)\n",
        "# ‘number_labels’ is a list which denotes the number displayed in image\n",
        "number_labels = np.random.rand(len(kmeans.labels_))\n",
        "for i in range(len(kmeans.labels_)):\n",
        " \n",
        " number_labels[i] = reference_labels[kmeans.labels_[i]]\n",
        " \n",
        "print('Accuracy score : {}'.format(accuracy_score(number_labels,y_test)))\n",
        "print('\\n')"
      ],
      "metadata": {
        "colab": {
          "base_uri": "https://localhost:8080/",
          "height": 232
        },
        "id": "yuCUCiAD_HMD",
        "outputId": "5ad938b5-8e51-4eb1-9993-44e61ab28ccb"
      },
      "execution_count": 47,
      "outputs": [
        {
          "output_type": "error",
          "ename": "NameError",
          "evalue": "ignored",
          "traceback": [
            "\u001b[0;31m---------------------------------------------------------------------------\u001b[0m",
            "\u001b[0;31mNameError\u001b[0m                                 Traceback (most recent call last)",
            "\u001b[0;32m<ipython-input-47-b8e47139e0c2>\u001b[0m in \u001b[0;36m<cell line: 5>\u001b[0;34m()\u001b[0m\n\u001b[1;32m      3\u001b[0m \u001b[0mkmeans\u001b[0m \u001b[0;34m=\u001b[0m \u001b[0mMiniBatchKMeans\u001b[0m\u001b[0;34m(\u001b[0m\u001b[0mn_clusters\u001b[0m \u001b[0;34m=\u001b[0m \u001b[0;36m256\u001b[0m\u001b[0;34m)\u001b[0m\u001b[0;34m\u001b[0m\u001b[0;34m\u001b[0m\u001b[0m\n\u001b[1;32m      4\u001b[0m \u001b[0;31m# Fitting the model to testing set\u001b[0m\u001b[0;34m\u001b[0m\u001b[0;34m\u001b[0m\u001b[0m\n\u001b[0;32m----> 5\u001b[0;31m \u001b[0mkmeans\u001b[0m\u001b[0;34m.\u001b[0m\u001b[0mfit\u001b[0m\u001b[0;34m(\u001b[0m\u001b[0mX_test\u001b[0m\u001b[0;34m)\u001b[0m\u001b[0;34m\u001b[0m\u001b[0;34m\u001b[0m\u001b[0m\n\u001b[0m\u001b[1;32m      6\u001b[0m \u001b[0;31m# Calculating the metrics\u001b[0m\u001b[0;34m\u001b[0m\u001b[0;34m\u001b[0m\u001b[0m\n\u001b[1;32m      7\u001b[0m \u001b[0mcalculate_metrics\u001b[0m\u001b[0;34m(\u001b[0m\u001b[0mkmeans\u001b[0m\u001b[0;34m,\u001b[0m\u001b[0my_test\u001b[0m\u001b[0;34m)\u001b[0m\u001b[0;34m\u001b[0m\u001b[0;34m\u001b[0m\u001b[0m\n",
            "\u001b[0;31mNameError\u001b[0m: name 'X_test' is not defined"
          ]
        }
      ]
    },
    {
      "cell_type": "code",
      "source": [],
      "metadata": {
        "id": "dVISqp5L_HYg"
      },
      "execution_count": null,
      "outputs": []
    }
  ]
}